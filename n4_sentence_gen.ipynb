{
 "cells": [
  {
   "cell_type": "code",
   "execution_count": 1,
   "id": "8eb7c531",
   "metadata": {},
   "outputs": [
    {
     "data": {
      "text/plain": [
       "'/public/home/jijh/diffusion_project/ADiffusion'"
      ]
     },
     "execution_count": 1,
     "metadata": {},
     "output_type": "execute_result"
    }
   ],
   "source": [
    "# --- 安装必要的库 ---\n",
    "# 请确保您已按照上述说明安装了 libvips 系统库\n",
    "# pip install pyvips opencv-python scikit-image tqdm\n",
    "\n",
    "import os\n",
    "import cv2\n",
    "import pandas as pd\n",
    "import numpy as np\n",
    "import matplotlib.pyplot as plt\n",
    "import seaborn as sns\n",
    "from skimage.color import rgb2hed\n",
    "from skimage.filters import threshold_otsu\n",
    "from IPython.display import display, Image as IPImage\n",
    "\n",
    "# 导入 pyvips 库\n",
    "try:\n",
    "    import pyvips\n",
    "except ImportError:\n",
    "    print(\"错误: pyvips 库未找到。请按照单元格上方的说明进行安装。\")\n",
    "    # 在 Notebook 中，我们可以用 raise 来停止执行\n",
    "    raise\n",
    "\n",
    "# 使用 tqdm.notebook 可以在 Notebook 中显示更好看的进度条\n",
    "from tqdm.auto import tqdm\n",
    "\n",
    "os.chdir(\"/home1/jijh/diffusion_project/ADiffusion\")\n",
    "os.getcwd()\n"
   ]
  },
  {
   "cell_type": "code",
   "execution_count": null,
   "id": "3ae9df8d",
   "metadata": {},
   "outputs": [],
   "source": [
    "import os\n",
    "import scanpy as sc\n",
    "import pandas as pd\n",
    "import numpy as np\n",
    "from tqdm.auto import tqdm\n",
    "from scipy.sparse import issparse\n",
    "\n",
    "# 导入您自定义的库\n",
    "from src.pipeline.hest_loading import HESTDataset\n",
    "\n",
    "def load_sample_data(sample, batch_key: str = 'sample_id'):\n",
    "    \"\"\"Helper function to load a single sample's data\"\"\"\n",
    "    try:\n",
    "        sample.load_st_data(lazy=False)\n",
    "        if sample.adata is not None:\n",
    "            # 确保每个adata有唯一的obs_names以避免冲突\n",
    "            sample.adata.obs_names = [f\"{sample.sample_id}_{obs_name}\" for obs_name in sample.adata.obs_names]\n",
    "            # 添加批次信息\n",
    "            sample.adata.obs[batch_key] = sample.sample_id\n",
    "            return sample.adata.to_memory()\n",
    "        return None\n",
    "    except Exception as e:\n",
    "        print(f\"Error loading sample {sample.sample_id}: {e}\")\n",
    "        return None\n",
    "\n",
    "# --- 函数定义 ---\n",
    "\n",
    "def calculate_global_hvgs(\n",
    "    samples_to_process: list, \n",
    "    n_top_genes: int = 3000, \n",
    "    batch_key: str = 'sample_id',\n",
    "    sentence_output_basedir_hvg: str = \"output/hvgs\"\n",
    "    \n",
    ") -> pd.Index:\n",
    "    \"\"\"\n",
    "    合并多个AnnData对象，进行批次校正，并计算全局高变基因。\n",
    "\n",
    "    参数:\n",
    "        samples_to_process (list): HESTSample对象列表。\n",
    "        n_top_genes (int): 要识别的高变基因数量。\n",
    "        batch_key (str): 用于批次校正的adata.obs中的列名。\n",
    "\n",
    "    返回:\n",
    "        pd.Index: 包含高变基因名称的索引。\n",
    "    \"\"\"\n",
    "    print(\"开始合并所有样本以计算全局HVGs...\")\n",
    "    \n",
    "    # Load data sequentially instead of using multiprocessing\n",
    "    adatas = []\n",
    "    \n",
    "    for sample in tqdm(samples_to_process, desc=\"加载并合并AnnData\"):\n",
    "        adata = load_sample_data(sample, batch_key)\n",
    "        if adata is not None:\n",
    "            adatas.append(adata)\n",
    "\n",
    "    if not adatas:\n",
    "        raise ValueError(\"未能加载任何AnnData对象。\")\n",
    "\n",
    "    # 合并前检查并处理重复基因名\n",
    "    processed_adatas = []\n",
    "    for adata in adatas:\n",
    "        if adata.var_names.duplicated().any():\n",
    "            print(f\"发现重复基因名，正在处理样本中的 {adata.var_names.duplicated().sum()} 个重复基因...\")\n",
    "            # 保留第一次出现的基因，删除后续重复的\n",
    "            adata = adata[:, ~adata.var_names.duplicated()].copy()\n",
    "        processed_adatas.append(adata)\n",
    "    \n",
    "    # 合并所有AnnData对象\n",
    "    # uns_merge='unique' 避免合并时因 .uns 字典中的冲突而报错\n",
    "    adata_merged = sc.concat(processed_adatas, join='outer', uns_merge='unique')\n",
    "    print(f\"所有样本已合并。总尺寸: {adata_merged.shape}\")\n",
    "    \n",
    "    # 标准化流程\n",
    "    sc.pp.normalize_total(adata_merged, target_sum=1e4)\n",
    "    sc.pp.log1p(adata_merged)\n",
    "    \n",
    "    # 计算初始的HVGs（用于后续PCA和Harmony）\n",
    "    sc.pp.highly_variable_genes(adata_merged, n_top_genes=n_top_genes, batch_key=batch_key)\n",
    "    \n",
    "    # 提取高变基因列表\n",
    "    hvg_list = adata_merged.var.index[adata_merged.var['highly_variable']]\n",
    "    # Write the HVG list to a file\n",
    "    hvg_file_path = os.path.join(sentence_output_basedir_hvg, \"global_hvgs.txt\")\n",
    "    print(f\"成功识别出 {len(hvg_list)} 个全局高变基因。\")\n",
    "    \n",
    "    return hvg_list\n"
   ]
  },
  {
   "cell_type": "code",
   "execution_count": 23,
   "id": "1825b40b",
   "metadata": {},
   "outputs": [],
   "source": [
    "def anndata_to_sentence_files_hvg(\n",
    "    sample,\n",
    "    hvg_list: pd.Index,\n",
    "    output_basedir: str,\n",
    "    n_top_genes_in_sentence: int = 50\n",
    "):\n",
    "    \"\"\"\n",
    "    为单个HESTSample对象的所有spots生成独立的基因句子文件，但仅限于HVG。\n",
    "\n",
    "    参数:\n",
    "        sample (HESTSample): 要处理的样本对象。\n",
    "        hvg_list (pd.Index): 全局高变基因列表。\n",
    "        output_basedir (str): 保存所有句子文件夹的根目录。\n",
    "        n_top_genes_in_sentence (int): 每个句子包含的基因数量。\n",
    "    \"\"\"\n",
    "    # 为当前样本创建独立的输出目录\n",
    "    sample_sentence_dir = os.path.join(output_basedir, f\"{sample.sample_id}_sentences_hvg\")\n",
    "    os.makedirs(sample_sentence_dir, exist_ok=True)\n",
    "    \n",
    "    adata = sample.adata\n",
    "    \n",
    "    # 筛选AnnData，使其只包含高变基因，这样可以大大加速后续处理\n",
    "    # .copy() 是为了避免修改原始adata对象\n",
    "    adata_hvg = adata[:, adata.var_names.isin(hvg_list)].copy()\n",
    "    \n",
    "    if adata_hvg.n_vars == 0:\n",
    "        print(f\"警告: 样本 {sample.sample_id} 中没有找到任何全局HVGs，已跳过。\")\n",
    "        return\n",
    "\n",
    "    obs_df = adata_hvg.obs.copy()\n",
    "    gene_names_hvg = adata_hvg.var_names.to_numpy()\n",
    "    \n",
    "    # 检查并获取坐标\n",
    "    if 'pxl_col_in_fullres' not in obs_df.columns or 'pxl_row_in_fullres' not in obs_df.columns:\n",
    "        obs_df['pxl_col_in_fullres'] = adata_hvg.obsm['spatial'][:, 0]\n",
    "        obs_df['pxl_row_in_fullres'] = adata_hvg.obsm['spatial'][:, 1]\n",
    "        \n",
    "    # 遍历每个spot并生成文件\n",
    "    for i in tqdm(range(adata_hvg.n_obs), desc=f\"处理 {sample.sample_id} (HVG)\", leave=False):\n",
    "        spot_info = obs_df.iloc[i]\n",
    "        row_coord = int(round(spot_info['pxl_row_in_fullres']))\n",
    "        col_coord = int(round(spot_info['pxl_col_in_fullres']))\n",
    "        sentence_filename = os.path.join(sample_sentence_dir, f\"{sample.sample_id}_{row_coord}_{col_coord}.txt\")\n",
    "        \n",
    "        if os.path.exists(sentence_filename):\n",
    "            continue\n",
    "\n",
    "        # 获取当前spot在HVG子集上的表达向量\n",
    "        expression_vector = adata_hvg.X[i].toarray().flatten() if issparse(adata_hvg.X) else np.array(adata_hvg.X[i]).flatten()\n",
    "            \n",
    "        # 在HVG子集内排序\n",
    "        sorted_indices_hvg = np.argsort(expression_vector)[-1::-1]\n",
    "        \n",
    "        # 选择前 N 个基因（现在无需过滤管家基因，因为它们大概率不是HVG）\n",
    "        top_genes = gene_names_hvg[sorted_indices_hvg[:n_top_genes_in_sentence]]\n",
    "        \n",
    "        # 写入文件\n",
    "        with open(sentence_filename, 'w') as f:\n",
    "            f.write(\" \".join(top_genes))"
   ]
  },
  {
   "cell_type": "code",
   "execution_count": 42,
   "id": "3053bb5f",
   "metadata": {},
   "outputs": [
    {
     "name": "stdout",
     "output_type": "stream",
     "text": [
      "初始化HEST数据集管理器...\n",
      "找到 168 个Mus musculus大脑样本待处理。\n",
      "--------------------------------------------------\n"
     ]
    }
   ],
   "source": [
    "# --- 1. 设置和数据加载 ---\n",
    "data_dir = \"/cwStorage/nodecw_group/jijh/hest_1k\"\n",
    "# 新的输出目录，以区分\n",
    "sentence_output_basedir_hvg = \"/cwStorage/nodecw_group/jijh/hest_sentences/\"\n",
    "\n",
    "print(\"初始化HEST数据集管理器...\")\n",
    "dataset = HESTDataset(data_dir=data_dir)\n",
    "brain_samples = dataset.get_samples(organ=\"Brain\", species='Mus musculus')\n",
    "print(f\"找到 {len(brain_samples)} 个Mus musculus大脑样本待处理。\")\n",
    "print(\"-\" * 50)\n"
   ]
  },
  {
   "cell_type": "code",
   "execution_count": 25,
   "id": "12586302",
   "metadata": {},
   "outputs": [
    {
     "data": {
      "application/vnd.jupyter.widget-view+json": {
       "model_id": "f7ff581bedd14329a0d90fc4854837c0",
       "version_major": 2,
       "version_minor": 0
      },
      "text/plain": [
       "检查基因名重复:   0%|          | 0/168 [00:00<?, ?it/s]"
      ]
     },
     "metadata": {},
     "output_type": "display_data"
    },
    {
     "name": "stderr",
     "output_type": "stream",
     "text": [
      "/public/home/jijh/micromamba/envs/imgprocess/lib/python3.12/site-packages/anndata/_core/anndata.py:1758: UserWarning: Variable names are not unique. To make them unique, call `.var_names_make_unique`.\n",
      "  utils.warn_names_duplicates(\"var\")\n"
     ]
    },
    {
     "name": "stdout",
     "output_type": "stream",
     "text": [
      "\n",
      "⚠️ 样本 TENX131 中共有 6 个重复基因名：\n",
      "  - 基因 'Arhgef4' 出现 2 次，位置索引: [95, 96]\n",
      "  - 基因 'Aldoa' 出现 2 次，位置索引: [8355, 8357]\n",
      "  - 基因 'Fam90a1b' 出现 2 次，位置索引: [18697, 18698]\n",
      "  完整重复基因列表:\n",
      "    - Arhgef4 (出现2次)\n",
      "    - Pakap (出现2次)\n",
      "    - Fam220a (出现2次)\n",
      "    - Aldoa (出现2次)\n",
      "    - Pcdha11 (出现2次)\n",
      "    - Fam90a1b (出现2次)\n"
     ]
    }
   ],
   "source": [
    "from collections import Counter\n",
    "import random\n",
    "\n",
    "def report_varname_duplicates(samples):\n",
    "    \"\"\"\n",
    "    对每个 HESTSample 中的 AnnData，检查 var_names 内部的重复项并打印出来。\n",
    "    参数:\n",
    "        samples (list): HESTSample 对象列表，要求每个 sample.adata 已经加载。\n",
    "    \"\"\"\n",
    "    any_dup = False\n",
    "    \n",
    "    for sample in tqdm(samples, desc=\"检查基因名重复\"):\n",
    "        # 确保数据已加载\n",
    "        if sample.adata is None:\n",
    "            sample.load_st_data(lazy=True)\n",
    "        adata = sample.adata\n",
    "        if adata is None:\n",
    "            print(f\"[跳过] 样本 {sample.sample_id} 无法加载 AnnData。\")\n",
    "            continue\n",
    "\n",
    "        names = list(adata.var_names)\n",
    "        counts = Counter(names)\n",
    "        # 找出在同一个 AnnData 里出现超过一次的基因名\n",
    "        dups = [gene for gene, cnt in counts.items() if cnt > 1]\n",
    "        \n",
    "        if dups:\n",
    "            any_dup = True\n",
    "            print(f\"\\n⚠️ 样本 {sample.sample_id} 中共有 {len(dups)} 个重复基因名：\")\n",
    "            \n",
    "            # 分析重复原因 - 随机选择几个重复基因进行详细分析\n",
    "            sample_dups = random.sample(dups, min(3, len(dups)))\n",
    "            \n",
    "            for gene in sample_dups:\n",
    "                duplicate_count = counts[gene]\n",
    "                # 找到所有重复位置的索引\n",
    "                duplicate_indices = [i for i, name in enumerate(names) if name == gene]\n",
    "                \n",
    "                print(f\"  - 基因 '{gene}' 出现 {duplicate_count} 次，位置索引: {duplicate_indices}\")\n",
    "                \n",
    "                # 检查这些重复位置的基因信息是否相同\n",
    "                if hasattr(adata.var, 'gene_ids'):\n",
    "                    gene_ids = [adata.var.iloc[idx]['gene_ids'] if 'gene_ids' in adata.var.columns else 'N/A' for idx in duplicate_indices]\n",
    "                    print(f\"    对应的基因ID: {gene_ids}\")\n",
    "                    if len(set(gene_ids)) > 1:\n",
    "                        print(f\"    ⚠️ 相同基因名对应不同的基因ID - 这可能是基因别名问题\")\n",
    "                    else:\n",
    "                        print(f\"    ✓ 相同基因名对应相同的基因ID - 这可能是数据处理过程中的重复\")\n",
    "            \n",
    "            # 显示所有重复基因（如果列表太长，只显示前20个）\n",
    "            print(f\"  完整重复基因列表:\")\n",
    "            for g in dups[:20]:\n",
    "                print(f\"    - {g} (出现{counts[g]}次)\")\n",
    "            if len(dups) > 20:\n",
    "                print(f\"    ...（共 {len(dups)} 个重复基因，以上仅列出前 20 个）\")\n",
    "\n",
    "    if not any_dup:\n",
    "        print(\"✅ 在所有样本内部均未发现重复的 var_names。\")\n",
    "\n",
    "# 执行检查\n",
    "report_varname_duplicates(brain_samples)\n"
   ]
  },
  {
   "cell_type": "code",
   "execution_count": null,
   "id": "c2e3af3c",
   "metadata": {},
   "outputs": [
    {
     "name": "stdout",
     "output_type": "stream",
     "text": [
      "开始合并所有样本以计算全局HVGs...\n"
     ]
    },
    {
     "data": {
      "application/vnd.jupyter.widget-view+json": {
       "model_id": "ffbc65cecfa24ffaaf81a21758a1b7ca",
       "version_major": 2,
       "version_minor": 0
      },
      "text/plain": [
       "加载并合并AnnData:   0%|          | 0/168 [00:00<?, ?it/s]"
      ]
     },
     "metadata": {},
     "output_type": "display_data"
    },
    {
     "name": "stderr",
     "output_type": "stream",
     "text": [
      "/public/home/jijh/micromamba/envs/imgprocess/lib/python3.12/site-packages/anndata/_core/anndata.py:1758: UserWarning: Variable names are not unique. To make them unique, call `.var_names_make_unique`.\n",
      "  utils.warn_names_duplicates(\"var\")\n"
     ]
    },
    {
     "name": "stdout",
     "output_type": "stream",
     "text": [
      "发现重复基因名，正在处理样本中的 6 个重复基因...\n"
     ]
    },
    {
     "name": "stderr",
     "output_type": "stream",
     "text": [
      "/public/home/jijh/micromamba/envs/imgprocess/lib/python3.12/site-packages/anndata/_core/merge.py:1434: UserWarning: Only some AnnData objects have `.raw` attribute, not concatenating `.raw` attributes.\n",
      "  warn(\n"
     ]
    },
    {
     "name": "stdout",
     "output_type": "stream",
     "text": [
      "所有样本已合并。总尺寸: (308159, 45646)\n"
     ]
    },
    {
     "name": "stderr",
     "output_type": "stream",
     "text": [
      "/public/home/jijh/micromamba/envs/imgprocess/lib/python3.12/site-packages/legacy_api_wrap/__init__.py:82: UserWarning: Some cells have zero counts\n",
      "  return fn(*args_all, **kw)\n"
     ]
    },
    {
     "name": "stdout",
     "output_type": "stream",
     "text": [
      "成功识别出 3000 个全局高变基因。\n",
      "--------------------------------------------------\n"
     ]
    }
   ],
   "source": [
    "\n",
    "# --- 2. 计算全局高变基因 (HVGs) ---\n",
    "# 这一步可能需要较长时间和较大内存，因为它会合并所有数据\n",
    "# 如果内存不足，可以考虑从每个样本中随机抽取一部分spots来构建合并的adata\n",
    "\n",
    "global_hvg_list = calculate_global_hvgs(\n",
    "    samples_to_process=brain_samples,\n",
    "    n_top_genes=3000, # 选择3000个HVGs是一个常见的SOTA实践\n",
    "    sentence_output_basedir_hvg=sentence_output_basedir_hvg\n",
    ")\n",
    "print(\"-\" * 50)\n",
    "\n"
   ]
  },
  {
   "cell_type": "code",
   "execution_count": null,
   "id": "8d1cf67d",
   "metadata": {},
   "outputs": [
    {
     "name": "stdout",
     "output_type": "stream",
     "text": [
      "在全局HVG列表中找到 11 个小鼠AD相关基因：\n",
      "['Apoe', 'Trem2', 'Clu', 'Bin1', 'Cd33', 'Csf1r', 'Cd2ap', 'Spi1', 'Mef2c', 'Ncald', 'Sparc']\n"
     ]
    }
   ],
   "source": [
    "'Apoe' in global_hvg_list\n",
    "\n",
    "ad_mouse_genes = [\n",
    "    \"App\",    # Amyloid precursor protein\n",
    "    \"Psen1\",  # Presenilin 1\n",
    "    \"Psen2\",  # Presenilin 2\n",
    "    \"Mapt\",   # Microtubule-associated protein tau\n",
    "    \"Apoe\",   # Apolipoprotein E\n",
    "    \"Trem2\",  # Triggering receptor expressed on myeloid cells 2\n",
    "    \"Clu\",    # Clusterin\n",
    "    \"Picalm\", # Phosphatidylinositol binding clathrin assembly protein\n",
    "    \"Bin1\",   # Bridging integrator 1\n",
    "    \"Cd33\",   # Siglec-3\n",
    "    \"Abca7\",  # ATP-binding cassette sub-family A member 7\n",
    "    \"Sorl1\",  # Sortilin-related receptor 1\n",
    "    \"Hcar2\",  # Hydroxycarboxylic acid receptor 2\n",
    "    \"Vps35\",   # Vacuolar protein sorting 35\n",
    "    \"Csf1r\", # Colony stimulating factor 1 receptor\n",
    "    \"Bace1\",    # β-分泌酶 1，关键的 Aβ 生成酶:contentReference[oaicite:0]{index=0}\n",
    "    \"Ide\",      # 胰岛素降解酶，可降解 Aβ:contentReference[oaicite:1]{index=1}\n",
    "    \"Mme\",      # Neprilysin，同样参与 Aβ 清除:contentReference[oaicite:2]{index=2}\n",
    "    \"Cd2ap\",    # 调控内吞与 Aβ 清除:contentReference[oaicite:3]{index=3}\n",
    "    \"Cr1\",      # 补体受体 1，免疫相关:contentReference[oaicite:4]{index=4}\n",
    "    \"Adam10\",   # α-分泌酶，非淀粉样途径关键酶:contentReference[oaicite:5]{index=5}\n",
    "    \"Plcg2\",    # 液泡内吞与信号传导:contentReference[oaicite:6]{index=6}\n",
    "    \"Spi1\",     # 转录因子，免疫调控筛选中被鉴定:contentReference[oaicite:7]{index=7}\n",
    "    \"Mef2c\",    # 神经发育转录因子，功能筛选中被鉴定:contentReference[oaicite:8]{index=8}\n",
    "    \"Gab2\",     # 信号转导分子，GWAS 关联:contentReference[oaicite:9]{index=9}\n",
    "    \"Abcc11\",   # ATP 结合盒家族成员，筛选中发现:contentReference[oaicite:10]{index=10}\n",
    "    \"ATCG1\",    # 筛选中发现的新的候选基因:contentReference[oaicite:11]{index=11}\n",
    "    \"Ank3\",     # GWAS 关联基因:contentReference[oaicite:12]{index=12}\n",
    "    \"Ms4a6a\",   # MS4A 家族，调控免疫与脂质代谢:contentReference[oaicite:13]{index=13}\n",
    "    \"Agfg2\",    # 涉及细胞信号转导:contentReference[oaicite:14]{index=14}\n",
    "    \"Cyc1\",     # 线粒体功能相关:contentReference[oaicite:15]{index=15}\n",
    "    \"Hla-dra\",  # 抗原呈递分子:contentReference[oaicite:16]{index=16}\n",
    "    \"Meg3\",     # 长链非编码 RNA，表达差异:contentReference[oaicite:17]{index=17}\n",
    "    \"Mt2a\",     # 金属硫蛋白，抗氧化应激:contentReference[oaicite:18]{index=18}\n",
    "    \"Ncald\",    # 钙调节蛋白家族:contentReference[oaicite:19]{index=19}\n",
    "    \"Neu1\",     # 神经氨酸苷酶 1，细胞内吞作用:contentReference[oaicite:20]{index=20}\n",
    "    \"Psmc3\",    # 泛素-蛋白酶体系统:contentReference[oaicite:21]{index=21}\n",
    "    \"Serpinb6\", # 丝氨酸蛋白酶抑制剂:contentReference[oaicite:22]{index=22}\n",
    "    \"Sparc\",     # 细胞外基质蛋白，病理重塑:contentReference[oaicite:23]{index=23}\n",
    "]\n",
    "\n",
    "# Test what ad_mouse_genes are in global_hvg_list\n",
    "ad_mouse_genes_in_hvg = [gene for gene in ad_mouse_genes if gene in global_hvg_list]\n",
    "print(f\"在全局HVG列表中找到 {len(ad_mouse_genes_in_hvg)} 个小鼠AD相关基因：\")\n",
    "print(ad_mouse_genes_in_hvg)"
   ]
  },
  {
   "cell_type": "code",
   "execution_count": 41,
   "id": "599be27c",
   "metadata": {},
   "outputs": [],
   "source": [
    "# Add the mouse AD genes to the global HVG list\n",
    "global_hvg_list = global_hvg_list.union(ad_mouse_genes_in_hvg)"
   ]
  },
  {
   "cell_type": "code",
   "execution_count": 43,
   "id": "f8cf5193",
   "metadata": {},
   "outputs": [
    {
     "data": {
      "text/plain": [
       "'/cwStorage/nodecw_group/jijh/hest_sentences/'"
      ]
     },
     "execution_count": 43,
     "metadata": {},
     "output_type": "execute_result"
    }
   ],
   "source": [
    "sentence_output_basedir_hvg"
   ]
  },
  {
   "cell_type": "code",
   "execution_count": null,
   "id": "8135ca0f",
   "metadata": {},
   "outputs": [
    {
     "name": "stdout",
     "output_type": "stream",
     "text": [
      "开始批量生成基于HVG的基因句子文件...\n"
     ]
    },
    {
     "data": {
      "application/vnd.jupyter.widget-view+json": {
       "model_id": "fb1ea042393542509659e8c44ff5beff",
       "version_major": 2,
       "version_minor": 0
      },
      "text/plain": [
       "处理 TENX88 (HVG):   0%|          | 0/5303 [00:00<?, ?it/s]"
      ]
     },
     "metadata": {},
     "output_type": "display_data"
    },
    {
     "name": "stdout",
     "output_type": "stream",
     "text": [
      "完成处理样本 TENX88\n"
     ]
    },
    {
     "data": {
      "application/vnd.jupyter.widget-view+json": {
       "model_id": "55c547c299ff46d6a891dba2bd33dc00",
       "version_major": 2,
       "version_minor": 0
      },
      "text/plain": [
       "处理 TENX79 (HVG):   0%|          | 0/8462 [00:00<?, ?it/s]"
      ]
     },
     "metadata": {},
     "output_type": "display_data"
    },
    {
     "name": "stdout",
     "output_type": "stream",
     "text": [
      "完成处理样本 TENX79\n"
     ]
    },
    {
     "data": {
      "application/vnd.jupyter.widget-view+json": {
       "model_id": "0fbadc4eaad6480da0639c0ede838dea",
       "version_major": 2,
       "version_minor": 0
      },
      "text/plain": [
       "处理 TENX78 (HVG):   0%|          | 0/6963 [00:00<?, ?it/s]"
      ]
     },
     "metadata": {},
     "output_type": "display_data"
    },
    {
     "name": "stdout",
     "output_type": "stream",
     "text": [
      "完成处理样本 TENX78\n"
     ]
    },
    {
     "data": {
      "application/vnd.jupyter.widget-view+json": {
       "model_id": "d58fdecdd6d04ef7bb3b1dcf090e3adc",
       "version_major": 2,
       "version_minor": 0
      },
      "text/plain": [
       "处理 TENX77 (HVG):   0%|          | 0/5123 [00:00<?, ?it/s]"
      ]
     },
     "metadata": {},
     "output_type": "display_data"
    },
    {
     "name": "stdout",
     "output_type": "stream",
     "text": [
      "完成处理样本 TENX77\n"
     ]
    },
    {
     "data": {
      "application/vnd.jupyter.widget-view+json": {
       "model_id": "d8d604dfc0384f8194ad1d7760ec5d64",
       "version_major": 2,
       "version_minor": 0
      },
      "text/plain": [
       "处理 TENX69 (HVG):   0%|          | 0/4298 [00:00<?, ?it/s]"
      ]
     },
     "metadata": {},
     "output_type": "display_data"
    },
    {
     "name": "stdout",
     "output_type": "stream",
     "text": [
      "完成处理样本 TENX69\n"
     ]
    },
    {
     "data": {
      "application/vnd.jupyter.widget-view+json": {
       "model_id": "8f34b2d54ab84526b5f61fb49f6a371a",
       "version_major": 2,
       "version_minor": 0
      },
      "text/plain": [
       "处理 TENX67 (HVG):   0%|          | 0/2797 [00:00<?, ?it/s]"
      ]
     },
     "metadata": {},
     "output_type": "display_data"
    },
    {
     "name": "stdout",
     "output_type": "stream",
     "text": [
      "完成处理样本 TENX67\n"
     ]
    },
    {
     "data": {
      "application/vnd.jupyter.widget-view+json": {
       "model_id": "3a3b0dc49a424ad7979efbe15ea5f9e2",
       "version_major": 2,
       "version_minor": 0
      },
      "text/plain": [
       "处理 TENX61 (HVG):   0%|          | 0/2235 [00:00<?, ?it/s]"
      ]
     },
     "metadata": {},
     "output_type": "display_data"
    },
    {
     "name": "stdout",
     "output_type": "stream",
     "text": [
      "完成处理样本 TENX61\n"
     ]
    },
    {
     "data": {
      "application/vnd.jupyter.widget-view+json": {
       "model_id": "56cb092b49ac4478b1dbabaca2b3beb4",
       "version_major": 2,
       "version_minor": 0
      },
      "text/plain": [
       "处理 TENX60 (HVG):   0%|          | 0/2310 [00:00<?, ?it/s]"
      ]
     },
     "metadata": {},
     "output_type": "display_data"
    },
    {
     "name": "stdout",
     "output_type": "stream",
     "text": [
      "完成处理样本 TENX60\n"
     ]
    },
    {
     "data": {
      "application/vnd.jupyter.widget-view+json": {
       "model_id": "509dc8658e5949b885640a7abc064533",
       "version_major": 2,
       "version_minor": 0
      },
      "text/plain": [
       "处理 TENX58 (HVG):   0%|          | 0/1185 [00:00<?, ?it/s]"
      ]
     },
     "metadata": {},
     "output_type": "display_data"
    },
    {
     "name": "stdout",
     "output_type": "stream",
     "text": [
      "完成处理样本 TENX58\n"
     ]
    },
    {
     "data": {
      "application/vnd.jupyter.widget-view+json": {
       "model_id": "ebc5085fcef14eafb596c782bc0f535c",
       "version_major": 2,
       "version_minor": 0
      },
      "text/plain": [
       "处理 TENX55 (HVG):   0%|          | 0/2825 [00:00<?, ?it/s]"
      ]
     },
     "metadata": {},
     "output_type": "display_data"
    },
    {
     "name": "stdout",
     "output_type": "stream",
     "text": [
      "完成处理样本 TENX55\n"
     ]
    },
    {
     "data": {
      "application/vnd.jupyter.widget-view+json": {
       "model_id": "37e0dfc108344126953891eac7734b23",
       "version_major": 2,
       "version_minor": 0
      },
      "text/plain": [
       "处理 TENX54 (HVG):   0%|          | 0/3293 [00:00<?, ?it/s]"
      ]
     },
     "metadata": {},
     "output_type": "display_data"
    },
    {
     "name": "stdout",
     "output_type": "stream",
     "text": [
      "完成处理样本 TENX54\n"
     ]
    },
    {
     "data": {
      "application/vnd.jupyter.widget-view+json": {
       "model_id": "7720e1b6147f4dd08187cd881fc3bb2e",
       "version_major": 2,
       "version_minor": 0
      },
      "text/plain": [
       "处理 TENX52 (HVG):   0%|          | 0/2698 [00:00<?, ?it/s]"
      ]
     },
     "metadata": {},
     "output_type": "display_data"
    },
    {
     "name": "stdout",
     "output_type": "stream",
     "text": [
      "完成处理样本 TENX52\n"
     ]
    },
    {
     "data": {
      "application/vnd.jupyter.widget-view+json": {
       "model_id": "a41a56aaabc948308220dc4da3052691",
       "version_major": 2,
       "version_minor": 0
      },
      "text/plain": [
       "处理 TENX43 (HVG):   0%|          | 0/2264 [00:00<?, ?it/s]"
      ]
     },
     "metadata": {},
     "output_type": "display_data"
    },
    {
     "name": "stdout",
     "output_type": "stream",
     "text": [
      "完成处理样本 TENX43\n"
     ]
    },
    {
     "data": {
      "application/vnd.jupyter.widget-view+json": {
       "model_id": "76f6d611ef944b92a2d58a48464dcfc2",
       "version_major": 2,
       "version_minor": 0
      },
      "text/plain": [
       "处理 TENX19 (HVG):   0%|          | 0/3353 [00:00<?, ?it/s]"
      ]
     },
     "metadata": {},
     "output_type": "display_data"
    },
    {
     "name": "stdout",
     "output_type": "stream",
     "text": [
      "完成处理样本 TENX19\n"
     ]
    },
    {
     "data": {
      "application/vnd.jupyter.widget-view+json": {
       "model_id": "edd544c2e4b94fe0bb59b1660e1744f7",
       "version_major": 2,
       "version_minor": 0
      },
      "text/plain": [
       "处理 TENX18 (HVG):   0%|          | 0/2696 [00:00<?, ?it/s]"
      ]
     },
     "metadata": {},
     "output_type": "display_data"
    },
    {
     "name": "stdout",
     "output_type": "stream",
     "text": [
      "完成处理样本 TENX18\n"
     ]
    },
    {
     "data": {
      "application/vnd.jupyter.widget-view+json": {
       "model_id": "cea5f01ab9f341d9aa002602b53a2860",
       "version_major": 2,
       "version_minor": 0
      },
      "text/plain": [
       "处理 ZEN61 (HVG):   0%|          | 0/3476 [00:00<?, ?it/s]"
      ]
     },
     "metadata": {},
     "output_type": "display_data"
    },
    {
     "name": "stdout",
     "output_type": "stream",
     "text": [
      "完成处理样本 ZEN61\n"
     ]
    },
    {
     "data": {
      "application/vnd.jupyter.widget-view+json": {
       "model_id": "5fe0b234016a4480812b31f0b0c43175",
       "version_major": 2,
       "version_minor": 0
      },
      "text/plain": [
       "处理 ZEN60 (HVG):   0%|          | 0/3541 [00:00<?, ?it/s]"
      ]
     },
     "metadata": {},
     "output_type": "display_data"
    },
    {
     "name": "stdout",
     "output_type": "stream",
     "text": [
      "完成处理样本 ZEN60\n"
     ]
    },
    {
     "data": {
      "application/vnd.jupyter.widget-view+json": {
       "model_id": "e3477d20a8f84686921df45da5e567c4",
       "version_major": 2,
       "version_minor": 0
      },
      "text/plain": [
       "处理 SPA15 (HVG):   0%|          | 0/267 [00:00<?, ?it/s]"
      ]
     },
     "metadata": {},
     "output_type": "display_data"
    },
    {
     "name": "stdout",
     "output_type": "stream",
     "text": [
      "完成处理样本 SPA15\n"
     ]
    },
    {
     "data": {
      "application/vnd.jupyter.widget-view+json": {
       "model_id": "a9418ef6648c4f4fbdd65ad3acf63520",
       "version_major": 2,
       "version_minor": 0
      },
      "text/plain": [
       "处理 SPA14 (HVG):   0%|          | 0/280 [00:00<?, ?it/s]"
      ]
     },
     "metadata": {},
     "output_type": "display_data"
    },
    {
     "name": "stdout",
     "output_type": "stream",
     "text": [
      "完成处理样本 SPA14\n"
     ]
    },
    {
     "data": {
      "application/vnd.jupyter.widget-view+json": {
       "model_id": "f8bc927ff61b49fe8bec049a3e6aa4df",
       "version_major": 2,
       "version_minor": 0
      },
      "text/plain": [
       "处理 SPA13 (HVG):   0%|          | 0/269 [00:00<?, ?it/s]"
      ]
     },
     "metadata": {},
     "output_type": "display_data"
    },
    {
     "name": "stdout",
     "output_type": "stream",
     "text": [
      "完成处理样本 SPA13\n"
     ]
    },
    {
     "data": {
      "application/vnd.jupyter.widget-view+json": {
       "model_id": "e52a557299c242fa92523f363bd8ebfc",
       "version_major": 2,
       "version_minor": 0
      },
      "text/plain": [
       "处理 SPA12 (HVG):   0%|          | 0/264 [00:00<?, ?it/s]"
      ]
     },
     "metadata": {},
     "output_type": "display_data"
    },
    {
     "name": "stdout",
     "output_type": "stream",
     "text": [
      "完成处理样本 SPA12\n"
     ]
    },
    {
     "data": {
      "application/vnd.jupyter.widget-view+json": {
       "model_id": "079d491e77fd4271be01409b3b6c6d19",
       "version_major": 2,
       "version_minor": 0
      },
      "text/plain": [
       "处理 SPA11 (HVG):   0%|          | 0/267 [00:00<?, ?it/s]"
      ]
     },
     "metadata": {},
     "output_type": "display_data"
    },
    {
     "name": "stdout",
     "output_type": "stream",
     "text": [
      "完成处理样本 SPA11\n"
     ]
    },
    {
     "data": {
      "application/vnd.jupyter.widget-view+json": {
       "model_id": "644d0329031245dfa75c704b7aaa6562",
       "version_major": 2,
       "version_minor": 0
      },
      "text/plain": [
       "处理 SPA10 (HVG):   0%|          | 0/242 [00:00<?, ?it/s]"
      ]
     },
     "metadata": {},
     "output_type": "display_data"
    },
    {
     "name": "stdout",
     "output_type": "stream",
     "text": [
      "完成处理样本 SPA10\n"
     ]
    },
    {
     "data": {
      "application/vnd.jupyter.widget-view+json": {
       "model_id": "89a92898b6794c12b526647295bfa4a7",
       "version_major": 2,
       "version_minor": 0
      },
      "text/plain": [
       "处理 SPA9 (HVG):   0%|          | 0/231 [00:00<?, ?it/s]"
      ]
     },
     "metadata": {},
     "output_type": "display_data"
    },
    {
     "name": "stdout",
     "output_type": "stream",
     "text": [
      "完成处理样本 SPA9\n"
     ]
    },
    {
     "data": {
      "application/vnd.jupyter.widget-view+json": {
       "model_id": "aaed1a5bcf7947b5ba3747b7599b4716",
       "version_major": 2,
       "version_minor": 0
      },
      "text/plain": [
       "处理 SPA8 (HVG):   0%|          | 0/234 [00:00<?, ?it/s]"
      ]
     },
     "metadata": {},
     "output_type": "display_data"
    },
    {
     "name": "stdout",
     "output_type": "stream",
     "text": [
      "完成处理样本 SPA8\n"
     ]
    },
    {
     "data": {
      "application/vnd.jupyter.widget-view+json": {
       "model_id": "3c98e56908d04d5fa626a4f44a0e0b72",
       "version_major": 2,
       "version_minor": 0
      },
      "text/plain": [
       "处理 SPA7 (HVG):   0%|          | 0/237 [00:00<?, ?it/s]"
      ]
     },
     "metadata": {},
     "output_type": "display_data"
    },
    {
     "name": "stdout",
     "output_type": "stream",
     "text": [
      "完成处理样本 SPA7\n"
     ]
    },
    {
     "data": {
      "application/vnd.jupyter.widget-view+json": {
       "model_id": "8c0427b9d3ab49998122df37a2b52d81",
       "version_major": 2,
       "version_minor": 0
      },
      "text/plain": [
       "处理 SPA6 (HVG):   0%|          | 0/281 [00:00<?, ?it/s]"
      ]
     },
     "metadata": {},
     "output_type": "display_data"
    },
    {
     "name": "stdout",
     "output_type": "stream",
     "text": [
      "完成处理样本 SPA6\n"
     ]
    },
    {
     "data": {
      "application/vnd.jupyter.widget-view+json": {
       "model_id": "e2a71215adba47e6ba1b63c6e94c9f5d",
       "version_major": 2,
       "version_minor": 0
      },
      "text/plain": [
       "处理 SPA5 (HVG):   0%|          | 0/262 [00:00<?, ?it/s]"
      ]
     },
     "metadata": {},
     "output_type": "display_data"
    },
    {
     "name": "stdout",
     "output_type": "stream",
     "text": [
      "完成处理样本 SPA5\n"
     ]
    },
    {
     "data": {
      "application/vnd.jupyter.widget-view+json": {
       "model_id": "5dd20a5cc96749239b0d6098e7a3c975",
       "version_major": 2,
       "version_minor": 0
      },
      "text/plain": [
       "处理 SPA4 (HVG):   0%|          | 0/282 [00:00<?, ?it/s]"
      ]
     },
     "metadata": {},
     "output_type": "display_data"
    },
    {
     "name": "stdout",
     "output_type": "stream",
     "text": [
      "完成处理样本 SPA4\n"
     ]
    },
    {
     "data": {
      "application/vnd.jupyter.widget-view+json": {
       "model_id": "7494ad3d6e9f4bb79f6d126b35c8e835",
       "version_major": 2,
       "version_minor": 0
      },
      "text/plain": [
       "处理 MEND131 (HVG):   0%|          | 0/1301 [00:00<?, ?it/s]"
      ]
     },
     "metadata": {},
     "output_type": "display_data"
    },
    {
     "name": "stdout",
     "output_type": "stream",
     "text": [
      "完成处理样本 MEND131\n"
     ]
    },
    {
     "data": {
      "application/vnd.jupyter.widget-view+json": {
       "model_id": "c3c84f1e42ca48f79cf496fcdae8cd62",
       "version_major": 2,
       "version_minor": 0
      },
      "text/plain": [
       "处理 MEND130 (HVG):   0%|          | 0/4557 [00:00<?, ?it/s]"
      ]
     },
     "metadata": {},
     "output_type": "display_data"
    },
    {
     "name": "stdout",
     "output_type": "stream",
     "text": [
      "完成处理样本 MEND130\n"
     ]
    },
    {
     "data": {
      "application/vnd.jupyter.widget-view+json": {
       "model_id": "5de3654107c64db48b54d8cec4e4d99d",
       "version_major": 2,
       "version_minor": 0
      },
      "text/plain": [
       "处理 MEND129 (HVG):   0%|          | 0/4575 [00:00<?, ?it/s]"
      ]
     },
     "metadata": {},
     "output_type": "display_data"
    },
    {
     "name": "stdout",
     "output_type": "stream",
     "text": [
      "完成处理样本 MEND129\n"
     ]
    },
    {
     "data": {
      "application/vnd.jupyter.widget-view+json": {
       "model_id": "e6dfda19f3ab43fdb993f7caa733662d",
       "version_major": 2,
       "version_minor": 0
      },
      "text/plain": [
       "处理 MEND124 (HVG):   0%|          | 0/1448 [00:00<?, ?it/s]"
      ]
     },
     "metadata": {},
     "output_type": "display_data"
    },
    {
     "name": "stdout",
     "output_type": "stream",
     "text": [
      "完成处理样本 MEND124\n"
     ]
    },
    {
     "data": {
      "application/vnd.jupyter.widget-view+json": {
       "model_id": "bfb16f7c106048bd8513b353e9ffd2a8",
       "version_major": 2,
       "version_minor": 0
      },
      "text/plain": [
       "处理 MEND123 (HVG):   0%|          | 0/1490 [00:00<?, ?it/s]"
      ]
     },
     "metadata": {},
     "output_type": "display_data"
    },
    {
     "name": "stdout",
     "output_type": "stream",
     "text": [
      "完成处理样本 MEND123\n"
     ]
    },
    {
     "data": {
      "application/vnd.jupyter.widget-view+json": {
       "model_id": "d2663ea8d59d4bdb8a2fb544e5244604",
       "version_major": 2,
       "version_minor": 0
      },
      "text/plain": [
       "处理 MEND78 (HVG):   0%|          | 0/4426 [00:00<?, ?it/s]"
      ]
     },
     "metadata": {},
     "output_type": "display_data"
    },
    {
     "name": "stdout",
     "output_type": "stream",
     "text": [
      "完成处理样本 MEND78\n"
     ]
    },
    {
     "data": {
      "application/vnd.jupyter.widget-view+json": {
       "model_id": "4e68b8d954ff4337a291a1868174e8ff",
       "version_major": 2,
       "version_minor": 0
      },
      "text/plain": [
       "处理 MEND77 (HVG):   0%|          | 0/4492 [00:00<?, ?it/s]"
      ]
     },
     "metadata": {},
     "output_type": "display_data"
    },
    {
     "name": "stdout",
     "output_type": "stream",
     "text": [
      "完成处理样本 MEND77\n"
     ]
    },
    {
     "data": {
      "application/vnd.jupyter.widget-view+json": {
       "model_id": "298e3433c3034eda8d1cc33b475f4cfe",
       "version_major": 2,
       "version_minor": 0
      },
      "text/plain": [
       "处理 MEND76 (HVG):   0%|          | 0/4159 [00:00<?, ?it/s]"
      ]
     },
     "metadata": {},
     "output_type": "display_data"
    },
    {
     "name": "stdout",
     "output_type": "stream",
     "text": [
      "完成处理样本 MEND76\n"
     ]
    },
    {
     "data": {
      "application/vnd.jupyter.widget-view+json": {
       "model_id": "ccdf3cb837bf40c1a1752a306be8f8c2",
       "version_major": 2,
       "version_minor": 0
      },
      "text/plain": [
       "处理 MEND75 (HVG):   0%|          | 0/4166 [00:00<?, ?it/s]"
      ]
     },
     "metadata": {},
     "output_type": "display_data"
    },
    {
     "name": "stdout",
     "output_type": "stream",
     "text": [
      "完成处理样本 MEND75\n"
     ]
    },
    {
     "data": {
      "application/vnd.jupyter.widget-view+json": {
       "model_id": "caddae8be48d45eba45f7ab7ac44b035",
       "version_major": 2,
       "version_minor": 0
      },
      "text/plain": [
       "处理 MEND74 (HVG):   0%|          | 0/4514 [00:00<?, ?it/s]"
      ]
     },
     "metadata": {},
     "output_type": "display_data"
    },
    {
     "name": "stdout",
     "output_type": "stream",
     "text": [
      "完成处理样本 MEND74\n"
     ]
    },
    {
     "data": {
      "application/vnd.jupyter.widget-view+json": {
       "model_id": "7540e1c852984619a7c78a77b1c9d482",
       "version_major": 2,
       "version_minor": 0
      },
      "text/plain": [
       "处理 MEND73 (HVG):   0%|          | 0/4332 [00:00<?, ?it/s]"
      ]
     },
     "metadata": {},
     "output_type": "display_data"
    },
    {
     "name": "stdout",
     "output_type": "stream",
     "text": [
      "完成处理样本 MEND73\n"
     ]
    },
    {
     "data": {
      "application/vnd.jupyter.widget-view+json": {
       "model_id": "f418dbc1defb4685822e9aa5bb26b6ab",
       "version_major": 2,
       "version_minor": 0
      },
      "text/plain": [
       "处理 MEND72 (HVG):   0%|          | 0/4394 [00:00<?, ?it/s]"
      ]
     },
     "metadata": {},
     "output_type": "display_data"
    },
    {
     "name": "stdout",
     "output_type": "stream",
     "text": [
      "完成处理样本 MEND72\n"
     ]
    },
    {
     "data": {
      "application/vnd.jupyter.widget-view+json": {
       "model_id": "70c3ff86cec54315b14a7ab4e3f8f9e7",
       "version_major": 2,
       "version_minor": 0
      },
      "text/plain": [
       "处理 MEND71 (HVG):   0%|          | 0/4114 [00:00<?, ?it/s]"
      ]
     },
     "metadata": {},
     "output_type": "display_data"
    },
    {
     "name": "stdout",
     "output_type": "stream",
     "text": [
      "完成处理样本 MEND71\n"
     ]
    },
    {
     "data": {
      "application/vnd.jupyter.widget-view+json": {
       "model_id": "ab3d83de02ce4f6ebc5aa3e40c8817ad",
       "version_major": 2,
       "version_minor": 0
      },
      "text/plain": [
       "处理 MEND55 (HVG):   0%|          | 0/2536 [00:00<?, ?it/s]"
      ]
     },
     "metadata": {},
     "output_type": "display_data"
    },
    {
     "name": "stdout",
     "output_type": "stream",
     "text": [
      "完成处理样本 MEND55\n"
     ]
    },
    {
     "data": {
      "application/vnd.jupyter.widget-view+json": {
       "model_id": "7f6800a4b2ea4dc5a50e53f8c1e9be4c",
       "version_major": 2,
       "version_minor": 0
      },
      "text/plain": [
       "处理 MEND53 (HVG):   0%|          | 0/3047 [00:00<?, ?it/s]"
      ]
     },
     "metadata": {},
     "output_type": "display_data"
    },
    {
     "name": "stdout",
     "output_type": "stream",
     "text": [
      "完成处理样本 MEND53\n"
     ]
    },
    {
     "data": {
      "application/vnd.jupyter.widget-view+json": {
       "model_id": "488862d6ff2140a286368ac398a7c9d3",
       "version_major": 2,
       "version_minor": 0
      },
      "text/plain": [
       "处理 MEND50 (HVG):   0%|          | 0/2399 [00:00<?, ?it/s]"
      ]
     },
     "metadata": {},
     "output_type": "display_data"
    },
    {
     "name": "stdout",
     "output_type": "stream",
     "text": [
      "完成处理样本 MEND50\n"
     ]
    },
    {
     "data": {
      "application/vnd.jupyter.widget-view+json": {
       "model_id": "e45a4edb55b84e39a0c9fded52df5927",
       "version_major": 2,
       "version_minor": 0
      },
      "text/plain": [
       "处理 MEND46 (HVG):   0%|          | 0/2216 [00:00<?, ?it/s]"
      ]
     },
     "metadata": {},
     "output_type": "display_data"
    },
    {
     "name": "stdout",
     "output_type": "stream",
     "text": [
      "完成处理样本 MEND46\n"
     ]
    },
    {
     "data": {
      "application/vnd.jupyter.widget-view+json": {
       "model_id": "5325a0d47006470a9e1daef435f25305",
       "version_major": 2,
       "version_minor": 0
      },
      "text/plain": [
       "处理 MEND44 (HVG):   0%|          | 0/2554 [00:00<?, ?it/s]"
      ]
     },
     "metadata": {},
     "output_type": "display_data"
    },
    {
     "name": "stdout",
     "output_type": "stream",
     "text": [
      "完成处理样本 MEND44\n"
     ]
    },
    {
     "data": {
      "application/vnd.jupyter.widget-view+json": {
       "model_id": "e19fddef767d4cea9f6c7d70b83025ea",
       "version_major": 2,
       "version_minor": 0
      },
      "text/plain": [
       "处理 MEND43 (HVG):   0%|          | 0/2502 [00:00<?, ?it/s]"
      ]
     },
     "metadata": {},
     "output_type": "display_data"
    },
    {
     "name": "stdout",
     "output_type": "stream",
     "text": [
      "完成处理样本 MEND43\n"
     ]
    },
    {
     "data": {
      "application/vnd.jupyter.widget-view+json": {
       "model_id": "5c7fdd390ff44dc6a47905b8ff9e1356",
       "version_major": 2,
       "version_minor": 0
      },
      "text/plain": [
       "处理 MEND42 (HVG):   0%|          | 0/3105 [00:00<?, ?it/s]"
      ]
     },
     "metadata": {},
     "output_type": "display_data"
    },
    {
     "name": "stdout",
     "output_type": "stream",
     "text": [
      "完成处理样本 MEND42\n"
     ]
    },
    {
     "data": {
      "application/vnd.jupyter.widget-view+json": {
       "model_id": "7364dcddf2a64e6e8eaa14011ee6590f",
       "version_major": 2,
       "version_minor": 0
      },
      "text/plain": [
       "处理 NCBI809 (HVG):   0%|          | 0/1554 [00:00<?, ?it/s]"
      ]
     },
     "metadata": {},
     "output_type": "display_data"
    },
    {
     "name": "stdout",
     "output_type": "stream",
     "text": [
      "完成处理样本 NCBI809\n"
     ]
    },
    {
     "data": {
      "application/vnd.jupyter.widget-view+json": {
       "model_id": "f1678fbee21140c8b6843385dfd98442",
       "version_major": 2,
       "version_minor": 0
      },
      "text/plain": [
       "处理 NCBI808 (HVG):   0%|          | 0/2359 [00:00<?, ?it/s]"
      ]
     },
     "metadata": {},
     "output_type": "display_data"
    },
    {
     "name": "stdout",
     "output_type": "stream",
     "text": [
      "完成处理样本 NCBI808\n"
     ]
    },
    {
     "data": {
      "application/vnd.jupyter.widget-view+json": {
       "model_id": "766302058cf749ff966e3bf41ca2714a",
       "version_major": 2,
       "version_minor": 0
      },
      "text/plain": [
       "处理 NCBI807 (HVG):   0%|          | 0/2320 [00:00<?, ?it/s]"
      ]
     },
     "metadata": {},
     "output_type": "display_data"
    },
    {
     "name": "stdout",
     "output_type": "stream",
     "text": [
      "完成处理样本 NCBI807\n"
     ]
    },
    {
     "data": {
      "application/vnd.jupyter.widget-view+json": {
       "model_id": "5f59c26edcf5488d9551d1fbff8ee6a7",
       "version_major": 2,
       "version_minor": 0
      },
      "text/plain": [
       "处理 NCBI806 (HVG):   0%|          | 0/1435 [00:00<?, ?it/s]"
      ]
     },
     "metadata": {},
     "output_type": "display_data"
    },
    {
     "name": "stdout",
     "output_type": "stream",
     "text": [
      "完成处理样本 NCBI806\n"
     ]
    },
    {
     "data": {
      "application/vnd.jupyter.widget-view+json": {
       "model_id": "eac2888b9faf472c91c03fbe81dde636",
       "version_major": 2,
       "version_minor": 0
      },
      "text/plain": [
       "处理 NCBI802 (HVG):   0%|          | 0/2743 [00:00<?, ?it/s]"
      ]
     },
     "metadata": {},
     "output_type": "display_data"
    },
    {
     "name": "stdout",
     "output_type": "stream",
     "text": [
      "完成处理样本 NCBI802\n"
     ]
    },
    {
     "data": {
      "application/vnd.jupyter.widget-view+json": {
       "model_id": "3fde63b201b24a69aef10d9ae4fcbc61",
       "version_major": 2,
       "version_minor": 0
      },
      "text/plain": [
       "处理 NCBI801 (HVG):   0%|          | 0/2889 [00:00<?, ?it/s]"
      ]
     },
     "metadata": {},
     "output_type": "display_data"
    },
    {
     "name": "stdout",
     "output_type": "stream",
     "text": [
      "完成处理样本 NCBI801\n"
     ]
    },
    {
     "data": {
      "application/vnd.jupyter.widget-view+json": {
       "model_id": "115d74ed4408415987e84b91142807a1",
       "version_major": 2,
       "version_minor": 0
      },
      "text/plain": [
       "处理 NCBI800 (HVG):   0%|          | 0/2784 [00:00<?, ?it/s]"
      ]
     },
     "metadata": {},
     "output_type": "display_data"
    },
    {
     "name": "stdout",
     "output_type": "stream",
     "text": [
      "完成处理样本 NCBI800\n"
     ]
    },
    {
     "data": {
      "application/vnd.jupyter.widget-view+json": {
       "model_id": "7e5d513f9bdc4bed8e4f529078a3d96d",
       "version_major": 2,
       "version_minor": 0
      },
      "text/plain": [
       "处理 NCBI799 (HVG):   0%|          | 0/2648 [00:00<?, ?it/s]"
      ]
     },
     "metadata": {},
     "output_type": "display_data"
    },
    {
     "name": "stdout",
     "output_type": "stream",
     "text": [
      "完成处理样本 NCBI799\n"
     ]
    },
    {
     "data": {
      "application/vnd.jupyter.widget-view+json": {
       "model_id": "87e0d60c11e64c97ac85acd52209ee59",
       "version_major": 2,
       "version_minor": 0
      },
      "text/plain": [
       "处理 NCBI720 (HVG):   0%|          | 0/2573 [00:00<?, ?it/s]"
      ]
     },
     "metadata": {},
     "output_type": "display_data"
    },
    {
     "name": "stdout",
     "output_type": "stream",
     "text": [
      "完成处理样本 NCBI720\n"
     ]
    },
    {
     "data": {
      "application/vnd.jupyter.widget-view+json": {
       "model_id": "696f56b3202d4d1a91cfb15ee796f2d6",
       "version_major": 2,
       "version_minor": 0
      },
      "text/plain": [
       "处理 NCBI719 (HVG):   0%|          | 0/2735 [00:00<?, ?it/s]"
      ]
     },
     "metadata": {},
     "output_type": "display_data"
    },
    {
     "name": "stdout",
     "output_type": "stream",
     "text": [
      "完成处理样本 NCBI719\n"
     ]
    },
    {
     "data": {
      "application/vnd.jupyter.widget-view+json": {
       "model_id": "282fa462d2a44c71ba017a4c709cf41b",
       "version_major": 2,
       "version_minor": 0
      },
      "text/plain": [
       "处理 NCBI718 (HVG):   0%|          | 0/2973 [00:00<?, ?it/s]"
      ]
     },
     "metadata": {},
     "output_type": "display_data"
    },
    {
     "name": "stdout",
     "output_type": "stream",
     "text": [
      "完成处理样本 NCBI718\n"
     ]
    },
    {
     "data": {
      "application/vnd.jupyter.widget-view+json": {
       "model_id": "1c961f07e1ed46968cc45e1ed8932bfd",
       "version_major": 2,
       "version_minor": 0
      },
      "text/plain": [
       "处理 NCBI717 (HVG):   0%|          | 0/2804 [00:00<?, ?it/s]"
      ]
     },
     "metadata": {},
     "output_type": "display_data"
    },
    {
     "name": "stdout",
     "output_type": "stream",
     "text": [
      "完成处理样本 NCBI717\n"
     ]
    },
    {
     "data": {
      "application/vnd.jupyter.widget-view+json": {
       "model_id": "1ecee11e7ac447adbf5251a047e916ce",
       "version_major": 2,
       "version_minor": 0
      },
      "text/plain": [
       "处理 NCBI716 (HVG):   0%|          | 0/2801 [00:00<?, ?it/s]"
      ]
     },
     "metadata": {},
     "output_type": "display_data"
    },
    {
     "name": "stdout",
     "output_type": "stream",
     "text": [
      "完成处理样本 NCBI716\n"
     ]
    },
    {
     "data": {
      "application/vnd.jupyter.widget-view+json": {
       "model_id": "88761dd3286649a0a0bc56022b1d061a",
       "version_major": 2,
       "version_minor": 0
      },
      "text/plain": [
       "处理 NCBI715 (HVG):   0%|          | 0/2857 [00:00<?, ?it/s]"
      ]
     },
     "metadata": {},
     "output_type": "display_data"
    },
    {
     "name": "stdout",
     "output_type": "stream",
     "text": [
      "完成处理样本 NCBI715\n"
     ]
    },
    {
     "data": {
      "application/vnd.jupyter.widget-view+json": {
       "model_id": "2ee19c2f708c4c968fa057f9020df6af",
       "version_major": 2,
       "version_minor": 0
      },
      "text/plain": [
       "处理 NCBI671 (HVG):   0%|          | 0/2856 [00:00<?, ?it/s]"
      ]
     },
     "metadata": {},
     "output_type": "display_data"
    },
    {
     "name": "stdout",
     "output_type": "stream",
     "text": [
      "完成处理样本 NCBI671\n"
     ]
    },
    {
     "data": {
      "application/vnd.jupyter.widget-view+json": {
       "model_id": "c6ec03df13df4330b21cc03590301055",
       "version_major": 2,
       "version_minor": 0
      },
      "text/plain": [
       "处理 NCBI670 (HVG):   0%|          | 0/3002 [00:00<?, ?it/s]"
      ]
     },
     "metadata": {},
     "output_type": "display_data"
    },
    {
     "name": "stdout",
     "output_type": "stream",
     "text": [
      "完成处理样本 NCBI670\n"
     ]
    },
    {
     "data": {
      "application/vnd.jupyter.widget-view+json": {
       "model_id": "769fbd1320cb44058ad2753f14a8028b",
       "version_major": 2,
       "version_minor": 0
      },
      "text/plain": [
       "处理 NCBI669 (HVG):   0%|          | 0/3163 [00:00<?, ?it/s]"
      ]
     },
     "metadata": {},
     "output_type": "display_data"
    },
    {
     "name": "stdout",
     "output_type": "stream",
     "text": [
      "完成处理样本 NCBI669\n"
     ]
    },
    {
     "data": {
      "application/vnd.jupyter.widget-view+json": {
       "model_id": "6304ff0281724d0387a2fae00462d069",
       "version_major": 2,
       "version_minor": 0
      },
      "text/plain": [
       "处理 NCBI668 (HVG):   0%|          | 0/2913 [00:00<?, ?it/s]"
      ]
     },
     "metadata": {},
     "output_type": "display_data"
    },
    {
     "name": "stdout",
     "output_type": "stream",
     "text": [
      "完成处理样本 NCBI668\n"
     ]
    },
    {
     "data": {
      "application/vnd.jupyter.widget-view+json": {
       "model_id": "c147f045093e4864bbdec2fec44004b6",
       "version_major": 2,
       "version_minor": 0
      },
      "text/plain": [
       "处理 NCBI667 (HVG):   0%|          | 0/2675 [00:00<?, ?it/s]"
      ]
     },
     "metadata": {},
     "output_type": "display_data"
    },
    {
     "name": "stdout",
     "output_type": "stream",
     "text": [
      "完成处理样本 NCBI667\n"
     ]
    },
    {
     "data": {
      "application/vnd.jupyter.widget-view+json": {
       "model_id": "f9ac532eefa04b08a5ee8e1cf2b35c2a",
       "version_major": 2,
       "version_minor": 0
      },
      "text/plain": [
       "处理 NCBI666 (HVG):   0%|          | 0/3120 [00:00<?, ?it/s]"
      ]
     },
     "metadata": {},
     "output_type": "display_data"
    },
    {
     "name": "stdout",
     "output_type": "stream",
     "text": [
      "完成处理样本 NCBI666\n"
     ]
    },
    {
     "data": {
      "application/vnd.jupyter.widget-view+json": {
       "model_id": "0172c60661364d69b417509789881336",
       "version_major": 2,
       "version_minor": 0
      },
      "text/plain": [
       "处理 NCBI665 (HVG):   0%|          | 0/2918 [00:00<?, ?it/s]"
      ]
     },
     "metadata": {},
     "output_type": "display_data"
    },
    {
     "name": "stdout",
     "output_type": "stream",
     "text": [
      "完成处理样本 NCBI665\n"
     ]
    },
    {
     "data": {
      "application/vnd.jupyter.widget-view+json": {
       "model_id": "5e8d725383ff4f4abc4963b13d096278",
       "version_major": 2,
       "version_minor": 0
      },
      "text/plain": [
       "处理 NCBI664 (HVG):   0%|          | 0/3017 [00:00<?, ?it/s]"
      ]
     },
     "metadata": {},
     "output_type": "display_data"
    },
    {
     "name": "stdout",
     "output_type": "stream",
     "text": [
      "完成处理样本 NCBI664\n"
     ]
    },
    {
     "data": {
      "application/vnd.jupyter.widget-view+json": {
       "model_id": "130c6fa476e44c058f8cfafc2a044867",
       "version_major": 2,
       "version_minor": 0
      },
      "text/plain": [
       "处理 NCBI663 (HVG):   0%|          | 0/2964 [00:00<?, ?it/s]"
      ]
     },
     "metadata": {},
     "output_type": "display_data"
    },
    {
     "name": "stdout",
     "output_type": "stream",
     "text": [
      "完成处理样本 NCBI663\n"
     ]
    },
    {
     "data": {
      "application/vnd.jupyter.widget-view+json": {
       "model_id": "f021d6a37b09448e9c1c9db7c3b2d7c2",
       "version_major": 2,
       "version_minor": 0
      },
      "text/plain": [
       "处理 NCBI662 (HVG):   0%|          | 0/3357 [00:00<?, ?it/s]"
      ]
     },
     "metadata": {},
     "output_type": "display_data"
    },
    {
     "name": "stdout",
     "output_type": "stream",
     "text": [
      "完成处理样本 NCBI662\n"
     ]
    },
    {
     "data": {
      "application/vnd.jupyter.widget-view+json": {
       "model_id": "267abb1188c14646985415cb0e6dfc6d",
       "version_major": 2,
       "version_minor": 0
      },
      "text/plain": [
       "处理 NCBI661 (HVG):   0%|          | 0/3601 [00:00<?, ?it/s]"
      ]
     },
     "metadata": {},
     "output_type": "display_data"
    },
    {
     "name": "stdout",
     "output_type": "stream",
     "text": [
      "完成处理样本 NCBI661\n"
     ]
    },
    {
     "data": {
      "application/vnd.jupyter.widget-view+json": {
       "model_id": "c11f8362d8ae43729416d15f8f28f182",
       "version_major": 2,
       "version_minor": 0
      },
      "text/plain": [
       "处理 NCBI660 (HVG):   0%|          | 0/3504 [00:00<?, ?it/s]"
      ]
     },
     "metadata": {},
     "output_type": "display_data"
    },
    {
     "name": "stdout",
     "output_type": "stream",
     "text": [
      "完成处理样本 NCBI660\n"
     ]
    },
    {
     "data": {
      "application/vnd.jupyter.widget-view+json": {
       "model_id": "cc1bb9affda64158b05ff5f0dd6ae5da",
       "version_major": 2,
       "version_minor": 0
      },
      "text/plain": [
       "处理 NCBI659 (HVG):   0%|          | 0/3617 [00:00<?, ?it/s]"
      ]
     },
     "metadata": {},
     "output_type": "display_data"
    },
    {
     "name": "stdout",
     "output_type": "stream",
     "text": [
      "完成处理样本 NCBI659\n"
     ]
    },
    {
     "data": {
      "application/vnd.jupyter.widget-view+json": {
       "model_id": "3c5bdf1106fc47abacf9900aee340974",
       "version_major": 2,
       "version_minor": 0
      },
      "text/plain": [
       "处理 NCBI658 (HVG):   0%|          | 0/3116 [00:00<?, ?it/s]"
      ]
     },
     "metadata": {},
     "output_type": "display_data"
    },
    {
     "name": "stdout",
     "output_type": "stream",
     "text": [
      "完成处理样本 NCBI658\n"
     ]
    },
    {
     "data": {
      "application/vnd.jupyter.widget-view+json": {
       "model_id": "eb0befe8a3134966abf374f21fa58e74",
       "version_major": 2,
       "version_minor": 0
      },
      "text/plain": [
       "处理 NCBI533 (HVG):   0%|          | 0/2536 [00:00<?, ?it/s]"
      ]
     },
     "metadata": {},
     "output_type": "display_data"
    },
    {
     "name": "stdout",
     "output_type": "stream",
     "text": [
      "完成处理样本 NCBI533\n"
     ]
    },
    {
     "data": {
      "application/vnd.jupyter.widget-view+json": {
       "model_id": "b884e7bfc03c41ac82fd523516163874",
       "version_major": 2,
       "version_minor": 0
      },
      "text/plain": [
       "处理 NCBI532 (HVG):   0%|          | 0/2399 [00:00<?, ?it/s]"
      ]
     },
     "metadata": {},
     "output_type": "display_data"
    },
    {
     "name": "stdout",
     "output_type": "stream",
     "text": [
      "完成处理样本 NCBI532\n"
     ]
    },
    {
     "data": {
      "application/vnd.jupyter.widget-view+json": {
       "model_id": "7ca04bb0f6cc4af3b50e1980838b6f4c",
       "version_major": 2,
       "version_minor": 0
      },
      "text/plain": [
       "处理 NCBI531 (HVG):   0%|          | 0/2554 [00:00<?, ?it/s]"
      ]
     },
     "metadata": {},
     "output_type": "display_data"
    },
    {
     "name": "stdout",
     "output_type": "stream",
     "text": [
      "完成处理样本 NCBI531\n"
     ]
    },
    {
     "data": {
      "application/vnd.jupyter.widget-view+json": {
       "model_id": "0b713eb175274c22bbe79c2cd74a9f42",
       "version_major": 2,
       "version_minor": 0
      },
      "text/plain": [
       "处理 NCBI530 (HVG):   0%|          | 0/2502 [00:00<?, ?it/s]"
      ]
     },
     "metadata": {},
     "output_type": "display_data"
    },
    {
     "name": "stdout",
     "output_type": "stream",
     "text": [
      "完成处理样本 NCBI530\n"
     ]
    },
    {
     "data": {
      "application/vnd.jupyter.widget-view+json": {
       "model_id": "ba67156530a0426ba35b1794b172a8d5",
       "version_major": 2,
       "version_minor": 0
      },
      "text/plain": [
       "处理 NCBI529 (HVG):   0%|          | 0/2216 [00:00<?, ?it/s]"
      ]
     },
     "metadata": {},
     "output_type": "display_data"
    },
    {
     "name": "stdout",
     "output_type": "stream",
     "text": [
      "完成处理样本 NCBI529\n"
     ]
    },
    {
     "data": {
      "application/vnd.jupyter.widget-view+json": {
       "model_id": "b21d36db17234b55b05bc66466d88bad",
       "version_major": 2,
       "version_minor": 0
      },
      "text/plain": [
       "处理 NCBI528 (HVG):   0%|          | 0/3105 [00:00<?, ?it/s]"
      ]
     },
     "metadata": {},
     "output_type": "display_data"
    },
    {
     "name": "stdout",
     "output_type": "stream",
     "text": [
      "完成处理样本 NCBI528\n"
     ]
    },
    {
     "data": {
      "application/vnd.jupyter.widget-view+json": {
       "model_id": "f2c827317e2b4f3491c44319ea3d4e23",
       "version_major": 2,
       "version_minor": 0
      },
      "text/plain": [
       "处理 NCBI527 (HVG):   0%|          | 0/3047 [00:00<?, ?it/s]"
      ]
     },
     "metadata": {},
     "output_type": "display_data"
    },
    {
     "name": "stdout",
     "output_type": "stream",
     "text": [
      "完成处理样本 NCBI527\n"
     ]
    },
    {
     "data": {
      "application/vnd.jupyter.widget-view+json": {
       "model_id": "0544e0121df9464ca3a163a84093882e",
       "version_major": 2,
       "version_minor": 0
      },
      "text/plain": [
       "处理 NCBI410 (HVG):   0%|          | 0/152 [00:00<?, ?it/s]"
      ]
     },
     "metadata": {},
     "output_type": "display_data"
    },
    {
     "name": "stdout",
     "output_type": "stream",
     "text": [
      "完成处理样本 NCBI410\n"
     ]
    },
    {
     "data": {
      "application/vnd.jupyter.widget-view+json": {
       "model_id": "eed1ee3a98764759a3ac0e74e3af3ef0",
       "version_major": 2,
       "version_minor": 0
      },
      "text/plain": [
       "处理 NCBI409 (HVG):   0%|          | 0/197 [00:00<?, ?it/s]"
      ]
     },
     "metadata": {},
     "output_type": "display_data"
    },
    {
     "name": "stdout",
     "output_type": "stream",
     "text": [
      "完成处理样本 NCBI409\n"
     ]
    },
    {
     "data": {
      "application/vnd.jupyter.widget-view+json": {
       "model_id": "072d051b6930484c97a78540a21b343d",
       "version_major": 2,
       "version_minor": 0
      },
      "text/plain": [
       "处理 NCBI408 (HVG):   0%|          | 0/240 [00:00<?, ?it/s]"
      ]
     },
     "metadata": {},
     "output_type": "display_data"
    },
    {
     "name": "stdout",
     "output_type": "stream",
     "text": [
      "完成处理样本 NCBI408\n"
     ]
    },
    {
     "data": {
      "application/vnd.jupyter.widget-view+json": {
       "model_id": "6b8c1ca968d5410f9cda91081d5ed6fd",
       "version_major": 2,
       "version_minor": 0
      },
      "text/plain": [
       "处理 NCBI407 (HVG):   0%|          | 0/218 [00:00<?, ?it/s]"
      ]
     },
     "metadata": {},
     "output_type": "display_data"
    },
    {
     "name": "stdout",
     "output_type": "stream",
     "text": [
      "完成处理样本 NCBI407\n"
     ]
    },
    {
     "data": {
      "application/vnd.jupyter.widget-view+json": {
       "model_id": "1ffe3b7685444eb3aee1058ccf39d9db",
       "version_major": 2,
       "version_minor": 0
      },
      "text/plain": [
       "处理 NCBI406 (HVG):   0%|          | 0/269 [00:00<?, ?it/s]"
      ]
     },
     "metadata": {},
     "output_type": "display_data"
    },
    {
     "name": "stdout",
     "output_type": "stream",
     "text": [
      "完成处理样本 NCBI406\n"
     ]
    },
    {
     "data": {
      "application/vnd.jupyter.widget-view+json": {
       "model_id": "f4e69dfbaec74158b73ca7534acfc048",
       "version_major": 2,
       "version_minor": 0
      },
      "text/plain": [
       "处理 NCBI405 (HVG):   0%|          | 0/274 [00:00<?, ?it/s]"
      ]
     },
     "metadata": {},
     "output_type": "display_data"
    },
    {
     "name": "stdout",
     "output_type": "stream",
     "text": [
      "完成处理样本 NCBI405\n"
     ]
    },
    {
     "data": {
      "application/vnd.jupyter.widget-view+json": {
       "model_id": "d2261e323051468a8fe3193f764dfc32",
       "version_major": 2,
       "version_minor": 0
      },
      "text/plain": [
       "处理 NCBI404 (HVG):   0%|          | 0/287 [00:00<?, ?it/s]"
      ]
     },
     "metadata": {},
     "output_type": "display_data"
    },
    {
     "name": "stdout",
     "output_type": "stream",
     "text": [
      "完成处理样本 NCBI404\n"
     ]
    },
    {
     "data": {
      "application/vnd.jupyter.widget-view+json": {
       "model_id": "b4ff0c2c2a344e758f81e795a1e3f960",
       "version_major": 2,
       "version_minor": 0
      },
      "text/plain": [
       "处理 NCBI403 (HVG):   0%|          | 0/326 [00:00<?, ?it/s]"
      ]
     },
     "metadata": {},
     "output_type": "display_data"
    },
    {
     "name": "stdout",
     "output_type": "stream",
     "text": [
      "完成处理样本 NCBI403\n"
     ]
    },
    {
     "data": {
      "application/vnd.jupyter.widget-view+json": {
       "model_id": "97be75fbe13b45d082c74fc2038c4826",
       "version_major": 2,
       "version_minor": 0
      },
      "text/plain": [
       "处理 NCBI402 (HVG):   0%|          | 0/361 [00:00<?, ?it/s]"
      ]
     },
     "metadata": {},
     "output_type": "display_data"
    },
    {
     "name": "stdout",
     "output_type": "stream",
     "text": [
      "完成处理样本 NCBI402\n"
     ]
    },
    {
     "data": {
      "application/vnd.jupyter.widget-view+json": {
       "model_id": "2eefbf7bf2ee4168a31c35607f9e1a76",
       "version_major": 2,
       "version_minor": 0
      },
      "text/plain": [
       "处理 NCBI401 (HVG):   0%|          | 0/357 [00:00<?, ?it/s]"
      ]
     },
     "metadata": {},
     "output_type": "display_data"
    },
    {
     "name": "stdout",
     "output_type": "stream",
     "text": [
      "完成处理样本 NCBI401\n"
     ]
    },
    {
     "data": {
      "application/vnd.jupyter.widget-view+json": {
       "model_id": "103a2497430a49489942ddb18f1a0fbc",
       "version_major": 2,
       "version_minor": 0
      },
      "text/plain": [
       "处理 NCBI400 (HVG):   0%|          | 0/393 [00:00<?, ?it/s]"
      ]
     },
     "metadata": {},
     "output_type": "display_data"
    },
    {
     "name": "stdout",
     "output_type": "stream",
     "text": [
      "完成处理样本 NCBI400\n"
     ]
    },
    {
     "data": {
      "application/vnd.jupyter.widget-view+json": {
       "model_id": "2249e99560e440029f77e6a31f76c3b5",
       "version_major": 2,
       "version_minor": 0
      },
      "text/plain": [
       "处理 NCBI399 (HVG):   0%|          | 0/403 [00:00<?, ?it/s]"
      ]
     },
     "metadata": {},
     "output_type": "display_data"
    },
    {
     "name": "stdout",
     "output_type": "stream",
     "text": [
      "完成处理样本 NCBI399\n"
     ]
    },
    {
     "data": {
      "application/vnd.jupyter.widget-view+json": {
       "model_id": "5604f5535cd346b4bb397443f92e3251",
       "version_major": 2,
       "version_minor": 0
      },
      "text/plain": [
       "处理 NCBI398 (HVG):   0%|          | 0/488 [00:00<?, ?it/s]"
      ]
     },
     "metadata": {},
     "output_type": "display_data"
    },
    {
     "name": "stdout",
     "output_type": "stream",
     "text": [
      "完成处理样本 NCBI398\n"
     ]
    },
    {
     "data": {
      "application/vnd.jupyter.widget-view+json": {
       "model_id": "a2ececea77da40bfa5c0cb770c5bb7ee",
       "version_major": 2,
       "version_minor": 0
      },
      "text/plain": [
       "处理 NCBI397 (HVG):   0%|          | 0/461 [00:00<?, ?it/s]"
      ]
     },
     "metadata": {},
     "output_type": "display_data"
    },
    {
     "name": "stdout",
     "output_type": "stream",
     "text": [
      "完成处理样本 NCBI397\n"
     ]
    },
    {
     "data": {
      "application/vnd.jupyter.widget-view+json": {
       "model_id": "204393193d2d47a987335acff86ae459",
       "version_major": 2,
       "version_minor": 0
      },
      "text/plain": [
       "处理 NCBI396 (HVG):   0%|          | 0/381 [00:00<?, ?it/s]"
      ]
     },
     "metadata": {},
     "output_type": "display_data"
    },
    {
     "name": "stdout",
     "output_type": "stream",
     "text": [
      "完成处理样本 NCBI396\n"
     ]
    },
    {
     "data": {
      "application/vnd.jupyter.widget-view+json": {
       "model_id": "3b241cd2c7664f79ba747f01ba9b9d14",
       "version_major": 2,
       "version_minor": 0
      },
      "text/plain": [
       "处理 NCBI395 (HVG):   0%|          | 0/470 [00:00<?, ?it/s]"
      ]
     },
     "metadata": {},
     "output_type": "display_data"
    },
    {
     "name": "stdout",
     "output_type": "stream",
     "text": [
      "完成处理样本 NCBI395\n"
     ]
    },
    {
     "data": {
      "application/vnd.jupyter.widget-view+json": {
       "model_id": "57cc3fe87b9645a3aa1f4916bc13c391",
       "version_major": 2,
       "version_minor": 0
      },
      "text/plain": [
       "处理 NCBI394 (HVG):   0%|          | 0/491 [00:00<?, ?it/s]"
      ]
     },
     "metadata": {},
     "output_type": "display_data"
    },
    {
     "name": "stdout",
     "output_type": "stream",
     "text": [
      "完成处理样本 NCBI394\n"
     ]
    },
    {
     "data": {
      "application/vnd.jupyter.widget-view+json": {
       "model_id": "388d0598da4149a5ab04ef19cb911c92",
       "version_major": 2,
       "version_minor": 0
      },
      "text/plain": [
       "处理 NCBI393 (HVG):   0%|          | 0/512 [00:00<?, ?it/s]"
      ]
     },
     "metadata": {},
     "output_type": "display_data"
    },
    {
     "name": "stdout",
     "output_type": "stream",
     "text": [
      "完成处理样本 NCBI393\n"
     ]
    },
    {
     "data": {
      "application/vnd.jupyter.widget-view+json": {
       "model_id": "75c5b196ca4b40ce9b87af71e6f06471",
       "version_major": 2,
       "version_minor": 0
      },
      "text/plain": [
       "处理 NCBI392 (HVG):   0%|          | 0/487 [00:00<?, ?it/s]"
      ]
     },
     "metadata": {},
     "output_type": "display_data"
    },
    {
     "name": "stdout",
     "output_type": "stream",
     "text": [
      "完成处理样本 NCBI392\n"
     ]
    },
    {
     "data": {
      "application/vnd.jupyter.widget-view+json": {
       "model_id": "47876aff38f845378851a8a9459b3c09",
       "version_major": 2,
       "version_minor": 0
      },
      "text/plain": [
       "处理 NCBI391 (HVG):   0%|          | 0/522 [00:00<?, ?it/s]"
      ]
     },
     "metadata": {},
     "output_type": "display_data"
    },
    {
     "name": "stdout",
     "output_type": "stream",
     "text": [
      "完成处理样本 NCBI391\n"
     ]
    },
    {
     "data": {
      "application/vnd.jupyter.widget-view+json": {
       "model_id": "ac93e64e9aa848ce89d1c2a5b0386129",
       "version_major": 2,
       "version_minor": 0
      },
      "text/plain": [
       "处理 NCBI390 (HVG):   0%|          | 0/494 [00:00<?, ?it/s]"
      ]
     },
     "metadata": {},
     "output_type": "display_data"
    },
    {
     "name": "stdout",
     "output_type": "stream",
     "text": [
      "完成处理样本 NCBI390\n"
     ]
    },
    {
     "data": {
      "application/vnd.jupyter.widget-view+json": {
       "model_id": "90ef8616925d403ab0b82d585e47c69e",
       "version_major": 2,
       "version_minor": 0
      },
      "text/plain": [
       "处理 NCBI389 (HVG):   0%|          | 0/506 [00:00<?, ?it/s]"
      ]
     },
     "metadata": {},
     "output_type": "display_data"
    },
    {
     "name": "stdout",
     "output_type": "stream",
     "text": [
      "完成处理样本 NCBI389\n"
     ]
    },
    {
     "data": {
      "application/vnd.jupyter.widget-view+json": {
       "model_id": "2ffee8d001bd400f8d9f4d9bae0ba9d4",
       "version_major": 2,
       "version_minor": 0
      },
      "text/plain": [
       "处理 NCBI388 (HVG):   0%|          | 0/546 [00:00<?, ?it/s]"
      ]
     },
     "metadata": {},
     "output_type": "display_data"
    },
    {
     "name": "stdout",
     "output_type": "stream",
     "text": [
      "完成处理样本 NCBI388\n"
     ]
    },
    {
     "data": {
      "application/vnd.jupyter.widget-view+json": {
       "model_id": "64d15acf23f24c41bf9f14acd2021665",
       "version_major": 2,
       "version_minor": 0
      },
      "text/plain": [
       "处理 NCBI387 (HVG):   0%|          | 0/433 [00:00<?, ?it/s]"
      ]
     },
     "metadata": {},
     "output_type": "display_data"
    },
    {
     "name": "stdout",
     "output_type": "stream",
     "text": [
      "完成处理样本 NCBI387\n"
     ]
    },
    {
     "data": {
      "application/vnd.jupyter.widget-view+json": {
       "model_id": "2c995e079544494e8365ef23ed3d7b1d",
       "version_major": 2,
       "version_minor": 0
      },
      "text/plain": [
       "处理 NCBI386 (HVG):   0%|          | 0/509 [00:00<?, ?it/s]"
      ]
     },
     "metadata": {},
     "output_type": "display_data"
    },
    {
     "name": "stdout",
     "output_type": "stream",
     "text": [
      "完成处理样本 NCBI386\n"
     ]
    },
    {
     "data": {
      "application/vnd.jupyter.widget-view+json": {
       "model_id": "690b523cf8184beda6c88c54e351720a",
       "version_major": 2,
       "version_minor": 0
      },
      "text/plain": [
       "处理 NCBI385 (HVG):   0%|          | 0/580 [00:00<?, ?it/s]"
      ]
     },
     "metadata": {},
     "output_type": "display_data"
    },
    {
     "name": "stdout",
     "output_type": "stream",
     "text": [
      "完成处理样本 NCBI385\n"
     ]
    },
    {
     "data": {
      "application/vnd.jupyter.widget-view+json": {
       "model_id": "ac1336e94dee4998b2c4ca2aa42bc8f5",
       "version_major": 2,
       "version_minor": 0
      },
      "text/plain": [
       "处理 NCBI384 (HVG):   0%|          | 0/589 [00:00<?, ?it/s]"
      ]
     },
     "metadata": {},
     "output_type": "display_data"
    },
    {
     "name": "stdout",
     "output_type": "stream",
     "text": [
      "完成处理样本 NCBI384\n"
     ]
    },
    {
     "data": {
      "application/vnd.jupyter.widget-view+json": {
       "model_id": "c29efcfdab5d43999c6d7de9d0a7c02c",
       "version_major": 2,
       "version_minor": 0
      },
      "text/plain": [
       "处理 NCBI383 (HVG):   0%|          | 0/556 [00:00<?, ?it/s]"
      ]
     },
     "metadata": {},
     "output_type": "display_data"
    },
    {
     "name": "stdout",
     "output_type": "stream",
     "text": [
      "完成处理样本 NCBI383\n"
     ]
    },
    {
     "data": {
      "application/vnd.jupyter.widget-view+json": {
       "model_id": "44269f3108714bd794166c733af19596",
       "version_major": 2,
       "version_minor": 0
      },
      "text/plain": [
       "处理 NCBI382 (HVG):   0%|          | 0/546 [00:00<?, ?it/s]"
      ]
     },
     "metadata": {},
     "output_type": "display_data"
    },
    {
     "name": "stdout",
     "output_type": "stream",
     "text": [
      "完成处理样本 NCBI382\n"
     ]
    },
    {
     "data": {
      "application/vnd.jupyter.widget-view+json": {
       "model_id": "807a1c1d3cb74b7dab1f07647335156e",
       "version_major": 2,
       "version_minor": 0
      },
      "text/plain": [
       "处理 NCBI381 (HVG):   0%|          | 0/560 [00:00<?, ?it/s]"
      ]
     },
     "metadata": {},
     "output_type": "display_data"
    },
    {
     "name": "stdout",
     "output_type": "stream",
     "text": [
      "完成处理样本 NCBI381\n"
     ]
    },
    {
     "data": {
      "application/vnd.jupyter.widget-view+json": {
       "model_id": "4dba83c2bfab437aa3bae709e26bfd77",
       "version_major": 2,
       "version_minor": 0
      },
      "text/plain": [
       "处理 NCBI380 (HVG):   0%|          | 0/519 [00:00<?, ?it/s]"
      ]
     },
     "metadata": {},
     "output_type": "display_data"
    },
    {
     "name": "stdout",
     "output_type": "stream",
     "text": [
      "完成处理样本 NCBI380\n"
     ]
    },
    {
     "data": {
      "application/vnd.jupyter.widget-view+json": {
       "model_id": "e7d69936cfa349738a162ba47e6d10d1",
       "version_major": 2,
       "version_minor": 0
      },
      "text/plain": [
       "处理 NCBI379 (HVG):   0%|          | 0/581 [00:00<?, ?it/s]"
      ]
     },
     "metadata": {},
     "output_type": "display_data"
    },
    {
     "name": "stdout",
     "output_type": "stream",
     "text": [
      "完成处理样本 NCBI379\n"
     ]
    },
    {
     "data": {
      "application/vnd.jupyter.widget-view+json": {
       "model_id": "d5e126151f2940969e16b09233c8efa2",
       "version_major": 2,
       "version_minor": 0
      },
      "text/plain": [
       "处理 NCBI378 (HVG):   0%|          | 0/603 [00:00<?, ?it/s]"
      ]
     },
     "metadata": {},
     "output_type": "display_data"
    },
    {
     "name": "stdout",
     "output_type": "stream",
     "text": [
      "完成处理样本 NCBI378\n"
     ]
    },
    {
     "data": {
      "application/vnd.jupyter.widget-view+json": {
       "model_id": "930544ab6583456290c1723628d4f8df",
       "version_major": 2,
       "version_minor": 0
      },
      "text/plain": [
       "处理 NCBI377 (HVG):   0%|          | 0/577 [00:00<?, ?it/s]"
      ]
     },
     "metadata": {},
     "output_type": "display_data"
    },
    {
     "name": "stdout",
     "output_type": "stream",
     "text": [
      "完成处理样本 NCBI377\n"
     ]
    },
    {
     "data": {
      "application/vnd.jupyter.widget-view+json": {
       "model_id": "f70dd6aac05a409b9eb6a181ef8484a3",
       "version_major": 2,
       "version_minor": 0
      },
      "text/plain": [
       "处理 NCBI376 (HVG):   0%|          | 0/571 [00:00<?, ?it/s]"
      ]
     },
     "metadata": {},
     "output_type": "display_data"
    },
    {
     "name": "stdout",
     "output_type": "stream",
     "text": [
      "完成处理样本 NCBI376\n"
     ]
    },
    {
     "data": {
      "application/vnd.jupyter.widget-view+json": {
       "model_id": "f4cbf06ab30f42b39b54bab03cbde9a2",
       "version_major": 2,
       "version_minor": 0
      },
      "text/plain": [
       "处理 NCBI375 (HVG):   0%|          | 0/591 [00:00<?, ?it/s]"
      ]
     },
     "metadata": {},
     "output_type": "display_data"
    },
    {
     "name": "stdout",
     "output_type": "stream",
     "text": [
      "完成处理样本 NCBI375\n"
     ]
    },
    {
     "data": {
      "application/vnd.jupyter.widget-view+json": {
       "model_id": "189e69a2c6de43258dee832fd4d43a91",
       "version_major": 2,
       "version_minor": 0
      },
      "text/plain": [
       "处理 NCBI374 (HVG):   0%|          | 0/604 [00:00<?, ?it/s]"
      ]
     },
     "metadata": {},
     "output_type": "display_data"
    },
    {
     "name": "stdout",
     "output_type": "stream",
     "text": [
      "完成处理样本 NCBI374\n"
     ]
    },
    {
     "data": {
      "application/vnd.jupyter.widget-view+json": {
       "model_id": "c05ae9d4dad14957b4714750da3c971a",
       "version_major": 2,
       "version_minor": 0
      },
      "text/plain": [
       "处理 NCBI373 (HVG):   0%|          | 0/556 [00:00<?, ?it/s]"
      ]
     },
     "metadata": {},
     "output_type": "display_data"
    },
    {
     "name": "stdout",
     "output_type": "stream",
     "text": [
      "完成处理样本 NCBI373\n"
     ]
    },
    {
     "data": {
      "application/vnd.jupyter.widget-view+json": {
       "model_id": "fffd319a53d14d808e648fbf8ee1c5ef",
       "version_major": 2,
       "version_minor": 0
      },
      "text/plain": [
       "处理 NCBI372 (HVG):   0%|          | 0/536 [00:00<?, ?it/s]"
      ]
     },
     "metadata": {},
     "output_type": "display_data"
    },
    {
     "name": "stdout",
     "output_type": "stream",
     "text": [
      "完成处理样本 NCBI372\n"
     ]
    },
    {
     "data": {
      "application/vnd.jupyter.widget-view+json": {
       "model_id": "fef86b91954248b6aa63b43e9cfa642c",
       "version_major": 2,
       "version_minor": 0
      },
      "text/plain": [
       "处理 NCBI371 (HVG):   0%|          | 0/620 [00:00<?, ?it/s]"
      ]
     },
     "metadata": {},
     "output_type": "display_data"
    },
    {
     "name": "stdout",
     "output_type": "stream",
     "text": [
      "完成处理样本 NCBI371\n"
     ]
    },
    {
     "data": {
      "application/vnd.jupyter.widget-view+json": {
       "model_id": "c1661894a2454de1b190f50ff60791c2",
       "version_major": 2,
       "version_minor": 0
      },
      "text/plain": [
       "处理 NCBI370 (HVG):   0%|          | 0/576 [00:00<?, ?it/s]"
      ]
     },
     "metadata": {},
     "output_type": "display_data"
    },
    {
     "name": "stdout",
     "output_type": "stream",
     "text": [
      "完成处理样本 NCBI370\n"
     ]
    },
    {
     "data": {
      "application/vnd.jupyter.widget-view+json": {
       "model_id": "4ca06dfe789f45faa5a4897c812cb0f1",
       "version_major": 2,
       "version_minor": 0
      },
      "text/plain": [
       "处理 NCBI369 (HVG):   0%|          | 0/589 [00:00<?, ?it/s]"
      ]
     },
     "metadata": {},
     "output_type": "display_data"
    },
    {
     "name": "stdout",
     "output_type": "stream",
     "text": [
      "完成处理样本 NCBI369\n"
     ]
    },
    {
     "data": {
      "application/vnd.jupyter.widget-view+json": {
       "model_id": "bc2b36b90e644b6ea1ca365cb65b44a9",
       "version_major": 2,
       "version_minor": 0
      },
      "text/plain": [
       "处理 NCBI368 (HVG):   0%|          | 0/604 [00:00<?, ?it/s]"
      ]
     },
     "metadata": {},
     "output_type": "display_data"
    },
    {
     "name": "stdout",
     "output_type": "stream",
     "text": [
      "完成处理样本 NCBI368\n"
     ]
    },
    {
     "data": {
      "application/vnd.jupyter.widget-view+json": {
       "model_id": "9a6707c175134757966482416272bd34",
       "version_major": 2,
       "version_minor": 0
      },
      "text/plain": [
       "处理 NCBI367 (HVG):   0%|          | 0/574 [00:00<?, ?it/s]"
      ]
     },
     "metadata": {},
     "output_type": "display_data"
    },
    {
     "name": "stdout",
     "output_type": "stream",
     "text": [
      "完成处理样本 NCBI367\n"
     ]
    },
    {
     "data": {
      "application/vnd.jupyter.widget-view+json": {
       "model_id": "2cadb6c068b64ad18f61147cbb395ef3",
       "version_major": 2,
       "version_minor": 0
      },
      "text/plain": [
       "处理 NCBI366 (HVG):   0%|          | 0/639 [00:00<?, ?it/s]"
      ]
     },
     "metadata": {},
     "output_type": "display_data"
    },
    {
     "name": "stdout",
     "output_type": "stream",
     "text": [
      "完成处理样本 NCBI366\n"
     ]
    },
    {
     "data": {
      "application/vnd.jupyter.widget-view+json": {
       "model_id": "31c04b7f215540a180962e27fc99656b",
       "version_major": 2,
       "version_minor": 0
      },
      "text/plain": [
       "处理 NCBI365 (HVG):   0%|          | 0/617 [00:00<?, ?it/s]"
      ]
     },
     "metadata": {},
     "output_type": "display_data"
    },
    {
     "name": "stdout",
     "output_type": "stream",
     "text": [
      "完成处理样本 NCBI365\n"
     ]
    },
    {
     "data": {
      "application/vnd.jupyter.widget-view+json": {
       "model_id": "b68c70142c4d48fdb4021dd930c822bf",
       "version_major": 2,
       "version_minor": 0
      },
      "text/plain": [
       "处理 NCBI364 (HVG):   0%|          | 0/606 [00:00<?, ?it/s]"
      ]
     },
     "metadata": {},
     "output_type": "display_data"
    },
    {
     "name": "stdout",
     "output_type": "stream",
     "text": [
      "完成处理样本 NCBI364\n"
     ]
    },
    {
     "data": {
      "application/vnd.jupyter.widget-view+json": {
       "model_id": "c6095eb6723d489686c637111f0f6999",
       "version_major": 2,
       "version_minor": 0
      },
      "text/plain": [
       "处理 NCBI363 (HVG):   0%|          | 0/508 [00:00<?, ?it/s]"
      ]
     },
     "metadata": {},
     "output_type": "display_data"
    },
    {
     "name": "stdout",
     "output_type": "stream",
     "text": [
      "完成处理样本 NCBI363\n"
     ]
    },
    {
     "data": {
      "application/vnd.jupyter.widget-view+json": {
       "model_id": "4174f195f7234f74bb4cc853b71d2158",
       "version_major": 2,
       "version_minor": 0
      },
      "text/plain": [
       "处理 NCBI362 (HVG):   0%|          | 0/549 [00:00<?, ?it/s]"
      ]
     },
     "metadata": {},
     "output_type": "display_data"
    },
    {
     "name": "stdout",
     "output_type": "stream",
     "text": [
      "完成处理样本 NCBI362\n"
     ]
    },
    {
     "data": {
      "application/vnd.jupyter.widget-view+json": {
       "model_id": "ad4cd93b21c44062a5d744c404e811e0",
       "version_major": 2,
       "version_minor": 0
      },
      "text/plain": [
       "处理 NCBI361 (HVG):   0%|          | 0/534 [00:00<?, ?it/s]"
      ]
     },
     "metadata": {},
     "output_type": "display_data"
    },
    {
     "name": "stdout",
     "output_type": "stream",
     "text": [
      "完成处理样本 NCBI361\n"
     ]
    },
    {
     "data": {
      "application/vnd.jupyter.widget-view+json": {
       "model_id": "5f3da7ef7b8d4931bba9ece0bd9188d0",
       "version_major": 2,
       "version_minor": 0
      },
      "text/plain": [
       "处理 NCBI360 (HVG):   0%|          | 0/508 [00:00<?, ?it/s]"
      ]
     },
     "metadata": {},
     "output_type": "display_data"
    },
    {
     "name": "stdout",
     "output_type": "stream",
     "text": [
      "完成处理样本 NCBI360\n"
     ]
    },
    {
     "data": {
      "application/vnd.jupyter.widget-view+json": {
       "model_id": "6c31665a365542e0a4542a19b8b96db2",
       "version_major": 2,
       "version_minor": 0
      },
      "text/plain": [
       "处理 NCBI359 (HVG):   0%|          | 0/494 [00:00<?, ?it/s]"
      ]
     },
     "metadata": {},
     "output_type": "display_data"
    },
    {
     "name": "stdout",
     "output_type": "stream",
     "text": [
      "完成处理样本 NCBI359\n"
     ]
    },
    {
     "data": {
      "application/vnd.jupyter.widget-view+json": {
       "model_id": "920e41e2a5f6451d94e81cb66fa44e0a",
       "version_major": 2,
       "version_minor": 0
      },
      "text/plain": [
       "处理 NCBI358 (HVG):   0%|          | 0/460 [00:00<?, ?it/s]"
      ]
     },
     "metadata": {},
     "output_type": "display_data"
    },
    {
     "name": "stdout",
     "output_type": "stream",
     "text": [
      "完成处理样本 NCBI358\n"
     ]
    },
    {
     "data": {
      "application/vnd.jupyter.widget-view+json": {
       "model_id": "2e4e9ff5f669405586060caea11113b7",
       "version_major": 2,
       "version_minor": 0
      },
      "text/plain": [
       "处理 NCBI357 (HVG):   0%|          | 0/469 [00:00<?, ?it/s]"
      ]
     },
     "metadata": {},
     "output_type": "display_data"
    },
    {
     "name": "stdout",
     "output_type": "stream",
     "text": [
      "完成处理样本 NCBI357\n"
     ]
    },
    {
     "data": {
      "application/vnd.jupyter.widget-view+json": {
       "model_id": "1a3483e7fe9a46c9ae57e14e8e1aff22",
       "version_major": 2,
       "version_minor": 0
      },
      "text/plain": [
       "处理 NCBI356 (HVG):   0%|          | 0/462 [00:00<?, ?it/s]"
      ]
     },
     "metadata": {},
     "output_type": "display_data"
    },
    {
     "name": "stdout",
     "output_type": "stream",
     "text": [
      "完成处理样本 NCBI356\n"
     ]
    },
    {
     "data": {
      "application/vnd.jupyter.widget-view+json": {
       "model_id": "40af3e8ceacd40899195b7198e23c7d4",
       "version_major": 2,
       "version_minor": 0
      },
      "text/plain": [
       "处理 NCBI355 (HVG):   0%|          | 0/450 [00:00<?, ?it/s]"
      ]
     },
     "metadata": {},
     "output_type": "display_data"
    },
    {
     "name": "stdout",
     "output_type": "stream",
     "text": [
      "完成处理样本 NCBI355\n"
     ]
    },
    {
     "data": {
      "application/vnd.jupyter.widget-view+json": {
       "model_id": "3a3ee0f00c3040b6aa679d11f2fca049",
       "version_major": 2,
       "version_minor": 0
      },
      "text/plain": [
       "处理 NCBI354 (HVG):   0%|          | 0/527 [00:00<?, ?it/s]"
      ]
     },
     "metadata": {},
     "output_type": "display_data"
    },
    {
     "name": "stdout",
     "output_type": "stream",
     "text": [
      "完成处理样本 NCBI354\n"
     ]
    },
    {
     "data": {
      "application/vnd.jupyter.widget-view+json": {
       "model_id": "4966589550394d99b4386e70f07ca739",
       "version_major": 2,
       "version_minor": 0
      },
      "text/plain": [
       "处理 NCBI353 (HVG):   0%|          | 0/548 [00:00<?, ?it/s]"
      ]
     },
     "metadata": {},
     "output_type": "display_data"
    },
    {
     "name": "stdout",
     "output_type": "stream",
     "text": [
      "完成处理样本 NCBI353\n"
     ]
    },
    {
     "data": {
      "application/vnd.jupyter.widget-view+json": {
       "model_id": "e02c757a38d3404a9f61acff52b1de21",
       "version_major": 2,
       "version_minor": 0
      },
      "text/plain": [
       "处理 NCBI352 (HVG):   0%|          | 0/524 [00:00<?, ?it/s]"
      ]
     },
     "metadata": {},
     "output_type": "display_data"
    },
    {
     "name": "stdout",
     "output_type": "stream",
     "text": [
      "完成处理样本 NCBI352\n"
     ]
    },
    {
     "data": {
      "application/vnd.jupyter.widget-view+json": {
       "model_id": "f088fcb4169f416aa10104ed0d0880ff",
       "version_major": 2,
       "version_minor": 0
      },
      "text/plain": [
       "处理 NCBI351 (HVG):   0%|          | 0/484 [00:00<?, ?it/s]"
      ]
     },
     "metadata": {},
     "output_type": "display_data"
    },
    {
     "name": "stdout",
     "output_type": "stream",
     "text": [
      "完成处理样本 NCBI351\n"
     ]
    },
    {
     "data": {
      "application/vnd.jupyter.widget-view+json": {
       "model_id": "285431dbb45048a38a6947506d116108",
       "version_major": 2,
       "version_minor": 0
      },
      "text/plain": [
       "处理 NCBI350 (HVG):   0%|          | 0/490 [00:00<?, ?it/s]"
      ]
     },
     "metadata": {},
     "output_type": "display_data"
    },
    {
     "name": "stdout",
     "output_type": "stream",
     "text": [
      "完成处理样本 NCBI350\n"
     ]
    },
    {
     "data": {
      "application/vnd.jupyter.widget-view+json": {
       "model_id": "3af01a8e38634b4392c228477b9c2986",
       "version_major": 2,
       "version_minor": 0
      },
      "text/plain": [
       "处理 NCBI349 (HVG):   0%|          | 0/478 [00:00<?, ?it/s]"
      ]
     },
     "metadata": {},
     "output_type": "display_data"
    },
    {
     "name": "stdout",
     "output_type": "stream",
     "text": [
      "完成处理样本 NCBI349\n"
     ]
    },
    {
     "data": {
      "application/vnd.jupyter.widget-view+json": {
       "model_id": "096967a405174e848951f79f00b8c93e",
       "version_major": 2,
       "version_minor": 0
      },
      "text/plain": [
       "处理 NCBI348 (HVG):   0%|          | 0/479 [00:00<?, ?it/s]"
      ]
     },
     "metadata": {},
     "output_type": "display_data"
    },
    {
     "name": "stdout",
     "output_type": "stream",
     "text": [
      "完成处理样本 NCBI348\n"
     ]
    },
    {
     "data": {
      "application/vnd.jupyter.widget-view+json": {
       "model_id": "a2bc5cd34870410396bd4de76c381597",
       "version_major": 2,
       "version_minor": 0
      },
      "text/plain": [
       "处理 NCBI347 (HVG):   0%|          | 0/428 [00:00<?, ?it/s]"
      ]
     },
     "metadata": {},
     "output_type": "display_data"
    },
    {
     "name": "stdout",
     "output_type": "stream",
     "text": [
      "完成处理样本 NCBI347\n"
     ]
    },
    {
     "data": {
      "application/vnd.jupyter.widget-view+json": {
       "model_id": "e38a7e9c8f9e487bb3a1720452f4764f",
       "version_major": 2,
       "version_minor": 0
      },
      "text/plain": [
       "处理 NCBI346 (HVG):   0%|          | 0/419 [00:00<?, ?it/s]"
      ]
     },
     "metadata": {},
     "output_type": "display_data"
    },
    {
     "name": "stdout",
     "output_type": "stream",
     "text": [
      "完成处理样本 NCBI346\n"
     ]
    },
    {
     "data": {
      "application/vnd.jupyter.widget-view+json": {
       "model_id": "f008792c266d434d8363a9c0a1f7a35f",
       "version_major": 2,
       "version_minor": 0
      },
      "text/plain": [
       "处理 NCBI345 (HVG):   0%|          | 0/386 [00:00<?, ?it/s]"
      ]
     },
     "metadata": {},
     "output_type": "display_data"
    },
    {
     "name": "stdout",
     "output_type": "stream",
     "text": [
      "完成处理样本 NCBI345\n"
     ]
    },
    {
     "data": {
      "application/vnd.jupyter.widget-view+json": {
       "model_id": "f71d8508eeae4c6499765206fe7085aa",
       "version_major": 2,
       "version_minor": 0
      },
      "text/plain": [
       "处理 NCBI344 (HVG):   0%|          | 0/406 [00:00<?, ?it/s]"
      ]
     },
     "metadata": {},
     "output_type": "display_data"
    },
    {
     "name": "stdout",
     "output_type": "stream",
     "text": [
      "完成处理样本 NCBI344\n"
     ]
    },
    {
     "data": {
      "application/vnd.jupyter.widget-view+json": {
       "model_id": "cdcf220689ed451d924d86c3f2de4a0a",
       "version_major": 2,
       "version_minor": 0
      },
      "text/plain": [
       "处理 NCBI343 (HVG):   0%|          | 0/237 [00:00<?, ?it/s]"
      ]
     },
     "metadata": {},
     "output_type": "display_data"
    },
    {
     "name": "stdout",
     "output_type": "stream",
     "text": [
      "完成处理样本 NCBI343\n"
     ]
    },
    {
     "data": {
      "application/vnd.jupyter.widget-view+json": {
       "model_id": "4e13c8d73e78463fb245fb032f6a4126",
       "version_major": 2,
       "version_minor": 0
      },
      "text/plain": [
       "处理 NCBI342 (HVG):   0%|          | 0/250 [00:00<?, ?it/s]"
      ]
     },
     "metadata": {},
     "output_type": "display_data"
    },
    {
     "name": "stdout",
     "output_type": "stream",
     "text": [
      "完成处理样本 NCBI342\n"
     ]
    },
    {
     "data": {
      "application/vnd.jupyter.widget-view+json": {
       "model_id": "cb94298366e44bc28c3874159dadcf20",
       "version_major": 2,
       "version_minor": 0
      },
      "text/plain": [
       "处理 NCBI341 (HVG):   0%|          | 0/279 [00:00<?, ?it/s]"
      ]
     },
     "metadata": {},
     "output_type": "display_data"
    },
    {
     "name": "stdout",
     "output_type": "stream",
     "text": [
      "完成处理样本 NCBI341\n"
     ]
    },
    {
     "data": {
      "application/vnd.jupyter.widget-view+json": {
       "model_id": "3564802249194579b8b456ec6965e2bb",
       "version_major": 2,
       "version_minor": 0
      },
      "text/plain": [
       "处理 NCBI340 (HVG):   0%|          | 0/276 [00:00<?, ?it/s]"
      ]
     },
     "metadata": {},
     "output_type": "display_data"
    },
    {
     "name": "stdout",
     "output_type": "stream",
     "text": [
      "完成处理样本 NCBI340\n"
     ]
    },
    {
     "data": {
      "application/vnd.jupyter.widget-view+json": {
       "model_id": "d31f4792f0794b0f812cf66195829f04",
       "version_major": 2,
       "version_minor": 0
      },
      "text/plain": [
       "处理 NCBI339 (HVG):   0%|          | 0/245 [00:00<?, ?it/s]"
      ]
     },
     "metadata": {},
     "output_type": "display_data"
    },
    {
     "name": "stdout",
     "output_type": "stream",
     "text": [
      "完成处理样本 NCBI339\n"
     ]
    },
    {
     "data": {
      "application/vnd.jupyter.widget-view+json": {
       "model_id": "62aa5099d3394f92916565cd1f9ebd68",
       "version_major": 2,
       "version_minor": 0
      },
      "text/plain": [
       "处理 NCBI338 (HVG):   0%|          | 0/240 [00:00<?, ?it/s]"
      ]
     },
     "metadata": {},
     "output_type": "display_data"
    },
    {
     "name": "stdout",
     "output_type": "stream",
     "text": [
      "完成处理样本 NCBI338\n"
     ]
    },
    {
     "data": {
      "application/vnd.jupyter.widget-view+json": {
       "model_id": "b7ba9991d2a14f6c81396159818633c3",
       "version_major": 2,
       "version_minor": 0
      },
      "text/plain": [
       "处理 NCBI337 (HVG):   0%|          | 0/188 [00:00<?, ?it/s]"
      ]
     },
     "metadata": {},
     "output_type": "display_data"
    },
    {
     "name": "stdout",
     "output_type": "stream",
     "text": [
      "完成处理样本 NCBI337\n"
     ]
    },
    {
     "data": {
      "application/vnd.jupyter.widget-view+json": {
       "model_id": "c193e85260914db7ba3c0957b742e44a",
       "version_major": 2,
       "version_minor": 0
      },
      "text/plain": [
       "处理 NCBI336 (HVG):   0%|          | 0/214 [00:00<?, ?it/s]"
      ]
     },
     "metadata": {},
     "output_type": "display_data"
    },
    {
     "name": "stdout",
     "output_type": "stream",
     "text": [
      "完成处理样本 NCBI336\n"
     ]
    }
   ],
   "source": [
    "from concurrent.futures import ThreadPoolExecutor, ProcessPoolExecutor\n",
    "import threading\n",
    "\n",
    "# --- 3. 基于HVG列表，为每个样本生成句子文件 ---\n",
    "\n",
    "print(\"开始批量生成基于HVG的基因句子文件...\")\n",
    "\n",
    "def process_single_sample(sample):\n",
    "    \"\"\"处理单个样本的函数\"\"\"\n",
    "    try:\n",
    "        # 确保数据已加载\n",
    "        if sample.adata is None:\n",
    "            sample.load_st_data(lazy=False)\n",
    "            sample.adata = sample.adata.to_memory()\n",
    "        if sample.adata is None:\n",
    "            print(f\"跳过样本 {sample.sample_id}，因为无法加载AnnData。\")\n",
    "            return\n",
    "            \n",
    "        anndata_to_sentence_files_hvg(\n",
    "            sample=sample,\n",
    "            hvg_list=global_hvg_list,\n",
    "            output_basedir=sentence_output_basedir_hvg,\n",
    "            n_top_genes_in_sentence=50\n",
    "        )\n",
    "        print(f\"完成处理样本 {sample.sample_id}\")\n",
    "    except Exception as e:\n",
    "        print(f\"处理样本 {sample.sample_id} 时发生严重错误: {e}\")\n",
    "\n",
    "# 使用线程池执行器进行并行处理\n",
    "with ThreadPoolExecutor(max_workers=10) as executor:\n",
    "    # 提交所有任务\n",
    "    futures = [executor.submit(process_single_sample, sample) for sample in brain_samples]\n",
    "    \n",
    "    # 等待所有任务完成并处理结果\n",
    "    for future in tqdm(futures, desc=\"处理所有样本\"):\n",
    "        try:\n",
    "            future.result()  # 这会等待任务完成并获取结果（如果有异常会抛出）\n",
    "        except Exception as e:\n",
    "            print(f\"线程执行时发生错误: {e}\")\n",
    "\n",
    "print(\"\\n所有基于HVG的基因句子已生成并保存到硬盘！\")\n"
   ]
  },
  {
   "cell_type": "code",
   "execution_count": null,
   "id": "e4af3278",
   "metadata": {},
   "outputs": [],
   "source": [
    "\n",
    "\n",
    "# --- 4. 验证结果 ---\n",
    "# 随机选择一个样本目录进行检查\n",
    "if brain_samples:\n",
    "    first_sample_id = brain_samples[0].sample_id\n",
    "    sample_sentence_dir = os.path.join(sentence_output_basedir_hvg, f\"{first_sample_id}_sentences_hvg\")\n",
    "    \n",
    "    if os.path.exists(sample_sentence_dir) and os.listdir(sample_sentence_dir):\n",
    "        print(f\"\\n--- 验证样本 {first_sample_id} 的结果 ---\")\n",
    "        sentence_files = os.listdir(sample_sentence_dir)\n",
    "        random_sentence_file = random.choice(sentence_files)\n",
    "        \n",
    "        with open(os.path.join(sample_sentence_dir, random_sentence_file), 'r') as f:\n",
    "            content = f.read()\n",
    "            genes_in_sentence = content.split()\n",
    "            print(f\"随机抽取的句子文件 ({random_sentence_file}):\")\n",
    "            print(content)\n",
    "            print(f\"句子中的基因数量: {len(genes_in_sentence)}\")\n",
    "            # 检查这些基因是否都在HVG列表中\n",
    "            are_all_hvgs = all(gene in global_hvg_list for gene in genes_in_sentence)\n",
    "            print(f\"句子中的所有基因是否都在全局HVG列表中? {'是' if are_all_hvgs else '否'}\")\n",
    "    else:\n",
    "        print(\"未能找到生成的句子文件进行验证。\")"
   ]
  }
 ],
 "metadata": {
  "kernelspec": {
   "display_name": "Python (BioImage)",
   "language": "python",
   "name": "bioimage_env"
  },
  "language_info": {
   "codemirror_mode": {
    "name": "ipython",
    "version": 3
   },
   "file_extension": ".py",
   "mimetype": "text/x-python",
   "name": "python",
   "nbconvert_exporter": "python",
   "pygments_lexer": "ipython3",
   "version": "3.12.11"
  }
 },
 "nbformat": 4,
 "nbformat_minor": 5
}
