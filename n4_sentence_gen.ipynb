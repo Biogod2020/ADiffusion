{
 "cells": [
  {
   "cell_type": "code",
   "execution_count": 1,
   "id": "8eb7c531",
   "metadata": {},
   "outputs": [
    {
     "data": {
      "text/plain": [
       "'/public/home/jijh/diffusion_project/ADiffusion'"
      ]
     },
     "execution_count": 1,
     "metadata": {},
     "output_type": "execute_result"
    }
   ],
   "source": [
    "# --- 安装必要的库 ---\n",
    "# 请确保您已按照上述说明安装了 libvips 系统库\n",
    "# pip install pyvips opencv-python scikit-image tqdm\n",
    "\n",
    "import os\n",
    "import cv2\n",
    "import pandas as pd\n",
    "import numpy as np\n",
    "import matplotlib.pyplot as plt\n",
    "import seaborn as sns\n",
    "from skimage.color import rgb2hed\n",
    "from skimage.filters import threshold_otsu\n",
    "from IPython.display import display, Image as IPImage\n",
    "\n",
    "# # 导入 pyvips 库\n",
    "# try:\n",
    "#     import pyvips\n",
    "# except ImportError:\n",
    "#     print(\"错误: pyvips 库未找到。请按照单元格上方的说明进行安装。\")\n",
    "#     # 在 Notebook 中，我们可以用 raise 来停止执行\n",
    "#     raise\n",
    "\n",
    "# 使用 tqdm.notebook 可以在 Notebook 中显示更好看的进度条\n",
    "from tqdm.auto import tqdm\n",
    "\n",
    "os.chdir(\"/home1/jijh/diffusion_project/ADiffusion\")\n",
    "os.getcwd()\n"
   ]
  },
  {
   "cell_type": "code",
   "execution_count": 9,
   "id": "3ae9df8d",
   "metadata": {},
   "outputs": [],
   "source": [
    "import os\n",
    "import scanpy as sc\n",
    "import pandas as pd\n",
    "import numpy as np\n",
    "from tqdm.auto import tqdm\n",
    "from scipy.sparse import issparse\n",
    "\n",
    "# 导入您自定义的库\n",
    "from src.pipeline.hest_loading import HESTDataset\n",
    "\n",
    "def load_sample_data(sample, batch_key: str = 'sample_id'):\n",
    "    \"\"\"Helper function to load a single sample's data\"\"\"\n",
    "    try:\n",
    "        sample.load_st_data(lazy=False)\n",
    "        if sample.adata is not None:\n",
    "            # 确保每个adata有唯一的obs_names以避免冲突\n",
    "            sample.adata.obs_names = [f\"{sample.sample_id}_{obs_name}\" for obs_name in sample.adata.obs_names]\n",
    "            # 添加批次信息\n",
    "            sample.adata.obs[batch_key] = sample.sample_id\n",
    "            return sample.adata.to_memory()\n",
    "        return None\n",
    "    except Exception as e:\n",
    "        print(f\"Error loading sample {sample.sample_id}: {e}\")\n",
    "        return None\n",
    "\n",
    "# --- 函数定义 ---\n",
    "\n",
    "def calculate_global_hvgs(\n",
    "    samples_to_process: list, \n",
    "    n_top_genes: int = 5000, \n",
    "    batch_key: str = 'sample_id',\n",
    "    sentence_output_basedir_hvg: str = \"output/hvgs\"\n",
    "    \n",
    ") -> pd.Index:\n",
    "    \"\"\"\n",
    "    合并多个AnnData对象，进行批次校正，并计算全局高变基因。\n",
    "    (版本已修改，增强了过滤和HVG计算的稳定性)\n",
    "    \"\"\"\n",
    "    print(\"开始合并所有样本以计算全局HVGs...\")\n",
    "    \n",
    "    adatas = []\n",
    "    for sample in tqdm(samples_to_process, desc=\"加载并合并AnnData\"):\n",
    "        adata = load_sample_data(sample, batch_key)\n",
    "        if adata is not None:\n",
    "            adatas.append(adata)\n",
    "\n",
    "    if not adatas:\n",
    "        raise ValueError(\"未能加载任何AnnData对象。\")\n",
    "\n",
    "    processed_adatas = []\n",
    "    for adata in adatas:\n",
    "        if adata.var_names.duplicated().any():\n",
    "            print(f\"发现重复基因名，正在处理样本中的 {adata.var_names.duplicated().sum()} 个重复基因...\")\n",
    "            adata = adata[:, ~adata.var_names.duplicated()].copy()\n",
    "        processed_adatas.append(adata)\n",
    "    \n",
    "    adata_merged = sc.concat(processed_adatas, join='outer', uns_merge='unique')\n",
    "    print(f\"所有样本已合并。总尺寸: {adata_merged.shape}\")\n",
    "    \n",
    "    print(\"开始进行SOTA质量控制和过滤...\")\n",
    "    \n",
    "    adata_merged.var['mt'] = (\n",
    "        adata_merged.var_names.str.startswith('MT-') |\n",
    "        adata_merged.var_names.str.startswith('mt-')\n",
    "    )\n",
    "    adata_merged.var['ribo'] = (\n",
    "        adata_merged.var_names.str.startswith(('RPS', 'RPL')) |\n",
    "        adata_merged.var_names.str.startswith(('Rps', 'Rpl'))\n",
    "    )\n",
    "    adata_merged.var['hb'] = (\n",
    "        adata_merged.var_names.str.contains('^HB[^(p)]', case=False) |\n",
    "        adata_merged.var_names.str.contains('^Hb[^(p)]')\n",
    "    )\n",
    "    \n",
    "    sc.pp.calculate_qc_metrics(adata_merged, qc_vars=['mt', 'ribo', 'hb'], percent_top=None, log1p=False, inplace=True)\n",
    "    \n",
    "    print(f\"过滤前: {adata_merged.n_obs} spots, {adata_merged.n_vars} genes\")\n",
    "    \n",
    "    sc.pp.filter_cells(adata_merged, min_genes=200)\n",
    "    print(f\"过滤低表达基因数spots后: {adata_merged.n_obs} spots\")\n",
    "    \n",
    "    adata_merged = adata_merged[adata_merged.obs.pct_counts_mt < 20, :]\n",
    "    print(f\"过滤高线粒体比例spots后: {adata_merged.n_obs} spots\")\n",
    "    \n",
    "    # --- 【修改点 1: 加强基因过滤】 ---\n",
    "    # 对于百万级spot数据集，过滤掉在极少数spot中表达的基因\n",
    "    min_cells_threshold = int(adata_merged.n_obs * 0.0005) # 至少在 0.05% 的 spot 中表达\n",
    "    print(f\"增强过滤: 基因必须在至少 {min_cells_threshold} 个 spots 中表达。\")\n",
    "    sc.pp.filter_genes(adata_merged, min_cells=min_cells_threshold)\n",
    "    print(f\"过滤低表达基因后: {adata_merged.n_vars} genes\")\n",
    "    \n",
    "    print(\"进行标准化和对数变换...\")\n",
    "    sc.pp.normalize_total(adata_merged, target_sum=1e4)\n",
    "    sc.pp.log1p(adata_merged)\n",
    "    \n",
    "    # --- 【修改点 2: 使用更稳健的HVG计算方法】 ---\n",
    "    print(\"计算高变基因 (使用 'seurat_v3' flavor)...\")\n",
    "    sc.pp.highly_variable_genes(\n",
    "        adata_merged, \n",
    "        n_top_genes=n_top_genes, \n",
    "        batch_key=batch_key, \n",
    "        flavor='seurat_v3'  # 使用更稳健的方法\n",
    "    )\n",
    "    \n",
    "    hvg_list = adata_merged.var.index[adata_merged.var['highly_variable']]\n",
    "    \n",
    "    os.makedirs(sentence_output_basedir_hvg, exist_ok=True)\n",
    "    hvg_file_path = os.path.join(sentence_output_basedir_hvg, \"global_hvgs.txt\")\n",
    "    with open(hvg_file_path, 'w') as f:\n",
    "        for gene in hvg_list:\n",
    "            f.write(f\"{gene}\\n\")\n",
    "    \n",
    "    print(f\"质量控制完成! 最终: {adata_merged.n_obs} spots, {adata_merged.n_vars} genes\")\n",
    "    print(f\"成功识别出 {len(hvg_list)} 个全局高变基因。\")\n",
    "    print(f\"HVG列表已保存至: {hvg_file_path}\")\n",
    "    \n",
    "    return hvg_list"
   ]
  },
  {
   "cell_type": "code",
   "execution_count": 3,
   "id": "1825b40b",
   "metadata": {},
   "outputs": [],
   "source": [
    "def anndata_to_sentence_files_hvg(\n",
    "    sample,\n",
    "    hvg_list: pd.Index,\n",
    "    output_basedir: str,\n",
    "    n_top_genes_in_sentence: int = 50\n",
    "):\n",
    "    \"\"\"\n",
    "    为单个HESTSample对象的所有spots生成独立的基因句子文件，但仅限于HVG。\n",
    "\n",
    "    参数:\n",
    "        sample (HESTSample): 要处理的样本对象。\n",
    "        hvg_list (pd.Index): 全局高变基因列表。\n",
    "        output_basedir (str): 保存所有句子文件夹的根目录。\n",
    "        n_top_genes_in_sentence (int): 每个句子包含的基因数量。\n",
    "    \"\"\"\n",
    "    # 为当前样本创建独立的输出目录\n",
    "    sample_sentence_dir = os.path.join(output_basedir, f\"{sample.sample_id}_sentences_hvg\")\n",
    "    os.makedirs(sample_sentence_dir, exist_ok=True)\n",
    "    \n",
    "    adata = sample.adata\n",
    "    \n",
    "    # 筛选AnnData，使其只包含高变基因，这样可以大大加速后续处理\n",
    "    # .copy() 是为了避免修改原始adata对象\n",
    "    adata_hvg = adata[:, adata.var_names.isin(hvg_list)].copy()\n",
    "    \n",
    "    if adata_hvg.n_vars == 0:\n",
    "        print(f\"警告: 样本 {sample.sample_id} 中没有找到任何全局HVGs，已跳过。\")\n",
    "        return\n",
    "\n",
    "    obs_df = adata_hvg.obs.copy()\n",
    "    gene_names_hvg = adata_hvg.var_names.to_numpy()\n",
    "    \n",
    "    # 检查并获取坐标\n",
    "    if 'pxl_col_in_fullres' not in obs_df.columns or 'pxl_row_in_fullres' not in obs_df.columns:\n",
    "        obs_df['pxl_col_in_fullres'] = adata_hvg.obsm['spatial'][:, 0]\n",
    "        obs_df['pxl_row_in_fullres'] = adata_hvg.obsm['spatial'][:, 1]\n",
    "        \n",
    "    # 遍历每个spot并生成文件\n",
    "    for i in tqdm(range(adata_hvg.n_obs), desc=f\"处理 {sample.sample_id} (HVG)\", leave=False):\n",
    "        spot_info = obs_df.iloc[i]\n",
    "        row_coord = int(round(spot_info['pxl_row_in_fullres']))\n",
    "        col_coord = int(round(spot_info['pxl_col_in_fullres']))\n",
    "        sentence_filename = os.path.join(sample_sentence_dir, f\"{sample.sample_id}_{row_coord}_{col_coord}.txt\")\n",
    "        \n",
    "        if os.path.exists(sentence_filename):\n",
    "            continue\n",
    "\n",
    "        # 获取当前spot在HVG子集上的表达向量\n",
    "        expression_vector = adata_hvg.X[i].toarray().flatten() if issparse(adata_hvg.X) else np.array(adata_hvg.X[i]).flatten()\n",
    "            \n",
    "        # 在HVG子集内排序\n",
    "        sorted_indices_hvg = np.argsort(expression_vector)[-1::-1]\n",
    "        \n",
    "        # 选择前 N 个基因（现在无需过滤管家基因，因为它们大概率不是HVG）\n",
    "        top_genes = gene_names_hvg[sorted_indices_hvg[:n_top_genes_in_sentence]]\n",
    "        \n",
    "        # 写入文件\n",
    "        with open(sentence_filename, 'w') as f:\n",
    "            f.write(\" \".join(top_genes))"
   ]
  },
  {
   "cell_type": "code",
   "execution_count": 4,
   "id": "3053bb5f",
   "metadata": {},
   "outputs": [
    {
     "name": "stdout",
     "output_type": "stream",
     "text": [
      "初始化HEST数据集管理器...\n",
      "找到 649 个样本待处理。\n",
      "--------------------------------------------------\n"
     ]
    }
   ],
   "source": [
    "# --- 1. 设置和数据加载 ---\n",
    "data_dir = \"/cwStorage/nodecw_group/jijh/hest_1k\"\n",
    "# 新的输出目录，以区分\n",
    "sentence_output_basedir_hvg = \"/cwStorage/nodecw_group/jijh/hest_sentences_human_all/\"\n",
    "\n",
    "print(\"初始化HEST数据集管理器...\")\n",
    "dataset = HESTDataset(data_dir=data_dir)\n",
    "brain_samples = dataset.get_samples(species=\"Homo sapiens\")\n",
    "print(f\"找到 {len(brain_samples)} 个样本待处理。\")\n",
    "print(\"-\" * 50)\n"
   ]
  },
  {
   "cell_type": "code",
   "execution_count": 5,
   "id": "12586302",
   "metadata": {},
   "outputs": [
    {
     "data": {
      "application/vnd.jupyter.widget-view+json": {
       "model_id": "372688f1ed4a4d51a483ad200ef7e740",
       "version_major": 2,
       "version_minor": 0
      },
      "text/plain": [
       "检查基因名重复:   0%|          | 0/649 [00:00<?, ?it/s]"
      ]
     },
     "metadata": {},
     "output_type": "display_data"
    },
    {
     "name": "stderr",
     "output_type": "stream",
     "text": [
      "/public/home/jijh/micromamba/envs/imgprocess/lib/python3.12/site-packages/anndata/_core/anndata.py:1758: UserWarning: Variable names are not unique. To make them unique, call `.var_names_make_unique`.\n",
      "  utils.warn_names_duplicates(\"var\")\n",
      "/public/home/jijh/micromamba/envs/imgprocess/lib/python3.12/site-packages/anndata/_core/anndata.py:1758: UserWarning: Variable names are not unique. To make them unique, call `.var_names_make_unique`.\n",
      "  utils.warn_names_duplicates(\"var\")\n",
      "/public/home/jijh/micromamba/envs/imgprocess/lib/python3.12/site-packages/anndata/_core/anndata.py:1758: UserWarning: Variable names are not unique. To make them unique, call `.var_names_make_unique`.\n",
      "  utils.warn_names_duplicates(\"var\")\n",
      "/public/home/jijh/micromamba/envs/imgprocess/lib/python3.12/site-packages/anndata/_core/anndata.py:1758: UserWarning: Variable names are not unique. To make them unique, call `.var_names_make_unique`.\n",
      "  utils.warn_names_duplicates(\"var\")\n"
     ]
    },
    {
     "name": "stdout",
     "output_type": "stream",
     "text": [
      "\n",
      "⚠️ 样本 TENX156 中共有 3 个重复基因名：\n",
      "  - 基因 'TMSB15B' 出现 2 次，位置索引: [17777, 17780]\n",
      "  - 基因 'TBCE' 出现 2 次，位置索引: [1793, 1794]\n",
      "  - 基因 'HSPA14' 出现 2 次，位置索引: [8683, 8684]\n",
      "  完整重复基因列表:\n",
      "    - TBCE (出现2次)\n",
      "    - HSPA14 (出现2次)\n",
      "    - TMSB15B (出现2次)\n",
      "\n",
      "⚠️ 样本 TENX155 中共有 3 个重复基因名：\n",
      "  - 基因 'TBCE' 出现 2 次，位置索引: [1793, 1794]\n",
      "  - 基因 'TMSB15B' 出现 2 次，位置索引: [17777, 17780]\n",
      "  - 基因 'HSPA14' 出现 2 次，位置索引: [8683, 8684]\n",
      "  完整重复基因列表:\n",
      "    - TBCE (出现2次)\n",
      "    - HSPA14 (出现2次)\n",
      "    - TMSB15B (出现2次)\n",
      "\n",
      "⚠️ 样本 TENX154 中共有 3 个重复基因名：\n",
      "  - 基因 'HSPA14' 出现 2 次，位置索引: [8683, 8684]\n",
      "  - 基因 'TBCE' 出现 2 次，位置索引: [1793, 1794]\n",
      "  - 基因 'TMSB15B' 出现 2 次，位置索引: [17777, 17780]\n",
      "  完整重复基因列表:\n",
      "    - TBCE (出现2次)\n",
      "    - HSPA14 (出现2次)\n",
      "    - TMSB15B (出现2次)\n",
      "\n",
      "⚠️ 样本 TENX153 中共有 3 个重复基因名：\n",
      "  - 基因 'TMSB15B' 出现 2 次，位置索引: [17777, 17780]\n",
      "  - 基因 'TBCE' 出现 2 次，位置索引: [1793, 1794]\n",
      "  - 基因 'HSPA14' 出现 2 次，位置索引: [8683, 8684]\n",
      "  完整重复基因列表:\n",
      "    - TBCE (出现2次)\n",
      "    - HSPA14 (出现2次)\n",
      "    - TMSB15B (出现2次)\n"
     ]
    },
    {
     "name": "stderr",
     "output_type": "stream",
     "text": [
      "/public/home/jijh/micromamba/envs/imgprocess/lib/python3.12/site-packages/anndata/_core/anndata.py:1758: UserWarning: Variable names are not unique. To make them unique, call `.var_names_make_unique`.\n",
      "  utils.warn_names_duplicates(\"var\")\n"
     ]
    },
    {
     "name": "stdout",
     "output_type": "stream",
     "text": [
      "\n",
      "⚠️ 样本 TENX144 中共有 3 个重复基因名：\n",
      "  - 基因 'HSPA14' 出现 2 次，位置索引: [8683, 8684]\n",
      "  - 基因 'TMSB15B' 出现 2 次，位置索引: [17777, 17780]\n",
      "  - 基因 'TBCE' 出现 2 次，位置索引: [1793, 1794]\n",
      "  完整重复基因列表:\n",
      "    - TBCE (出现2次)\n",
      "    - HSPA14 (出现2次)\n",
      "    - TMSB15B (出现2次)\n"
     ]
    },
    {
     "ename": "KeyboardInterrupt",
     "evalue": "",
     "output_type": "error",
     "traceback": [
      "\u001b[31m---------------------------------------------------------------------------\u001b[39m",
      "\u001b[31mKeyboardInterrupt\u001b[39m                         Traceback (most recent call last)",
      "\u001b[36mCell\u001b[39m\u001b[36m \u001b[39m\u001b[32mIn[5]\u001b[39m\u001b[32m, line 60\u001b[39m\n\u001b[32m     57\u001b[39m         \u001b[38;5;28mprint\u001b[39m(\u001b[33m\"\u001b[39m\u001b[33m✅ 在所有样本内部均未发现重复的 var_names。\u001b[39m\u001b[33m\"\u001b[39m)\n\u001b[32m     59\u001b[39m \u001b[38;5;66;03m# 执行检查\u001b[39;00m\n\u001b[32m---> \u001b[39m\u001b[32m60\u001b[39m \u001b[43mreport_varname_duplicates\u001b[49m\u001b[43m(\u001b[49m\u001b[43mbrain_samples\u001b[49m\u001b[43m)\u001b[49m\n",
      "\u001b[36mCell\u001b[39m\u001b[36m \u001b[39m\u001b[32mIn[5]\u001b[39m\u001b[32m, line 15\u001b[39m, in \u001b[36mreport_varname_duplicates\u001b[39m\u001b[34m(samples)\u001b[39m\n\u001b[32m     12\u001b[39m \u001b[38;5;28;01mfor\u001b[39;00m sample \u001b[38;5;129;01min\u001b[39;00m tqdm(samples, desc=\u001b[33m\"\u001b[39m\u001b[33m检查基因名重复\u001b[39m\u001b[33m\"\u001b[39m):\n\u001b[32m     13\u001b[39m     \u001b[38;5;66;03m# 确保数据已加载\u001b[39;00m\n\u001b[32m     14\u001b[39m     \u001b[38;5;28;01mif\u001b[39;00m sample.adata \u001b[38;5;129;01mis\u001b[39;00m \u001b[38;5;28;01mNone\u001b[39;00m:\n\u001b[32m---> \u001b[39m\u001b[32m15\u001b[39m         \u001b[43msample\u001b[49m\u001b[43m.\u001b[49m\u001b[43mload_st_data\u001b[49m\u001b[43m(\u001b[49m\u001b[43mlazy\u001b[49m\u001b[43m=\u001b[49m\u001b[38;5;28;43;01mTrue\u001b[39;49;00m\u001b[43m)\u001b[49m\n\u001b[32m     16\u001b[39m     adata = sample.adata\n\u001b[32m     17\u001b[39m     \u001b[38;5;28;01mif\u001b[39;00m adata \u001b[38;5;129;01mis\u001b[39;00m \u001b[38;5;28;01mNone\u001b[39;00m:\n",
      "\u001b[36mFile \u001b[39m\u001b[32m/public/home/jijh/diffusion_project/ADiffusion/src/pipeline/hest_loading.py:105\u001b[39m, in \u001b[36mHESTSample.load_st_data\u001b[39m\u001b[34m(self, lazy)\u001b[39m\n\u001b[32m    103\u001b[39m \u001b[38;5;28;01mtry\u001b[39;00m:\n\u001b[32m    104\u001b[39m     \u001b[38;5;28;01mif\u001b[39;00m lazy:\n\u001b[32m--> \u001b[39m\u001b[32m105\u001b[39m         \u001b[38;5;28mself\u001b[39m.adata = \u001b[43msc\u001b[49m\u001b[43m.\u001b[49m\u001b[43mread_h5ad\u001b[49m\u001b[43m(\u001b[49m\u001b[38;5;28;43mself\u001b[39;49m\u001b[43m.\u001b[49m\u001b[43mst_path\u001b[49m\u001b[43m,\u001b[49m\u001b[43m \u001b[49m\u001b[43mbacked\u001b[49m\u001b[43m=\u001b[49m\u001b[33;43m'\u001b[39;49m\u001b[33;43mr\u001b[39;49m\u001b[33;43m'\u001b[39;49m\u001b[43m)\u001b[49m\n\u001b[32m    106\u001b[39m     \u001b[38;5;28;01melse\u001b[39;00m:\n\u001b[32m    107\u001b[39m         \u001b[38;5;28mself\u001b[39m.adata = sc.read_h5ad(\u001b[38;5;28mself\u001b[39m.st_path)\n",
      "\u001b[36mFile \u001b[39m\u001b[32m/public/home/jijh/micromamba/envs/imgprocess/lib/python3.12/site-packages/anndata/_io/h5ad.py:219\u001b[39m, in \u001b[36mread_h5ad\u001b[39m\u001b[34m(filename, backed, as_sparse, as_sparse_fmt, chunk_size)\u001b[39m\n\u001b[32m    217\u001b[39m         mode = \u001b[33m\"\u001b[39m\u001b[33mr+\u001b[39m\u001b[33m\"\u001b[39m\n\u001b[32m    218\u001b[39m     \u001b[38;5;28;01massert\u001b[39;00m mode \u001b[38;5;129;01min\u001b[39;00m {\u001b[33m\"\u001b[39m\u001b[33mr\u001b[39m\u001b[33m\"\u001b[39m, \u001b[33m\"\u001b[39m\u001b[33mr+\u001b[39m\u001b[33m\"\u001b[39m}\n\u001b[32m--> \u001b[39m\u001b[32m219\u001b[39m     \u001b[38;5;28;01mreturn\u001b[39;00m \u001b[43mread_h5ad_backed\u001b[49m\u001b[43m(\u001b[49m\u001b[43mfilename\u001b[49m\u001b[43m,\u001b[49m\u001b[43m \u001b[49m\u001b[43mmode\u001b[49m\u001b[43m)\u001b[49m\n\u001b[32m    221\u001b[39m \u001b[38;5;28;01mif\u001b[39;00m as_sparse_fmt \u001b[38;5;129;01mnot\u001b[39;00m \u001b[38;5;129;01min\u001b[39;00m (sparse.csr_matrix, sparse.csc_matrix):\n\u001b[32m    222\u001b[39m     msg = \u001b[33m\"\u001b[39m\u001b[33mDense formats can only be read to CSR or CSC matrices at this time.\u001b[39m\u001b[33m\"\u001b[39m\n",
      "\u001b[36mFile \u001b[39m\u001b[32m/public/home/jijh/micromamba/envs/imgprocess/lib/python3.12/site-packages/anndata/_io/h5ad.py:162\u001b[39m, in \u001b[36mread_h5ad_backed\u001b[39m\u001b[34m(filename, mode)\u001b[39m\n\u001b[32m    159\u001b[39m         \u001b[38;5;28;01mif\u001b[39;00m k \u001b[38;5;129;01min\u001b[39;00m f:  \u001b[38;5;66;03m# Backwards compat\u001b[39;00m\n\u001b[32m    160\u001b[39m             d[k] = read_dataframe(f[k])\n\u001b[32m--> \u001b[39m\u001b[32m162\u001b[39m d.update({k: \u001b[43mread_elem\u001b[49m\u001b[43m(\u001b[49m\u001b[43mf\u001b[49m\u001b[43m[\u001b[49m\u001b[43mk\u001b[49m\u001b[43m]\u001b[49m\u001b[43m)\u001b[49m \u001b[38;5;28;01mfor\u001b[39;00m k \u001b[38;5;129;01min\u001b[39;00m attributes \u001b[38;5;28;01mif\u001b[39;00m k \u001b[38;5;129;01min\u001b[39;00m f})\n\u001b[32m    164\u001b[39m d[\u001b[33m\"\u001b[39m\u001b[33mraw\u001b[39m\u001b[33m\"\u001b[39m] = _read_raw(f, attrs={\u001b[33m\"\u001b[39m\u001b[33mvar\u001b[39m\u001b[33m\"\u001b[39m, \u001b[33m\"\u001b[39m\u001b[33mvarm\u001b[39m\u001b[33m\"\u001b[39m})\n\u001b[32m    166\u001b[39m adata = AnnData(**d)\n",
      "\u001b[36mFile \u001b[39m\u001b[32m/public/home/jijh/micromamba/envs/imgprocess/lib/python3.12/site-packages/anndata/_io/specs/registry.py:377\u001b[39m, in \u001b[36mread_elem\u001b[39m\u001b[34m(elem)\u001b[39m\n\u001b[32m    365\u001b[39m \u001b[38;5;28;01mdef\u001b[39;00m\u001b[38;5;250m \u001b[39m\u001b[34mread_elem\u001b[39m(elem: StorageType) -> RWAble:\n\u001b[32m    366\u001b[39m \u001b[38;5;250m    \u001b[39m\u001b[33;03m\"\"\"\u001b[39;00m\n\u001b[32m    367\u001b[39m \u001b[33;03m    Read an element from a store.\u001b[39;00m\n\u001b[32m    368\u001b[39m \n\u001b[32m   (...)\u001b[39m\u001b[32m    375\u001b[39m \u001b[33;03m        The stored element.\u001b[39;00m\n\u001b[32m    376\u001b[39m \u001b[33;03m    \"\"\"\u001b[39;00m\n\u001b[32m--> \u001b[39m\u001b[32m377\u001b[39m     \u001b[38;5;28;01mreturn\u001b[39;00m \u001b[43mReader\u001b[49m\u001b[43m(\u001b[49m\u001b[43m_REGISTRY\u001b[49m\u001b[43m)\u001b[49m\u001b[43m.\u001b[49m\u001b[43mread_elem\u001b[49m\u001b[43m(\u001b[49m\u001b[43melem\u001b[49m\u001b[43m)\u001b[49m\n",
      "\u001b[36mFile \u001b[39m\u001b[32m/public/home/jijh/micromamba/envs/imgprocess/lib/python3.12/site-packages/anndata/_io/utils.py:215\u001b[39m, in \u001b[36mreport_read_key_on_error.<locals>.func_wrapper\u001b[39m\u001b[34m(*args, **kwargs)\u001b[39m\n\u001b[32m    213\u001b[39m     \u001b[38;5;28;01mraise\u001b[39;00m \u001b[38;5;167;01mValueError\u001b[39;00m(msg)\n\u001b[32m    214\u001b[39m \u001b[38;5;28;01mtry\u001b[39;00m:\n\u001b[32m--> \u001b[39m\u001b[32m215\u001b[39m     \u001b[38;5;28;01mreturn\u001b[39;00m \u001b[43mfunc\u001b[49m\u001b[43m(\u001b[49m\u001b[43m*\u001b[49m\u001b[43margs\u001b[49m\u001b[43m,\u001b[49m\u001b[43m \u001b[49m\u001b[43m*\u001b[49m\u001b[43m*\u001b[49m\u001b[43mkwargs\u001b[49m\u001b[43m)\u001b[49m\n\u001b[32m    216\u001b[39m \u001b[38;5;28;01mexcept\u001b[39;00m \u001b[38;5;167;01mException\u001b[39;00m \u001b[38;5;28;01mas\u001b[39;00m e:\n\u001b[32m    217\u001b[39m     path, key = _get_display_path(store).rsplit(\u001b[33m\"\u001b[39m\u001b[33m/\u001b[39m\u001b[33m\"\u001b[39m, \u001b[32m1\u001b[39m)\n",
      "\u001b[36mFile \u001b[39m\u001b[32m/public/home/jijh/micromamba/envs/imgprocess/lib/python3.12/site-packages/anndata/_io/specs/registry.py:280\u001b[39m, in \u001b[36mReader.read_elem\u001b[39m\u001b[34m(self, elem, modifiers)\u001b[39m\n\u001b[32m    276\u001b[39m read_func: Read = \u001b[38;5;28mself\u001b[39m.registry.get_read(\n\u001b[32m    277\u001b[39m     \u001b[38;5;28mtype\u001b[39m(elem), iospec, modifiers, reader=\u001b[38;5;28mself\u001b[39m\n\u001b[32m    278\u001b[39m )\n\u001b[32m    279\u001b[39m \u001b[38;5;28;01mif\u001b[39;00m \u001b[38;5;28mself\u001b[39m.callback \u001b[38;5;129;01mis\u001b[39;00m \u001b[38;5;28;01mNone\u001b[39;00m:\n\u001b[32m--> \u001b[39m\u001b[32m280\u001b[39m     \u001b[38;5;28;01mreturn\u001b[39;00m \u001b[43mread_func\u001b[49m\u001b[43m(\u001b[49m\u001b[43melem\u001b[49m\u001b[43m)\u001b[49m\n\u001b[32m    281\u001b[39m \u001b[38;5;28;01mreturn\u001b[39;00m \u001b[38;5;28mself\u001b[39m.callback(read_func, elem.name, elem, iospec=iospec)\n",
      "\u001b[36mFile \u001b[39m\u001b[32m/public/home/jijh/micromamba/envs/imgprocess/lib/python3.12/site-packages/anndata/_io/specs/methods.py:337\u001b[39m, in \u001b[36mread_mapping\u001b[39m\u001b[34m(elem, _reader)\u001b[39m\n\u001b[32m    334\u001b[39m \u001b[38;5;129m@_REGISTRY\u001b[39m.register_read(H5Group, IOSpec(\u001b[33m\"\u001b[39m\u001b[33mdict\u001b[39m\u001b[33m\"\u001b[39m, \u001b[33m\"\u001b[39m\u001b[33m0.1.0\u001b[39m\u001b[33m\"\u001b[39m))\n\u001b[32m    335\u001b[39m \u001b[38;5;129m@_REGISTRY\u001b[39m.register_read(ZarrGroup, IOSpec(\u001b[33m\"\u001b[39m\u001b[33mdict\u001b[39m\u001b[33m\"\u001b[39m, \u001b[33m\"\u001b[39m\u001b[33m0.1.0\u001b[39m\u001b[33m\"\u001b[39m))\n\u001b[32m    336\u001b[39m \u001b[38;5;28;01mdef\u001b[39;00m\u001b[38;5;250m \u001b[39m\u001b[34mread_mapping\u001b[39m(elem: GroupStorageType, *, _reader: Reader) -> \u001b[38;5;28mdict\u001b[39m[\u001b[38;5;28mstr\u001b[39m, AxisStorable]:\n\u001b[32m--> \u001b[39m\u001b[32m337\u001b[39m     \u001b[38;5;28;01mreturn\u001b[39;00m {k: \u001b[43m_reader\u001b[49m\u001b[43m.\u001b[49m\u001b[43mread_elem\u001b[49m\u001b[43m(\u001b[49m\u001b[43mv\u001b[49m\u001b[43m)\u001b[49m \u001b[38;5;28;01mfor\u001b[39;00m k, v \u001b[38;5;129;01min\u001b[39;00m elem.items()}\n",
      "\u001b[36mFile \u001b[39m\u001b[32m/public/home/jijh/micromamba/envs/imgprocess/lib/python3.12/site-packages/anndata/_io/utils.py:215\u001b[39m, in \u001b[36mreport_read_key_on_error.<locals>.func_wrapper\u001b[39m\u001b[34m(*args, **kwargs)\u001b[39m\n\u001b[32m    213\u001b[39m     \u001b[38;5;28;01mraise\u001b[39;00m \u001b[38;5;167;01mValueError\u001b[39;00m(msg)\n\u001b[32m    214\u001b[39m \u001b[38;5;28;01mtry\u001b[39;00m:\n\u001b[32m--> \u001b[39m\u001b[32m215\u001b[39m     \u001b[38;5;28;01mreturn\u001b[39;00m \u001b[43mfunc\u001b[49m\u001b[43m(\u001b[49m\u001b[43m*\u001b[49m\u001b[43margs\u001b[49m\u001b[43m,\u001b[49m\u001b[43m \u001b[49m\u001b[43m*\u001b[49m\u001b[43m*\u001b[49m\u001b[43mkwargs\u001b[49m\u001b[43m)\u001b[49m\n\u001b[32m    216\u001b[39m \u001b[38;5;28;01mexcept\u001b[39;00m \u001b[38;5;167;01mException\u001b[39;00m \u001b[38;5;28;01mas\u001b[39;00m e:\n\u001b[32m    217\u001b[39m     path, key = _get_display_path(store).rsplit(\u001b[33m\"\u001b[39m\u001b[33m/\u001b[39m\u001b[33m\"\u001b[39m, \u001b[32m1\u001b[39m)\n",
      "\u001b[36mFile \u001b[39m\u001b[32m/public/home/jijh/micromamba/envs/imgprocess/lib/python3.12/site-packages/anndata/_io/specs/registry.py:280\u001b[39m, in \u001b[36mReader.read_elem\u001b[39m\u001b[34m(self, elem, modifiers)\u001b[39m\n\u001b[32m    276\u001b[39m read_func: Read = \u001b[38;5;28mself\u001b[39m.registry.get_read(\n\u001b[32m    277\u001b[39m     \u001b[38;5;28mtype\u001b[39m(elem), iospec, modifiers, reader=\u001b[38;5;28mself\u001b[39m\n\u001b[32m    278\u001b[39m )\n\u001b[32m    279\u001b[39m \u001b[38;5;28;01mif\u001b[39;00m \u001b[38;5;28mself\u001b[39m.callback \u001b[38;5;129;01mis\u001b[39;00m \u001b[38;5;28;01mNone\u001b[39;00m:\n\u001b[32m--> \u001b[39m\u001b[32m280\u001b[39m     \u001b[38;5;28;01mreturn\u001b[39;00m \u001b[43mread_func\u001b[49m\u001b[43m(\u001b[49m\u001b[43melem\u001b[49m\u001b[43m)\u001b[49m\n\u001b[32m    281\u001b[39m \u001b[38;5;28;01mreturn\u001b[39;00m \u001b[38;5;28mself\u001b[39m.callback(read_func, elem.name, elem, iospec=iospec)\n",
      "\u001b[36mFile \u001b[39m\u001b[32m/public/home/jijh/micromamba/envs/imgprocess/lib/python3.12/site-packages/anndata/_io/specs/methods.py:927\u001b[39m, in \u001b[36mread_dataframe\u001b[39m\u001b[34m(elem, _reader)\u001b[39m\n\u001b[32m    924\u001b[39m columns = \u001b[38;5;28mlist\u001b[39m(_read_attr(elem.attrs, \u001b[33m\"\u001b[39m\u001b[33mcolumn-order\u001b[39m\u001b[33m\"\u001b[39m))\n\u001b[32m    925\u001b[39m idx_key = _read_attr(elem.attrs, \u001b[33m\"\u001b[39m\u001b[33m_index\u001b[39m\u001b[33m\"\u001b[39m)\n\u001b[32m    926\u001b[39m df = pd.DataFrame(\n\u001b[32m--> \u001b[39m\u001b[32m927\u001b[39m     {k: _reader.read_elem(\u001b[43melem\u001b[49m\u001b[43m[\u001b[49m\u001b[43mk\u001b[49m\u001b[43m]\u001b[49m) \u001b[38;5;28;01mfor\u001b[39;00m k \u001b[38;5;129;01min\u001b[39;00m columns},\n\u001b[32m    928\u001b[39m     index=_reader.read_elem(elem[idx_key]),\n\u001b[32m    929\u001b[39m     columns=columns \u001b[38;5;28;01mif\u001b[39;00m \u001b[38;5;28mlen\u001b[39m(columns) \u001b[38;5;28;01melse\u001b[39;00m \u001b[38;5;28;01mNone\u001b[39;00m,\n\u001b[32m    930\u001b[39m )\n\u001b[32m    931\u001b[39m \u001b[38;5;28;01mif\u001b[39;00m idx_key != \u001b[33m\"\u001b[39m\u001b[33m_index\u001b[39m\u001b[33m\"\u001b[39m:\n\u001b[32m    932\u001b[39m     df.index.name = idx_key\n",
      "\u001b[36mFile \u001b[39m\u001b[32mh5py/_objects.pyx:56\u001b[39m, in \u001b[36mh5py._objects.with_phil.wrapper\u001b[39m\u001b[34m()\u001b[39m\n",
      "\u001b[36mFile \u001b[39m\u001b[32mh5py/_objects.pyx:57\u001b[39m, in \u001b[36mh5py._objects.with_phil.wrapper\u001b[39m\u001b[34m()\u001b[39m\n",
      "\u001b[36mFile \u001b[39m\u001b[32m/public/home/jijh/micromamba/envs/imgprocess/lib/python3.12/site-packages/h5py/_hl/group.py:369\u001b[39m, in \u001b[36mGroup.__getitem__\u001b[39m\u001b[34m(self, name)\u001b[39m\n\u001b[32m    367\u001b[39m     \u001b[38;5;28;01mreturn\u001b[39;00m Group(oid)\n\u001b[32m    368\u001b[39m \u001b[38;5;28;01melif\u001b[39;00m otype == h5i.DATASET:\n\u001b[32m--> \u001b[39m\u001b[32m369\u001b[39m     \u001b[38;5;28;01mreturn\u001b[39;00m dataset.Dataset(oid, readonly=(\u001b[38;5;28;43mself\u001b[39;49m\u001b[43m.\u001b[49m\u001b[43mfile\u001b[49m.mode == \u001b[33m'\u001b[39m\u001b[33mr\u001b[39m\u001b[33m'\u001b[39m))\n\u001b[32m    370\u001b[39m \u001b[38;5;28;01melif\u001b[39;00m otype == h5i.DATATYPE:\n\u001b[32m    371\u001b[39m     \u001b[38;5;28;01mreturn\u001b[39;00m datatype.Datatype(oid)\n",
      "\u001b[36mFile \u001b[39m\u001b[32m/public/home/jijh/micromamba/envs/imgprocess/lib/python3.12/site-packages/h5py/_hl/base.py:286\u001b[39m, in \u001b[36mHLObject.file\u001b[39m\u001b[34m(self)\u001b[39m\n\u001b[32m    284\u001b[39m \u001b[38;5;28;01mfrom\u001b[39;00m\u001b[38;5;250m \u001b[39m\u001b[34;01m.\u001b[39;00m\u001b[38;5;250m \u001b[39m\u001b[38;5;28;01mimport\u001b[39;00m files\n\u001b[32m    285\u001b[39m \u001b[38;5;28;01mwith\u001b[39;00m phil:\n\u001b[32m--> \u001b[39m\u001b[32m286\u001b[39m     \u001b[38;5;28;01mreturn\u001b[39;00m \u001b[43mfiles\u001b[49m\u001b[43m.\u001b[49m\u001b[43mFile\u001b[49m\u001b[43m(\u001b[49m\u001b[38;5;28;43mself\u001b[39;49m\u001b[43m.\u001b[49m\u001b[43mid\u001b[49m\u001b[43m)\u001b[49m\n",
      "\u001b[36mFile \u001b[39m\u001b[32m/public/home/jijh/micromamba/envs/imgprocess/lib/python3.12/site-packages/h5py/_hl/files.py:527\u001b[39m, in \u001b[36mFile.__init__\u001b[39m\u001b[34m(self, name, mode, driver, libver, userblock_size, swmr, rdcc_nslots, rdcc_nbytes, rdcc_w0, track_order, fs_strategy, fs_persist, fs_threshold, fs_page_size, page_buf_size, min_meta_keep, min_raw_keep, locking, alignment_threshold, alignment_interval, meta_block_size, **kwds)\u001b[39m\n\u001b[32m    524\u001b[39m         \u001b[38;5;28;01mraise\u001b[39;00m \u001b[38;5;167;01mValueError\u001b[39;00m(\u001b[33m\"\u001b[39m\u001b[33mUnable to set file space strategy of an existing file\u001b[39m\u001b[33m\"\u001b[39m)\n\u001b[32m    526\u001b[39m     \u001b[38;5;28;01mwith\u001b[39;00m phil:\n\u001b[32m--> \u001b[39m\u001b[32m527\u001b[39m         fid = \u001b[43mh5i\u001b[49m\u001b[43m.\u001b[49m\u001b[43mget_file_id\u001b[49m\u001b[43m(\u001b[49m\u001b[43mname\u001b[49m\u001b[43m)\u001b[49m\n\u001b[32m    528\u001b[39m \u001b[38;5;28;01melse\u001b[39;00m:\n\u001b[32m    529\u001b[39m     \u001b[38;5;28;01mif\u001b[39;00m \u001b[38;5;28mhasattr\u001b[39m(name, \u001b[33m'\u001b[39m\u001b[33mread\u001b[39m\u001b[33m'\u001b[39m) \u001b[38;5;129;01mand\u001b[39;00m \u001b[38;5;28mhasattr\u001b[39m(name, \u001b[33m'\u001b[39m\u001b[33mseek\u001b[39m\u001b[33m'\u001b[39m):\n",
      "\u001b[36mFile \u001b[39m\u001b[32mh5py/_objects.pyx:56\u001b[39m, in \u001b[36mh5py._objects.with_phil.wrapper\u001b[39m\u001b[34m()\u001b[39m\n",
      "\u001b[36mFile \u001b[39m\u001b[32mh5py/_objects.pyx:57\u001b[39m, in \u001b[36mh5py._objects.with_phil.wrapper\u001b[39m\u001b[34m()\u001b[39m\n",
      "\u001b[36mFile \u001b[39m\u001b[32mh5py/h5i.pyx:119\u001b[39m, in \u001b[36mh5py.h5i.get_file_id\u001b[39m\u001b[34m()\u001b[39m\n",
      "\u001b[36mFile \u001b[39m\u001b[32mh5py/h5g.pyx:281\u001b[39m, in \u001b[36mh5py.h5g.GroupID.__init__\u001b[39m\u001b[34m()\u001b[39m\n",
      "\u001b[36mFile \u001b[39m\u001b[32mh5py/h5g.pyx:282\u001b[39m, in \u001b[36mh5py.h5g.GroupID.__init__\u001b[39m\u001b[34m()\u001b[39m\n",
      "\u001b[36mFile \u001b[39m\u001b[32m<frozen importlib._bootstrap>:645\u001b[39m, in \u001b[36mparent\u001b[39m\u001b[34m(self)\u001b[39m\n",
      "\u001b[31mKeyboardInterrupt\u001b[39m: "
     ]
    }
   ],
   "source": [
    "from collections import Counter\n",
    "import random\n",
    "\n",
    "def report_varname_duplicates(samples):\n",
    "    \"\"\"\n",
    "    对每个 HESTSample 中的 AnnData，检查 var_names 内部的重复项并打印出来。\n",
    "    参数:\n",
    "        samples (list): HESTSample 对象列表，要求每个 sample.adata 已经加载。\n",
    "    \"\"\"\n",
    "    any_dup = False\n",
    "    \n",
    "    for sample in tqdm(samples, desc=\"检查基因名重复\"):\n",
    "        # 确保数据已加载\n",
    "        if sample.adata is None:\n",
    "            sample.load_st_data(lazy=True)\n",
    "        adata = sample.adata\n",
    "        if adata is None:\n",
    "            print(f\"[跳过] 样本 {sample.sample_id} 无法加载 AnnData。\")\n",
    "            continue\n",
    "\n",
    "        names = list(adata.var_names)\n",
    "        counts = Counter(names)\n",
    "        # 找出在同一个 AnnData 里出现超过一次的基因名\n",
    "        dups = [gene for gene, cnt in counts.items() if cnt > 1]\n",
    "        \n",
    "        if dups:\n",
    "            any_dup = True\n",
    "            print(f\"\\n⚠️ 样本 {sample.sample_id} 中共有 {len(dups)} 个重复基因名：\")\n",
    "            \n",
    "            # 分析重复原因 - 随机选择几个重复基因进行详细分析\n",
    "            sample_dups = random.sample(dups, min(3, len(dups)))\n",
    "            \n",
    "            for gene in sample_dups:\n",
    "                duplicate_count = counts[gene]\n",
    "                # 找到所有重复位置的索引\n",
    "                duplicate_indices = [i for i, name in enumerate(names) if name == gene]\n",
    "                \n",
    "                print(f\"  - 基因 '{gene}' 出现 {duplicate_count} 次，位置索引: {duplicate_indices}\")\n",
    "                \n",
    "                # 检查这些重复位置的基因信息是否相同\n",
    "                if hasattr(adata.var, 'gene_ids'):\n",
    "                    gene_ids = [adata.var.iloc[idx]['gene_ids'] if 'gene_ids' in adata.var.columns else 'N/A' for idx in duplicate_indices]\n",
    "                    print(f\"    对应的基因ID: {gene_ids}\")\n",
    "                    if len(set(gene_ids)) > 1:\n",
    "                        print(f\"    ⚠️ 相同基因名对应不同的基因ID - 这可能是基因别名问题\")\n",
    "                    else:\n",
    "                        print(f\"    ✓ 相同基因名对应相同的基因ID - 这可能是数据处理过程中的重复\")\n",
    "            \n",
    "            # 显示所有重复基因（如果列表太长，只显示前20个）\n",
    "            print(f\"  完整重复基因列表:\")\n",
    "            for g in dups[:20]:\n",
    "                print(f\"    - {g} (出现{counts[g]}次)\")\n",
    "            if len(dups) > 20:\n",
    "                print(f\"    ...（共 {len(dups)} 个重复基因，以上仅列出前 20 个）\")\n",
    "\n",
    "    if not any_dup:\n",
    "        print(\"✅ 在所有样本内部均未发现重复的 var_names。\")\n",
    "\n",
    "# 执行检查\n",
    "report_varname_duplicates(brain_samples)\n"
   ]
  },
  {
   "cell_type": "code",
   "execution_count": 8,
   "id": "c2e3af3c",
   "metadata": {},
   "outputs": [
    {
     "name": "stdout",
     "output_type": "stream",
     "text": [
      "开始合并所有样本以计算全局HVGs...\n"
     ]
    },
    {
     "data": {
      "application/vnd.jupyter.widget-view+json": {
       "model_id": "5af2aef7b04d4219853fcc8d330564d3",
       "version_major": 2,
       "version_minor": 0
      },
      "text/plain": [
       "加载并合并AnnData:   0%|          | 0/649 [00:00<?, ?it/s]"
      ]
     },
     "metadata": {},
     "output_type": "display_data"
    },
    {
     "name": "stderr",
     "output_type": "stream",
     "text": [
      "/public/home/jijh/micromamba/envs/imgprocess/lib/python3.12/site-packages/anndata/_core/anndata.py:1758: UserWarning: Variable names are not unique. To make them unique, call `.var_names_make_unique`.\n",
      "  utils.warn_names_duplicates(\"var\")\n"
     ]
    },
    {
     "name": "stdout",
     "output_type": "stream",
     "text": [
      "发现重复基因名，正在处理样本中的 3 个重复基因...\n",
      "发现重复基因名，正在处理样本中的 3 个重复基因...\n",
      "发现重复基因名，正在处理样本中的 3 个重复基因...\n",
      "发现重复基因名，正在处理样本中的 3 个重复基因...\n",
      "发现重复基因名，正在处理样本中的 3 个重复基因...\n",
      "发现重复基因名，正在处理样本中的 3 个重复基因...\n",
      "所有样本已合并。总尺寸: (1362726, 223541)\n",
      "开始进行SOTA质量控制和过滤...\n",
      "过滤前: 1362726 spots, 223541 genes\n",
      "过滤低表达基因数spots后: 1183467 spots\n",
      "过滤高线粒体比例spots后: 1144234 spots\n",
      "增强过滤: 基因必须在至少 572 个 spots 中表达。\n"
     ]
    },
    {
     "name": "stderr",
     "output_type": "stream",
     "text": [
      "/public/home/jijh/micromamba/envs/imgprocess/lib/python3.12/site-packages/scanpy/preprocessing/_simple.py:293: ImplicitModificationWarning: Trying to modify attribute `.var` of view, initializing view as actual.\n",
      "  adata.var[\"n_cells\"] = number\n"
     ]
    },
    {
     "name": "stdout",
     "output_type": "stream",
     "text": [
      "过滤低表达基因后: 56786 genes\n",
      "进行标准化和对数变换...\n",
      "计算高变基因 (使用 'cell_ranger' flavor)...\n"
     ]
    },
    {
     "ename": "ValueError",
     "evalue": "Bin edges must be unique: Index([               -inf, 0.16111868948504884,  0.1649173682665769,\n       0.16985546480562866, 0.17315772961015485, 0.17315772961015485,\n       0.18426108504645128,  0.1873063350542543, 0.19279586579764546,\n       0.19411118488957693,  0.2068762604079876, 0.20994393563809266,\n        0.2177609491730924,  0.2364327113644291, 0.35356484399580135,\n       0.37692686059190467, 0.40098744529756447,  0.5480210455120584,\n        0.7871120597506805,   5.160039545545681,                 inf],\n      dtype='float64').\nYou can drop duplicate edges by setting the 'duplicates' kwarg",
     "output_type": "error",
     "traceback": [
      "\u001b[31m---------------------------------------------------------------------------\u001b[39m",
      "\u001b[31mValueError\u001b[39m                                Traceback (most recent call last)",
      "\u001b[36mCell\u001b[39m\u001b[36m \u001b[39m\u001b[32mIn[8]\u001b[39m\u001b[32m, line 5\u001b[39m\n\u001b[32m      1\u001b[39m \u001b[38;5;66;03m# --- 2. 计算全局高变基因 (HVGs) ---\u001b[39;00m\n\u001b[32m      2\u001b[39m \u001b[38;5;66;03m# 这一步可能需要较长时间和较大内存，因为它会合并所有数据\u001b[39;00m\n\u001b[32m      3\u001b[39m \u001b[38;5;66;03m# 如果内存不足，可以考虑从每个样本中随机抽取一部分spots来构建合并的adata\u001b[39;00m\n\u001b[32m----> \u001b[39m\u001b[32m5\u001b[39m global_hvg_list = \u001b[43mcalculate_global_hvgs\u001b[49m\u001b[43m(\u001b[49m\n\u001b[32m      6\u001b[39m \u001b[43m    \u001b[49m\u001b[43msamples_to_process\u001b[49m\u001b[43m=\u001b[49m\u001b[43mbrain_samples\u001b[49m\u001b[43m,\u001b[49m\n\u001b[32m      7\u001b[39m \u001b[43m    \u001b[49m\u001b[43mn_top_genes\u001b[49m\u001b[43m=\u001b[49m\u001b[32;43m5000\u001b[39;49m\u001b[43m,\u001b[49m\u001b[43m \u001b[49m\u001b[38;5;66;43;03m# 选择3000个HVGs是一个常见的SOTA实践\u001b[39;49;00m\n\u001b[32m      8\u001b[39m \u001b[43m    \u001b[49m\u001b[43msentence_output_basedir_hvg\u001b[49m\u001b[43m=\u001b[49m\u001b[43msentence_output_basedir_hvg\u001b[49m\n\u001b[32m      9\u001b[39m \u001b[43m)\u001b[49m\n\u001b[32m     10\u001b[39m \u001b[38;5;28mprint\u001b[39m(\u001b[33m\"\u001b[39m\u001b[33m-\u001b[39m\u001b[33m\"\u001b[39m * \u001b[32m50\u001b[39m)\n",
      "\u001b[36mCell\u001b[39m\u001b[36m \u001b[39m\u001b[32mIn[7]\u001b[39m\u001b[32m, line 98\u001b[39m, in \u001b[36mcalculate_global_hvgs\u001b[39m\u001b[34m(samples_to_process, n_top_genes, batch_key, sentence_output_basedir_hvg)\u001b[39m\n\u001b[32m     96\u001b[39m \u001b[38;5;66;03m# --- 【修改点 2: 使用更稳健的HVG计算方法】 ---\u001b[39;00m\n\u001b[32m     97\u001b[39m \u001b[38;5;28mprint\u001b[39m(\u001b[33m\"\u001b[39m\u001b[33m计算高变基因 (使用 \u001b[39m\u001b[33m'\u001b[39m\u001b[33mcell_ranger\u001b[39m\u001b[33m'\u001b[39m\u001b[33m flavor)...\u001b[39m\u001b[33m\"\u001b[39m)\n\u001b[32m---> \u001b[39m\u001b[32m98\u001b[39m \u001b[43msc\u001b[49m\u001b[43m.\u001b[49m\u001b[43mpp\u001b[49m\u001b[43m.\u001b[49m\u001b[43mhighly_variable_genes\u001b[49m\u001b[43m(\u001b[49m\n\u001b[32m     99\u001b[39m \u001b[43m    \u001b[49m\u001b[43madata_merged\u001b[49m\u001b[43m,\u001b[49m\u001b[43m \u001b[49m\n\u001b[32m    100\u001b[39m \u001b[43m    \u001b[49m\u001b[43mn_top_genes\u001b[49m\u001b[43m=\u001b[49m\u001b[43mn_top_genes\u001b[49m\u001b[43m,\u001b[49m\u001b[43m \u001b[49m\n\u001b[32m    101\u001b[39m \u001b[43m    \u001b[49m\u001b[43mbatch_key\u001b[49m\u001b[43m=\u001b[49m\u001b[43mbatch_key\u001b[49m\u001b[43m,\u001b[49m\u001b[43m \u001b[49m\n\u001b[32m    102\u001b[39m \u001b[43m    \u001b[49m\u001b[43mflavor\u001b[49m\u001b[43m=\u001b[49m\u001b[33;43m'\u001b[39;49m\u001b[33;43mcell_ranger\u001b[39;49m\u001b[33;43m'\u001b[39;49m\u001b[43m  \u001b[49m\u001b[38;5;66;43;03m# 使用更稳健的方法\u001b[39;49;00m\n\u001b[32m    103\u001b[39m \u001b[43m\u001b[49m\u001b[43m)\u001b[49m\n\u001b[32m    105\u001b[39m hvg_list = adata_merged.var.index[adata_merged.var[\u001b[33m'\u001b[39m\u001b[33mhighly_variable\u001b[39m\u001b[33m'\u001b[39m]]\n\u001b[32m    107\u001b[39m os.makedirs(sentence_output_basedir_hvg, exist_ok=\u001b[38;5;28;01mTrue\u001b[39;00m)\n",
      "\u001b[36mFile \u001b[39m\u001b[32m/public/home/jijh/micromamba/envs/imgprocess/lib/python3.12/site-packages/legacy_api_wrap/__init__.py:82\u001b[39m, in \u001b[36mlegacy_api.<locals>.wrapper.<locals>.fn_compatible\u001b[39m\u001b[34m(*args_all, **kw)\u001b[39m\n\u001b[32m     79\u001b[39m \u001b[38;5;129m@wraps\u001b[39m(fn)\n\u001b[32m     80\u001b[39m \u001b[38;5;28;01mdef\u001b[39;00m\u001b[38;5;250m \u001b[39m\u001b[34mfn_compatible\u001b[39m(*args_all: P.args, **kw: P.kwargs) -> R:\n\u001b[32m     81\u001b[39m     \u001b[38;5;28;01mif\u001b[39;00m \u001b[38;5;28mlen\u001b[39m(args_all) <= n_positional:\n\u001b[32m---> \u001b[39m\u001b[32m82\u001b[39m         \u001b[38;5;28;01mreturn\u001b[39;00m \u001b[43mfn\u001b[49m\u001b[43m(\u001b[49m\u001b[43m*\u001b[49m\u001b[43margs_all\u001b[49m\u001b[43m,\u001b[49m\u001b[43m \u001b[49m\u001b[43m*\u001b[49m\u001b[43m*\u001b[49m\u001b[43mkw\u001b[49m\u001b[43m)\u001b[49m\n\u001b[32m     84\u001b[39m     args_pos: P.args\n\u001b[32m     85\u001b[39m     args_pos, args_rest = args_all[:n_positional], args_all[n_positional:]\n",
      "\u001b[36mFile \u001b[39m\u001b[32m/public/home/jijh/micromamba/envs/imgprocess/lib/python3.12/site-packages/scanpy/preprocessing/_highly_variable_genes.py:691\u001b[39m, in \u001b[36mhighly_variable_genes\u001b[39m\u001b[34m(***failed resolving arguments***)\u001b[39m\n\u001b[32m    687\u001b[39m     df = _highly_variable_genes_single_batch(\n\u001b[32m    688\u001b[39m         adata, layer=layer, cutoff=cutoff, n_bins=n_bins, flavor=flavor\n\u001b[32m    689\u001b[39m     )\n\u001b[32m    690\u001b[39m \u001b[38;5;28;01melse\u001b[39;00m:\n\u001b[32m--> \u001b[39m\u001b[32m691\u001b[39m     df = \u001b[43m_highly_variable_genes_batched\u001b[49m\u001b[43m(\u001b[49m\n\u001b[32m    692\u001b[39m \u001b[43m        \u001b[49m\u001b[43madata\u001b[49m\u001b[43m,\u001b[49m\u001b[43m \u001b[49m\u001b[43mbatch_key\u001b[49m\u001b[43m,\u001b[49m\u001b[43m \u001b[49m\u001b[43mlayer\u001b[49m\u001b[43m=\u001b[49m\u001b[43mlayer\u001b[49m\u001b[43m,\u001b[49m\u001b[43m \u001b[49m\u001b[43mcutoff\u001b[49m\u001b[43m=\u001b[49m\u001b[43mcutoff\u001b[49m\u001b[43m,\u001b[49m\u001b[43m \u001b[49m\u001b[43mn_bins\u001b[49m\u001b[43m=\u001b[49m\u001b[43mn_bins\u001b[49m\u001b[43m,\u001b[49m\u001b[43m \u001b[49m\u001b[43mflavor\u001b[49m\u001b[43m=\u001b[49m\u001b[43mflavor\u001b[49m\n\u001b[32m    693\u001b[39m \u001b[43m    \u001b[49m\u001b[43m)\u001b[49m\n\u001b[32m    695\u001b[39m logg.info(\u001b[33m\"\u001b[39m\u001b[33m    finished\u001b[39m\u001b[33m\"\u001b[39m, time=start)\n\u001b[32m    697\u001b[39m \u001b[38;5;28;01mif\u001b[39;00m \u001b[38;5;129;01mnot\u001b[39;00m inplace:\n",
      "\u001b[36mFile \u001b[39m\u001b[32m/public/home/jijh/micromamba/envs/imgprocess/lib/python3.12/site-packages/scanpy/preprocessing/_highly_variable_genes.py:457\u001b[39m, in \u001b[36m_highly_variable_genes_batched\u001b[39m\u001b[34m(adata, batch_key, layer, n_bins, flavor, cutoff)\u001b[39m\n\u001b[32m    447\u001b[39m     filt, _ = materialize_as_ndarray(\n\u001b[32m    448\u001b[39m         filter_genes(\n\u001b[32m    449\u001b[39m             _get_obs_rep(adata_subset, layer=layer),\n\u001b[32m   (...)\u001b[39m\u001b[32m    452\u001b[39m         )\n\u001b[32m    453\u001b[39m     )\n\u001b[32m    455\u001b[39m adata_subset = adata_subset[:, filt]\n\u001b[32m--> \u001b[39m\u001b[32m457\u001b[39m hvg = \u001b[43m_highly_variable_genes_single_batch\u001b[49m\u001b[43m(\u001b[49m\n\u001b[32m    458\u001b[39m \u001b[43m    \u001b[49m\u001b[43madata_subset\u001b[49m\u001b[43m,\u001b[49m\u001b[43m \u001b[49m\u001b[43mlayer\u001b[49m\u001b[43m=\u001b[49m\u001b[43mlayer\u001b[49m\u001b[43m,\u001b[49m\u001b[43m \u001b[49m\u001b[43mcutoff\u001b[49m\u001b[43m=\u001b[49m\u001b[43mcutoff\u001b[49m\u001b[43m,\u001b[49m\u001b[43m \u001b[49m\u001b[43mn_bins\u001b[49m\u001b[43m=\u001b[49m\u001b[43mn_bins\u001b[49m\u001b[43m,\u001b[49m\u001b[43m \u001b[49m\u001b[43mflavor\u001b[49m\u001b[43m=\u001b[49m\u001b[43mflavor\u001b[49m\n\u001b[32m    459\u001b[39m \u001b[43m\u001b[49m\u001b[43m)\u001b[49m\n\u001b[32m    460\u001b[39m hvg.reset_index(drop=\u001b[38;5;28;01mFalse\u001b[39;00m, inplace=\u001b[38;5;28;01mTrue\u001b[39;00m, names=[\u001b[33m\"\u001b[39m\u001b[33mgene\u001b[39m\u001b[33m\"\u001b[39m])\n\u001b[32m    462\u001b[39m \u001b[38;5;28;01mif\u001b[39;00m (n_removed := np.sum(~filt)) > \u001b[32m0\u001b[39m:\n\u001b[32m    463\u001b[39m     \u001b[38;5;66;03m# Add 0 values for genes that were filtered out\u001b[39;00m\n",
      "\u001b[36mFile \u001b[39m\u001b[32m/public/home/jijh/micromamba/envs/imgprocess/lib/python3.12/site-packages/scanpy/preprocessing/_highly_variable_genes.py:314\u001b[39m, in \u001b[36m_highly_variable_genes_single_batch\u001b[39m\u001b[34m(adata, layer, cutoff, n_bins, flavor)\u001b[39m\n\u001b[32m    310\u001b[39m \u001b[38;5;66;03m# all of the following quantities are \"per-gene\" here\u001b[39;00m\n\u001b[32m    311\u001b[39m df = pd.DataFrame(\n\u001b[32m    312\u001b[39m     \u001b[38;5;28mdict\u001b[39m(\u001b[38;5;28mzip\u001b[39m([\u001b[33m\"\u001b[39m\u001b[33mmeans\u001b[39m\u001b[33m\"\u001b[39m, \u001b[33m\"\u001b[39m\u001b[33mdispersions\u001b[39m\u001b[33m\"\u001b[39m], (mean, dispersion), strict=\u001b[38;5;28;01mTrue\u001b[39;00m))\n\u001b[32m    313\u001b[39m )\n\u001b[32m--> \u001b[39m\u001b[32m314\u001b[39m df[\u001b[33m\"\u001b[39m\u001b[33mmean_bin\u001b[39m\u001b[33m\"\u001b[39m] = \u001b[43m_get_mean_bins\u001b[49m\u001b[43m(\u001b[49m\u001b[43mdf\u001b[49m\u001b[43m[\u001b[49m\u001b[33;43m\"\u001b[39;49m\u001b[33;43mmeans\u001b[39;49m\u001b[33;43m\"\u001b[39;49m\u001b[43m]\u001b[49m\u001b[43m,\u001b[49m\u001b[43m \u001b[49m\u001b[43mflavor\u001b[49m\u001b[43m,\u001b[49m\u001b[43m \u001b[49m\u001b[43mn_bins\u001b[49m\u001b[43m)\u001b[49m\n\u001b[32m    315\u001b[39m disp_stats = _get_disp_stats(df, flavor)\n\u001b[32m    317\u001b[39m \u001b[38;5;66;03m# actually do the normalization\u001b[39;00m\n",
      "\u001b[36mFile \u001b[39m\u001b[32m/public/home/jijh/micromamba/envs/imgprocess/lib/python3.12/site-packages/scanpy/preprocessing/_highly_variable_genes.py:341\u001b[39m, in \u001b[36m_get_mean_bins\u001b[39m\u001b[34m(means, flavor, n_bins)\u001b[39m\n\u001b[32m    338\u001b[39m     msg = \u001b[33m'\u001b[39m\u001b[33m`flavor` needs to be \u001b[39m\u001b[33m\"\u001b[39m\u001b[33mseurat\u001b[39m\u001b[33m\"\u001b[39m\u001b[33m or \u001b[39m\u001b[33m\"\u001b[39m\u001b[33mcell_ranger\u001b[39m\u001b[33m\"\u001b[39m\u001b[33m'\u001b[39m\n\u001b[32m    339\u001b[39m     \u001b[38;5;28;01mraise\u001b[39;00m \u001b[38;5;167;01mValueError\u001b[39;00m(msg)\n\u001b[32m--> \u001b[39m\u001b[32m341\u001b[39m \u001b[38;5;28;01mreturn\u001b[39;00m \u001b[43mpd\u001b[49m\u001b[43m.\u001b[49m\u001b[43mcut\u001b[49m\u001b[43m(\u001b[49m\u001b[43mmeans\u001b[49m\u001b[43m,\u001b[49m\u001b[43m \u001b[49m\u001b[43mbins\u001b[49m\u001b[43m=\u001b[49m\u001b[43mbins\u001b[49m\u001b[43m)\u001b[49m\n",
      "\u001b[36mFile \u001b[39m\u001b[32m/public/home/jijh/micromamba/envs/imgprocess/lib/python3.12/site-packages/pandas/core/reshape/tile.py:257\u001b[39m, in \u001b[36mcut\u001b[39m\u001b[34m(x, bins, right, labels, retbins, precision, include_lowest, duplicates, ordered)\u001b[39m\n\u001b[32m    254\u001b[39m     \u001b[38;5;28;01mif\u001b[39;00m \u001b[38;5;129;01mnot\u001b[39;00m bins.is_monotonic_increasing:\n\u001b[32m    255\u001b[39m         \u001b[38;5;28;01mraise\u001b[39;00m \u001b[38;5;167;01mValueError\u001b[39;00m(\u001b[33m\"\u001b[39m\u001b[33mbins must increase monotonically.\u001b[39m\u001b[33m\"\u001b[39m)\n\u001b[32m--> \u001b[39m\u001b[32m257\u001b[39m fac, bins = \u001b[43m_bins_to_cuts\u001b[49m\u001b[43m(\u001b[49m\n\u001b[32m    258\u001b[39m \u001b[43m    \u001b[49m\u001b[43mx_idx\u001b[49m\u001b[43m,\u001b[49m\n\u001b[32m    259\u001b[39m \u001b[43m    \u001b[49m\u001b[43mbins\u001b[49m\u001b[43m,\u001b[49m\n\u001b[32m    260\u001b[39m \u001b[43m    \u001b[49m\u001b[43mright\u001b[49m\u001b[43m=\u001b[49m\u001b[43mright\u001b[49m\u001b[43m,\u001b[49m\n\u001b[32m    261\u001b[39m \u001b[43m    \u001b[49m\u001b[43mlabels\u001b[49m\u001b[43m=\u001b[49m\u001b[43mlabels\u001b[49m\u001b[43m,\u001b[49m\n\u001b[32m    262\u001b[39m \u001b[43m    \u001b[49m\u001b[43mprecision\u001b[49m\u001b[43m=\u001b[49m\u001b[43mprecision\u001b[49m\u001b[43m,\u001b[49m\n\u001b[32m    263\u001b[39m \u001b[43m    \u001b[49m\u001b[43minclude_lowest\u001b[49m\u001b[43m=\u001b[49m\u001b[43minclude_lowest\u001b[49m\u001b[43m,\u001b[49m\n\u001b[32m    264\u001b[39m \u001b[43m    \u001b[49m\u001b[43mduplicates\u001b[49m\u001b[43m=\u001b[49m\u001b[43mduplicates\u001b[49m\u001b[43m,\u001b[49m\n\u001b[32m    265\u001b[39m \u001b[43m    \u001b[49m\u001b[43mordered\u001b[49m\u001b[43m=\u001b[49m\u001b[43mordered\u001b[49m\u001b[43m,\u001b[49m\n\u001b[32m    266\u001b[39m \u001b[43m\u001b[49m\u001b[43m)\u001b[49m\n\u001b[32m    268\u001b[39m \u001b[38;5;28;01mreturn\u001b[39;00m _postprocess_for_cut(fac, bins, retbins, original)\n",
      "\u001b[36mFile \u001b[39m\u001b[32m/public/home/jijh/micromamba/envs/imgprocess/lib/python3.12/site-packages/pandas/core/reshape/tile.py:443\u001b[39m, in \u001b[36m_bins_to_cuts\u001b[39m\u001b[34m(x_idx, bins, right, labels, precision, include_lowest, duplicates, ordered)\u001b[39m\n\u001b[32m    441\u001b[39m \u001b[38;5;28;01mif\u001b[39;00m \u001b[38;5;28mlen\u001b[39m(unique_bins) < \u001b[38;5;28mlen\u001b[39m(bins) \u001b[38;5;129;01mand\u001b[39;00m \u001b[38;5;28mlen\u001b[39m(bins) != \u001b[32m2\u001b[39m:\n\u001b[32m    442\u001b[39m     \u001b[38;5;28;01mif\u001b[39;00m duplicates == \u001b[33m\"\u001b[39m\u001b[33mraise\u001b[39m\u001b[33m\"\u001b[39m:\n\u001b[32m--> \u001b[39m\u001b[32m443\u001b[39m         \u001b[38;5;28;01mraise\u001b[39;00m \u001b[38;5;167;01mValueError\u001b[39;00m(\n\u001b[32m    444\u001b[39m             \u001b[33mf\u001b[39m\u001b[33m\"\u001b[39m\u001b[33mBin edges must be unique: \u001b[39m\u001b[38;5;132;01m{\u001b[39;00m\u001b[38;5;28mrepr\u001b[39m(bins)\u001b[38;5;132;01m}\u001b[39;00m\u001b[33m.\u001b[39m\u001b[38;5;130;01m\\n\u001b[39;00m\u001b[33m\"\u001b[39m\n\u001b[32m    445\u001b[39m             \u001b[33mf\u001b[39m\u001b[33m\"\u001b[39m\u001b[33mYou can drop duplicate edges by setting the \u001b[39m\u001b[33m'\u001b[39m\u001b[33mduplicates\u001b[39m\u001b[33m'\u001b[39m\u001b[33m kwarg\u001b[39m\u001b[33m\"\u001b[39m\n\u001b[32m    446\u001b[39m         )\n\u001b[32m    447\u001b[39m     bins = unique_bins\n\u001b[32m    449\u001b[39m side: Literal[\u001b[33m\"\u001b[39m\u001b[33mleft\u001b[39m\u001b[33m\"\u001b[39m, \u001b[33m\"\u001b[39m\u001b[33mright\u001b[39m\u001b[33m\"\u001b[39m] = \u001b[33m\"\u001b[39m\u001b[33mleft\u001b[39m\u001b[33m\"\u001b[39m \u001b[38;5;28;01mif\u001b[39;00m right \u001b[38;5;28;01melse\u001b[39;00m \u001b[33m\"\u001b[39m\u001b[33mright\u001b[39m\u001b[33m\"\u001b[39m\n",
      "\u001b[31mValueError\u001b[39m: Bin edges must be unique: Index([               -inf, 0.16111868948504884,  0.1649173682665769,\n       0.16985546480562866, 0.17315772961015485, 0.17315772961015485,\n       0.18426108504645128,  0.1873063350542543, 0.19279586579764546,\n       0.19411118488957693,  0.2068762604079876, 0.20994393563809266,\n        0.2177609491730924,  0.2364327113644291, 0.35356484399580135,\n       0.37692686059190467, 0.40098744529756447,  0.5480210455120584,\n        0.7871120597506805,   5.160039545545681,                 inf],\n      dtype='float64').\nYou can drop duplicate edges by setting the 'duplicates' kwarg"
     ]
    }
   ],
   "source": [
    "\n",
    "# --- 2. 计算全局高变基因 (HVGs) ---\n",
    "# 这一步可能需要较长时间和较大内存，因为它会合并所有数据\n",
    "# 如果内存不足，可以考虑从每个样本中随机抽取一部分spots来构建合并的adata\n",
    "\n",
    "global_hvg_list = calculate_global_hvgs(\n",
    "    samples_to_process=brain_samples,\n",
    "    n_top_genes=5000, # 选择3000个HVGs是一个常见的SOTA实践\n",
    "    sentence_output_basedir_hvg=sentence_output_basedir_hvg\n",
    ")\n",
    "print(\"-\" * 50)\n",
    "\n"
   ]
  },
  {
   "cell_type": "code",
   "execution_count": null,
   "id": "8d1cf67d",
   "metadata": {},
   "outputs": [
    {
     "name": "stdout",
     "output_type": "stream",
     "text": [
      "在全局HVG列表中找到 11 个小鼠AD相关基因：\n",
      "['Apoe', 'Trem2', 'Clu', 'Bin1', 'Cd33', 'Csf1r', 'Cd2ap', 'Spi1', 'Mef2c', 'Ncald', 'Sparc']\n"
     ]
    }
   ],
   "source": [
    "'Apoe' in global_hvg_list\n",
    "\n",
    "ad_mouse_genes = [\n",
    "    \"App\",    # Amyloid precursor protein\n",
    "    \"Psen1\",  # Presenilin 1\n",
    "    \"Psen2\",  # Presenilin 2\n",
    "    \"Mapt\",   # Microtubule-associated protein tau\n",
    "    \"Apoe\",   # Apolipoprotein E\n",
    "    \"Trem2\",  # Triggering receptor expressed on myeloid cells 2\n",
    "    \"Clu\",    # Clusterin\n",
    "    \"Picalm\", # Phosphatidylinositol binding clathrin assembly protein\n",
    "    \"Bin1\",   # Bridging integrator 1\n",
    "    \"Cd33\",   # Siglec-3\n",
    "    \"Abca7\",  # ATP-binding cassette sub-family A member 7\n",
    "    \"Sorl1\",  # Sortilin-related receptor 1\n",
    "    \"Hcar2\",  # Hydroxycarboxylic acid receptor 2\n",
    "    \"Vps35\",   # Vacuolar protein sorting 35\n",
    "    \"Csf1r\", # Colony stimulating factor 1 receptor\n",
    "    \"Bace1\",    # β-分泌酶 1，关键的 Aβ 生成酶:contentReference[oaicite:0]{index=0}\n",
    "    \"Ide\",      # 胰岛素降解酶，可降解 Aβ:contentReference[oaicite:1]{index=1}\n",
    "    \"Mme\",      # Neprilysin，同样参与 Aβ 清除:contentReference[oaicite:2]{index=2}\n",
    "    \"Cd2ap\",    # 调控内吞与 Aβ 清除:contentReference[oaicite:3]{index=3}\n",
    "    \"Cr1\",      # 补体受体 1，免疫相关:contentReference[oaicite:4]{index=4}\n",
    "    \"Adam10\",   # α-分泌酶，非淀粉样途径关键酶:contentReference[oaicite:5]{index=5}\n",
    "    \"Plcg2\",    # 液泡内吞与信号传导:contentReference[oaicite:6]{index=6}\n",
    "    \"Spi1\",     # 转录因子，免疫调控筛选中被鉴定:contentReference[oaicite:7]{index=7}\n",
    "    \"Mef2c\",    # 神经发育转录因子，功能筛选中被鉴定:contentReference[oaicite:8]{index=8}\n",
    "    \"Gab2\",     # 信号转导分子，GWAS 关联:contentReference[oaicite:9]{index=9}\n",
    "    \"Abcc11\",   # ATP 结合盒家族成员，筛选中发现:contentReference[oaicite:10]{index=10}\n",
    "    \"ATCG1\",    # 筛选中发现的新的候选基因:contentReference[oaicite:11]{index=11}\n",
    "    \"Ank3\",     # GWAS 关联基因:contentReference[oaicite:12]{index=12}\n",
    "    \"Ms4a6a\",   # MS4A 家族，调控免疫与脂质代谢:contentReference[oaicite:13]{index=13}\n",
    "    \"Agfg2\",    # 涉及细胞信号转导:contentReference[oaicite:14]{index=14}\n",
    "    \"Cyc1\",     # 线粒体功能相关:contentReference[oaicite:15]{index=15}\n",
    "    \"Hla-dra\",  # 抗原呈递分子:contentReference[oaicite:16]{index=16}\n",
    "    \"Meg3\",     # 长链非编码 RNA，表达差异:contentReference[oaicite:17]{index=17}\n",
    "    \"Mt2a\",     # 金属硫蛋白，抗氧化应激:contentReference[oaicite:18]{index=18}\n",
    "    \"Ncald\",    # 钙调节蛋白家族:contentReference[oaicite:19]{index=19}\n",
    "    \"Neu1\",     # 神经氨酸苷酶 1，细胞内吞作用:contentReference[oaicite:20]{index=20}\n",
    "    \"Psmc3\",    # 泛素-蛋白酶体系统:contentReference[oaicite:21]{index=21}\n",
    "    \"Serpinb6\", # 丝氨酸蛋白酶抑制剂:contentReference[oaicite:22]{index=22}\n",
    "    \"Sparc\",     # 细胞外基质蛋白，病理重塑:contentReference[oaicite:23]{index=23}\n",
    "]\n",
    "\n",
    "# Test what ad_mouse_genes are in global_hvg_list\n",
    "ad_mouse_genes_in_hvg = [gene for gene in ad_mouse_genes if gene in global_hvg_list]\n",
    "print(f\"在全局HVG列表中找到 {len(ad_mouse_genes_in_hvg)} 个小鼠AD相关基因：\")\n",
    "print(ad_mouse_genes_in_hvg)"
   ]
  },
  {
   "cell_type": "code",
   "execution_count": 41,
   "id": "599be27c",
   "metadata": {},
   "outputs": [],
   "source": [
    "# Add the mouse AD genes to the global HVG list\n",
    "global_hvg_list = global_hvg_list.union(ad_mouse_genes_in_hvg)"
   ]
  },
  {
   "cell_type": "code",
   "execution_count": 43,
   "id": "f8cf5193",
   "metadata": {},
   "outputs": [
    {
     "data": {
      "text/plain": [
       "'/cwStorage/nodecw_group/jijh/hest_sentences/'"
      ]
     },
     "execution_count": 43,
     "metadata": {},
     "output_type": "execute_result"
    }
   ],
   "source": [
    "sentence_output_basedir_hvg"
   ]
  },
  {
   "cell_type": "code",
   "execution_count": 46,
   "id": "8135ca0f",
   "metadata": {},
   "outputs": [
    {
     "name": "stdout",
     "output_type": "stream",
     "text": [
      "开始批量生成基于HVG的基因句子文件...\n"
     ]
    },
    {
     "data": {
      "application/vnd.jupyter.widget-view+json": {
       "model_id": "fb1ea042393542509659e8c44ff5beff",
       "version_major": 2,
       "version_minor": 0
      },
      "text/plain": [
       "处理 TENX88 (HVG):   0%|          | 0/5303 [00:00<?, ?it/s]"
      ]
     },
     "metadata": {},
     "output_type": "display_data"
    },
    {
     "name": "stdout",
     "output_type": "stream",
     "text": [
      "完成处理样本 TENX88\n"
     ]
    },
    {
     "data": {
      "application/vnd.jupyter.widget-view+json": {
       "model_id": "55c547c299ff46d6a891dba2bd33dc00",
       "version_major": 2,
       "version_minor": 0
      },
      "text/plain": [
       "处理 TENX79 (HVG):   0%|          | 0/8462 [00:00<?, ?it/s]"
      ]
     },
     "metadata": {},
     "output_type": "display_data"
    },
    {
     "name": "stdout",
     "output_type": "stream",
     "text": [
      "完成处理样本 TENX79\n"
     ]
    },
    {
     "data": {
      "application/vnd.jupyter.widget-view+json": {
       "model_id": "0fbadc4eaad6480da0639c0ede838dea",
       "version_major": 2,
       "version_minor": 0
      },
      "text/plain": [
       "处理 TENX78 (HVG):   0%|          | 0/6963 [00:00<?, ?it/s]"
      ]
     },
     "metadata": {},
     "output_type": "display_data"
    },
    {
     "name": "stdout",
     "output_type": "stream",
     "text": [
      "完成处理样本 TENX78\n"
     ]
    },
    {
     "data": {
      "application/vnd.jupyter.widget-view+json": {
       "model_id": "d58fdecdd6d04ef7bb3b1dcf090e3adc",
       "version_major": 2,
       "version_minor": 0
      },
      "text/plain": [
       "处理 TENX77 (HVG):   0%|          | 0/5123 [00:00<?, ?it/s]"
      ]
     },
     "metadata": {},
     "output_type": "display_data"
    },
    {
     "name": "stdout",
     "output_type": "stream",
     "text": [
      "完成处理样本 TENX77\n"
     ]
    },
    {
     "data": {
      "application/vnd.jupyter.widget-view+json": {
       "model_id": "d8d604dfc0384f8194ad1d7760ec5d64",
       "version_major": 2,
       "version_minor": 0
      },
      "text/plain": [
       "处理 TENX69 (HVG):   0%|          | 0/4298 [00:00<?, ?it/s]"
      ]
     },
     "metadata": {},
     "output_type": "display_data"
    },
    {
     "name": "stdout",
     "output_type": "stream",
     "text": [
      "完成处理样本 TENX69\n"
     ]
    },
    {
     "data": {
      "application/vnd.jupyter.widget-view+json": {
       "model_id": "8f34b2d54ab84526b5f61fb49f6a371a",
       "version_major": 2,
       "version_minor": 0
      },
      "text/plain": [
       "处理 TENX67 (HVG):   0%|          | 0/2797 [00:00<?, ?it/s]"
      ]
     },
     "metadata": {},
     "output_type": "display_data"
    },
    {
     "name": "stdout",
     "output_type": "stream",
     "text": [
      "完成处理样本 TENX67\n"
     ]
    },
    {
     "data": {
      "application/vnd.jupyter.widget-view+json": {
       "model_id": "3a3b0dc49a424ad7979efbe15ea5f9e2",
       "version_major": 2,
       "version_minor": 0
      },
      "text/plain": [
       "处理 TENX61 (HVG):   0%|          | 0/2235 [00:00<?, ?it/s]"
      ]
     },
     "metadata": {},
     "output_type": "display_data"
    },
    {
     "name": "stdout",
     "output_type": "stream",
     "text": [
      "完成处理样本 TENX61\n"
     ]
    },
    {
     "data": {
      "application/vnd.jupyter.widget-view+json": {
       "model_id": "56cb092b49ac4478b1dbabaca2b3beb4",
       "version_major": 2,
       "version_minor": 0
      },
      "text/plain": [
       "处理 TENX60 (HVG):   0%|          | 0/2310 [00:00<?, ?it/s]"
      ]
     },
     "metadata": {},
     "output_type": "display_data"
    },
    {
     "name": "stdout",
     "output_type": "stream",
     "text": [
      "完成处理样本 TENX60\n"
     ]
    },
    {
     "data": {
      "application/vnd.jupyter.widget-view+json": {
       "model_id": "509dc8658e5949b885640a7abc064533",
       "version_major": 2,
       "version_minor": 0
      },
      "text/plain": [
       "处理 TENX58 (HVG):   0%|          | 0/1185 [00:00<?, ?it/s]"
      ]
     },
     "metadata": {},
     "output_type": "display_data"
    },
    {
     "name": "stdout",
     "output_type": "stream",
     "text": [
      "完成处理样本 TENX58\n"
     ]
    },
    {
     "data": {
      "application/vnd.jupyter.widget-view+json": {
       "model_id": "ebc5085fcef14eafb596c782bc0f535c",
       "version_major": 2,
       "version_minor": 0
      },
      "text/plain": [
       "处理 TENX55 (HVG):   0%|          | 0/2825 [00:00<?, ?it/s]"
      ]
     },
     "metadata": {},
     "output_type": "display_data"
    },
    {
     "name": "stdout",
     "output_type": "stream",
     "text": [
      "完成处理样本 TENX55\n"
     ]
    },
    {
     "data": {
      "application/vnd.jupyter.widget-view+json": {
       "model_id": "37e0dfc108344126953891eac7734b23",
       "version_major": 2,
       "version_minor": 0
      },
      "text/plain": [
       "处理 TENX54 (HVG):   0%|          | 0/3293 [00:00<?, ?it/s]"
      ]
     },
     "metadata": {},
     "output_type": "display_data"
    },
    {
     "name": "stdout",
     "output_type": "stream",
     "text": [
      "完成处理样本 TENX54\n"
     ]
    },
    {
     "data": {
      "application/vnd.jupyter.widget-view+json": {
       "model_id": "7720e1b6147f4dd08187cd881fc3bb2e",
       "version_major": 2,
       "version_minor": 0
      },
      "text/plain": [
       "处理 TENX52 (HVG):   0%|          | 0/2698 [00:00<?, ?it/s]"
      ]
     },
     "metadata": {},
     "output_type": "display_data"
    },
    {
     "name": "stdout",
     "output_type": "stream",
     "text": [
      "完成处理样本 TENX52\n"
     ]
    },
    {
     "data": {
      "application/vnd.jupyter.widget-view+json": {
       "model_id": "a41a56aaabc948308220dc4da3052691",
       "version_major": 2,
       "version_minor": 0
      },
      "text/plain": [
       "处理 TENX43 (HVG):   0%|          | 0/2264 [00:00<?, ?it/s]"
      ]
     },
     "metadata": {},
     "output_type": "display_data"
    },
    {
     "name": "stdout",
     "output_type": "stream",
     "text": [
      "完成处理样本 TENX43\n"
     ]
    },
    {
     "data": {
      "application/vnd.jupyter.widget-view+json": {
       "model_id": "76f6d611ef944b92a2d58a48464dcfc2",
       "version_major": 2,
       "version_minor": 0
      },
      "text/plain": [
       "处理 TENX19 (HVG):   0%|          | 0/3353 [00:00<?, ?it/s]"
      ]
     },
     "metadata": {},
     "output_type": "display_data"
    },
    {
     "name": "stdout",
     "output_type": "stream",
     "text": [
      "完成处理样本 TENX19\n"
     ]
    },
    {
     "data": {
      "application/vnd.jupyter.widget-view+json": {
       "model_id": "edd544c2e4b94fe0bb59b1660e1744f7",
       "version_major": 2,
       "version_minor": 0
      },
      "text/plain": [
       "处理 TENX18 (HVG):   0%|          | 0/2696 [00:00<?, ?it/s]"
      ]
     },
     "metadata": {},
     "output_type": "display_data"
    },
    {
     "name": "stdout",
     "output_type": "stream",
     "text": [
      "完成处理样本 TENX18\n"
     ]
    },
    {
     "data": {
      "application/vnd.jupyter.widget-view+json": {
       "model_id": "cea5f01ab9f341d9aa002602b53a2860",
       "version_major": 2,
       "version_minor": 0
      },
      "text/plain": [
       "处理 ZEN61 (HVG):   0%|          | 0/3476 [00:00<?, ?it/s]"
      ]
     },
     "metadata": {},
     "output_type": "display_data"
    },
    {
     "name": "stdout",
     "output_type": "stream",
     "text": [
      "完成处理样本 ZEN61\n"
     ]
    },
    {
     "data": {
      "application/vnd.jupyter.widget-view+json": {
       "model_id": "5fe0b234016a4480812b31f0b0c43175",
       "version_major": 2,
       "version_minor": 0
      },
      "text/plain": [
       "处理 ZEN60 (HVG):   0%|          | 0/3541 [00:00<?, ?it/s]"
      ]
     },
     "metadata": {},
     "output_type": "display_data"
    },
    {
     "name": "stdout",
     "output_type": "stream",
     "text": [
      "完成处理样本 ZEN60\n"
     ]
    },
    {
     "data": {
      "application/vnd.jupyter.widget-view+json": {
       "model_id": "e3477d20a8f84686921df45da5e567c4",
       "version_major": 2,
       "version_minor": 0
      },
      "text/plain": [
       "处理 SPA15 (HVG):   0%|          | 0/267 [00:00<?, ?it/s]"
      ]
     },
     "metadata": {},
     "output_type": "display_data"
    },
    {
     "name": "stdout",
     "output_type": "stream",
     "text": [
      "完成处理样本 SPA15\n"
     ]
    },
    {
     "data": {
      "application/vnd.jupyter.widget-view+json": {
       "model_id": "a9418ef6648c4f4fbdd65ad3acf63520",
       "version_major": 2,
       "version_minor": 0
      },
      "text/plain": [
       "处理 SPA14 (HVG):   0%|          | 0/280 [00:00<?, ?it/s]"
      ]
     },
     "metadata": {},
     "output_type": "display_data"
    },
    {
     "name": "stdout",
     "output_type": "stream",
     "text": [
      "完成处理样本 SPA14\n"
     ]
    },
    {
     "data": {
      "application/vnd.jupyter.widget-view+json": {
       "model_id": "f8bc927ff61b49fe8bec049a3e6aa4df",
       "version_major": 2,
       "version_minor": 0
      },
      "text/plain": [
       "处理 SPA13 (HVG):   0%|          | 0/269 [00:00<?, ?it/s]"
      ]
     },
     "metadata": {},
     "output_type": "display_data"
    },
    {
     "name": "stdout",
     "output_type": "stream",
     "text": [
      "完成处理样本 SPA13\n"
     ]
    },
    {
     "data": {
      "application/vnd.jupyter.widget-view+json": {
       "model_id": "e52a557299c242fa92523f363bd8ebfc",
       "version_major": 2,
       "version_minor": 0
      },
      "text/plain": [
       "处理 SPA12 (HVG):   0%|          | 0/264 [00:00<?, ?it/s]"
      ]
     },
     "metadata": {},
     "output_type": "display_data"
    },
    {
     "name": "stdout",
     "output_type": "stream",
     "text": [
      "完成处理样本 SPA12\n"
     ]
    },
    {
     "data": {
      "application/vnd.jupyter.widget-view+json": {
       "model_id": "079d491e77fd4271be01409b3b6c6d19",
       "version_major": 2,
       "version_minor": 0
      },
      "text/plain": [
       "处理 SPA11 (HVG):   0%|          | 0/267 [00:00<?, ?it/s]"
      ]
     },
     "metadata": {},
     "output_type": "display_data"
    },
    {
     "name": "stdout",
     "output_type": "stream",
     "text": [
      "完成处理样本 SPA11\n"
     ]
    },
    {
     "data": {
      "application/vnd.jupyter.widget-view+json": {
       "model_id": "644d0329031245dfa75c704b7aaa6562",
       "version_major": 2,
       "version_minor": 0
      },
      "text/plain": [
       "处理 SPA10 (HVG):   0%|          | 0/242 [00:00<?, ?it/s]"
      ]
     },
     "metadata": {},
     "output_type": "display_data"
    },
    {
     "name": "stdout",
     "output_type": "stream",
     "text": [
      "完成处理样本 SPA10\n"
     ]
    },
    {
     "data": {
      "application/vnd.jupyter.widget-view+json": {
       "model_id": "89a92898b6794c12b526647295bfa4a7",
       "version_major": 2,
       "version_minor": 0
      },
      "text/plain": [
       "处理 SPA9 (HVG):   0%|          | 0/231 [00:00<?, ?it/s]"
      ]
     },
     "metadata": {},
     "output_type": "display_data"
    },
    {
     "name": "stdout",
     "output_type": "stream",
     "text": [
      "完成处理样本 SPA9\n"
     ]
    },
    {
     "data": {
      "application/vnd.jupyter.widget-view+json": {
       "model_id": "aaed1a5bcf7947b5ba3747b7599b4716",
       "version_major": 2,
       "version_minor": 0
      },
      "text/plain": [
       "处理 SPA8 (HVG):   0%|          | 0/234 [00:00<?, ?it/s]"
      ]
     },
     "metadata": {},
     "output_type": "display_data"
    },
    {
     "name": "stdout",
     "output_type": "stream",
     "text": [
      "完成处理样本 SPA8\n"
     ]
    },
    {
     "data": {
      "application/vnd.jupyter.widget-view+json": {
       "model_id": "3c98e56908d04d5fa626a4f44a0e0b72",
       "version_major": 2,
       "version_minor": 0
      },
      "text/plain": [
       "处理 SPA7 (HVG):   0%|          | 0/237 [00:00<?, ?it/s]"
      ]
     },
     "metadata": {},
     "output_type": "display_data"
    },
    {
     "name": "stdout",
     "output_type": "stream",
     "text": [
      "完成处理样本 SPA7\n"
     ]
    },
    {
     "data": {
      "application/vnd.jupyter.widget-view+json": {
       "model_id": "8c0427b9d3ab49998122df37a2b52d81",
       "version_major": 2,
       "version_minor": 0
      },
      "text/plain": [
       "处理 SPA6 (HVG):   0%|          | 0/281 [00:00<?, ?it/s]"
      ]
     },
     "metadata": {},
     "output_type": "display_data"
    },
    {
     "name": "stdout",
     "output_type": "stream",
     "text": [
      "完成处理样本 SPA6\n"
     ]
    },
    {
     "data": {
      "application/vnd.jupyter.widget-view+json": {
       "model_id": "e2a71215adba47e6ba1b63c6e94c9f5d",
       "version_major": 2,
       "version_minor": 0
      },
      "text/plain": [
       "处理 SPA5 (HVG):   0%|          | 0/262 [00:00<?, ?it/s]"
      ]
     },
     "metadata": {},
     "output_type": "display_data"
    },
    {
     "name": "stdout",
     "output_type": "stream",
     "text": [
      "完成处理样本 SPA5\n"
     ]
    },
    {
     "data": {
      "application/vnd.jupyter.widget-view+json": {
       "model_id": "5dd20a5cc96749239b0d6098e7a3c975",
       "version_major": 2,
       "version_minor": 0
      },
      "text/plain": [
       "处理 SPA4 (HVG):   0%|          | 0/282 [00:00<?, ?it/s]"
      ]
     },
     "metadata": {},
     "output_type": "display_data"
    },
    {
     "name": "stdout",
     "output_type": "stream",
     "text": [
      "完成处理样本 SPA4\n"
     ]
    },
    {
     "data": {
      "application/vnd.jupyter.widget-view+json": {
       "model_id": "7494ad3d6e9f4bb79f6d126b35c8e835",
       "version_major": 2,
       "version_minor": 0
      },
      "text/plain": [
       "处理 MEND131 (HVG):   0%|          | 0/1301 [00:00<?, ?it/s]"
      ]
     },
     "metadata": {},
     "output_type": "display_data"
    },
    {
     "name": "stdout",
     "output_type": "stream",
     "text": [
      "完成处理样本 MEND131\n"
     ]
    },
    {
     "data": {
      "application/vnd.jupyter.widget-view+json": {
       "model_id": "c3c84f1e42ca48f79cf496fcdae8cd62",
       "version_major": 2,
       "version_minor": 0
      },
      "text/plain": [
       "处理 MEND130 (HVG):   0%|          | 0/4557 [00:00<?, ?it/s]"
      ]
     },
     "metadata": {},
     "output_type": "display_data"
    },
    {
     "name": "stdout",
     "output_type": "stream",
     "text": [
      "完成处理样本 MEND130\n"
     ]
    },
    {
     "data": {
      "application/vnd.jupyter.widget-view+json": {
       "model_id": "5de3654107c64db48b54d8cec4e4d99d",
       "version_major": 2,
       "version_minor": 0
      },
      "text/plain": [
       "处理 MEND129 (HVG):   0%|          | 0/4575 [00:00<?, ?it/s]"
      ]
     },
     "metadata": {},
     "output_type": "display_data"
    },
    {
     "name": "stdout",
     "output_type": "stream",
     "text": [
      "完成处理样本 MEND129\n"
     ]
    },
    {
     "data": {
      "application/vnd.jupyter.widget-view+json": {
       "model_id": "e6dfda19f3ab43fdb993f7caa733662d",
       "version_major": 2,
       "version_minor": 0
      },
      "text/plain": [
       "处理 MEND124 (HVG):   0%|          | 0/1448 [00:00<?, ?it/s]"
      ]
     },
     "metadata": {},
     "output_type": "display_data"
    },
    {
     "name": "stdout",
     "output_type": "stream",
     "text": [
      "完成处理样本 MEND124\n"
     ]
    },
    {
     "data": {
      "application/vnd.jupyter.widget-view+json": {
       "model_id": "bfb16f7c106048bd8513b353e9ffd2a8",
       "version_major": 2,
       "version_minor": 0
      },
      "text/plain": [
       "处理 MEND123 (HVG):   0%|          | 0/1490 [00:00<?, ?it/s]"
      ]
     },
     "metadata": {},
     "output_type": "display_data"
    },
    {
     "name": "stdout",
     "output_type": "stream",
     "text": [
      "完成处理样本 MEND123\n"
     ]
    },
    {
     "data": {
      "application/vnd.jupyter.widget-view+json": {
       "model_id": "d2663ea8d59d4bdb8a2fb544e5244604",
       "version_major": 2,
       "version_minor": 0
      },
      "text/plain": [
       "处理 MEND78 (HVG):   0%|          | 0/4426 [00:00<?, ?it/s]"
      ]
     },
     "metadata": {},
     "output_type": "display_data"
    },
    {
     "name": "stdout",
     "output_type": "stream",
     "text": [
      "完成处理样本 MEND78\n"
     ]
    },
    {
     "data": {
      "application/vnd.jupyter.widget-view+json": {
       "model_id": "4e68b8d954ff4337a291a1868174e8ff",
       "version_major": 2,
       "version_minor": 0
      },
      "text/plain": [
       "处理 MEND77 (HVG):   0%|          | 0/4492 [00:00<?, ?it/s]"
      ]
     },
     "metadata": {},
     "output_type": "display_data"
    },
    {
     "name": "stdout",
     "output_type": "stream",
     "text": [
      "完成处理样本 MEND77\n"
     ]
    },
    {
     "data": {
      "application/vnd.jupyter.widget-view+json": {
       "model_id": "298e3433c3034eda8d1cc33b475f4cfe",
       "version_major": 2,
       "version_minor": 0
      },
      "text/plain": [
       "处理 MEND76 (HVG):   0%|          | 0/4159 [00:00<?, ?it/s]"
      ]
     },
     "metadata": {},
     "output_type": "display_data"
    },
    {
     "name": "stdout",
     "output_type": "stream",
     "text": [
      "完成处理样本 MEND76\n"
     ]
    },
    {
     "data": {
      "application/vnd.jupyter.widget-view+json": {
       "model_id": "ccdf3cb837bf40c1a1752a306be8f8c2",
       "version_major": 2,
       "version_minor": 0
      },
      "text/plain": [
       "处理 MEND75 (HVG):   0%|          | 0/4166 [00:00<?, ?it/s]"
      ]
     },
     "metadata": {},
     "output_type": "display_data"
    },
    {
     "name": "stdout",
     "output_type": "stream",
     "text": [
      "完成处理样本 MEND75\n"
     ]
    },
    {
     "data": {
      "application/vnd.jupyter.widget-view+json": {
       "model_id": "caddae8be48d45eba45f7ab7ac44b035",
       "version_major": 2,
       "version_minor": 0
      },
      "text/plain": [
       "处理 MEND74 (HVG):   0%|          | 0/4514 [00:00<?, ?it/s]"
      ]
     },
     "metadata": {},
     "output_type": "display_data"
    },
    {
     "name": "stdout",
     "output_type": "stream",
     "text": [
      "完成处理样本 MEND74\n"
     ]
    },
    {
     "data": {
      "application/vnd.jupyter.widget-view+json": {
       "model_id": "7540e1c852984619a7c78a77b1c9d482",
       "version_major": 2,
       "version_minor": 0
      },
      "text/plain": [
       "处理 MEND73 (HVG):   0%|          | 0/4332 [00:00<?, ?it/s]"
      ]
     },
     "metadata": {},
     "output_type": "display_data"
    },
    {
     "name": "stdout",
     "output_type": "stream",
     "text": [
      "完成处理样本 MEND73\n"
     ]
    },
    {
     "data": {
      "application/vnd.jupyter.widget-view+json": {
       "model_id": "f418dbc1defb4685822e9aa5bb26b6ab",
       "version_major": 2,
       "version_minor": 0
      },
      "text/plain": [
       "处理 MEND72 (HVG):   0%|          | 0/4394 [00:00<?, ?it/s]"
      ]
     },
     "metadata": {},
     "output_type": "display_data"
    },
    {
     "name": "stdout",
     "output_type": "stream",
     "text": [
      "完成处理样本 MEND72\n"
     ]
    },
    {
     "data": {
      "application/vnd.jupyter.widget-view+json": {
       "model_id": "70c3ff86cec54315b14a7ab4e3f8f9e7",
       "version_major": 2,
       "version_minor": 0
      },
      "text/plain": [
       "处理 MEND71 (HVG):   0%|          | 0/4114 [00:00<?, ?it/s]"
      ]
     },
     "metadata": {},
     "output_type": "display_data"
    },
    {
     "name": "stdout",
     "output_type": "stream",
     "text": [
      "完成处理样本 MEND71\n"
     ]
    },
    {
     "data": {
      "application/vnd.jupyter.widget-view+json": {
       "model_id": "ab3d83de02ce4f6ebc5aa3e40c8817ad",
       "version_major": 2,
       "version_minor": 0
      },
      "text/plain": [
       "处理 MEND55 (HVG):   0%|          | 0/2536 [00:00<?, ?it/s]"
      ]
     },
     "metadata": {},
     "output_type": "display_data"
    },
    {
     "name": "stdout",
     "output_type": "stream",
     "text": [
      "完成处理样本 MEND55\n"
     ]
    },
    {
     "data": {
      "application/vnd.jupyter.widget-view+json": {
       "model_id": "7f6800a4b2ea4dc5a50e53f8c1e9be4c",
       "version_major": 2,
       "version_minor": 0
      },
      "text/plain": [
       "处理 MEND53 (HVG):   0%|          | 0/3047 [00:00<?, ?it/s]"
      ]
     },
     "metadata": {},
     "output_type": "display_data"
    },
    {
     "name": "stdout",
     "output_type": "stream",
     "text": [
      "完成处理样本 MEND53\n"
     ]
    },
    {
     "data": {
      "application/vnd.jupyter.widget-view+json": {
       "model_id": "488862d6ff2140a286368ac398a7c9d3",
       "version_major": 2,
       "version_minor": 0
      },
      "text/plain": [
       "处理 MEND50 (HVG):   0%|          | 0/2399 [00:00<?, ?it/s]"
      ]
     },
     "metadata": {},
     "output_type": "display_data"
    },
    {
     "name": "stdout",
     "output_type": "stream",
     "text": [
      "完成处理样本 MEND50\n"
     ]
    },
    {
     "data": {
      "application/vnd.jupyter.widget-view+json": {
       "model_id": "e45a4edb55b84e39a0c9fded52df5927",
       "version_major": 2,
       "version_minor": 0
      },
      "text/plain": [
       "处理 MEND46 (HVG):   0%|          | 0/2216 [00:00<?, ?it/s]"
      ]
     },
     "metadata": {},
     "output_type": "display_data"
    },
    {
     "name": "stdout",
     "output_type": "stream",
     "text": [
      "完成处理样本 MEND46\n"
     ]
    },
    {
     "data": {
      "application/vnd.jupyter.widget-view+json": {
       "model_id": "5325a0d47006470a9e1daef435f25305",
       "version_major": 2,
       "version_minor": 0
      },
      "text/plain": [
       "处理 MEND44 (HVG):   0%|          | 0/2554 [00:00<?, ?it/s]"
      ]
     },
     "metadata": {},
     "output_type": "display_data"
    },
    {
     "name": "stdout",
     "output_type": "stream",
     "text": [
      "完成处理样本 MEND44\n"
     ]
    },
    {
     "data": {
      "application/vnd.jupyter.widget-view+json": {
       "model_id": "e19fddef767d4cea9f6c7d70b83025ea",
       "version_major": 2,
       "version_minor": 0
      },
      "text/plain": [
       "处理 MEND43 (HVG):   0%|          | 0/2502 [00:00<?, ?it/s]"
      ]
     },
     "metadata": {},
     "output_type": "display_data"
    },
    {
     "name": "stdout",
     "output_type": "stream",
     "text": [
      "完成处理样本 MEND43\n"
     ]
    },
    {
     "data": {
      "application/vnd.jupyter.widget-view+json": {
       "model_id": "5c7fdd390ff44dc6a47905b8ff9e1356",
       "version_major": 2,
       "version_minor": 0
      },
      "text/plain": [
       "处理 MEND42 (HVG):   0%|          | 0/3105 [00:00<?, ?it/s]"
      ]
     },
     "metadata": {},
     "output_type": "display_data"
    },
    {
     "name": "stdout",
     "output_type": "stream",
     "text": [
      "完成处理样本 MEND42\n"
     ]
    },
    {
     "data": {
      "application/vnd.jupyter.widget-view+json": {
       "model_id": "7364dcddf2a64e6e8eaa14011ee6590f",
       "version_major": 2,
       "version_minor": 0
      },
      "text/plain": [
       "处理 NCBI809 (HVG):   0%|          | 0/1554 [00:00<?, ?it/s]"
      ]
     },
     "metadata": {},
     "output_type": "display_data"
    },
    {
     "name": "stdout",
     "output_type": "stream",
     "text": [
      "完成处理样本 NCBI809\n"
     ]
    },
    {
     "data": {
      "application/vnd.jupyter.widget-view+json": {
       "model_id": "f1678fbee21140c8b6843385dfd98442",
       "version_major": 2,
       "version_minor": 0
      },
      "text/plain": [
       "处理 NCBI808 (HVG):   0%|          | 0/2359 [00:00<?, ?it/s]"
      ]
     },
     "metadata": {},
     "output_type": "display_data"
    },
    {
     "name": "stdout",
     "output_type": "stream",
     "text": [
      "完成处理样本 NCBI808\n"
     ]
    },
    {
     "data": {
      "application/vnd.jupyter.widget-view+json": {
       "model_id": "766302058cf749ff966e3bf41ca2714a",
       "version_major": 2,
       "version_minor": 0
      },
      "text/plain": [
       "处理 NCBI807 (HVG):   0%|          | 0/2320 [00:00<?, ?it/s]"
      ]
     },
     "metadata": {},
     "output_type": "display_data"
    },
    {
     "name": "stdout",
     "output_type": "stream",
     "text": [
      "完成处理样本 NCBI807\n"
     ]
    },
    {
     "data": {
      "application/vnd.jupyter.widget-view+json": {
       "model_id": "5f59c26edcf5488d9551d1fbff8ee6a7",
       "version_major": 2,
       "version_minor": 0
      },
      "text/plain": [
       "处理 NCBI806 (HVG):   0%|          | 0/1435 [00:00<?, ?it/s]"
      ]
     },
     "metadata": {},
     "output_type": "display_data"
    },
    {
     "name": "stdout",
     "output_type": "stream",
     "text": [
      "完成处理样本 NCBI806\n"
     ]
    },
    {
     "data": {
      "application/vnd.jupyter.widget-view+json": {
       "model_id": "eac2888b9faf472c91c03fbe81dde636",
       "version_major": 2,
       "version_minor": 0
      },
      "text/plain": [
       "处理 NCBI802 (HVG):   0%|          | 0/2743 [00:00<?, ?it/s]"
      ]
     },
     "metadata": {},
     "output_type": "display_data"
    },
    {
     "name": "stdout",
     "output_type": "stream",
     "text": [
      "完成处理样本 NCBI802\n"
     ]
    },
    {
     "data": {
      "application/vnd.jupyter.widget-view+json": {
       "model_id": "3fde63b201b24a69aef10d9ae4fcbc61",
       "version_major": 2,
       "version_minor": 0
      },
      "text/plain": [
       "处理 NCBI801 (HVG):   0%|          | 0/2889 [00:00<?, ?it/s]"
      ]
     },
     "metadata": {},
     "output_type": "display_data"
    },
    {
     "name": "stdout",
     "output_type": "stream",
     "text": [
      "完成处理样本 NCBI801\n"
     ]
    },
    {
     "data": {
      "application/vnd.jupyter.widget-view+json": {
       "model_id": "115d74ed4408415987e84b91142807a1",
       "version_major": 2,
       "version_minor": 0
      },
      "text/plain": [
       "处理 NCBI800 (HVG):   0%|          | 0/2784 [00:00<?, ?it/s]"
      ]
     },
     "metadata": {},
     "output_type": "display_data"
    },
    {
     "name": "stdout",
     "output_type": "stream",
     "text": [
      "完成处理样本 NCBI800\n"
     ]
    },
    {
     "data": {
      "application/vnd.jupyter.widget-view+json": {
       "model_id": "7e5d513f9bdc4bed8e4f529078a3d96d",
       "version_major": 2,
       "version_minor": 0
      },
      "text/plain": [
       "处理 NCBI799 (HVG):   0%|          | 0/2648 [00:00<?, ?it/s]"
      ]
     },
     "metadata": {},
     "output_type": "display_data"
    },
    {
     "name": "stdout",
     "output_type": "stream",
     "text": [
      "完成处理样本 NCBI799\n"
     ]
    },
    {
     "data": {
      "application/vnd.jupyter.widget-view+json": {
       "model_id": "87e0d60c11e64c97ac85acd52209ee59",
       "version_major": 2,
       "version_minor": 0
      },
      "text/plain": [
       "处理 NCBI720 (HVG):   0%|          | 0/2573 [00:00<?, ?it/s]"
      ]
     },
     "metadata": {},
     "output_type": "display_data"
    },
    {
     "name": "stdout",
     "output_type": "stream",
     "text": [
      "完成处理样本 NCBI720\n"
     ]
    },
    {
     "data": {
      "application/vnd.jupyter.widget-view+json": {
       "model_id": "696f56b3202d4d1a91cfb15ee796f2d6",
       "version_major": 2,
       "version_minor": 0
      },
      "text/plain": [
       "处理 NCBI719 (HVG):   0%|          | 0/2735 [00:00<?, ?it/s]"
      ]
     },
     "metadata": {},
     "output_type": "display_data"
    },
    {
     "name": "stdout",
     "output_type": "stream",
     "text": [
      "完成处理样本 NCBI719\n"
     ]
    },
    {
     "data": {
      "application/vnd.jupyter.widget-view+json": {
       "model_id": "282fa462d2a44c71ba017a4c709cf41b",
       "version_major": 2,
       "version_minor": 0
      },
      "text/plain": [
       "处理 NCBI718 (HVG):   0%|          | 0/2973 [00:00<?, ?it/s]"
      ]
     },
     "metadata": {},
     "output_type": "display_data"
    },
    {
     "name": "stdout",
     "output_type": "stream",
     "text": [
      "完成处理样本 NCBI718\n"
     ]
    },
    {
     "data": {
      "application/vnd.jupyter.widget-view+json": {
       "model_id": "1c961f07e1ed46968cc45e1ed8932bfd",
       "version_major": 2,
       "version_minor": 0
      },
      "text/plain": [
       "处理 NCBI717 (HVG):   0%|          | 0/2804 [00:00<?, ?it/s]"
      ]
     },
     "metadata": {},
     "output_type": "display_data"
    },
    {
     "name": "stdout",
     "output_type": "stream",
     "text": [
      "完成处理样本 NCBI717\n"
     ]
    },
    {
     "data": {
      "application/vnd.jupyter.widget-view+json": {
       "model_id": "1ecee11e7ac447adbf5251a047e916ce",
       "version_major": 2,
       "version_minor": 0
      },
      "text/plain": [
       "处理 NCBI716 (HVG):   0%|          | 0/2801 [00:00<?, ?it/s]"
      ]
     },
     "metadata": {},
     "output_type": "display_data"
    },
    {
     "name": "stdout",
     "output_type": "stream",
     "text": [
      "完成处理样本 NCBI716\n"
     ]
    },
    {
     "data": {
      "application/vnd.jupyter.widget-view+json": {
       "model_id": "88761dd3286649a0a0bc56022b1d061a",
       "version_major": 2,
       "version_minor": 0
      },
      "text/plain": [
       "处理 NCBI715 (HVG):   0%|          | 0/2857 [00:00<?, ?it/s]"
      ]
     },
     "metadata": {},
     "output_type": "display_data"
    },
    {
     "name": "stdout",
     "output_type": "stream",
     "text": [
      "完成处理样本 NCBI715\n"
     ]
    },
    {
     "data": {
      "application/vnd.jupyter.widget-view+json": {
       "model_id": "2ee19c2f708c4c968fa057f9020df6af",
       "version_major": 2,
       "version_minor": 0
      },
      "text/plain": [
       "处理 NCBI671 (HVG):   0%|          | 0/2856 [00:00<?, ?it/s]"
      ]
     },
     "metadata": {},
     "output_type": "display_data"
    },
    {
     "name": "stdout",
     "output_type": "stream",
     "text": [
      "完成处理样本 NCBI671\n"
     ]
    },
    {
     "data": {
      "application/vnd.jupyter.widget-view+json": {
       "model_id": "c6ec03df13df4330b21cc03590301055",
       "version_major": 2,
       "version_minor": 0
      },
      "text/plain": [
       "处理 NCBI670 (HVG):   0%|          | 0/3002 [00:00<?, ?it/s]"
      ]
     },
     "metadata": {},
     "output_type": "display_data"
    },
    {
     "name": "stdout",
     "output_type": "stream",
     "text": [
      "完成处理样本 NCBI670\n"
     ]
    },
    {
     "data": {
      "application/vnd.jupyter.widget-view+json": {
       "model_id": "769fbd1320cb44058ad2753f14a8028b",
       "version_major": 2,
       "version_minor": 0
      },
      "text/plain": [
       "处理 NCBI669 (HVG):   0%|          | 0/3163 [00:00<?, ?it/s]"
      ]
     },
     "metadata": {},
     "output_type": "display_data"
    },
    {
     "name": "stdout",
     "output_type": "stream",
     "text": [
      "完成处理样本 NCBI669\n"
     ]
    },
    {
     "data": {
      "application/vnd.jupyter.widget-view+json": {
       "model_id": "6304ff0281724d0387a2fae00462d069",
       "version_major": 2,
       "version_minor": 0
      },
      "text/plain": [
       "处理 NCBI668 (HVG):   0%|          | 0/2913 [00:00<?, ?it/s]"
      ]
     },
     "metadata": {},
     "output_type": "display_data"
    },
    {
     "name": "stdout",
     "output_type": "stream",
     "text": [
      "完成处理样本 NCBI668\n"
     ]
    },
    {
     "data": {
      "application/vnd.jupyter.widget-view+json": {
       "model_id": "c147f045093e4864bbdec2fec44004b6",
       "version_major": 2,
       "version_minor": 0
      },
      "text/plain": [
       "处理 NCBI667 (HVG):   0%|          | 0/2675 [00:00<?, ?it/s]"
      ]
     },
     "metadata": {},
     "output_type": "display_data"
    },
    {
     "name": "stdout",
     "output_type": "stream",
     "text": [
      "完成处理样本 NCBI667\n"
     ]
    },
    {
     "data": {
      "application/vnd.jupyter.widget-view+json": {
       "model_id": "f9ac532eefa04b08a5ee8e1cf2b35c2a",
       "version_major": 2,
       "version_minor": 0
      },
      "text/plain": [
       "处理 NCBI666 (HVG):   0%|          | 0/3120 [00:00<?, ?it/s]"
      ]
     },
     "metadata": {},
     "output_type": "display_data"
    },
    {
     "name": "stdout",
     "output_type": "stream",
     "text": [
      "完成处理样本 NCBI666\n"
     ]
    },
    {
     "data": {
      "application/vnd.jupyter.widget-view+json": {
       "model_id": "0172c60661364d69b417509789881336",
       "version_major": 2,
       "version_minor": 0
      },
      "text/plain": [
       "处理 NCBI665 (HVG):   0%|          | 0/2918 [00:00<?, ?it/s]"
      ]
     },
     "metadata": {},
     "output_type": "display_data"
    },
    {
     "name": "stdout",
     "output_type": "stream",
     "text": [
      "完成处理样本 NCBI665\n"
     ]
    },
    {
     "data": {
      "application/vnd.jupyter.widget-view+json": {
       "model_id": "5e8d725383ff4f4abc4963b13d096278",
       "version_major": 2,
       "version_minor": 0
      },
      "text/plain": [
       "处理 NCBI664 (HVG):   0%|          | 0/3017 [00:00<?, ?it/s]"
      ]
     },
     "metadata": {},
     "output_type": "display_data"
    },
    {
     "name": "stdout",
     "output_type": "stream",
     "text": [
      "完成处理样本 NCBI664\n"
     ]
    },
    {
     "data": {
      "application/vnd.jupyter.widget-view+json": {
       "model_id": "130c6fa476e44c058f8cfafc2a044867",
       "version_major": 2,
       "version_minor": 0
      },
      "text/plain": [
       "处理 NCBI663 (HVG):   0%|          | 0/2964 [00:00<?, ?it/s]"
      ]
     },
     "metadata": {},
     "output_type": "display_data"
    },
    {
     "name": "stdout",
     "output_type": "stream",
     "text": [
      "完成处理样本 NCBI663\n"
     ]
    },
    {
     "data": {
      "application/vnd.jupyter.widget-view+json": {
       "model_id": "f021d6a37b09448e9c1c9db7c3b2d7c2",
       "version_major": 2,
       "version_minor": 0
      },
      "text/plain": [
       "处理 NCBI662 (HVG):   0%|          | 0/3357 [00:00<?, ?it/s]"
      ]
     },
     "metadata": {},
     "output_type": "display_data"
    },
    {
     "name": "stdout",
     "output_type": "stream",
     "text": [
      "完成处理样本 NCBI662\n"
     ]
    },
    {
     "data": {
      "application/vnd.jupyter.widget-view+json": {
       "model_id": "267abb1188c14646985415cb0e6dfc6d",
       "version_major": 2,
       "version_minor": 0
      },
      "text/plain": [
       "处理 NCBI661 (HVG):   0%|          | 0/3601 [00:00<?, ?it/s]"
      ]
     },
     "metadata": {},
     "output_type": "display_data"
    },
    {
     "name": "stdout",
     "output_type": "stream",
     "text": [
      "完成处理样本 NCBI661\n"
     ]
    },
    {
     "data": {
      "application/vnd.jupyter.widget-view+json": {
       "model_id": "c11f8362d8ae43729416d15f8f28f182",
       "version_major": 2,
       "version_minor": 0
      },
      "text/plain": [
       "处理 NCBI660 (HVG):   0%|          | 0/3504 [00:00<?, ?it/s]"
      ]
     },
     "metadata": {},
     "output_type": "display_data"
    },
    {
     "name": "stdout",
     "output_type": "stream",
     "text": [
      "完成处理样本 NCBI660\n"
     ]
    },
    {
     "data": {
      "application/vnd.jupyter.widget-view+json": {
       "model_id": "cc1bb9affda64158b05ff5f0dd6ae5da",
       "version_major": 2,
       "version_minor": 0
      },
      "text/plain": [
       "处理 NCBI659 (HVG):   0%|          | 0/3617 [00:00<?, ?it/s]"
      ]
     },
     "metadata": {},
     "output_type": "display_data"
    },
    {
     "name": "stdout",
     "output_type": "stream",
     "text": [
      "完成处理样本 NCBI659\n"
     ]
    },
    {
     "data": {
      "application/vnd.jupyter.widget-view+json": {
       "model_id": "3c5bdf1106fc47abacf9900aee340974",
       "version_major": 2,
       "version_minor": 0
      },
      "text/plain": [
       "处理 NCBI658 (HVG):   0%|          | 0/3116 [00:00<?, ?it/s]"
      ]
     },
     "metadata": {},
     "output_type": "display_data"
    },
    {
     "name": "stdout",
     "output_type": "stream",
     "text": [
      "完成处理样本 NCBI658\n"
     ]
    },
    {
     "data": {
      "application/vnd.jupyter.widget-view+json": {
       "model_id": "eb0befe8a3134966abf374f21fa58e74",
       "version_major": 2,
       "version_minor": 0
      },
      "text/plain": [
       "处理 NCBI533 (HVG):   0%|          | 0/2536 [00:00<?, ?it/s]"
      ]
     },
     "metadata": {},
     "output_type": "display_data"
    },
    {
     "name": "stdout",
     "output_type": "stream",
     "text": [
      "完成处理样本 NCBI533\n"
     ]
    },
    {
     "data": {
      "application/vnd.jupyter.widget-view+json": {
       "model_id": "b884e7bfc03c41ac82fd523516163874",
       "version_major": 2,
       "version_minor": 0
      },
      "text/plain": [
       "处理 NCBI532 (HVG):   0%|          | 0/2399 [00:00<?, ?it/s]"
      ]
     },
     "metadata": {},
     "output_type": "display_data"
    },
    {
     "name": "stdout",
     "output_type": "stream",
     "text": [
      "完成处理样本 NCBI532\n"
     ]
    },
    {
     "data": {
      "application/vnd.jupyter.widget-view+json": {
       "model_id": "7ca04bb0f6cc4af3b50e1980838b6f4c",
       "version_major": 2,
       "version_minor": 0
      },
      "text/plain": [
       "处理 NCBI531 (HVG):   0%|          | 0/2554 [00:00<?, ?it/s]"
      ]
     },
     "metadata": {},
     "output_type": "display_data"
    },
    {
     "name": "stdout",
     "output_type": "stream",
     "text": [
      "完成处理样本 NCBI531\n"
     ]
    },
    {
     "data": {
      "application/vnd.jupyter.widget-view+json": {
       "model_id": "0b713eb175274c22bbe79c2cd74a9f42",
       "version_major": 2,
       "version_minor": 0
      },
      "text/plain": [
       "处理 NCBI530 (HVG):   0%|          | 0/2502 [00:00<?, ?it/s]"
      ]
     },
     "metadata": {},
     "output_type": "display_data"
    },
    {
     "name": "stdout",
     "output_type": "stream",
     "text": [
      "完成处理样本 NCBI530\n"
     ]
    },
    {
     "data": {
      "application/vnd.jupyter.widget-view+json": {
       "model_id": "ba67156530a0426ba35b1794b172a8d5",
       "version_major": 2,
       "version_minor": 0
      },
      "text/plain": [
       "处理 NCBI529 (HVG):   0%|          | 0/2216 [00:00<?, ?it/s]"
      ]
     },
     "metadata": {},
     "output_type": "display_data"
    },
    {
     "name": "stdout",
     "output_type": "stream",
     "text": [
      "完成处理样本 NCBI529\n"
     ]
    },
    {
     "data": {
      "application/vnd.jupyter.widget-view+json": {
       "model_id": "b21d36db17234b55b05bc66466d88bad",
       "version_major": 2,
       "version_minor": 0
      },
      "text/plain": [
       "处理 NCBI528 (HVG):   0%|          | 0/3105 [00:00<?, ?it/s]"
      ]
     },
     "metadata": {},
     "output_type": "display_data"
    },
    {
     "name": "stdout",
     "output_type": "stream",
     "text": [
      "完成处理样本 NCBI528\n"
     ]
    },
    {
     "data": {
      "application/vnd.jupyter.widget-view+json": {
       "model_id": "f2c827317e2b4f3491c44319ea3d4e23",
       "version_major": 2,
       "version_minor": 0
      },
      "text/plain": [
       "处理 NCBI527 (HVG):   0%|          | 0/3047 [00:00<?, ?it/s]"
      ]
     },
     "metadata": {},
     "output_type": "display_data"
    },
    {
     "name": "stdout",
     "output_type": "stream",
     "text": [
      "完成处理样本 NCBI527\n"
     ]
    },
    {
     "data": {
      "application/vnd.jupyter.widget-view+json": {
       "model_id": "0544e0121df9464ca3a163a84093882e",
       "version_major": 2,
       "version_minor": 0
      },
      "text/plain": [
       "处理 NCBI410 (HVG):   0%|          | 0/152 [00:00<?, ?it/s]"
      ]
     },
     "metadata": {},
     "output_type": "display_data"
    },
    {
     "name": "stdout",
     "output_type": "stream",
     "text": [
      "完成处理样本 NCBI410\n"
     ]
    },
    {
     "data": {
      "application/vnd.jupyter.widget-view+json": {
       "model_id": "eed1ee3a98764759a3ac0e74e3af3ef0",
       "version_major": 2,
       "version_minor": 0
      },
      "text/plain": [
       "处理 NCBI409 (HVG):   0%|          | 0/197 [00:00<?, ?it/s]"
      ]
     },
     "metadata": {},
     "output_type": "display_data"
    },
    {
     "name": "stdout",
     "output_type": "stream",
     "text": [
      "完成处理样本 NCBI409\n"
     ]
    },
    {
     "data": {
      "application/vnd.jupyter.widget-view+json": {
       "model_id": "072d051b6930484c97a78540a21b343d",
       "version_major": 2,
       "version_minor": 0
      },
      "text/plain": [
       "处理 NCBI408 (HVG):   0%|          | 0/240 [00:00<?, ?it/s]"
      ]
     },
     "metadata": {},
     "output_type": "display_data"
    },
    {
     "name": "stdout",
     "output_type": "stream",
     "text": [
      "完成处理样本 NCBI408\n"
     ]
    },
    {
     "data": {
      "application/vnd.jupyter.widget-view+json": {
       "model_id": "6b8c1ca968d5410f9cda91081d5ed6fd",
       "version_major": 2,
       "version_minor": 0
      },
      "text/plain": [
       "处理 NCBI407 (HVG):   0%|          | 0/218 [00:00<?, ?it/s]"
      ]
     },
     "metadata": {},
     "output_type": "display_data"
    },
    {
     "name": "stdout",
     "output_type": "stream",
     "text": [
      "完成处理样本 NCBI407\n"
     ]
    },
    {
     "data": {
      "application/vnd.jupyter.widget-view+json": {
       "model_id": "1ffe3b7685444eb3aee1058ccf39d9db",
       "version_major": 2,
       "version_minor": 0
      },
      "text/plain": [
       "处理 NCBI406 (HVG):   0%|          | 0/269 [00:00<?, ?it/s]"
      ]
     },
     "metadata": {},
     "output_type": "display_data"
    },
    {
     "name": "stdout",
     "output_type": "stream",
     "text": [
      "完成处理样本 NCBI406\n"
     ]
    },
    {
     "data": {
      "application/vnd.jupyter.widget-view+json": {
       "model_id": "f4e69dfbaec74158b73ca7534acfc048",
       "version_major": 2,
       "version_minor": 0
      },
      "text/plain": [
       "处理 NCBI405 (HVG):   0%|          | 0/274 [00:00<?, ?it/s]"
      ]
     },
     "metadata": {},
     "output_type": "display_data"
    },
    {
     "name": "stdout",
     "output_type": "stream",
     "text": [
      "完成处理样本 NCBI405\n"
     ]
    },
    {
     "data": {
      "application/vnd.jupyter.widget-view+json": {
       "model_id": "d2261e323051468a8fe3193f764dfc32",
       "version_major": 2,
       "version_minor": 0
      },
      "text/plain": [
       "处理 NCBI404 (HVG):   0%|          | 0/287 [00:00<?, ?it/s]"
      ]
     },
     "metadata": {},
     "output_type": "display_data"
    },
    {
     "name": "stdout",
     "output_type": "stream",
     "text": [
      "完成处理样本 NCBI404\n"
     ]
    },
    {
     "data": {
      "application/vnd.jupyter.widget-view+json": {
       "model_id": "b4ff0c2c2a344e758f81e795a1e3f960",
       "version_major": 2,
       "version_minor": 0
      },
      "text/plain": [
       "处理 NCBI403 (HVG):   0%|          | 0/326 [00:00<?, ?it/s]"
      ]
     },
     "metadata": {},
     "output_type": "display_data"
    },
    {
     "name": "stdout",
     "output_type": "stream",
     "text": [
      "完成处理样本 NCBI403\n"
     ]
    },
    {
     "data": {
      "application/vnd.jupyter.widget-view+json": {
       "model_id": "97be75fbe13b45d082c74fc2038c4826",
       "version_major": 2,
       "version_minor": 0
      },
      "text/plain": [
       "处理 NCBI402 (HVG):   0%|          | 0/361 [00:00<?, ?it/s]"
      ]
     },
     "metadata": {},
     "output_type": "display_data"
    },
    {
     "name": "stdout",
     "output_type": "stream",
     "text": [
      "完成处理样本 NCBI402\n"
     ]
    },
    {
     "data": {
      "application/vnd.jupyter.widget-view+json": {
       "model_id": "2eefbf7bf2ee4168a31c35607f9e1a76",
       "version_major": 2,
       "version_minor": 0
      },
      "text/plain": [
       "处理 NCBI401 (HVG):   0%|          | 0/357 [00:00<?, ?it/s]"
      ]
     },
     "metadata": {},
     "output_type": "display_data"
    },
    {
     "name": "stdout",
     "output_type": "stream",
     "text": [
      "完成处理样本 NCBI401\n"
     ]
    },
    {
     "data": {
      "application/vnd.jupyter.widget-view+json": {
       "model_id": "103a2497430a49489942ddb18f1a0fbc",
       "version_major": 2,
       "version_minor": 0
      },
      "text/plain": [
       "处理 NCBI400 (HVG):   0%|          | 0/393 [00:00<?, ?it/s]"
      ]
     },
     "metadata": {},
     "output_type": "display_data"
    },
    {
     "name": "stdout",
     "output_type": "stream",
     "text": [
      "完成处理样本 NCBI400\n"
     ]
    },
    {
     "data": {
      "application/vnd.jupyter.widget-view+json": {
       "model_id": "2249e99560e440029f77e6a31f76c3b5",
       "version_major": 2,
       "version_minor": 0
      },
      "text/plain": [
       "处理 NCBI399 (HVG):   0%|          | 0/403 [00:00<?, ?it/s]"
      ]
     },
     "metadata": {},
     "output_type": "display_data"
    },
    {
     "name": "stdout",
     "output_type": "stream",
     "text": [
      "完成处理样本 NCBI399\n"
     ]
    },
    {
     "data": {
      "application/vnd.jupyter.widget-view+json": {
       "model_id": "5604f5535cd346b4bb397443f92e3251",
       "version_major": 2,
       "version_minor": 0
      },
      "text/plain": [
       "处理 NCBI398 (HVG):   0%|          | 0/488 [00:00<?, ?it/s]"
      ]
     },
     "metadata": {},
     "output_type": "display_data"
    },
    {
     "name": "stdout",
     "output_type": "stream",
     "text": [
      "完成处理样本 NCBI398\n"
     ]
    },
    {
     "data": {
      "application/vnd.jupyter.widget-view+json": {
       "model_id": "a2ececea77da40bfa5c0cb770c5bb7ee",
       "version_major": 2,
       "version_minor": 0
      },
      "text/plain": [
       "处理 NCBI397 (HVG):   0%|          | 0/461 [00:00<?, ?it/s]"
      ]
     },
     "metadata": {},
     "output_type": "display_data"
    },
    {
     "name": "stdout",
     "output_type": "stream",
     "text": [
      "完成处理样本 NCBI397\n"
     ]
    },
    {
     "data": {
      "application/vnd.jupyter.widget-view+json": {
       "model_id": "204393193d2d47a987335acff86ae459",
       "version_major": 2,
       "version_minor": 0
      },
      "text/plain": [
       "处理 NCBI396 (HVG):   0%|          | 0/381 [00:00<?, ?it/s]"
      ]
     },
     "metadata": {},
     "output_type": "display_data"
    },
    {
     "name": "stdout",
     "output_type": "stream",
     "text": [
      "完成处理样本 NCBI396\n"
     ]
    },
    {
     "data": {
      "application/vnd.jupyter.widget-view+json": {
       "model_id": "3b241cd2c7664f79ba747f01ba9b9d14",
       "version_major": 2,
       "version_minor": 0
      },
      "text/plain": [
       "处理 NCBI395 (HVG):   0%|          | 0/470 [00:00<?, ?it/s]"
      ]
     },
     "metadata": {},
     "output_type": "display_data"
    },
    {
     "name": "stdout",
     "output_type": "stream",
     "text": [
      "完成处理样本 NCBI395\n"
     ]
    },
    {
     "data": {
      "application/vnd.jupyter.widget-view+json": {
       "model_id": "57cc3fe87b9645a3aa1f4916bc13c391",
       "version_major": 2,
       "version_minor": 0
      },
      "text/plain": [
       "处理 NCBI394 (HVG):   0%|          | 0/491 [00:00<?, ?it/s]"
      ]
     },
     "metadata": {},
     "output_type": "display_data"
    },
    {
     "name": "stdout",
     "output_type": "stream",
     "text": [
      "完成处理样本 NCBI394\n"
     ]
    },
    {
     "data": {
      "application/vnd.jupyter.widget-view+json": {
       "model_id": "388d0598da4149a5ab04ef19cb911c92",
       "version_major": 2,
       "version_minor": 0
      },
      "text/plain": [
       "处理 NCBI393 (HVG):   0%|          | 0/512 [00:00<?, ?it/s]"
      ]
     },
     "metadata": {},
     "output_type": "display_data"
    },
    {
     "name": "stdout",
     "output_type": "stream",
     "text": [
      "完成处理样本 NCBI393\n"
     ]
    },
    {
     "data": {
      "application/vnd.jupyter.widget-view+json": {
       "model_id": "75c5b196ca4b40ce9b87af71e6f06471",
       "version_major": 2,
       "version_minor": 0
      },
      "text/plain": [
       "处理 NCBI392 (HVG):   0%|          | 0/487 [00:00<?, ?it/s]"
      ]
     },
     "metadata": {},
     "output_type": "display_data"
    },
    {
     "name": "stdout",
     "output_type": "stream",
     "text": [
      "完成处理样本 NCBI392\n"
     ]
    },
    {
     "data": {
      "application/vnd.jupyter.widget-view+json": {
       "model_id": "47876aff38f845378851a8a9459b3c09",
       "version_major": 2,
       "version_minor": 0
      },
      "text/plain": [
       "处理 NCBI391 (HVG):   0%|          | 0/522 [00:00<?, ?it/s]"
      ]
     },
     "metadata": {},
     "output_type": "display_data"
    },
    {
     "name": "stdout",
     "output_type": "stream",
     "text": [
      "完成处理样本 NCBI391\n"
     ]
    },
    {
     "data": {
      "application/vnd.jupyter.widget-view+json": {
       "model_id": "ac93e64e9aa848ce89d1c2a5b0386129",
       "version_major": 2,
       "version_minor": 0
      },
      "text/plain": [
       "处理 NCBI390 (HVG):   0%|          | 0/494 [00:00<?, ?it/s]"
      ]
     },
     "metadata": {},
     "output_type": "display_data"
    },
    {
     "name": "stdout",
     "output_type": "stream",
     "text": [
      "完成处理样本 NCBI390\n"
     ]
    },
    {
     "data": {
      "application/vnd.jupyter.widget-view+json": {
       "model_id": "90ef8616925d403ab0b82d585e47c69e",
       "version_major": 2,
       "version_minor": 0
      },
      "text/plain": [
       "处理 NCBI389 (HVG):   0%|          | 0/506 [00:00<?, ?it/s]"
      ]
     },
     "metadata": {},
     "output_type": "display_data"
    },
    {
     "name": "stdout",
     "output_type": "stream",
     "text": [
      "完成处理样本 NCBI389\n"
     ]
    },
    {
     "data": {
      "application/vnd.jupyter.widget-view+json": {
       "model_id": "2ffee8d001bd400f8d9f4d9bae0ba9d4",
       "version_major": 2,
       "version_minor": 0
      },
      "text/plain": [
       "处理 NCBI388 (HVG):   0%|          | 0/546 [00:00<?, ?it/s]"
      ]
     },
     "metadata": {},
     "output_type": "display_data"
    },
    {
     "name": "stdout",
     "output_type": "stream",
     "text": [
      "完成处理样本 NCBI388\n"
     ]
    },
    {
     "data": {
      "application/vnd.jupyter.widget-view+json": {
       "model_id": "64d15acf23f24c41bf9f14acd2021665",
       "version_major": 2,
       "version_minor": 0
      },
      "text/plain": [
       "处理 NCBI387 (HVG):   0%|          | 0/433 [00:00<?, ?it/s]"
      ]
     },
     "metadata": {},
     "output_type": "display_data"
    },
    {
     "name": "stdout",
     "output_type": "stream",
     "text": [
      "完成处理样本 NCBI387\n"
     ]
    },
    {
     "data": {
      "application/vnd.jupyter.widget-view+json": {
       "model_id": "2c995e079544494e8365ef23ed3d7b1d",
       "version_major": 2,
       "version_minor": 0
      },
      "text/plain": [
       "处理 NCBI386 (HVG):   0%|          | 0/509 [00:00<?, ?it/s]"
      ]
     },
     "metadata": {},
     "output_type": "display_data"
    },
    {
     "name": "stdout",
     "output_type": "stream",
     "text": [
      "完成处理样本 NCBI386\n"
     ]
    },
    {
     "data": {
      "application/vnd.jupyter.widget-view+json": {
       "model_id": "690b523cf8184beda6c88c54e351720a",
       "version_major": 2,
       "version_minor": 0
      },
      "text/plain": [
       "处理 NCBI385 (HVG):   0%|          | 0/580 [00:00<?, ?it/s]"
      ]
     },
     "metadata": {},
     "output_type": "display_data"
    },
    {
     "name": "stdout",
     "output_type": "stream",
     "text": [
      "完成处理样本 NCBI385\n"
     ]
    },
    {
     "data": {
      "application/vnd.jupyter.widget-view+json": {
       "model_id": "ac1336e94dee4998b2c4ca2aa42bc8f5",
       "version_major": 2,
       "version_minor": 0
      },
      "text/plain": [
       "处理 NCBI384 (HVG):   0%|          | 0/589 [00:00<?, ?it/s]"
      ]
     },
     "metadata": {},
     "output_type": "display_data"
    },
    {
     "name": "stdout",
     "output_type": "stream",
     "text": [
      "完成处理样本 NCBI384\n"
     ]
    },
    {
     "data": {
      "application/vnd.jupyter.widget-view+json": {
       "model_id": "c29efcfdab5d43999c6d7de9d0a7c02c",
       "version_major": 2,
       "version_minor": 0
      },
      "text/plain": [
       "处理 NCBI383 (HVG):   0%|          | 0/556 [00:00<?, ?it/s]"
      ]
     },
     "metadata": {},
     "output_type": "display_data"
    },
    {
     "name": "stdout",
     "output_type": "stream",
     "text": [
      "完成处理样本 NCBI383\n"
     ]
    },
    {
     "data": {
      "application/vnd.jupyter.widget-view+json": {
       "model_id": "44269f3108714bd794166c733af19596",
       "version_major": 2,
       "version_minor": 0
      },
      "text/plain": [
       "处理 NCBI382 (HVG):   0%|          | 0/546 [00:00<?, ?it/s]"
      ]
     },
     "metadata": {},
     "output_type": "display_data"
    },
    {
     "name": "stdout",
     "output_type": "stream",
     "text": [
      "完成处理样本 NCBI382\n"
     ]
    },
    {
     "data": {
      "application/vnd.jupyter.widget-view+json": {
       "model_id": "807a1c1d3cb74b7dab1f07647335156e",
       "version_major": 2,
       "version_minor": 0
      },
      "text/plain": [
       "处理 NCBI381 (HVG):   0%|          | 0/560 [00:00<?, ?it/s]"
      ]
     },
     "metadata": {},
     "output_type": "display_data"
    },
    {
     "name": "stdout",
     "output_type": "stream",
     "text": [
      "完成处理样本 NCBI381\n"
     ]
    },
    {
     "data": {
      "application/vnd.jupyter.widget-view+json": {
       "model_id": "4dba83c2bfab437aa3bae709e26bfd77",
       "version_major": 2,
       "version_minor": 0
      },
      "text/plain": [
       "处理 NCBI380 (HVG):   0%|          | 0/519 [00:00<?, ?it/s]"
      ]
     },
     "metadata": {},
     "output_type": "display_data"
    },
    {
     "name": "stdout",
     "output_type": "stream",
     "text": [
      "完成处理样本 NCBI380\n"
     ]
    },
    {
     "data": {
      "application/vnd.jupyter.widget-view+json": {
       "model_id": "e7d69936cfa349738a162ba47e6d10d1",
       "version_major": 2,
       "version_minor": 0
      },
      "text/plain": [
       "处理 NCBI379 (HVG):   0%|          | 0/581 [00:00<?, ?it/s]"
      ]
     },
     "metadata": {},
     "output_type": "display_data"
    },
    {
     "name": "stdout",
     "output_type": "stream",
     "text": [
      "完成处理样本 NCBI379\n"
     ]
    },
    {
     "data": {
      "application/vnd.jupyter.widget-view+json": {
       "model_id": "d5e126151f2940969e16b09233c8efa2",
       "version_major": 2,
       "version_minor": 0
      },
      "text/plain": [
       "处理 NCBI378 (HVG):   0%|          | 0/603 [00:00<?, ?it/s]"
      ]
     },
     "metadata": {},
     "output_type": "display_data"
    },
    {
     "name": "stdout",
     "output_type": "stream",
     "text": [
      "完成处理样本 NCBI378\n"
     ]
    },
    {
     "data": {
      "application/vnd.jupyter.widget-view+json": {
       "model_id": "930544ab6583456290c1723628d4f8df",
       "version_major": 2,
       "version_minor": 0
      },
      "text/plain": [
       "处理 NCBI377 (HVG):   0%|          | 0/577 [00:00<?, ?it/s]"
      ]
     },
     "metadata": {},
     "output_type": "display_data"
    },
    {
     "name": "stdout",
     "output_type": "stream",
     "text": [
      "完成处理样本 NCBI377\n"
     ]
    },
    {
     "data": {
      "application/vnd.jupyter.widget-view+json": {
       "model_id": "f70dd6aac05a409b9eb6a181ef8484a3",
       "version_major": 2,
       "version_minor": 0
      },
      "text/plain": [
       "处理 NCBI376 (HVG):   0%|          | 0/571 [00:00<?, ?it/s]"
      ]
     },
     "metadata": {},
     "output_type": "display_data"
    },
    {
     "name": "stdout",
     "output_type": "stream",
     "text": [
      "完成处理样本 NCBI376\n"
     ]
    },
    {
     "data": {
      "application/vnd.jupyter.widget-view+json": {
       "model_id": "f4cbf06ab30f42b39b54bab03cbde9a2",
       "version_major": 2,
       "version_minor": 0
      },
      "text/plain": [
       "处理 NCBI375 (HVG):   0%|          | 0/591 [00:00<?, ?it/s]"
      ]
     },
     "metadata": {},
     "output_type": "display_data"
    },
    {
     "name": "stdout",
     "output_type": "stream",
     "text": [
      "完成处理样本 NCBI375\n"
     ]
    },
    {
     "data": {
      "application/vnd.jupyter.widget-view+json": {
       "model_id": "189e69a2c6de43258dee832fd4d43a91",
       "version_major": 2,
       "version_minor": 0
      },
      "text/plain": [
       "处理 NCBI374 (HVG):   0%|          | 0/604 [00:00<?, ?it/s]"
      ]
     },
     "metadata": {},
     "output_type": "display_data"
    },
    {
     "name": "stdout",
     "output_type": "stream",
     "text": [
      "完成处理样本 NCBI374\n"
     ]
    },
    {
     "data": {
      "application/vnd.jupyter.widget-view+json": {
       "model_id": "c05ae9d4dad14957b4714750da3c971a",
       "version_major": 2,
       "version_minor": 0
      },
      "text/plain": [
       "处理 NCBI373 (HVG):   0%|          | 0/556 [00:00<?, ?it/s]"
      ]
     },
     "metadata": {},
     "output_type": "display_data"
    },
    {
     "name": "stdout",
     "output_type": "stream",
     "text": [
      "完成处理样本 NCBI373\n"
     ]
    },
    {
     "data": {
      "application/vnd.jupyter.widget-view+json": {
       "model_id": "fffd319a53d14d808e648fbf8ee1c5ef",
       "version_major": 2,
       "version_minor": 0
      },
      "text/plain": [
       "处理 NCBI372 (HVG):   0%|          | 0/536 [00:00<?, ?it/s]"
      ]
     },
     "metadata": {},
     "output_type": "display_data"
    },
    {
     "name": "stdout",
     "output_type": "stream",
     "text": [
      "完成处理样本 NCBI372\n"
     ]
    },
    {
     "data": {
      "application/vnd.jupyter.widget-view+json": {
       "model_id": "fef86b91954248b6aa63b43e9cfa642c",
       "version_major": 2,
       "version_minor": 0
      },
      "text/plain": [
       "处理 NCBI371 (HVG):   0%|          | 0/620 [00:00<?, ?it/s]"
      ]
     },
     "metadata": {},
     "output_type": "display_data"
    },
    {
     "name": "stdout",
     "output_type": "stream",
     "text": [
      "完成处理样本 NCBI371\n"
     ]
    },
    {
     "data": {
      "application/vnd.jupyter.widget-view+json": {
       "model_id": "c1661894a2454de1b190f50ff60791c2",
       "version_major": 2,
       "version_minor": 0
      },
      "text/plain": [
       "处理 NCBI370 (HVG):   0%|          | 0/576 [00:00<?, ?it/s]"
      ]
     },
     "metadata": {},
     "output_type": "display_data"
    },
    {
     "name": "stdout",
     "output_type": "stream",
     "text": [
      "完成处理样本 NCBI370\n"
     ]
    },
    {
     "data": {
      "application/vnd.jupyter.widget-view+json": {
       "model_id": "4ca06dfe789f45faa5a4897c812cb0f1",
       "version_major": 2,
       "version_minor": 0
      },
      "text/plain": [
       "处理 NCBI369 (HVG):   0%|          | 0/589 [00:00<?, ?it/s]"
      ]
     },
     "metadata": {},
     "output_type": "display_data"
    },
    {
     "name": "stdout",
     "output_type": "stream",
     "text": [
      "完成处理样本 NCBI369\n"
     ]
    },
    {
     "data": {
      "application/vnd.jupyter.widget-view+json": {
       "model_id": "bc2b36b90e644b6ea1ca365cb65b44a9",
       "version_major": 2,
       "version_minor": 0
      },
      "text/plain": [
       "处理 NCBI368 (HVG):   0%|          | 0/604 [00:00<?, ?it/s]"
      ]
     },
     "metadata": {},
     "output_type": "display_data"
    },
    {
     "name": "stdout",
     "output_type": "stream",
     "text": [
      "完成处理样本 NCBI368\n"
     ]
    },
    {
     "data": {
      "application/vnd.jupyter.widget-view+json": {
       "model_id": "9a6707c175134757966482416272bd34",
       "version_major": 2,
       "version_minor": 0
      },
      "text/plain": [
       "处理 NCBI367 (HVG):   0%|          | 0/574 [00:00<?, ?it/s]"
      ]
     },
     "metadata": {},
     "output_type": "display_data"
    },
    {
     "name": "stdout",
     "output_type": "stream",
     "text": [
      "完成处理样本 NCBI367\n"
     ]
    },
    {
     "data": {
      "application/vnd.jupyter.widget-view+json": {
       "model_id": "2cadb6c068b64ad18f61147cbb395ef3",
       "version_major": 2,
       "version_minor": 0
      },
      "text/plain": [
       "处理 NCBI366 (HVG):   0%|          | 0/639 [00:00<?, ?it/s]"
      ]
     },
     "metadata": {},
     "output_type": "display_data"
    },
    {
     "name": "stdout",
     "output_type": "stream",
     "text": [
      "完成处理样本 NCBI366\n"
     ]
    },
    {
     "data": {
      "application/vnd.jupyter.widget-view+json": {
       "model_id": "31c04b7f215540a180962e27fc99656b",
       "version_major": 2,
       "version_minor": 0
      },
      "text/plain": [
       "处理 NCBI365 (HVG):   0%|          | 0/617 [00:00<?, ?it/s]"
      ]
     },
     "metadata": {},
     "output_type": "display_data"
    },
    {
     "name": "stdout",
     "output_type": "stream",
     "text": [
      "完成处理样本 NCBI365\n"
     ]
    },
    {
     "data": {
      "application/vnd.jupyter.widget-view+json": {
       "model_id": "b68c70142c4d48fdb4021dd930c822bf",
       "version_major": 2,
       "version_minor": 0
      },
      "text/plain": [
       "处理 NCBI364 (HVG):   0%|          | 0/606 [00:00<?, ?it/s]"
      ]
     },
     "metadata": {},
     "output_type": "display_data"
    },
    {
     "name": "stdout",
     "output_type": "stream",
     "text": [
      "完成处理样本 NCBI364\n"
     ]
    },
    {
     "data": {
      "application/vnd.jupyter.widget-view+json": {
       "model_id": "c6095eb6723d489686c637111f0f6999",
       "version_major": 2,
       "version_minor": 0
      },
      "text/plain": [
       "处理 NCBI363 (HVG):   0%|          | 0/508 [00:00<?, ?it/s]"
      ]
     },
     "metadata": {},
     "output_type": "display_data"
    },
    {
     "name": "stdout",
     "output_type": "stream",
     "text": [
      "完成处理样本 NCBI363\n"
     ]
    },
    {
     "data": {
      "application/vnd.jupyter.widget-view+json": {
       "model_id": "4174f195f7234f74bb4cc853b71d2158",
       "version_major": 2,
       "version_minor": 0
      },
      "text/plain": [
       "处理 NCBI362 (HVG):   0%|          | 0/549 [00:00<?, ?it/s]"
      ]
     },
     "metadata": {},
     "output_type": "display_data"
    },
    {
     "name": "stdout",
     "output_type": "stream",
     "text": [
      "完成处理样本 NCBI362\n"
     ]
    },
    {
     "data": {
      "application/vnd.jupyter.widget-view+json": {
       "model_id": "ad4cd93b21c44062a5d744c404e811e0",
       "version_major": 2,
       "version_minor": 0
      },
      "text/plain": [
       "处理 NCBI361 (HVG):   0%|          | 0/534 [00:00<?, ?it/s]"
      ]
     },
     "metadata": {},
     "output_type": "display_data"
    },
    {
     "name": "stdout",
     "output_type": "stream",
     "text": [
      "完成处理样本 NCBI361\n"
     ]
    },
    {
     "data": {
      "application/vnd.jupyter.widget-view+json": {
       "model_id": "5f3da7ef7b8d4931bba9ece0bd9188d0",
       "version_major": 2,
       "version_minor": 0
      },
      "text/plain": [
       "处理 NCBI360 (HVG):   0%|          | 0/508 [00:00<?, ?it/s]"
      ]
     },
     "metadata": {},
     "output_type": "display_data"
    },
    {
     "name": "stdout",
     "output_type": "stream",
     "text": [
      "完成处理样本 NCBI360\n"
     ]
    },
    {
     "data": {
      "application/vnd.jupyter.widget-view+json": {
       "model_id": "6c31665a365542e0a4542a19b8b96db2",
       "version_major": 2,
       "version_minor": 0
      },
      "text/plain": [
       "处理 NCBI359 (HVG):   0%|          | 0/494 [00:00<?, ?it/s]"
      ]
     },
     "metadata": {},
     "output_type": "display_data"
    },
    {
     "name": "stdout",
     "output_type": "stream",
     "text": [
      "完成处理样本 NCBI359\n"
     ]
    },
    {
     "data": {
      "application/vnd.jupyter.widget-view+json": {
       "model_id": "920e41e2a5f6451d94e81cb66fa44e0a",
       "version_major": 2,
       "version_minor": 0
      },
      "text/plain": [
       "处理 NCBI358 (HVG):   0%|          | 0/460 [00:00<?, ?it/s]"
      ]
     },
     "metadata": {},
     "output_type": "display_data"
    },
    {
     "name": "stdout",
     "output_type": "stream",
     "text": [
      "完成处理样本 NCBI358\n"
     ]
    },
    {
     "data": {
      "application/vnd.jupyter.widget-view+json": {
       "model_id": "2e4e9ff5f669405586060caea11113b7",
       "version_major": 2,
       "version_minor": 0
      },
      "text/plain": [
       "处理 NCBI357 (HVG):   0%|          | 0/469 [00:00<?, ?it/s]"
      ]
     },
     "metadata": {},
     "output_type": "display_data"
    },
    {
     "name": "stdout",
     "output_type": "stream",
     "text": [
      "完成处理样本 NCBI357\n"
     ]
    },
    {
     "data": {
      "application/vnd.jupyter.widget-view+json": {
       "model_id": "1a3483e7fe9a46c9ae57e14e8e1aff22",
       "version_major": 2,
       "version_minor": 0
      },
      "text/plain": [
       "处理 NCBI356 (HVG):   0%|          | 0/462 [00:00<?, ?it/s]"
      ]
     },
     "metadata": {},
     "output_type": "display_data"
    },
    {
     "name": "stdout",
     "output_type": "stream",
     "text": [
      "完成处理样本 NCBI356\n"
     ]
    },
    {
     "data": {
      "application/vnd.jupyter.widget-view+json": {
       "model_id": "40af3e8ceacd40899195b7198e23c7d4",
       "version_major": 2,
       "version_minor": 0
      },
      "text/plain": [
       "处理 NCBI355 (HVG):   0%|          | 0/450 [00:00<?, ?it/s]"
      ]
     },
     "metadata": {},
     "output_type": "display_data"
    },
    {
     "name": "stdout",
     "output_type": "stream",
     "text": [
      "完成处理样本 NCBI355\n"
     ]
    },
    {
     "data": {
      "application/vnd.jupyter.widget-view+json": {
       "model_id": "3a3ee0f00c3040b6aa679d11f2fca049",
       "version_major": 2,
       "version_minor": 0
      },
      "text/plain": [
       "处理 NCBI354 (HVG):   0%|          | 0/527 [00:00<?, ?it/s]"
      ]
     },
     "metadata": {},
     "output_type": "display_data"
    },
    {
     "name": "stdout",
     "output_type": "stream",
     "text": [
      "完成处理样本 NCBI354\n"
     ]
    },
    {
     "data": {
      "application/vnd.jupyter.widget-view+json": {
       "model_id": "4966589550394d99b4386e70f07ca739",
       "version_major": 2,
       "version_minor": 0
      },
      "text/plain": [
       "处理 NCBI353 (HVG):   0%|          | 0/548 [00:00<?, ?it/s]"
      ]
     },
     "metadata": {},
     "output_type": "display_data"
    },
    {
     "name": "stdout",
     "output_type": "stream",
     "text": [
      "完成处理样本 NCBI353\n"
     ]
    },
    {
     "data": {
      "application/vnd.jupyter.widget-view+json": {
       "model_id": "e02c757a38d3404a9f61acff52b1de21",
       "version_major": 2,
       "version_minor": 0
      },
      "text/plain": [
       "处理 NCBI352 (HVG):   0%|          | 0/524 [00:00<?, ?it/s]"
      ]
     },
     "metadata": {},
     "output_type": "display_data"
    },
    {
     "name": "stdout",
     "output_type": "stream",
     "text": [
      "完成处理样本 NCBI352\n"
     ]
    },
    {
     "data": {
      "application/vnd.jupyter.widget-view+json": {
       "model_id": "f088fcb4169f416aa10104ed0d0880ff",
       "version_major": 2,
       "version_minor": 0
      },
      "text/plain": [
       "处理 NCBI351 (HVG):   0%|          | 0/484 [00:00<?, ?it/s]"
      ]
     },
     "metadata": {},
     "output_type": "display_data"
    },
    {
     "name": "stdout",
     "output_type": "stream",
     "text": [
      "完成处理样本 NCBI351\n"
     ]
    },
    {
     "data": {
      "application/vnd.jupyter.widget-view+json": {
       "model_id": "285431dbb45048a38a6947506d116108",
       "version_major": 2,
       "version_minor": 0
      },
      "text/plain": [
       "处理 NCBI350 (HVG):   0%|          | 0/490 [00:00<?, ?it/s]"
      ]
     },
     "metadata": {},
     "output_type": "display_data"
    },
    {
     "name": "stdout",
     "output_type": "stream",
     "text": [
      "完成处理样本 NCBI350\n"
     ]
    },
    {
     "data": {
      "application/vnd.jupyter.widget-view+json": {
       "model_id": "3af01a8e38634b4392c228477b9c2986",
       "version_major": 2,
       "version_minor": 0
      },
      "text/plain": [
       "处理 NCBI349 (HVG):   0%|          | 0/478 [00:00<?, ?it/s]"
      ]
     },
     "metadata": {},
     "output_type": "display_data"
    },
    {
     "name": "stdout",
     "output_type": "stream",
     "text": [
      "完成处理样本 NCBI349\n"
     ]
    },
    {
     "data": {
      "application/vnd.jupyter.widget-view+json": {
       "model_id": "096967a405174e848951f79f00b8c93e",
       "version_major": 2,
       "version_minor": 0
      },
      "text/plain": [
       "处理 NCBI348 (HVG):   0%|          | 0/479 [00:00<?, ?it/s]"
      ]
     },
     "metadata": {},
     "output_type": "display_data"
    },
    {
     "name": "stdout",
     "output_type": "stream",
     "text": [
      "完成处理样本 NCBI348\n"
     ]
    },
    {
     "data": {
      "application/vnd.jupyter.widget-view+json": {
       "model_id": "a2bc5cd34870410396bd4de76c381597",
       "version_major": 2,
       "version_minor": 0
      },
      "text/plain": [
       "处理 NCBI347 (HVG):   0%|          | 0/428 [00:00<?, ?it/s]"
      ]
     },
     "metadata": {},
     "output_type": "display_data"
    },
    {
     "name": "stdout",
     "output_type": "stream",
     "text": [
      "完成处理样本 NCBI347\n"
     ]
    },
    {
     "data": {
      "application/vnd.jupyter.widget-view+json": {
       "model_id": "e38a7e9c8f9e487bb3a1720452f4764f",
       "version_major": 2,
       "version_minor": 0
      },
      "text/plain": [
       "处理 NCBI346 (HVG):   0%|          | 0/419 [00:00<?, ?it/s]"
      ]
     },
     "metadata": {},
     "output_type": "display_data"
    },
    {
     "name": "stdout",
     "output_type": "stream",
     "text": [
      "完成处理样本 NCBI346\n"
     ]
    },
    {
     "data": {
      "application/vnd.jupyter.widget-view+json": {
       "model_id": "f008792c266d434d8363a9c0a1f7a35f",
       "version_major": 2,
       "version_minor": 0
      },
      "text/plain": [
       "处理 NCBI345 (HVG):   0%|          | 0/386 [00:00<?, ?it/s]"
      ]
     },
     "metadata": {},
     "output_type": "display_data"
    },
    {
     "name": "stdout",
     "output_type": "stream",
     "text": [
      "完成处理样本 NCBI345\n"
     ]
    },
    {
     "data": {
      "application/vnd.jupyter.widget-view+json": {
       "model_id": "f71d8508eeae4c6499765206fe7085aa",
       "version_major": 2,
       "version_minor": 0
      },
      "text/plain": [
       "处理 NCBI344 (HVG):   0%|          | 0/406 [00:00<?, ?it/s]"
      ]
     },
     "metadata": {},
     "output_type": "display_data"
    },
    {
     "name": "stdout",
     "output_type": "stream",
     "text": [
      "完成处理样本 NCBI344\n"
     ]
    },
    {
     "data": {
      "application/vnd.jupyter.widget-view+json": {
       "model_id": "cdcf220689ed451d924d86c3f2de4a0a",
       "version_major": 2,
       "version_minor": 0
      },
      "text/plain": [
       "处理 NCBI343 (HVG):   0%|          | 0/237 [00:00<?, ?it/s]"
      ]
     },
     "metadata": {},
     "output_type": "display_data"
    },
    {
     "name": "stdout",
     "output_type": "stream",
     "text": [
      "完成处理样本 NCBI343\n"
     ]
    },
    {
     "data": {
      "application/vnd.jupyter.widget-view+json": {
       "model_id": "4e13c8d73e78463fb245fb032f6a4126",
       "version_major": 2,
       "version_minor": 0
      },
      "text/plain": [
       "处理 NCBI342 (HVG):   0%|          | 0/250 [00:00<?, ?it/s]"
      ]
     },
     "metadata": {},
     "output_type": "display_data"
    },
    {
     "name": "stdout",
     "output_type": "stream",
     "text": [
      "完成处理样本 NCBI342\n"
     ]
    },
    {
     "data": {
      "application/vnd.jupyter.widget-view+json": {
       "model_id": "cb94298366e44bc28c3874159dadcf20",
       "version_major": 2,
       "version_minor": 0
      },
      "text/plain": [
       "处理 NCBI341 (HVG):   0%|          | 0/279 [00:00<?, ?it/s]"
      ]
     },
     "metadata": {},
     "output_type": "display_data"
    },
    {
     "name": "stdout",
     "output_type": "stream",
     "text": [
      "完成处理样本 NCBI341\n"
     ]
    },
    {
     "data": {
      "application/vnd.jupyter.widget-view+json": {
       "model_id": "3564802249194579b8b456ec6965e2bb",
       "version_major": 2,
       "version_minor": 0
      },
      "text/plain": [
       "处理 NCBI340 (HVG):   0%|          | 0/276 [00:00<?, ?it/s]"
      ]
     },
     "metadata": {},
     "output_type": "display_data"
    },
    {
     "name": "stdout",
     "output_type": "stream",
     "text": [
      "完成处理样本 NCBI340\n"
     ]
    },
    {
     "data": {
      "application/vnd.jupyter.widget-view+json": {
       "model_id": "d31f4792f0794b0f812cf66195829f04",
       "version_major": 2,
       "version_minor": 0
      },
      "text/plain": [
       "处理 NCBI339 (HVG):   0%|          | 0/245 [00:00<?, ?it/s]"
      ]
     },
     "metadata": {},
     "output_type": "display_data"
    },
    {
     "name": "stdout",
     "output_type": "stream",
     "text": [
      "完成处理样本 NCBI339\n"
     ]
    },
    {
     "data": {
      "application/vnd.jupyter.widget-view+json": {
       "model_id": "62aa5099d3394f92916565cd1f9ebd68",
       "version_major": 2,
       "version_minor": 0
      },
      "text/plain": [
       "处理 NCBI338 (HVG):   0%|          | 0/240 [00:00<?, ?it/s]"
      ]
     },
     "metadata": {},
     "output_type": "display_data"
    },
    {
     "name": "stdout",
     "output_type": "stream",
     "text": [
      "完成处理样本 NCBI338\n"
     ]
    },
    {
     "data": {
      "application/vnd.jupyter.widget-view+json": {
       "model_id": "b7ba9991d2a14f6c81396159818633c3",
       "version_major": 2,
       "version_minor": 0
      },
      "text/plain": [
       "处理 NCBI337 (HVG):   0%|          | 0/188 [00:00<?, ?it/s]"
      ]
     },
     "metadata": {},
     "output_type": "display_data"
    },
    {
     "name": "stdout",
     "output_type": "stream",
     "text": [
      "完成处理样本 NCBI337\n"
     ]
    },
    {
     "data": {
      "application/vnd.jupyter.widget-view+json": {
       "model_id": "c193e85260914db7ba3c0957b742e44a",
       "version_major": 2,
       "version_minor": 0
      },
      "text/plain": [
       "处理 NCBI336 (HVG):   0%|          | 0/214 [00:00<?, ?it/s]"
      ]
     },
     "metadata": {},
     "output_type": "display_data"
    },
    {
     "name": "stdout",
     "output_type": "stream",
     "text": [
      "完成处理样本 NCBI336\n"
     ]
    },
    {
     "name": "stderr",
     "output_type": "stream",
     "text": [
      "\n",
      "KeyboardInterrupt\n",
      "\n"
     ]
    }
   ],
   "source": [
    "from concurrent.futures import ThreadPoolExecutor, ProcessPoolExecutor\n",
    "import threading\n",
    "\n",
    "# --- 3. 基于HVG列表，为每个样本生成句子文件 ---\n",
    "\n",
    "print(\"开始批量生成基于HVG的基因句子文件...\")\n",
    "\n",
    "def process_single_sample(sample):\n",
    "    \"\"\"处理单个样本的函数\"\"\"\n",
    "    try:\n",
    "        # 确保数据已加载\n",
    "        if sample.adata is None:\n",
    "            sample.load_st_data(lazy=False)\n",
    "            sample.adata = sample.adata.to_memory()\n",
    "        if sample.adata is None:\n",
    "            print(f\"跳过样本 {sample.sample_id}，因为无法加载AnnData。\")\n",
    "            return\n",
    "            \n",
    "        anndata_to_sentence_files_hvg(\n",
    "            sample=sample,\n",
    "            hvg_list=global_hvg_list,\n",
    "            output_basedir=sentence_output_basedir_hvg,\n",
    "            n_top_genes_in_sentence=50\n",
    "        )\n",
    "        print(f\"完成处理样本 {sample.sample_id}\")\n",
    "    except Exception as e:\n",
    "        print(f\"处理样本 {sample.sample_id} 时发生严重错误: {e}\")\n",
    "\n",
    "# 使用线程池执行器进行并行处理\n",
    "with ThreadPoolExecutor(max_workers=10) as executor:\n",
    "    # 提交所有任务\n",
    "    futures = [executor.submit(process_single_sample, sample) for sample in brain_samples]\n",
    "    \n",
    "    # 等待所有任务完成并处理结果\n",
    "    for future in tqdm(futures, desc=\"处理所有样本\"):\n",
    "        try:\n",
    "            future.result()  # 这会等待任务完成并获取结果（如果有异常会抛出）\n",
    "        except Exception as e:\n",
    "            print(f\"线程执行时发生错误: {e}\")\n",
    "\n",
    "print(\"\\n所有基于HVG的基因句子已生成并保存到硬盘！\")\n"
   ]
  },
  {
   "cell_type": "code",
   "execution_count": 69,
   "id": "e4af3278",
   "metadata": {},
   "outputs": [
    {
     "name": "stdout",
     "output_type": "stream",
     "text": [
      "\n",
      "--- 对 20 个随机样本进行验证 ---\n"
     ]
    },
    {
     "ename": "KeyboardInterrupt",
     "evalue": "",
     "output_type": "error",
     "traceback": [
      "\u001b[31m---------------------------------------------------------------------------\u001b[39m",
      "\u001b[31mKeyboardInterrupt\u001b[39m                         Traceback (most recent call last)",
      "\u001b[36mCell\u001b[39m\u001b[36m \u001b[39m\u001b[32mIn[69]\u001b[39m\u001b[32m, line 10\u001b[39m\n\u001b[32m      6\u001b[39m num_validations = \u001b[38;5;28mmin\u001b[39m(\u001b[32m20\u001b[39m, \u001b[38;5;28mlen\u001b[39m(brain_samples))  \u001b[38;5;66;03m# 最多验证1000次或所有样本数\u001b[39;00m\n\u001b[32m      8\u001b[39m \u001b[38;5;28mprint\u001b[39m(\u001b[33mf\u001b[39m\u001b[33m\"\u001b[39m\u001b[38;5;130;01m\\n\u001b[39;00m\u001b[33m--- 对 \u001b[39m\u001b[38;5;132;01m{\u001b[39;00mnum_validations\u001b[38;5;132;01m}\u001b[39;00m\u001b[33m 个随机样本进行验证 ---\u001b[39m\u001b[33m\"\u001b[39m)\n\u001b[32m---> \u001b[39m\u001b[32m10\u001b[39m \u001b[38;5;28;01mfor\u001b[39;00m i \u001b[38;5;129;01min\u001b[39;00m \u001b[43mtqdm\u001b[49m\u001b[43m(\u001b[49m\u001b[38;5;28;43mrange\u001b[39;49m\u001b[43m(\u001b[49m\u001b[43mnum_validations\u001b[49m\u001b[43m)\u001b[49m\u001b[43m,\u001b[49m\u001b[43m \u001b[49m\u001b[43mdesc\u001b[49m\u001b[43m=\u001b[49m\u001b[33;43m\"\u001b[39;49m\u001b[33;43m验证样本\u001b[39;49m\u001b[33;43m\"\u001b[39;49m\u001b[43m)\u001b[49m:\n\u001b[32m     11\u001b[39m     \u001b[38;5;66;03m# 随机选择一个样本\u001b[39;00m\n\u001b[32m     12\u001b[39m     random_int = random.randint(\u001b[32m0\u001b[39m, \u001b[38;5;28mlen\u001b[39m(brain_samples) - \u001b[32m1\u001b[39m)\n\u001b[32m     13\u001b[39m     sample_id = brain_samples[random_int].sample_id\n",
      "\u001b[36mFile \u001b[39m\u001b[32m/public/home/jijh/micromamba/envs/imgprocess/lib/python3.12/site-packages/tqdm/std.py:665\u001b[39m, in \u001b[36mtqdm.__new__\u001b[39m\u001b[34m(cls, *_, **__)\u001b[39m\n\u001b[32m    663\u001b[39m \u001b[38;5;28;01mdef\u001b[39;00m\u001b[38;5;250m \u001b[39m\u001b[34m__new__\u001b[39m(\u001b[38;5;28mcls\u001b[39m, *_, **__):\n\u001b[32m    664\u001b[39m     instance = \u001b[38;5;28mobject\u001b[39m.\u001b[34m__new__\u001b[39m(\u001b[38;5;28mcls\u001b[39m)\n\u001b[32m--> \u001b[39m\u001b[32m665\u001b[39m \u001b[43m    \u001b[49m\u001b[38;5;28;43;01mwith\u001b[39;49;00m\u001b[43m \u001b[49m\u001b[38;5;28;43mcls\u001b[39;49m\u001b[43m.\u001b[49m\u001b[43mget_lock\u001b[49m\u001b[43m(\u001b[49m\u001b[43m)\u001b[49m\u001b[43m:\u001b[49m\u001b[43m  \u001b[49m\u001b[38;5;66;43;03m# also constructs lock if non-existent\u001b[39;49;00m\n\u001b[32m    666\u001b[39m \u001b[43m        \u001b[49m\u001b[38;5;28;43mcls\u001b[39;49m\u001b[43m.\u001b[49m\u001b[43m_instances\u001b[49m\u001b[43m.\u001b[49m\u001b[43madd\u001b[49m\u001b[43m(\u001b[49m\u001b[43minstance\u001b[49m\u001b[43m)\u001b[49m\n\u001b[32m    667\u001b[39m \u001b[43m        \u001b[49m\u001b[38;5;66;43;03m# create monitoring thread\u001b[39;49;00m\n",
      "\u001b[36mFile \u001b[39m\u001b[32m/public/home/jijh/micromamba/envs/imgprocess/lib/python3.12/site-packages/tqdm/std.py:111\u001b[39m, in \u001b[36mTqdmDefaultWriteLock.__enter__\u001b[39m\u001b[34m(self)\u001b[39m\n\u001b[32m    110\u001b[39m \u001b[38;5;28;01mdef\u001b[39;00m\u001b[38;5;250m \u001b[39m\u001b[34m__enter__\u001b[39m(\u001b[38;5;28mself\u001b[39m):\n\u001b[32m--> \u001b[39m\u001b[32m111\u001b[39m     \u001b[38;5;28;43mself\u001b[39;49m\u001b[43m.\u001b[49m\u001b[43macquire\u001b[49m\u001b[43m(\u001b[49m\u001b[43m)\u001b[49m\n",
      "\u001b[36mFile \u001b[39m\u001b[32m/public/home/jijh/micromamba/envs/imgprocess/lib/python3.12/site-packages/tqdm/std.py:104\u001b[39m, in \u001b[36mTqdmDefaultWriteLock.acquire\u001b[39m\u001b[34m(self, *a, **k)\u001b[39m\n\u001b[32m    102\u001b[39m \u001b[38;5;28;01mdef\u001b[39;00m\u001b[38;5;250m \u001b[39m\u001b[34macquire\u001b[39m(\u001b[38;5;28mself\u001b[39m, *a, **k):\n\u001b[32m    103\u001b[39m     \u001b[38;5;28;01mfor\u001b[39;00m lock \u001b[38;5;129;01min\u001b[39;00m \u001b[38;5;28mself\u001b[39m.locks:\n\u001b[32m--> \u001b[39m\u001b[32m104\u001b[39m         \u001b[43mlock\u001b[49m\u001b[43m.\u001b[49m\u001b[43macquire\u001b[49m\u001b[43m(\u001b[49m\u001b[43m*\u001b[49m\u001b[43ma\u001b[49m\u001b[43m,\u001b[49m\u001b[43m \u001b[49m\u001b[43m*\u001b[49m\u001b[43m*\u001b[49m\u001b[43mk\u001b[49m\u001b[43m)\u001b[49m\n",
      "\u001b[31mKeyboardInterrupt\u001b[39m: "
     ]
    }
   ],
   "source": [
    "\n",
    "# --- 4. 验证结果 ---\n",
    "# 对多个随机样本进行验证\n",
    "import random\n",
    "\n",
    "validation_results = []\n",
    "num_validations = min(20, len(brain_samples))  # 最多验证1000次或所有样本数\n",
    "\n",
    "print(f\"\\n--- 对 {num_validations} 个随机样本进行验证 ---\")\n",
    "\n",
    "for i in tqdm(range(num_validations), desc=\"验证样本\"):\n",
    "    # 随机选择一个样本\n",
    "    random_int = random.randint(0, len(brain_samples) - 1)\n",
    "    sample_id = brain_samples[random_int].sample_id\n",
    "    sample_sentence_dir = os.path.join(sentence_output_basedir_hvg, f\"{sample_id}_sentences_hvg\")\n",
    "    \n",
    "    if os.path.exists(sample_sentence_dir) and os.listdir(sample_sentence_dir):\n",
    "        sentence_files = os.listdir(sample_sentence_dir)\n",
    "        if sentence_files:  # 确保有文件\n",
    "            random_sentence_file = random.choice(sentence_files)\n",
    "            \n",
    "            try:\n",
    "                with open(os.path.join(sample_sentence_dir, random_sentence_file), 'r') as f:\n",
    "                    content = f.read()\n",
    "                    genes_in_sentence = content.split()\n",
    "                    \n",
    "                    # 检查这些基因是否都在HVG列表中\n",
    "                    are_all_hvgs = all(gene in global_hvg_list for gene in genes_in_sentence)\n",
    "                    \n",
    "                    validation_results.append({\n",
    "                        'sample_id': sample_id,\n",
    "                        'sentence_file': random_sentence_file,\n",
    "                        'num_genes': len(genes_in_sentence),\n",
    "                        'all_hvgs': are_all_hvgs,\n",
    "                        'non_hvg_genes': [gene for gene in genes_in_sentence if gene not in global_hvg_list]\n",
    "                    })\n",
    "            except Exception as e:\n",
    "                validation_results.append({\n",
    "                    'sample_id': sample_id,\n",
    "                    'sentence_file': random_sentence_file,\n",
    "                    'num_genes': 0,\n",
    "                    'all_hvgs': False,\n",
    "                    'error': str(e)\n",
    "                })\n",
    "\n",
    "# 汇总验证结果\n",
    "total_validations = len(validation_results)\n",
    "successful_validations = sum(1 for r in validation_results if r.get('all_hvgs', False))\n",
    "failed_validations = total_validations - successful_validations\n",
    "\n",
    "print(f\"\\n=== 验证结果汇总 ===\")\n",
    "print(f\"总验证次数: {total_validations}\")\n",
    "print(f\"成功验证（所有基因都在HVG列表中）: {successful_validations}\")\n",
    "print(f\"失败验证: {failed_validations}\")\n",
    "print(f\"成功率: {successful_validations/total_validations*100:.2f}%\")\n",
    "\n",
    "# 显示一些失败的案例（如果有的话）\n",
    "if failed_validations > 0:\n",
    "    print(f\"\\n--- 失败案例分析 ---\")\n",
    "    failed_cases = [r for r in validation_results if not r.get('all_hvgs', False)]\n",
    "    for i, case in enumerate(failed_cases[:5]):  # 只显示前5个失败案例\n",
    "        print(f\"失败案例 {i+1}:\")\n",
    "        print(f\"  样本ID: {case['sample_id']}\")\n",
    "        print(f\"  句子文件: {case['sentence_file']}\")\n",
    "        if 'error' in case:\n",
    "            print(f\"  错误: {case['error']}\")\n",
    "        else:\n",
    "            print(f\"  基因数量: {case['num_genes']}\")\n",
    "            print(f\"  非HVG基因: {case['non_hvg_genes']}\")\n",
    "\n",
    "# 显示一些成功的案例\n",
    "print(f\"\\n--- 成功案例示例 ---\")\n",
    "successful_cases = [r for r in validation_results if r.get('all_hvgs', False)]\n",
    "if successful_cases:\n",
    "    sample_case = random.choice(successful_cases)\n",
    "    print(f\"样本ID: {sample_case['sample_id']}\")\n",
    "    print(f\"句子文件: {sample_case['sentence_file']}\")\n",
    "    print(f\"基因数量: {sample_case['num_genes']}\")\n",
    "    print(\"✅ 所有基因都在全局HVG列表中\")"
   ]
  },
  {
   "cell_type": "code",
   "execution_count": 68,
   "id": "2a010482",
   "metadata": {},
   "outputs": [
    {
     "name": "stdout",
     "output_type": "stream",
     "text": [
      "\n",
      "--- 验证样本 NCBI661 的结果 ---\n",
      "随机抽取的句子文件 (NCBI661_10489_8313.txt):\n",
      "Gm42418 Cst3 Apoe Fth1 Nsmf Slc1a2 Clu Camk2a Atp1a2 Malat1 Nrgn Mbp Mt1 Dbi Olfm1 Snap25 Plp1 Ptma Psd Ak5 Ptgds Nfix Slc17a7 Nptxr Camk2n1 6330403K07Rik Scd2 Diras2 Cldn5 Cryab Scn1b Htra1 Trf Dlgap3 Zbtb20 Ncdn Hist1h2bc Cnih2 Mlc1 Crym Rgs7bp Pex16 Adcy1 Ddn Rasl10b Ndfip1 Desi1 Kif5a Bcl11b Cplx2\n",
      "句子中的基因数量: 50\n",
      "句子中的所有基因是否都在全局HVG列表中? 是\n"
     ]
    }
   ],
   "source": [
    "# --- 4. 验证结果 ---\n",
    "# 随机选择一个样本目录进行检查\n",
    "if brain_samples:\n",
    "    # Randomlys select a sample to validate\n",
    "    import random\n",
    "    random_int = random.randint(0, len(brain_samples) - 1)\n",
    "    first_sample_id = brain_samples[random_int].sample_id\n",
    "    sample_sentence_dir = os.path.join(sentence_output_basedir_hvg, f\"{first_sample_id}_sentences_hvg\")\n",
    "    \n",
    "    if os.path.exists(sample_sentence_dir) and os.listdir(sample_sentence_dir):\n",
    "        print(f\"\\n--- 验证样本 {first_sample_id} 的结果 ---\")\n",
    "        sentence_files = os.listdir(sample_sentence_dir)\n",
    "        random_sentence_file = random.choice(sentence_files)\n",
    "        \n",
    "        with open(os.path.join(sample_sentence_dir, random_sentence_file), 'r') as f:\n",
    "            content = f.read()\n",
    "            genes_in_sentence = content.split()\n",
    "            print(f\"随机抽取的句子文件 ({random_sentence_file}):\")\n",
    "            print(content)\n",
    "            print(f\"句子中的基因数量: {len(genes_in_sentence)}\")\n",
    "            # 检查这些基因是否都在HVG列表中\n",
    "            are_all_hvgs = all(gene in global_hvg_list for gene in genes_in_sentence)\n",
    "            print(f\"句子中的所有基因是否都在全局HVG列表中? {'是' if are_all_hvgs else '否'}\")\n",
    "    else:\n",
    "        print(\"未能找到生成的句子文件进行验证。\")"
   ]
  },
  {
   "cell_type": "markdown",
   "id": "3a45d34d",
   "metadata": {},
   "source": [
    "# 采样——人类样本"
   ]
  },
  {
   "cell_type": "code",
   "execution_count": 1,
   "id": "22d09781",
   "metadata": {},
   "outputs": [
    {
     "data": {
      "text/plain": [
       "'/public/home/jijh/diffusion_project/ADiffusion'"
      ]
     },
     "execution_count": 1,
     "metadata": {},
     "output_type": "execute_result"
    }
   ],
   "source": [
    "# --- 安装必要的库 ---\n",
    "# 请确保您已按照上述说明安装了 libvips 系统库\n",
    "# pip install pyvips opencv-python scikit-image tqdm\n",
    "\n",
    "import os\n",
    "import cv2\n",
    "import pandas as pd\n",
    "import numpy as np\n",
    "import matplotlib.pyplot as plt\n",
    "import seaborn as sns\n",
    "from skimage.color import rgb2hed\n",
    "from skimage.filters import threshold_otsu\n",
    "from IPython.display import display, Image as IPImage\n",
    "\n",
    "# # 导入 pyvips 库\n",
    "# try:\n",
    "#     import pyvips\n",
    "# except ImportError:\n",
    "#     print(\"错误: pyvips 库未找到。请按照单元格上方的说明进行安装。\")\n",
    "#     # 在 Notebook 中，我们可以用 raise 来停止执行\n",
    "#     raise\n",
    "\n",
    "# 使用 tqdm.notebook 可以在 Notebook 中显示更好看的进度条\n",
    "from tqdm.auto import tqdm\n",
    "\n",
    "os.chdir(\"/home1/jijh/diffusion_project/ADiffusion\")\n",
    "os.getcwd()\n"
   ]
  },
  {
   "cell_type": "code",
   "execution_count": 5,
   "id": "4a4df236",
   "metadata": {},
   "outputs": [],
   "source": [
    "# --- 安装必要的库 ---\n",
    "# 请确保您已按照上述说明安装了 libvips 系统库\n",
    "# pip install pyvips opencv-python scikit-image tqdm scanpy\n",
    "\n",
    "import os\n",
    "import time  # 导入时间库\n",
    "import random\n",
    "import scanpy as sc\n",
    "import pandas as pd\n",
    "import numpy as np\n",
    "from tqdm.auto import tqdm\n",
    "from scipy.sparse import issparse\n",
    "\n",
    "# 导入您自定义的库\n",
    "# 假设 HESTDataset 和 load_sample_data 函数已正确定义并在环境中可用\n",
    "from src.pipeline.hest_loading import HESTDataset\n",
    "\n",
    "# --- 辅助函数 ---\n",
    "\n",
    "def format_time(seconds: float) -> str:\n",
    "    \"\"\"将秒数格式化为易读的“分-秒”字符串\"\"\"\n",
    "    mins, secs = divmod(seconds, 60)\n",
    "    return f\"{int(mins)}分 {secs:.2f}秒\"\n",
    "\n",
    "def load_sample_data(sample, batch_key: str = 'sample_id'):\n",
    "    \"\"\"Helper function to load a single sample's data\"\"\"\n",
    "    try:\n",
    "        sample.load_st_data(lazy=False)\n",
    "        if sample.adata is not None:\n",
    "            sample.adata.obs_names = [f\"{sample.sample_id}_{obs_name}\" for obs_name in sample.adata.obs_names]\n",
    "            sample.adata.obs[batch_key] = sample.sample_id\n",
    "            return sample.adata.to_memory()\n",
    "        return None\n",
    "    except Exception as e:\n",
    "        print(f\"Error loading sample {sample.sample_id}: {e}\")\n",
    "        return None\n",
    "\n",
    "# --- 核心功能函数 ---\n",
    "def load_and_preprocess_data(\n",
    "    data_dir: str, \n",
    "    cache_path: str,\n",
    "    samples_to_exclude: set\n",
    ") -> sc.AnnData:\n",
    "    \"\"\"\n",
    "    执行数据加载、合并和预处理，并跳过指定的问题样本。\n",
    "    如果缓存文件存在，则直接从缓存加载。\n",
    "    \"\"\"\n",
    "    if os.path.exists(cache_path):\n",
    "        print(f\"✅ 成功从缓存加载预处理过的 AnnData 文件: {cache_path}\")\n",
    "        return sc.read_h5ad(cache_path)\n",
    "\n",
    "    print(\"⚠️ 未能找到缓存文件，开始执行完整的预处理流程...\")\n",
    "    start_time = time.time()\n",
    "    \n",
    "    # 1. 加载所有样本\n",
    "    print(\"初始化HEST数据集管理器...\")\n",
    "    dataset = HESTDataset(data_dir=data_dir)\n",
    "    samples_to_process = dataset.get_samples(species=\"Homo sapiens\")\n",
    "    print(f\"找到 {len(samples_to_process)} 个样本。\")\n",
    "    \n",
    "    adatas = []\n",
    "    skipped_count = 0\n",
    "    for sample in tqdm(samples_to_process, desc=\"加载、过滤并合并AnnData\"):\n",
    "        # 【关键修改】 在加载前检查样本是否在排除列表中\n",
    "        if sample.sample_id in samples_to_exclude:\n",
    "            print(f\"⚠️ 正在跳过问题样本: {sample.sample_id}\")\n",
    "            skipped_count += 1\n",
    "            continue  # 跳过这个样本\n",
    "\n",
    "        adata = load_sample_data(sample, 'sample_id')\n",
    "        if adata is not None:\n",
    "            if adata.var_names.duplicated().any():\n",
    "                adata = adata[:, ~adata.var_names.duplicated()].copy()\n",
    "            adatas.append(adata)\n",
    "            \n",
    "    if not adatas:\n",
    "        raise ValueError(\"未能加载任何有效的AnnData对象。\")\n",
    "\n",
    "    print(f\"\\n成功加载 {len(adatas)} 个样本，跳过了 {skipped_count} 个问题样本。\")\n",
    "\n",
    "    # 2. 合并\n",
    "    adata_merged = sc.concat(adatas, join='outer', uns_merge='unique')\n",
    "    print(f\"所有样本已合并。总尺寸: {adata_merged.shape}\")\n",
    "\n",
    "    # 3. 质量控制 (QC)\n",
    "    print(\"开始进行质量控制和过滤...\")\n",
    "    adata_merged.var['mt'] = adata_merged.var_names.str.startswith(('MT-', 'mt-'))\n",
    "    sc.pp.calculate_qc_metrics(adata_merged, qc_vars=['mt'], inplace=True, percent_top=None, log1p=False)\n",
    "    \n",
    "    sc.pp.filter_cells(adata_merged, min_genes=200)\n",
    "    adata_merged = adata_merged[adata_merged.obs.pct_counts_mt < 20, :].copy()\n",
    "    \n",
    "    min_cells_threshold = int(adata_merged.n_obs * 0.001)\n",
    "    print(f\"增强过滤: 基因必须在至少 {min_cells_threshold} 个 spots 中表达。\")\n",
    "    sc.pp.filter_genes(adata_merged, min_cells=min_cells_threshold)\n",
    "\n",
    "    # 清理 'in_tissue' 列以确保数据类型一致\n",
    "    adata_merged.obs['in_tissue'] = adata_merged.obs['in_tissue'].fillna(0).astype(bool)\n",
    "\n",
    "    print(f\"预处理完成。最终尺寸: {adata_merged.shape}\")\n",
    "    \n",
    "    # 4. 写入缓存\n",
    "    print(f\"正在将预处理结果缓存到: {cache_path}\")\n",
    "    os.makedirs(os.path.dirname(cache_path), exist_ok=True)\n",
    "    adata_merged.write(cache_path)\n",
    "    \n",
    "    end_time = time.time()\n",
    "    print(f\"🕒 完整预处理耗时: {format_time(end_time - start_time)}\")\n",
    "    \n",
    "    return adata_merged\n",
    "\n",
    "def calculate_global_hvgs(\n",
    "    adata_full: sc.AnnData,\n",
    "    n_top_genes: int = 5000,\n",
    "    subsample_fraction: float = 1.0,\n",
    "    flavor: str = 'seurat_v3_paper',\n",
    "    span: float = 0.5,\n",
    "    output_dir: str = \"output/hvgs\",\n",
    "    random_seed: int = 42,\n",
    "    batch_key: str = 'sample_id'\n",
    "):\n",
    "    \"\"\"\n",
    "    在完整或二次采样的数据上计算HVG。专为调试和最终运行设计。\n",
    "    \"\"\"\n",
    "    start_time = time.time() # 开始计时\n",
    "    \n",
    "    print(\"-\" * 50)\n",
    "    is_debug_run = subsample_fraction < 1.0\n",
    "    run_mode = \"⚡️ 快速调试模式 ⚡️\" if is_debug_run else \"🏁 最终运行模式 🏁\"\n",
    "    print(f\"启动HVG计算: {run_mode}\")\n",
    "\n",
    "    adata_proc = adata_full\n",
    "    if is_debug_run:\n",
    "        print(f\"对数据进行二次采样，使用 {subsample_fraction*100:.1f}% 的数据...\")\n",
    "        # 【关键优化】使用随机种子确保每次采样结果一致\n",
    "        adata_proc = sc.pp.subsample(adata_full, fraction=subsample_fraction, copy=True, random_state=random_seed)\n",
    "    else:\n",
    "        adata_proc = adata_full.copy()\n",
    "\n",
    "    print(f\"处理数据维度: {adata_proc.shape}\")\n",
    "\n",
    "    if flavor not in ['seurat_v3', 'seurat_v3_paper']:\n",
    "        print(\"进行标准化和对数变换...\")\n",
    "        sc.pp.normalize_total(adata_proc, target_sum=1e4)\n",
    "        sc.pp.log1p(adata_proc)\n",
    "\n",
    "    print(f\"使用 flavor='{flavor}' 计算高变基因...\")\n",
    "    try:\n",
    "        sc.pp.highly_variable_genes(\n",
    "            adata_proc,\n",
    "            n_top_genes=n_top_genes,\n",
    "            flavor=flavor,\n",
    "            span=span,\n",
    "            batch_key=batch_key\n",
    "        )\n",
    "        hvg_list = adata_proc.var.index[adata_proc.var['highly_variable']]\n",
    "        print(f\"✅ 成功! 找到 {len(hvg_list)} 个高变基因。\")\n",
    "\n",
    "        if not is_debug_run:\n",
    "            os.makedirs(output_dir, exist_ok=True)\n",
    "            hvg_file_path = os.path.join(output_dir, \"global_hvgs.txt\")\n",
    "            with open(hvg_file_path, 'w') as f:\n",
    "                for gene in hvg_list: f.write(f\"{gene}\\n\")\n",
    "            print(f\"✅ 全局HVG列表已保存至: {hvg_file_path}\")\n",
    "        \n",
    "        end_time = time.time() # 结束计时\n",
    "        print(f\"🕒 HVG计算耗时: {format_time(end_time - start_time)}\")\n",
    "        return hvg_list\n",
    "\n",
    "    except Exception as e:\n",
    "        print(f\"\\n❌ 错误: 在HVG计算期间发生错误: {e}\")\n",
    "        # ... (错误处理建议保持不变) ...\n",
    "        end_time = time.time()\n",
    "        print(f\"🕒 HVG计算耗时 (至失败点): {format_time(end_time - start_time)}\")\n",
    "        return None\n",
    "\n"
   ]
  },
  {
   "cell_type": "code",
   "execution_count": null,
   "id": "19488bbe",
   "metadata": {},
   "outputs": [
    {
     "name": "stdout",
     "output_type": "stream",
     "text": [
      "🌱 全局随机种子已设定为: 42\n",
      "✅ 成功从缓存加载预处理过的 AnnData 文件: /cwStorage/nodecw_group/jijh/hest_sentences_human_all/cache/adata_merged_preprocessed.h5ad\n"
     ]
    }
   ],
   "source": [
    "# --- 主执行流程 ---\n",
    "\n",
    "# --- 1. 设置路径和种子 ---\n",
    "data_dir = \"/cwStorage/nodecw_group/jijh/hest_1k\"\n",
    "output_basedir = \"/cwStorage/nodecw_group/jijh/hest_sentences_human_all/\"\n",
    "processed_adata_cache_path = os.path.join(output_basedir, \"cache\", \"adata_merged_preprocessed.h5ad\")\n",
    "subsample_fraction = 0.5\n",
    "batch_key = None  # 用于HVG计算的批次键\n",
    "\n",
    "# 【关键优化】设定全局随机种子以保证结果可复现\n",
    "SEED = 42\n",
    "random.seed(SEED)\n",
    "np.random.seed(SEED)\n",
    "print(f\"🌱 全局随机种子已设定为: {SEED}\")\n",
    "\n",
    "# --- 2. 加载或预处理数据 (高效) ---\n",
    "adata_merged = load_and_preprocess_data(data_dir, processed_adata_cache_path)\n",
    "\n"
   ]
  },
  {
   "cell_type": "code",
   "execution_count": null,
   "id": "893297ab",
   "metadata": {},
   "outputs": [],
   "source": [
    "# --- 1. 设置路径和种子 ---\n",
    "data_dir = \"/cwStorage/nodecw_group/jijh/hest_1k\"\n",
    "output_basedir = \"/cwStorage/nodecw_group/jijh/hest_sentences_human_all/\"\n",
    "processed_adata_cache_path = os.path.join(output_basedir, \"cache\", \"adata_merged_preprocessed.h5ad\")\n",
    "subsample_fraction = 0.5\n",
    "batch_key = None  # 用于HVG计算的批次键\n",
    "\n",
    "\n",
    "# --- 3. 快速调试HVG计算 (在20%的数据上运行) ---\n",
    "print(\"\\n\\n--- 第1步: 在中等规模数据上进行快速调试 ---\")\n",
    "global_hvg_list_debug = calculate_global_hvgs(\n",
    "    adata_full=adata_merged,\n",
    "    n_top_genes=5000,\n",
    "    subsample_fraction=subsample_fraction,  # 使用20%的数据\n",
    "    flavor='seurat_v3_paper',\n",
    "    span=0.5,\n",
    "    output_dir=output_basedir,\n",
    "    random_seed=SEED,  # 传递种子\n",
    "    batch_key=batch_key  # 如果需要，可以传递批次键\n",
    ")\n",
    "\n",
    "# --- 4. 根据调试结果决定下一步 ---\n",
    "if global_hvg_list_debug is not None:\n",
    "    print(\"\\n\\n--- 第2步: 调试成功！准备进行最终计算 ---\")\n",
    "    # ... (后续逻辑保持不变) ...\n",
    "    \n",
    "    # 如果需要自动进行最终计算，请取消下面的注释\n",
    "    # print(\"\\n开始在全部数据上进行最终计算...\")\n",
    "    # global_hvg_list_final = calculate_global_hvgs(\n",
    "    #     adata_full=adata_merged,\n",
    "    #     n_top_genes=5000,\n",
    "    #     subsample_fraction=1.0,  # 使用100%的数据\n",
    "    #     flavor='seurat_v3',\n",
    "    #     span=0.5,\n",
    "    #     output_dir=output_basedir,\n",
    "    #     random_seed=SEED # 在最终运行时也传递种子，保持良好实践\n",
    "    # )\n",
    "    #\n",
    "    # if global_hvg_list_final is not None:\n",
    "    #     print(\"\\n🎉 全部流程成功完成！🎉\")\n",
    "    # else:\n",
    "    #     print(\"\\n❌ 最终计算失败，请检查上面的错误日志。\")\n",
    "\n",
    "else:\n",
    "    print(\"\\n\\n--- 调试失败 ---\")\n",
    "    print(\"❌ 快速调试运行失败。请根据上面的错误信息和建议进行调整。\")"
   ]
  },
  {
   "cell_type": "code",
   "execution_count": null,
   "id": "833852a5",
   "metadata": {},
   "outputs": [],
   "source": []
  },
  {
   "cell_type": "markdown",
   "id": "54cd004f",
   "metadata": {},
   "source": [
    "# 发现是batchkey的问题，检查是哪个样本出了问题"
   ]
  },
  {
   "cell_type": "code",
   "execution_count": 4,
   "id": "3b17adad",
   "metadata": {},
   "outputs": [
    {
     "name": "stdout",
     "output_type": "stream",
     "text": [
      "--- 开始诊断，逐个检查每个样本 ---\n",
      "\n",
      "正在测试样本: TENX158\n",
      "正在测试样本: TENX156\n",
      "正在测试样本: TENX157"
     ]
    },
    {
     "data": {
      "application/vnd.jupyter.widget-view+json": {
       "model_id": "0cbb6619abad46a49f02c508e49eb78a",
       "version_major": 2,
       "version_minor": 0
      },
      "text/plain": [
       "检查样本:   0%|          | 0/649 [00:00<?, ?it/s]"
      ]
     },
     "metadata": {},
     "output_type": "display_data"
    },
    {
     "name": "stdout",
     "output_type": "stream",
     "text": [
      "\n",
      "正在测试样本: TENX155\n",
      "正在测试样本: TENX154\n",
      "\n",
      "\n",
      "正在测试样本: TENX149\n",
      "正在测试样本: TENX153\n",
      "\n",
      "正在测试样本: TENX147\n",
      "正在测试样本: TENX152\n",
      "\n",
      "\n",
      "\n",
      "\n",
      "\n",
      "\n",
      "正在测试样本: TENX148\n",
      "✅ 样本 TENX149 测试通过。\n",
      "\n",
      "正在测试样本: TENX144\n",
      "✅ 样本 TENX153 测试通过。\n",
      "✅ 样本 TENX147 测试通过。\n",
      "正在测试样本: TENX143\n",
      "\n",
      "\n",
      "正在测试样本: NCBI884\n",
      "✅ 样本 TENX154 测试通过。\n",
      "\n",
      "正在测试样本: NCBI883\n",
      "✅ 样本 TENX156 测试通过。\n",
      "\n",
      "正在测试样本: NCBI882\n",
      "✅ 样本 TENX155 测试通过。\n",
      "\n",
      "正在测试样本: NCBI881\n",
      "✅ 样本 TENX157 测试通过。✅ 样本 TENX158 测试通过。\n",
      "✅ 样本 TENX148 测试通过。\n",
      "\n",
      "\n",
      "正在测试样本: NCBI879\n",
      "正在测试样本: NCBI880\n",
      "正在测试样本: NCBI876\n",
      "\n",
      "\n",
      "✅ 样本 NCBI884 测试通过。\n",
      "\n",
      "正在测试样本: NCBI875\n",
      "✅ 样本 NCBI883 测试通过。\n",
      "\n",
      "正在测试样本: NCBI873\n",
      "✅ 样本 NCBI881 测试通过。\n",
      "\n",
      "正在测试样本: NCBI870\n",
      "✅ 样本 NCBI882 测试通过。\n",
      "\n",
      "正在测试样本: NCBI867\n",
      "✅ 样本 TENX144 测试通过。\n",
      "\n",
      "正在测试样本: NCBI866\n",
      "✅ 样本 NCBI879 测试通过。\n",
      "\n",
      "正在测试样本: NCBI865\n",
      "✅ 样本 NCBI880 测试通过。\n",
      "\n",
      "正在测试样本: NCBI864\n",
      "✅ 样本 NCBI876 测试通过。\n",
      "\n",
      "正在测试样本: NCBI861\n",
      "✅ 样本 NCBI875 测试通过。\n",
      "\n",
      "正在测试样本: NCBI860\n",
      "✅ 样本 NCBI873 测试通过。\n",
      "\n",
      "正在测试样本: NCBI859\n",
      "✅ 样本 NCBI870 测试通过。\n",
      "\n",
      "正在测试样本: NCBI858\n",
      "✅ 样本 NCBI867 测试通过。\n",
      "\n",
      "正在测试样本: NCBI857\n",
      "✅ 样本 NCBI864 测试通过。\n",
      "\n",
      "正在测试样本: NCBI856\n",
      "✅ 样本 NCBI866 测试通过。\n",
      "\n",
      "正在测试样本: MISC142\n",
      "✅ 样本 NCBI865 测试通过。\n",
      "✅ 样本 NCBI861 测试通过。\n",
      "正在测试样本: MISC141\n",
      "\n",
      "\n",
      "正在测试样本: MISC140\n",
      "✅ 样本 NCBI860 测试通过。\n",
      "\n",
      "正在测试样本: MISC139\n",
      "✅ 样本 NCBI859 测试通过。\n",
      "\n",
      "正在测试样本: MISC138\n",
      "✅ 样本 NCBI858 测试通过。\n",
      "\n",
      "\n",
      "正在测试样本: MISC136✅ 样本 NCBI856 测试通过。\n",
      "\n",
      "正在测试样本: MISC135\n",
      "✅ 样本 NCBI857 测试通过。\n",
      "\n",
      "正在测试样本: MISC134\n",
      "✅ 样本 MISC142 测试通过。\n",
      "\n",
      "正在测试样本: MISC133\n",
      "✅ 样本 MISC141 测试通过。\n",
      "\n",
      "正在测试样本: MISC132\n",
      "✅ 样本 MISC136 测试通过。\n",
      "\n",
      "正在测试样本: MISC131\n",
      "✅ 样本 MISC138 测试通过。\n",
      "\n",
      "正在测试样本: MISC130\n",
      "✅ 样本 MISC135 测试通过。\n",
      "\n",
      "正在测试样本: MISC129\n",
      "✅ 样本 TENX143 测试通过。\n",
      "\n",
      "正在测试样本: MISC128\n",
      "✅ 样本 MISC139 测试通过。\n",
      "\n",
      "正在测试样本: MISC127\n",
      "✅ 样本 MISC134 测试通过。\n",
      "\n",
      "正在测试样本: MISC126\n",
      "✅ 样本 MISC140 测试通过。\n",
      "\n",
      "正在测试样本: MISC125\n",
      "✅ 样本 MISC133 测试通过。\n",
      "\n",
      "正在测试样本: MISC124\n",
      "✅ 样本 MISC132 测试通过。\n",
      "\n",
      "正在测试样本: MISC123\n",
      "✅ 样本 MISC131 测试通过。\n",
      "\n",
      "正在测试样本: MISC122\n",
      "✅ 样本 MISC125 测试通过。\n",
      "\n",
      "正在测试样本: MISC121\n",
      "✅ 样本 MISC126 测试通过。\n",
      "\n",
      "正在测试样本: MISC120✅ 样本 MISC127 测试通过。\n",
      "\n",
      "正在测试样本: MISC119\n",
      "\n",
      "✅ 样本 MISC129 测试通过。\n",
      "\n",
      "正在测试样本: MISC118\n",
      "✅ 样本 MISC124 测试通过。\n",
      "\n",
      "正在测试样本: MISC117\n",
      "✅ 样本 MISC130 测试通过。\n",
      "\n",
      "正在测试样本: MISC116\n",
      "✅ 样本 MISC122 测试通过。\n",
      "\n",
      "正在测试样本: MISC115\n",
      "✅ 样本 MISC123 测试通过。✅ 样本 MISC128 测试通过。\n",
      "\n",
      "\n",
      "正在测试样本: MISC114\n",
      "正在测试样本: MISC113\n",
      "\n",
      "✅ 样本 MISC121 测试通过。\n",
      "\n",
      "正在测试样本: MISC112\n",
      "✅ 样本 MISC116 测试通过。\n",
      "\n",
      "正在测试样本: MISC111\n",
      "✅ 样本 MISC115 测试通过。\n",
      "\n",
      "正在测试样本: MISC110\n",
      "✅ 样本 MISC118 测试通过。\n",
      "\n",
      "正在测试样本: MISC109\n",
      "✅ 样本 MISC117 测试通过。\n",
      "\n",
      "正在测试样本: MISC108\n",
      "✅ 样本 MISC120 测试通过。\n",
      "\n",
      "正在测试样本: MISC107\n",
      "✅ 样本 MISC113 测试通过。\n",
      "\n",
      "正在测试样本: MISC106\n",
      "✅ 样本 MISC114 测试通过。\n",
      "\n",
      "正在测试样本: MISC105\n",
      "✅ 样本 TENX152 测试通过。\n",
      "✅ 样本 MISC112 测试通过。\n",
      "\n",
      "正在测试样本: MISC104\n",
      "✅ 样本 MISC119 测试通过。\n",
      "\n",
      "正在测试样本: MISC103\n",
      "✅ 样本 MISC110 测试通过。\n",
      "\n",
      "正在测试样本: MISC102\n",
      "\n",
      "正在测试样本: MISC101\n",
      "✅ 样本 MISC109 测试通过。\n",
      "\n",
      "正在测试样本: MISC73\n",
      "✅ 样本 MISC108 测试通过。\n",
      "\n",
      "正在测试样本: MISC72\n",
      "✅ 样本 MISC106 测试通过。\n",
      "\n",
      "正在测试样本: MISC71\n",
      "✅ 样本 MISC107 测试通过。\n",
      "\n",
      "正在测试样本: MISC70✅ 样本 MISC111 测试通过。\n",
      "\n",
      "\n",
      "正在测试样本: MISC69\n",
      "✅ 样本 MISC105 测试通过。\n",
      "\n",
      "正在测试样本: MISC68\n",
      "✅ 样本 MISC102 测试通过。✅ 样本 MISC104 测试通过。\n",
      "\n",
      "\n",
      "正在测试样本: MISC66\n",
      "正在测试样本: MISC67\n",
      "\n",
      "✅ 样本 MISC103 测试通过。\n",
      "\n",
      "正在测试样本: MISC65\n",
      "✅ 样本 MISC101 测试通过。\n",
      "\n",
      "正在测试样本: MISC64\n",
      "✅ 样本 MISC69 测试通过。\n",
      "\n",
      "正在测试样本: MISC63\n",
      "✅ 样本 MISC68 测试通过。\n",
      "\n",
      "正在测试样本: MISC62\n",
      "✅ 样本 MISC71 测试通过。\n",
      "\n",
      "正在测试样本: MISC61\n",
      "✅ 样本 MISC70 测试通过。\n",
      "\n",
      "正在测试样本: MISC60\n",
      "✅ 样本 MISC60 测试通过。\n",
      "\n",
      "正在测试样本: MISC59\n",
      "✅ 样本 MISC61 测试通过。\n",
      "\n",
      "正在测试样本: MISC58\n",
      "✅ 样本 MISC73 测试通过。\n",
      "\n",
      "正在测试样本: MISC57\n",
      "✅ 样本 MISC64 测试通过。\n",
      "\n",
      "正在测试样本: MISC56\n",
      "✅ 样本 MISC72 测试通过。\n",
      "\n",
      "正在测试样本: MISC55\n",
      "✅ 样本 MISC58 测试通过。\n",
      "\n",
      "正在测试样本: MISC54\n",
      "✅ 样本 MISC59 测试通过。\n",
      "\n",
      "正在测试样本: MISC53\n",
      "✅ 样本 MISC57 测试通过。\n",
      "\n",
      "正在测试样本: MISC52\n",
      "✅ 样本 MISC65 测试通过。\n",
      "✅ 样本 MISC66 测试通过。\n",
      "✅ 样本 MISC55 测试通过。\n",
      "\n",
      "正在测试样本: MISC50\n",
      "正在测试样本: MISC51\n",
      "\n",
      "\n",
      "正在测试样本: MISC49\n",
      "✅ 样本 MISC52 测试通过。\n",
      "\n",
      "正在测试样本: MISC48✅ 样本 MISC53 测试通过。\n",
      "\n",
      "✅ 样本 MISC54 测试通过。\n",
      "正在测试样本: MISC47\n",
      "\n",
      "\n",
      "正在测试样本: MISC46\n",
      "✅ 样本 MISC67 测试通过。\n",
      "\n",
      "正在测试样本: MISC45\n",
      "✅ 样本 MISC56 测试通过。\n",
      "\n",
      "正在测试样本: MISC44\n",
      "✅ 样本 MISC44 测试通过。\n",
      "\n",
      "正在测试样本: MISC43\n",
      "✅ 样本 MISC47 测试通过。\n",
      "\n",
      "正在测试样本: MISC42\n",
      "✅ 样本 MISC48 测试通过。\n",
      "\n",
      "正在测试样本: MISC41\n",
      "✅ 样本 MISC45 测试通过。\n",
      "\n",
      "正在测试样本: MISC40\n",
      "✅ 样本 MISC49 测试通过。\n",
      "\n",
      "正在测试样本: MISC39\n",
      "✅ 样本 MISC51 测试通过。\n",
      "\n",
      "正在测试样本: MISC38\n",
      "✅ 样本 MISC63 测试通过。\n",
      "\n",
      "正在测试样本: MISC37\n",
      "✅ 样本 MISC46 测试通过。\n",
      "\n",
      "正在测试样本: MISC36\n",
      "✅ 样本 MISC42 测试通过。\n",
      "\n",
      "正在测试样本: MISC35\n",
      "✅ 样本 MISC43 测试通过。\n",
      "\n",
      "正在测试样本: MISC34\n",
      "✅ 样本 MISC50 测试通过。\n",
      "\n",
      "正在测试样本: MISC33\n",
      "✅ 样本 MISC62 测试通过。\n",
      "\n",
      "正在测试样本: TENX142\n",
      "✅ 样本 MISC38 测试通过。\n",
      "\n",
      "正在测试样本: TENX141\n",
      "✅ 样本 MISC33 测试通过。\n",
      "\n",
      "正在测试样本: TENX140\n",
      "✅ 样本 TENX142 测试通过。\n",
      "\n",
      "正在测试样本: TENX139\n",
      "✅ 样本 TENX141 测试通过。\n",
      "\n",
      "正在测试样本: TENX138\n",
      "✅ 样本 MISC37 测试通过。✅ 样本 TENX140 测试通过。\n",
      "\n",
      "\n",
      "正在测试样本: TENX134\n",
      "正在测试样本: TENX133\n",
      "\n",
      "✅ 样本 MISC34 测试通过。\n",
      "\n",
      "正在测试样本: TENX132\n",
      "✅ 样本 MISC36 测试通过。\n",
      "\n",
      "正在测试样本: TENX128\n",
      "✅ 样本 TENX139 测试通过。\n",
      "\n",
      "正在测试样本: TENX126\n",
      "✅ 样本 TENX134 测试通过。\n",
      "\n",
      "正在测试样本: TENX125\n",
      "✅ 样本 MISC41 测试通过。\n",
      "✅ 样本 TENX133 测试通过。\n",
      "\n",
      "正在测试样本: TENX124\n",
      "\n",
      "正在测试样本: TENX123\n",
      "✅ 样本 TENX138 测试通过。\n",
      "\n",
      "正在测试样本: TENX122\n",
      "✅ 样本 TENX132 测试通过。\n",
      "\n",
      "正在测试样本: TENX121\n",
      "✅ 样本 MISC35 测试通过。\n",
      "\n",
      "正在测试样本: TENX120\n",
      "✅ 样本 TENX126 测试通过。\n",
      "\n",
      "正在测试样本: TENX119\n",
      "✅ 样本 TENX123 测试通过。\n",
      "\n",
      "正在测试样本: TENX118\n",
      "✅ 样本 TENX128 测试通过。\n",
      "\n",
      "正在测试样本: TENX117\n",
      "✅ 样本 TENX122 测试通过。\n",
      "\n",
      "正在测试样本: TENX116\n",
      "✅ 样本 MISC40 测试通过。\n",
      "✅ 样本 MISC39 测试通过。\n",
      "✅ 样本 TENX125 测试通过。\n",
      "\n",
      "正在测试样本: TENX115\n",
      "\n",
      "正在测试样本: TENX114\n",
      "\n",
      "正在测试样本: TENX111\n",
      "✅ 样本 TENX124 测试通过。\n",
      "\n",
      "正在测试样本: TENX106\n",
      "✅ 样本 TENX121 测试通过。\n",
      "✅ 样本 TENX120 测试通过。\n",
      "正在测试样本: TENX105\n",
      "\n",
      "\n",
      "正在测试样本: TENX99\n",
      "✅ 样本 TENX119 测试通过。\n",
      "\n",
      "正在测试样本: TENX98\n",
      "✅ 样本 TENX117 测试通过。\n",
      "\n",
      "正在测试样本: TENX97\n",
      "✅ 样本 TENX118 测试通过。\n",
      "\n",
      "正在测试样本: TENX96\n",
      "✅ 样本 TENX116 测试通过。\n",
      "\n",
      "正在测试样本: TENX95\n",
      "✅ 样本 TENX114 测试通过。\n",
      "✅ 样本 TENX115 测试通过。\n",
      "正在测试样本: TENX94\n",
      "\n",
      "\n",
      "正在测试样本: TENX92\n",
      "✅ 样本 TENX111 测试通过。\n",
      "✅ 样本 TENX106 测试通过。\n",
      "正在测试样本: TENX91\n",
      "\n",
      "\n",
      "正在测试样本: TENX90\n",
      "✅ 样本 TENX105 测试通过。\n",
      "\n",
      "正在测试样本: TENX89\n",
      "✅ 样本 TENX96 测试通过。\n",
      "\n",
      "正在测试样本: TENX73\n",
      "✅ 样本 TENX98 测试通过。\n",
      "✅ 样本 TENX94 测试通过。\n",
      "\n",
      "正在测试样本: TENX72\n",
      "\n",
      "正在测试样本: TENX71\n",
      "✅ 样本 TENX95 测试通过。\n",
      "\n",
      "正在测试样本: TENX70\n",
      "✅ 样本 TENX97 测试通过。\n",
      "\n",
      "正在测试样本: TENX68\n",
      "✅ 样本 TENX99 测试通过。\n",
      "\n",
      "正在测试样本: TENX65\n",
      "✅ 样本 TENX92 测试通过。\n",
      "\n",
      "正在测试样本: TENX62\n",
      "✅ 样本 TENX68 测试通过。\n",
      "\n",
      "正在测试样本: TENX56\n",
      "✅ 样本 TENX90 测试通过。\n",
      "\n",
      "正在测试样本: TENX53\n",
      "✅ 样本 TENX89 测试通过。\n",
      "\n",
      "正在测试样本: TENX51\n",
      "✅ 样本 TENX91 测试通过。\n",
      "\n",
      "正在测试样本: TENX50\n",
      "✅ 样本 TENX56 测试通过。\n",
      "\n",
      "正在测试样本: TENX49\n",
      "✅ 样本 TENX71 测试通过。\n",
      "\n",
      "正在测试样本: TENX46\n",
      "✅ 样本 TENX53 测试通过。\n",
      "\n",
      "正在测试样本: TENX41\n",
      "✅ 样本 TENX50 测试通过。\n",
      "\n",
      "正在测试样本: TENX40✅ 样本 TENX62 测试通过。\n",
      "\n",
      "\n",
      "正在测试样本: TENX39\n",
      "✅ 样本 TENX49 测试通过。\n",
      "\n",
      "正在测试样本: TENX31\n",
      "✅ 样本 TENX51 测试通过。\n",
      "\n",
      "正在测试样本: TENX30\n",
      "✅ 样本 TENX41 测试通过。\n",
      "\n",
      "正在测试样本: TENX29\n",
      "✅ 样本 TENX65 测试通过。\n",
      "\n",
      "正在测试样本: TENX28\n",
      "✅ 样本 TENX30 测试通过。\n",
      "\n",
      "正在测试样本: TENX27\n",
      "✅ 样本 TENX28 测试通过。\n",
      "\n",
      "正在测试样本: TENX24\n",
      "✅ 样本 TENX46 测试通过。\n",
      "\n",
      "正在测试样本: TENX23\n",
      "✅ 样本 TENX39 测试通过。\n",
      "\n",
      "正在测试样本: TENX16\n",
      "✅ 样本 TENX73 测试通过。\n",
      "\n",
      "正在测试样本: TENX15\n",
      "✅ 样本 TENX31 测试通过。\n",
      "\n",
      "正在测试样本: TENX14\n",
      "✅ 样本 TENX23 测试通过。\n",
      "\n",
      "正在测试样本: TENX13\n",
      "✅ 样本 TENX29 测试通过。\n",
      "\n",
      "正在测试样本: ZEN49\n",
      "❌ 样本 TENX15 测试失败! 错误: b'reciprocal condition number  7.1851e-15'\n",
      "\n",
      "正在测试样本: ZEN48\n",
      "✅ 样本 TENX27 测试通过。\n",
      "\n",
      "正在测试样本: ZEN47\n",
      "✅ 样本 TENX40 测试通过。\n",
      "\n",
      "正在测试样本: ZEN46\n",
      "✅ 样本 ZEN49 测试通过。\n",
      "\n",
      "正在测试样本: ZEN45\n",
      "✅ 样本 ZEN48 测试通过。\n",
      "\n",
      "正在测试样本: ZEN44\n",
      "✅ 样本 ZEN47 测试通过。\n",
      "\n",
      "正在测试样本: ZEN43\n",
      "✅ 样本 TENX24 测试通过。\n",
      "\n",
      "正在测试样本: ZEN42\n",
      "✅ 样本 ZEN45 测试通过。\n",
      "\n",
      "正在测试样本: ZEN41\n",
      "✅ 样本 ZEN44 测试通过。\n",
      "\n",
      "正在测试样本: ZEN40\n",
      "✅ 样本 TENX72 测试通过。✅ 样本 TENX13 测试通过。\n",
      "\n",
      "✅ 样本 ZEN46 测试通过。\n",
      "正在测试样本: ZEN39\n",
      "\n",
      "\n",
      "正在测试样本: ZEN38\n",
      "✅ 样本 TENX14 测试通过。\n",
      "\n",
      "正在测试样本: ZEN37\n",
      "\n",
      "正在测试样本: ZEN36\n",
      "✅ 样本 ZEN43 测试通过。\n",
      "\n",
      "正在测试样本: SPA154\n",
      "✅ 样本 ZEN41 测试通过。\n",
      "\n",
      "正在测试样本: SPA153\n",
      "✅ 样本 ZEN42 测试通过。\n",
      "\n",
      "正在测试样本: SPA152\n",
      "✅ 样本 ZEN39 测试通过。\n",
      "\n",
      "正在测试样本: SPA151\n",
      "✅ 样本 ZEN38 测试通过。\n",
      "\n",
      "正在测试样本: SPA150\n",
      "✅ 样本 TENX16 测试通过。\n",
      "\n",
      "正在测试样本: SPA149\n",
      "✅ 样本 SPA154 测试通过。\n",
      "\n",
      "正在测试样本: SPA148\n",
      "✅ 样本 SPA153 测试通过。\n",
      "\n",
      "正在测试样本: SPA147\n",
      "✅ 样本 ZEN40 测试通过。\n",
      "\n",
      "正在测试样本: SPA146\n",
      "✅ 样本 ZEN37 测试通过。\n",
      "\n",
      "正在测试样本: SPA145\n",
      "✅ 样本 SPA152 测试通过。\n",
      "\n",
      "正在测试样本: SPA144\n",
      "✅ 样本 SPA151 测试通过。\n",
      "\n",
      "正在测试样本: SPA143\n",
      "✅ 样本 TENX70 测试通过。\n",
      "✅ 样本 SPA149 测试通过。✅ 样本 SPA150 测试通过。\n",
      "\n",
      "\n",
      "正在测试样本: SPA141\n",
      "正在测试样本: SPA142\n",
      "\n",
      "✅ 样本 SPA148 测试通过。\n",
      "\n",
      "正在测试样本: SPA140\n",
      "✅ 样本 SPA147 测试通过。\n",
      "\n",
      "正在测试样本: SPA139\n",
      "✅ 样本 SPA145 测试通过。\n",
      "\n",
      "正在测试样本: SPA138\n",
      "✅ 样本 SPA146 测试通过。\n",
      "\n",
      "正在测试样本: SPA137\n",
      "✅ 样本 SPA144 测试通过。\n",
      "\n",
      "正在测试样本: SPA136\n",
      "✅ 样本 ZEN36 测试通过。\n",
      "正在测试样本: SPA135\n",
      "\n",
      "\n",
      "正在测试样本: SPA134\n",
      "✅ 样本 SPA143 测试通过。\n",
      "\n",
      "正在测试样本: SPA133\n",
      "✅ 样本 SPA142 测试通过。\n",
      "\n",
      "正在测试样本: SPA132\n",
      "✅ 样本 SPA138 测试通过。\n",
      "\n",
      "正在测试样本: SPA131\n",
      "✅ 样本 SPA140 测试通过。✅ 样本 SPA139 测试通过。\n",
      "\n",
      "正在测试样本: SPA130\n",
      "\n",
      "\n",
      "正在测试样本: SPA129\n",
      "✅ 样本 SPA137 测试通过。\n",
      "\n",
      "正在测试样本: SPA128\n",
      "✅ 样本 SPA141 测试通过。\n",
      "\n",
      "正在测试样本: SPA127\n",
      "✅ 样本 SPA135 测试通过。\n",
      "\n",
      "正在测试样本: SPA126\n",
      "✅ 样本 SPA134 测试通过。\n",
      "\n",
      "正在测试样本: SPA125\n",
      "✅ 样本 SPA133 测试通过。\n",
      "\n",
      "正在测试样本: SPA124\n",
      "✅ 样本 SPA136 测试通过。\n",
      "\n",
      "正在测试样本: SPA123\n",
      "✅ 样本 SPA132 测试通过。\n",
      "\n",
      "正在测试样本: SPA122\n",
      "✅ 样本 SPA130 测试通过。\n",
      "✅ 样本 SPA131 测试通过。\n",
      "正在测试样本: SPA121\n",
      "\n",
      "\n",
      "\n",
      "正在测试样本: SPA120✅ 样本 SPA129 测试通过。\n",
      "\n",
      "正在测试样本: SPA119\n",
      "✅ 样本 SPA128 测试通过。\n",
      "\n",
      "正在测试样本: SPA118\n",
      "✅ 样本 SPA126 测试通过。\n",
      "\n",
      "正在测试样本: SPA117\n",
      "✅ 样本 SPA124 测试通过。\n",
      "\n",
      "正在测试样本: SPA116\n",
      "✅ 样本 SPA125 测试通过。\n",
      "\n",
      "正在测试样本: SPA115\n",
      "✅ 样本 SPA127 测试通过。\n",
      "\n",
      "正在测试样本: SPA114\n",
      "✅ 样本 SPA123 测试通过。\n",
      "\n",
      "正在测试样本: SPA113\n",
      "✅ 样本 SPA122 测试通过。\n",
      "\n",
      "正在测试样本: SPA112\n",
      "✅ 样本 SPA121 测试通过。✅ 样本 SPA120 测试通过。\n",
      "\n",
      "\n",
      "正在测试样本: SPA111✅ 样本 SPA118 测试通过。\n",
      "\n",
      "正在测试样本: SPA110\n",
      "正在测试样本: SPA109\n",
      "\n",
      "\n",
      "✅ 样本 SPA119 测试通过。\n",
      "\n",
      "正在测试样本: SPA108\n",
      "✅ 样本 SPA116 测试通过。✅ 样本 SPA117 测试通过。\n",
      "\n",
      "\n",
      "正在测试样本: SPA106\n",
      "正在测试样本: SPA107\n",
      "\n",
      "✅ 样本 SPA113 测试通过。\n",
      "\n",
      "正在测试样本: SPA105\n",
      "✅ 样本 SPA115 测试通过。\n",
      "\n",
      "正在测试样本: SPA104\n",
      "✅ 样本 SPA114 测试通过。\n",
      "\n",
      "正在测试样本: SPA103\n",
      "✅ 样本 SPA112 测试通过。\n",
      "\n",
      "正在测试样本: SPA102\n",
      "✅ 样本 SPA109 测试通过。\n",
      "\n",
      "正在测试样本: SPA101\n",
      "✅ 样本 SPA111 测试通过。\n",
      "\n",
      "正在测试样本: SPA100\n",
      "✅ 样本 SPA108 测试通过。\n",
      "\n",
      "正在测试样本: SPA99\n",
      "✅ 样本 SPA106 测试通过。\n",
      "✅ 样本 SPA110 测试通过。\n",
      "正在测试样本: SPA98\n",
      "\n",
      "\n",
      "正在测试样本: SPA97\n",
      "✅ 样本 SPA107 测试通过。\n",
      "\n",
      "正在测试样本: SPA96\n",
      "✅ 样本 SPA104 测试通过。\n",
      "\n",
      "正在测试样本: SPA95✅ 样本 SPA105 测试通过。\n",
      "\n",
      "\n",
      "正在测试样本: SPA94\n",
      "✅ 样本 SPA103 测试通过。\n",
      "\n",
      "正在测试样本: SPA93\n",
      "✅ 样本 SPA102 测试通过。\n",
      "\n",
      "正在测试样本: SPA92\n",
      "✅ 样本 SPA101 测试通过。\n",
      "\n",
      "正在测试样本: SPA91\n",
      "✅ 样本 SPA98 测试通过。\n",
      "\n",
      "正在测试样本: SPA90\n",
      "✅ 样本 SPA97 测试通过。\n",
      "\n",
      "正在测试样本: SPA89\n",
      "✅ 样本 SPA100 测试通过。\n",
      "\n",
      "正在测试样本: SPA88\n",
      "✅ 样本 SPA96 测试通过。\n",
      "\n",
      "正在测试样本: SPA87\n",
      "✅ 样本 SPA95 测试通过。\n",
      "\n",
      "正在测试样本: SPA86\n",
      "✅ 样本 SPA93 测试通过。\n",
      "\n",
      "正在测试样本: SPA85\n",
      "✅ 样本 SPA99 测试通过。\n",
      "\n",
      "正在测试样本: SPA84✅ 样本 SPA94 测试通过。\n",
      "\n",
      "\n",
      "正在测试样本: SPA83\n",
      "✅ 样本 SPA92 测试通过。\n",
      "\n",
      "正在测试样本: SPA82\n",
      "✅ 样本 SPA90 测试通过。✅ 样本 SPA91 测试通过。\n",
      "\n",
      "\n",
      "正在测试样本: SPA80\n",
      "正在测试样本: SPA81\n",
      "\n",
      "✅ 样本 SPA88 测试通过。\n",
      "\n",
      "正在测试样本: SPA79\n",
      "✅ 样本 SPA86 测试通过。✅ 样本 SPA89 测试通过。\n",
      "\n",
      "\n",
      "正在测试样本: SPA78\n",
      "正在测试样本: SPA77\n",
      "\n",
      "✅ 样本 SPA85 测试通过。\n",
      "\n",
      "正在测试样本: SPA76\n",
      "✅ 样本 SPA83 测试通过。\n",
      "✅ 样本 SPA87 测试通过。✅ 样本 SPA84 测试通过。\n",
      "正在测试样本: SPA75\n",
      "\n",
      "\n",
      "\n",
      "正在测试样本: SPA74\n",
      "正在测试样本: SPA73\n",
      "\n",
      "✅ 样本 SPA82 测试通过。\n",
      "\n",
      "正在测试样本: SPA72\n",
      "✅ 样本 SPA81 测试通过。\n",
      "\n",
      "正在测试样本: SPA71\n",
      "✅ 样本 SPA79 测试通过。\n",
      "\n",
      "正在测试样本: SPA70\n",
      "✅ 样本 SPA80 测试通过。✅ 样本 SPA78 测试通过。\n",
      "\n",
      "\n",
      "正在测试样本: SPA69\n",
      "\n",
      "正在测试样本: SPA68\n",
      "✅ 样本 SPA77 测试通过。\n",
      "\n",
      "正在测试样本: SPA67\n",
      "✅ 样本 SPA76 测试通过。\n",
      "\n",
      "正在测试样本: SPA66\n",
      "✅ 样本 SPA75 测试通过。\n",
      "\n",
      "正在测试样本: SPA65\n",
      "✅ 样本 SPA74 测试通过。\n",
      "\n",
      "正在测试样本: SPA64\n",
      "✅ 样本 SPA73 测试通过。\n",
      "\n",
      "正在测试样本: SPA63\n",
      "✅ 样本 SPA72 测试通过。\n",
      "\n",
      "\n",
      "正在测试样本: SPA62✅ 样本 SPA71 测试通过。\n",
      "\n",
      "正在测试样本: SPA61\n",
      "✅ 样本 SPA68 测试通过。\n",
      "✅ 样本 SPA69 测试通过。\n",
      "正在测试样本: SPA60\n",
      "\n",
      "\n",
      "正在测试样本: SPA59✅ 样本 SPA70 测试通过。\n",
      "\n",
      "\n",
      "正在测试样本: SPA58\n",
      "✅ 样本 SPA66 测试通过。\n",
      "\n",
      "正在测试样本: SPA57\n",
      "✅ 样本 SPA65 测试通过。\n",
      "\n",
      "正在测试样本: SPA56\n",
      "✅ 样本 SPA67 测试通过。\n",
      "\n",
      "正在测试样本: SPA55\n",
      "✅ 样本 SPA64 测试通过。\n",
      "\n",
      "正在测试样本: SPA54\n",
      "✅ 样本 SPA63 测试通过。\n",
      "\n",
      "正在测试样本: SPA53\n",
      "✅ 样本 SPA62 测试通过。\n",
      "\n",
      "正在测试样本: SPA52\n",
      "✅ 样本 SPA61 测试通过。\n",
      "\n",
      "正在测试样本: SPA51\n",
      "✅ 样本 SPA60 测试通过。\n",
      "\n",
      "正在测试样本: SPA48\n",
      "✅ 样本 SPA58 测试通过。\n",
      "\n",
      "正在测试样本: SPA47\n",
      "✅ 样本 SPA59 测试通过。\n",
      "\n",
      "正在测试样本: SPA46\n",
      "✅ 样本 SPA56 测试通过。\n",
      "\n",
      "正在测试样本: SPA45\n",
      "✅ 样本 SPA57 测试通过。\n",
      "\n",
      "正在测试样本: SPA44\n",
      "✅ 样本 SPA54 测试通过。\n",
      "\n",
      "正在测试样本: SPA43\n",
      "✅ 样本 SPA55 测试通过。\n",
      "✅ 样本 SPA52 测试通过。\n",
      "\n",
      "正在测试样本: SPA42\n",
      "正在测试样本: SPA41\n",
      "\n",
      "✅ 样本 SPA53 测试通过。\n",
      "\n",
      "正在测试样本: SPA40\n",
      "✅ 样本 SPA48 测试通过。\n",
      "\n",
      "正在测试样本: SPA39\n",
      "✅ 样本 SPA51 测试通过。\n",
      "\n",
      "正在测试样本: SPA38\n",
      "✅ 样本 SPA45 测试通过。\n",
      "\n",
      "正在测试样本: SPA37\n",
      "✅ 样本 SPA47 测试通过。\n",
      "\n",
      "正在测试样本: SPA36\n",
      "✅ 样本 SPA44 测试通过。\n",
      "\n",
      "正在测试样本: SPA35\n",
      "✅ 样本 SPA41 测试通过。\n",
      "\n",
      "正在测试样本: SPA34\n",
      "✅ 样本 SPA46 测试通过。✅ 样本 SPA42 测试通过。\n",
      "\n",
      "\n",
      "正在测试样本: SPA33\n",
      "\n",
      "正在测试样本: SPA32\n",
      "✅ 样本 SPA43 测试通过。\n",
      "\n",
      "正在测试样本: SPA31\n",
      "✅ 样本 SPA40 测试通过。\n",
      "\n",
      "正在测试样本: SPA30\n",
      "✅ 样本 SPA39 测试通过。\n",
      "\n",
      "正在测试样本: SPA3\n",
      "✅ 样本 SPA37 测试通过。\n",
      "\n",
      "正在测试样本: SPA2\n",
      "✅ 样本 SPA38 测试通过。\n",
      "\n",
      "正在测试样本: SPA1\n",
      "✅ 样本 SPA36 测试通过。\n",
      "\n",
      "正在测试样本: SPA0\n",
      "✅ 样本 SPA34 测试通过。\n",
      "\n",
      "正在测试样本: INT35\n",
      "✅ 样本 SPA35 测试通过。\n",
      "\n",
      "正在测试样本: INT28\n",
      "✅ 样本 SPA31 测试通过。\n",
      "\n",
      "正在测试样本: INT27\n",
      "✅ 样本 SPA33 测试通过。\n",
      "\n",
      "正在测试样本: INT26\n",
      "✅ 样本 SPA32 测试通过。\n",
      "\n",
      "正在测试样本: INT25\n",
      "✅ 样本 SPA30 测试通过。\n",
      "\n",
      "正在测试样本: INT24\n",
      "✅ 样本 SPA3 测试通过。\n",
      "\n",
      "正在测试样本: INT23\n",
      "✅ 样本 SPA0 测试通过。✅ 样本 SPA1 测试通过。\n",
      "\n",
      "正在测试样本: INT22\n",
      "\n",
      "\n",
      "正在测试样本: INT21\n",
      "✅ 样本 SPA2 测试通过。\n",
      "\n",
      "正在测试样本: INT20\n",
      "✅ 样本 INT35 测试通过。\n",
      "\n",
      "正在测试样本: INT19\n",
      "✅ 样本 INT25 测试通过。\n",
      "\n",
      "正在测试样本: INT18\n",
      "✅ 样本 INT20 测试通过。\n",
      "\n",
      "正在测试样本: INT17✅ 样本 INT28 测试通过。\n",
      "\n",
      "\n",
      "正在测试样本: INT16\n",
      "✅ 样本 INT26 测试通过。\n",
      "\n",
      "正在测试样本: INT15\n",
      "✅ 样本 INT24 测试通过。\n",
      "\n",
      "正在测试样本: INT14\n",
      "✅ 样本 INT22 测试通过。\n",
      "\n",
      "正在测试样本: INT13\n",
      "✅ 样本 INT19 测试通过。\n",
      "\n",
      "正在测试样本: INT12\n",
      "✅ 样本 INT21 测试通过。\n",
      "\n",
      "正在测试样本: INT11\n",
      "✅ 样本 INT27 测试通过。\n",
      "✅ 样本 INT16 测试通过。\n",
      "\n",
      "正在测试样本: INT10\n",
      "\n",
      "正在测试样本: INT9\n",
      "✅ 样本 INT17 测试通过。\n",
      "\n",
      "正在测试样本: INT8\n",
      "✅ 样本 INT23 测试通过。\n",
      "\n",
      "正在测试样本: INT7\n",
      "✅ 样本 INT12 测试通过。\n",
      "\n",
      "正在测试样本: INT6\n",
      "✅ 样本 INT11 测试通过。✅ 样本 INT18 测试通过。\n",
      "\n",
      "\n",
      "正在测试样本: INT5\n",
      "✅ 样本 INT9 测试通过。\n",
      "\n",
      "正在测试样本: INT4\n",
      "\n",
      "正在测试样本: INT3\n",
      "✅ 样本 INT13 测试通过。\n",
      "\n",
      "正在测试样本: INT2\n",
      "✅ 样本 INT7 测试通过。\n",
      "\n",
      "正在测试样本: INT1\n",
      "✅ 样本 INT10 测试通过。\n",
      "\n",
      "正在测试样本: MEND162\n",
      "✅ 样本 INT8 测试通过。\n",
      "\n",
      "正在测试样本: MEND161\n",
      "✅ 样本 INT6 测试通过。\n",
      "\n",
      "正在测试样本: MEND160\n",
      "✅ 样本 INT4 测试通过。\n",
      "\n",
      "正在测试样本: MEND159\n",
      "✅ 样本 INT14 测试通过。\n",
      "\n",
      "正在测试样本: MEND158\n",
      "✅ 样本 INT15 测试通过。\n",
      "\n",
      "正在测试样本: MEND157\n",
      "✅ 样本 INT1 测试通过。\n",
      "✅ 样本 INT2 测试通过。\n",
      "正在测试样本: MEND156\n",
      "\n",
      "\n",
      "正在测试样本: MEND154\n",
      "✅ 样本 MEND162 测试通过。\n",
      "\n",
      "正在测试样本: MEND153\n",
      "✅ 样本 INT3 测试通过。\n",
      "\n",
      "正在测试样本: MEND152\n",
      "✅ 样本 MEND159 测试通过。\n",
      "\n",
      "正在测试样本: MEND151\n",
      "✅ 样本 MEND160 测试通过。\n",
      "\n",
      "正在测试样本: MEND150\n",
      "✅ 样本 INT5 测试通过。\n",
      "\n",
      "正在测试样本: MEND149\n",
      "✅ 样本 MEND161 测试通过。\n",
      "\n",
      "正在测试样本: MEND148\n",
      "✅ 样本 MEND157 测试通过。\n",
      "\n",
      "正在测试样本: MEND147\n",
      "✅ 样本 MEND158 测试通过。\n",
      "\n",
      "正在测试样本: MEND146\n",
      "✅ 样本 MEND153 测试通过。\n",
      "\n",
      "正在测试样本: MEND145\n",
      "✅ 样本 MEND148 测试通过。\n",
      "\n",
      "正在测试样本: MEND144\n",
      "✅ 样本 MEND149 测试通过。\n",
      "\n",
      "正在测试样本: MEND143\n",
      "✅ 样本 MEND154 测试通过。\n",
      "\n",
      "正在测试样本: MEND142\n",
      "✅ 样本 MEND152 测试通过。\n",
      "\n",
      "正在测试样本: MEND141\n",
      "✅ 样本 MEND150 测试通过。\n",
      "\n",
      "正在测试样本: MEND140\n",
      "✅ 样本 MEND151 测试通过。\n",
      "\n",
      "正在测试样本: MEND139\n",
      "✅ 样本 MEND146 测试通过。\n",
      "\n",
      "正在测试样本: MEND96\n",
      "✅ 样本 MEND145 测试通过。\n",
      "\n",
      "正在测试样本: MEND95✅ 样本 MEND147 测试通过。\n",
      "\n",
      "\n",
      "正在测试样本: MEND93\n",
      "✅ 样本 MEND156 测试通过。\n",
      "\n",
      "正在测试样本: MEND92✅ 样本 MEND141 测试通过。\n",
      "\n",
      "\n",
      "正在测试样本: MEND91\n",
      "✅ 样本 MEND143 测试通过。\n",
      "\n",
      "正在测试样本: MEND90\n",
      "✅ 样本 MEND140 测试通过。✅ 样本 MEND93 测试通过。\n",
      "\n",
      "\n",
      "正在测试样本: MEND89\n",
      "正在测试样本: MEND88\n",
      "\n",
      "✅ 样本 MEND142 测试通过。\n",
      "\n",
      "正在测试样本: MEND87\n",
      "✅ 样本 MEND95 测试通过。\n",
      "\n",
      "正在测试样本: MEND86✅ 样本 MEND144 测试通过。\n",
      "\n",
      "\n",
      "正在测试样本: MEND85\n",
      "✅ 样本 MEND96 测试通过。\n",
      "\n",
      "正在测试样本: MEND68\n",
      "✅ 样本 MEND91 测试通过。\n",
      "\n",
      "正在测试样本: MEND67\n",
      "✅ 样本 MEND88 测试通过。\n",
      "\n",
      "正在测试样本: MEND66\n",
      "✅ 样本 MEND139 测试通过。\n",
      "✅ 样本 MEND86 测试通过。\n",
      "正在测试样本: MEND65\n",
      "\n",
      "\n",
      "正在测试样本: MEND64\n",
      "✅ 样本 MEND68 测试通过。\n",
      "\n",
      "正在测试样本: MEND63\n",
      "✅ 样本 MEND87 测试通过。\n",
      "\n",
      "正在测试样本: MEND62\n",
      "✅ 样本 MEND85 测试通过。\n",
      "\n",
      "正在测试样本: MEND61\n",
      "✅ 样本 MEND92 测试通过。\n",
      "\n",
      "正在测试样本: MEND60\n",
      "✅ 样本 MEND67 测试通过。\n",
      "\n",
      "正在测试样本: MEND59\n",
      "✅ 样本 MEND66 测试通过。\n",
      "\n",
      "正在测试样本: MEND54\n",
      "✅ 样本 MEND89 测试通过。\n",
      "\n",
      "正在测试样本: MEND52\n",
      "✅ 样本 MEND90 测试通过。✅ 样本 MEND65 测试通过。\n",
      "\n",
      "\n",
      "正在测试样本: MEND51\n",
      "正在测试样本: MEND49\n",
      "\n",
      "✅ 样本 MEND51 测试通过。\n",
      "\n",
      "正在测试样本: MEND48\n",
      "✅ 样本 MEND54 测试通过。\n",
      "\n",
      "正在测试样本: MEND47\n",
      "✅ 样本 MEND49 测试通过。✅ 样本 MEND64 测试通过。\n",
      "\n",
      "\n",
      "正在测试样本: MEND45\n",
      "正在测试样本: MEND41\n",
      "\n",
      "✅ 样本 MEND61 测试通过。\n",
      "\n",
      "正在测试样本: MEND40\n",
      "✅ 样本 MEND45 测试通过。\n",
      "\n",
      "正在测试样本: MEND39\n",
      "✅ 样本 MEND62 测试通过。\n",
      "\n",
      "正在测试样本: MEND38\n",
      "✅ 样本 MEND47 测试通过。\n",
      "\n",
      "正在测试样本: MEND37\n",
      "✅ 样本 MEND48 测试通过。\n",
      "\n",
      "正在测试样本: MEND36\n",
      "✅ 样本 MEND41 测试通过。\n",
      "\n",
      "正在测试样本: MEND35\n",
      "✅ 样本 MEND63 测试通过。\n",
      "\n",
      "正在测试样本: MEND34\n",
      "✅ 样本 MEND40 测试通过。\n",
      "\n",
      "正在测试样本: MEND33\n",
      "✅ 样本 MEND37 测试通过。\n",
      "\n",
      "正在测试样本: MEND24\n",
      "✅ 样本 MEND39 测试通过。\n",
      "\n",
      "正在测试样本: MEND23\n",
      "✅ 样本 MEND38 测试通过。\n",
      "\n",
      "正在测试样本: MEND22\n",
      "✅ 样本 MEND59 测试通过。\n",
      "\n",
      "正在测试样本: MEND21\n",
      "✅ 样本 MEND36 测试通过。\n",
      "\n",
      "正在测试样本: MEND20\n",
      "✅ 样本 MEND24 测试通过。\n",
      "\n",
      "正在测试样本: MEND19\n",
      "✅ 样本 MEND22 测试通过。\n",
      "\n",
      "正在测试样本: MEND18\n",
      "✅ 样本 MEND34 测试通过。\n",
      "\n",
      "正在测试样本: MEND17\n",
      "✅ 样本 MEND35 测试通过。✅ 样本 MEND23 测试通过。\n",
      "\n",
      "\n",
      "正在测试样本: MEND16\n",
      "正在测试样本: MEND15\n",
      "\n",
      "✅ 样本 MEND33 测试通过。\n",
      "\n",
      "正在测试样本: MEND14\n",
      "✅ 样本 MEND21 测试通过。\n",
      "\n",
      "正在测试样本: MEND13\n",
      "✅ 样本 MEND20 测试通过。\n",
      "\n",
      "正在测试样本: MEND12\n",
      "✅ 样本 MEND60 测试通过。\n",
      "\n",
      "正在测试样本: MEND11\n",
      "✅ 样本 MEND19 测试通过。\n",
      "\n",
      "正在测试样本: MEND10\n",
      "❌ 样本 MEND16 测试失败! 错误: b'There are other near singularities as well. 0.090619'\n",
      "\n",
      "正在测试样本: MEND9\n",
      "✅ 样本 MEND18 测试通过。\n",
      "\n",
      "正在测试样本: MEND8\n",
      "✅ 样本 MEND17 测试通过。\n",
      "\n",
      "正在测试样本: MEND7\n",
      "❌ 样本 MEND13 测试失败! 错误: b'There are other near singularities as well. 0.090619'❌ 样本 MEND14 测试失败! 错误: b'reciprocal condition number  1.4597e-14'\n",
      "\n",
      "\n",
      "正在测试样本: MEND6\n",
      "正在测试样本: MEND5\n",
      "\n",
      "❌ 样本 MEND15 测试失败! 错误: b'There are other near singularities as well. 0.090619'\n",
      "\n",
      "正在测试样本: MEND4\n",
      "❌ 样本 MEND12 测试失败! 错误: b'reciprocal condition number  1.7996e-14'\n",
      "\n",
      "正在测试样本: MEND3\n",
      "❌ 样本 MEND10 测试失败! 错误: b'There are other near singularities as well. 0.090619'\n",
      "\n",
      "正在测试样本: MEND2\n",
      "❌ 样本 MEND9 测试失败! 错误: b'svddc failed in l2fit.'\n",
      "\n",
      "正在测试样本: MEND1\n",
      "✅ 样本 MEND5 测试通过。\n",
      "❌ 样本 MEND8 测试失败! 错误: b'reciprocal condition number  1.0754e-14'\n",
      "正在测试样本: NCBI855\n",
      "\n",
      "\n",
      "正在测试样本: NCBI854\n",
      "❌ 样本 MEND11 测试失败! 错误: b'There are other near singularities as well. 0.090619'\n",
      "\n",
      "正在测试样本: NCBI833\n",
      "✅ 样本 MEND6 测试通过。\n",
      "\n",
      "正在测试样本: NCBI832\n",
      "✅ 样本 MEND4 测试通过。\n",
      "\n",
      "正在测试样本: NCBI831\n",
      "❌ 样本 MEND7 测试失败! 错误: b'There are other near singularities as well. 0.090619'\n",
      "\n",
      "正在测试样本: NCBI830\n",
      "✅ 样本 MEND3 测试通过。\n",
      "\n",
      "正在测试样本: NCBI829\n",
      "❌ 样本 MEND2 测试失败! 错误: b'There are other near singularities as well. 0.090619'\n",
      "\n",
      "正在测试样本: NCBI828\n",
      "❌ 样本 MEND1 测试失败! 错误: b'reciprocal condition number  5.5224e-15'\n",
      "\n",
      "正在测试样本: NCBI827\n",
      "✅ 样本 NCBI855 测试通过。\n",
      "\n",
      "正在测试样本: NCBI826\n",
      "✅ 样本 NCBI854 测试通过。\n",
      "\n",
      "正在测试样本: NCBI785\n",
      "✅ 样本 NCBI831 测试通过。\n",
      "\n",
      "正在测试样本: NCBI784\n",
      "✅ 样本 NCBI828 测试通过。\n",
      "\n",
      "正在测试样本: NCBI783\n",
      "✅ 样本 NCBI785 测试通过。\n",
      "✅ 样本 NCBI827 测试通过。\n",
      "正在测试样本: NCBI776\n",
      "\n",
      "\n",
      "正在测试样本: NCBI771\n",
      "✅ 样本 NCBI826 测试通过。\n",
      "\n",
      "正在测试样本: NCBI770\n",
      "✅ 样本 NCBI832 测试通过。\n",
      "\n",
      "正在测试样本: NCBI769\n",
      "✅ 样本 NCBI830 测试通过。\n",
      "\n",
      "正在测试样本: NCBI768\n",
      "✅ 样本 NCBI829 测试通过。\n",
      "\n",
      "正在测试样本: NCBI767\n",
      "✅ 样本 NCBI833 测试通过。\n",
      "\n",
      "正在测试样本: NCBI766\n",
      "✅ 样本 NCBI783 测试通过。\n",
      "\n",
      "正在测试样本: NCBI765\n",
      "✅ 样本 NCBI784 测试通过。\n",
      "\n",
      "正在测试样本: NCBI764\n",
      "✅ 样本 NCBI770 测试通过。\n",
      "\n",
      "正在测试样本: NCBI763\n",
      "✅ 样本 NCBI771 测试通过。\n",
      "\n",
      "正在测试样本: NCBI762\n",
      "✅ 样本 NCBI769 测试通过。\n",
      "\n",
      "正在测试样本: NCBI761✅ 样本 NCBI767 测试通过。\n",
      "\n",
      "\n",
      "正在测试样本: NCBI760\n",
      "✅ 样本 NCBI768 测试通过。\n",
      "\n",
      "正在测试样本: NCBI759\n",
      "✅ 样本 NCBI765 测试通过。\n",
      "\n",
      "正在测试样本: NCBI714\n",
      "✅ 样本 NCBI766 测试通过。\n",
      "\n",
      "正在测试样本: NCBI713\n",
      "✅ 样本 NCBI764 测试通过。\n",
      "\n",
      "正在测试样本: NCBI712\n",
      "✅ 样本 NCBI763 测试通过。\n",
      "\n",
      "正在测试样本: NCBI711\n",
      "✅ 样本 NCBI762 测试通过。\n",
      "\n",
      "正在测试样本: NCBI710\n",
      "✅ 样本 NCBI760 测试通过。\n",
      "\n",
      "正在测试样本: NCBI709\n",
      "✅ 样本 NCBI761 测试通过。\n",
      "\n",
      "正在测试样本: NCBI708\n",
      "✅ 样本 NCBI759 测试通过。\n",
      "\n",
      "正在测试样本: NCBI707\n",
      "✅ 样本 NCBI714 测试通过。\n",
      "\n",
      "正在测试样本: NCBI706\n",
      "✅ 样本 NCBI710 测试通过。\n",
      "\n",
      "正在测试样本: NCBI705\n",
      "✅ 样本 NCBI709 测试通过。\n",
      "\n",
      "正在测试样本: NCBI704\n",
      "✅ 样本 NCBI707 测试通过。\n",
      "\n",
      "正在测试样本: NCBI703\n",
      "✅ 样本 NCBI708 测试通过。\n",
      "\n",
      "正在测试样本: NCBI702\n",
      "✅ 样本 NCBI711 测试通过。\n",
      "\n",
      "正在测试样本: NCBI701\n",
      "✅ 样本 NCBI713 测试通过。\n",
      "\n",
      "正在测试样本: NCBI700\n",
      "✅ 样本 NCBI712 测试通过。\n",
      "\n",
      "正在测试样本: NCBI699\n",
      "✅ 样本 NCBI705 测试通过。\n",
      "\n",
      "正在测试样本: NCBI698\n",
      "✅ 样本 NCBI706 测试通过。\n",
      "\n",
      "正在测试样本: NCBI697\n",
      "✅ 样本 NCBI703 测试通过。\n",
      "\n",
      "正在测试样本: NCBI696\n",
      "✅ 样本 NCBI702 测试通过。\n",
      "\n",
      "正在测试样本: NCBI695\n",
      "✅ 样本 NCBI701 测试通过。\n",
      "✅ 样本 NCBI704 测试通过。\n",
      "正在测试样本: NCBI694\n",
      "\n",
      "\n",
      "正在测试样本: NCBI693\n",
      "✅ 样本 NCBI698 测试通过。\n",
      "\n",
      "正在测试样本: NCBI692\n",
      "✅ 样本 NCBI700 测试通过。\n",
      "\n",
      "正在测试样本: NCBI691\n",
      "✅ 样本 NCBI699 测试通过。\n",
      "\n",
      "正在测试样本: NCBI690\n",
      "✅ 样本 NCBI697 测试通过。\n",
      "\n",
      "正在测试样本: NCBI684\n",
      "✅ 样本 NCBI694 测试通过。\n",
      "\n",
      "正在测试样本: NCBI683\n",
      "✅ 样本 NCBI693 测试通过。\n",
      "\n",
      "正在测试样本: NCBI682\n",
      "✅ 样本 NCBI695 测试通过。\n",
      "\n",
      "正在测试样本: NCBI681\n",
      "✅ 样本 NCBI696 测试通过。\n",
      "\n",
      "正在测试样本: NCBI675\n",
      "✅ 样本 NCBI692 测试通过。\n",
      "\n",
      "正在测试样本: NCBI674\n",
      "✅ 样本 NCBI691 测试通过。\n",
      "\n",
      "正在测试样本: NCBI673\n",
      "✅ 样本 NCBI690 测试通过。\n",
      "\n",
      "正在测试样本: NCBI672\n",
      "✅ 样本 NCBI776 测试通过。\n",
      "\n",
      "正在测试样本: NCBI657\n",
      "❌ 样本 NCBI657 测试失败! 错误: b'There are other near singularities as well. 0.090619'\n",
      "\n",
      "正在测试样本: NCBI656\n",
      "✅ 样本 NCBI675 测试通过。\n",
      "\n",
      "正在测试样本: NCBI655\n",
      "✅ 样本 NCBI674 测试通过。\n",
      "\n",
      "正在测试样本: NCBI654\n",
      "✅ 样本 NCBI672 测试通过。\n",
      "\n",
      "正在测试样本: NCBI653\n",
      "✅ 样本 NCBI656 测试通过。\n",
      "\n",
      "正在测试样本: NCBI643\n",
      "✅ 样本 NCBI673 测试通过。\n",
      "\n",
      "正在测试样本: NCBI642\n",
      "✅ 样本 NCBI655 测试通过。\n",
      "\n",
      "正在测试样本: NCBI641\n",
      "✅ 样本 NCBI653 测试通过。\n",
      "\n",
      "正在测试样本: NCBI640\n",
      "✅ 样本 NCBI684 测试通过。\n",
      "\n",
      "正在测试样本: NCBI639\n",
      "✅ 样本 NCBI654 测试通过。\n",
      "\n",
      "正在测试样本: NCBI638\n",
      "✅ 样本 NCBI683 测试通过。\n",
      "\n",
      "正在测试样本: NCBI637\n",
      "✅ 样本 NCBI639 测试通过。\n",
      "\n",
      "正在测试样本: NCBI636\n",
      "✅ 样本 NCBI640 测试通过。\n",
      "\n",
      "正在测试样本: NCBI635\n",
      "✅ 样本 NCBI681 测试通过。\n",
      "\n",
      "正在测试样本: NCBI634\n",
      "✅ 样本 NCBI642 测试通过。\n",
      "\n",
      "正在测试样本: NCBI633\n",
      "✅ 样本 NCBI641 测试通过。\n",
      "\n",
      "正在测试样本: NCBI632\n",
      "✅ 样本 NCBI643 测试通过。\n",
      "\n",
      "正在测试样本: NCBI631\n",
      "✅ 样本 NCBI638 测试通过。\n",
      "\n",
      "正在测试样本: NCBI630\n",
      "✅ 样本 NCBI637 测试通过。\n",
      "\n",
      "正在测试样本: NCBI629\n",
      "✅ 样本 NCBI636 测试通过。\n",
      "\n",
      "正在测试样本: NCBI628\n",
      "✅ 样本 NCBI682 测试通过。\n",
      "\n",
      "正在测试样本: NCBI603\n",
      "✅ 样本 NCBI635 测试通过。\n",
      "\n",
      "正在测试样本: NCBI602\n",
      "✅ 样本 NCBI634 测试通过。\n",
      "\n",
      "正在测试样本: NCBI601\n",
      "✅ 样本 NCBI631 测试通过。\n",
      "\n",
      "正在测试样本: NCBI600\n",
      "✅ 样本 NCBI603 测试通过。\n",
      "\n",
      "正在测试样本: NCBI599\n",
      "✅ 样本 NCBI628 测试通过。\n",
      "✅ 样本 NCBI632 测试通过。\n",
      "正在测试样本: NCBI595\n",
      "\n",
      "\n",
      "正在测试样本: NCBI594\n",
      "✅ 样本 NCBI633 测试通过。\n",
      "\n",
      "正在测试样本: NCBI593\n",
      "✅ 样本 NCBI630 测试通过。\n",
      "\n",
      "正在测试样本: NCBI592\n",
      "✅ 样本 NCBI600 测试通过。\n",
      "\n",
      "正在测试样本: NCBI591\n",
      "✅ 样本 NCBI601 测试通过。\n",
      "\n",
      "正在测试样本: NCBI576\n",
      "✅ 样本 NCBI602 测试通过。\n",
      "\n",
      "正在测试样本: NCBI575\n",
      "✅ 样本 NCBI595 测试通过。\n",
      "\n",
      "正在测试样本: NCBI574\n",
      "✅ 样本 NCBI593 测试通过。\n",
      "\n",
      "正在测试样本: NCBI573\n",
      "✅ 样本 NCBI629 测试通过。\n",
      "\n",
      "正在测试样本: NCBI821\n",
      "✅ 样本 NCBI599 测试通过。\n",
      "\n",
      "\n",
      "正在测试样本: NCBI820✅ 样本 NCBI592 测试通过。\n",
      "\n",
      "正在测试样本: NCBI819\n",
      "✅ 样本 NCBI594 测试通过。\n",
      "\n",
      "正在测试样本: NCBI818\n",
      "✅ 样本 NCBI591 测试通过。\n",
      "✅ 样本 NCBI576 测试通过。\n",
      "正在测试样本: NCBI817\n",
      "\n",
      "\n",
      "正在测试样本: NCBI816\n",
      "✅ 样本 NCBI575 测试通过。\n",
      "\n",
      "正在测试样本: NCBI815\n",
      "✅ 样本 NCBI818 测试通过。\n",
      "\n",
      "正在测试样本: NCBI814\n",
      "✅ 样本 NCBI819 测试通过。\n",
      "\n",
      "正在测试样本: NCBI813\n",
      "✅ 样本 NCBI820 测试通过。\n",
      "\n",
      "正在测试样本: NCBI812\n",
      "✅ 样本 NCBI817 测试通过。\n",
      "\n",
      "正在测试样本: NCBI811\n",
      "✅ 样本 NCBI574 测试通过。\n",
      "\n",
      "正在测试样本: NCBI572\n",
      "✅ 样本 NCBI816 测试通过。\n",
      "✅ 样本 NCBI573 测试通过。\n",
      "\n",
      "正在测试样本: NCBI571\n",
      "\n",
      "正在测试样本: NCBI570\n",
      "✅ 样本 NCBI821 测试通过。\n",
      "\n",
      "正在测试样本: NCBI569\n",
      "❌ 样本 NCBI814 测试失败! 错误: b'There are other near singularities as well. 0.090619'\n",
      "\n",
      "正在测试样本: NCBI568\n",
      "✅ 样本 NCBI815 测试通过。\n",
      "\n",
      "正在测试样本: NCBI567\n",
      "✅ 样本 NCBI813 测试通过。\n",
      "\n",
      "正在测试样本: NCBI566\n",
      "✅ 样本 NCBI811 测试通过。\n",
      "\n",
      "正在测试样本: NCBI565\n",
      "✅ 样本 NCBI812 测试通过。\n",
      "\n",
      "正在测试样本: NCBI564\n",
      "✅ 样本 NCBI567 测试通过。\n",
      "\n",
      "正在测试样本: NCBI563\n",
      "✅ 样本 NCBI568 测试通过。\n",
      "\n",
      "正在测试样本: NCBI562\n",
      "✅ 样本 NCBI566 测试通过。\n",
      "\n",
      "正在测试样本: NCBI540\n",
      "✅ 样本 NCBI571 测试通过。\n",
      "\n",
      "正在测试样本: NCBI539\n",
      "✅ 样本 NCBI564 测试通过。\n",
      "\n",
      "正在测试样本: NCBI538\n",
      "✅ 样本 NCBI572 测试通过。\n",
      "\n",
      "正在测试样本: NCBI537\n",
      "✅ 样本 NCBI565 测试通过。\n",
      "\n",
      "正在测试样本: NCBI536\n",
      "✅ 样本 NCBI570 测试通过。\n",
      "\n",
      "正在测试样本: NCBI535\n",
      "✅ 样本 NCBI540 测试通过。\n",
      "✅ 样本 NCBI538 测试通过。\n",
      "正在测试样本: NCBI534\n",
      "\n",
      "\n",
      "正在测试样本: NCBI526\n",
      "✅ 样本 NCBI569 测试通过。\n",
      "\n",
      "正在测试样本: NCBI525\n",
      "✅ 样本 NCBI563 测试通过。\n",
      "\n",
      "正在测试样本: NCBI524\n",
      "✅ 样本 NCBI536 测试通过。\n",
      "\n",
      "正在测试样本: NCBI523\n",
      "✅ 样本 NCBI539 测试通过。\n",
      "\n",
      "正在测试样本: NCBI522\n",
      "✅ 样本 NCBI537 测试通过。\n",
      "\n",
      "正在测试样本: NCBI521\n",
      "✅ 样本 NCBI562 测试通过。\n",
      "\n",
      "正在测试样本: NCBI520\n",
      "✅ 样本 NCBI525 测试通过。\n",
      "✅ 样本 NCBI526 测试通过。\n",
      "正在测试样本: NCBI519\n",
      "\n",
      "\n",
      "正在测试样本: NCBI518\n",
      "✅ 样本 NCBI535 测试通过。\n",
      "\n",
      "正在测试样本: NCBI517\n",
      "✅ 样本 NCBI534 测试通过。✅ 样本 NCBI524 测试通过。\n",
      "\n",
      "\n",
      "正在测试样本: NCBI516\n",
      "正在测试样本: NCBI515\n",
      "\n",
      "✅ 样本 NCBI522 测试通过。\n",
      "\n",
      "正在测试样本: NCBI510\n",
      "✅ 样本 NCBI523 测试通过。\n",
      "\n",
      "正在测试样本: NCBI509\n",
      "✅ 样本 NCBI521 测试通过。\n",
      "\n",
      "正在测试样本: NCBI508\n",
      "✅ 样本 NCBI518 测试通过。\n",
      "\n",
      "正在测试样本: NCBI507\n",
      "✅ 样本 NCBI517 测试通过。\n",
      "\n",
      "正在测试样本: NCBI506\n",
      "✅ 样本 NCBI520 测试通过。\n",
      "\n",
      "正在测试样本: NCBI505\n",
      "✅ 样本 NCBI516 测试通过。\n",
      "\n",
      "正在测试样本: NCBI504\n",
      "✅ 样本 NCBI519 测试通过。\n",
      "\n",
      "正在测试样本: NCBI503\n",
      "✅ 样本 NCBI509 测试通过。\n",
      "\n",
      "正在测试样本: NCBI498\n",
      "✅ 样本 NCBI510 测试通过。\n",
      "\n",
      "正在测试样本: NCBI497\n",
      "✅ 样本 NCBI515 测试通过。\n",
      "\n",
      "正在测试样本: NCBI496\n",
      "✅ 样本 NCBI508 测试通过。\n",
      "\n",
      "正在测试样本: NCBI495\n",
      "✅ 样本 NCBI507 测试通过。\n",
      "\n",
      "正在测试样本: NCBI494\n",
      "✅ 样本 NCBI506 测试通过。\n",
      "\n",
      "正在测试样本: NCBI493\n",
      "✅ 样本 NCBI505 测试通过。\n",
      "\n",
      "正在测试样本: NCBI492\n",
      "✅ 样本 NCBI498 测试通过。\n",
      "\n",
      "正在测试样本: NCBI491\n",
      "✅ 样本 NCBI503 测试通过。\n",
      "\n",
      "正在测试样本: NCBI490\n",
      "✅ 样本 NCBI497 测试通过。✅ 样本 NCBI504 测试通过。\n",
      "\n",
      "\n",
      "正在测试样本: NCBI489\n",
      "\n",
      "正在测试样本: NCBI488\n",
      "✅ 样本 NCBI496 测试通过。\n",
      "\n",
      "正在测试样本: NCBI487\n",
      "✅ 样本 NCBI495 测试通过。\n",
      "\n",
      "正在测试样本: NCBI486\n",
      "✅ 样本 NCBI493 测试通过。\n",
      "\n",
      "正在测试样本: NCBI485✅ 样本 NCBI492 测试通过。\n",
      "\n",
      "\n",
      "正在测试样本: NCBI484\n",
      "✅ 样本 NCBI494 测试通过。\n",
      "\n",
      "正在测试样本: NCBI483\n",
      "✅ 样本 NCBI491 测试通过。\n",
      "\n",
      "正在测试样本: NCBI482\n",
      "✅ 样本 NCBI490 测试通过。\n",
      "\n",
      "正在测试样本: NCBI481\n",
      "✅ 样本 NCBI489 测试通过。\n",
      "✅ 样本 NCBI487 测试通过。\n",
      "正在测试样本: NCBI480\n",
      "\n",
      "\n",
      "正在测试样本: NCBI479\n",
      "✅ 样本 NCBI488 测试通过。\n",
      "\n",
      "正在测试样本: NCBI478\n",
      "✅ 样本 NCBI486 测试通过。\n",
      "\n",
      "正在测试样本: NCBI477\n",
      "✅ 样本 NCBI484 测试通过。\n",
      "\n",
      "正在测试样本: NCBI476\n",
      "✅ 样本 NCBI485 测试通过。\n",
      "\n",
      "正在测试样本: NCBI475\n",
      "✅ 样本 NCBI482 测试通过。\n",
      "\n",
      "正在测试样本: NCBI474\n",
      "✅ 样本 NCBI483 测试通过。\n",
      "\n",
      "正在测试样本: NCBI473\n",
      "✅ 样本 NCBI481 测试通过。\n",
      "\n",
      "正在测试样本: NCBI472\n",
      "✅ 样本 NCBI480 测试通过。\n",
      "\n",
      "正在测试样本: NCBI471\n",
      "✅ 样本 NCBI478 测试通过。\n",
      "\n",
      "正在测试样本: NCBI470\n",
      "✅ 样本 NCBI477 测试通过。\n",
      "\n",
      "正在测试样本: NCBI469\n",
      "✅ 样本 NCBI479 测试通过。\n",
      "\n",
      "正在测试样本: NCBI468\n",
      "✅ 样本 NCBI476 测试通过。\n",
      "\n",
      "正在测试样本: NCBI467\n",
      "✅ 样本 NCBI474 测试通过。\n",
      "✅ 样本 NCBI475 测试通过。\n",
      "正在测试样本: NCBI466\n",
      "\n",
      "\n",
      "正在测试样本: NCBI465\n",
      "✅ 样本 NCBI473 测试通过。\n",
      "\n",
      "正在测试样本: NCBI464\n",
      "✅ 样本 NCBI472 测试通过。\n",
      "\n",
      "正在测试样本: NCBI463\n",
      "✅ 样本 NCBI471 测试通过。\n",
      "\n",
      "正在测试样本: NCBI462\n",
      "✅ 样本 NCBI469 测试通过。\n",
      "\n",
      "正在测试样本: NCBI461\n",
      "✅ 样本 NCBI470 测试通过。\n",
      "\n",
      "正在测试样本: NCBI460\n",
      "✅ 样本 NCBI465 测试通过。\n",
      "\n",
      "正在测试样本: NCBI4\n",
      "✅ 样本 NCBI468 测试通过。\n",
      "\n",
      "正在测试样本: NCBI3\n",
      "✅ 样本 NCBI466 测试通过。\n",
      "✅ 样本 NCBI462 测试通过。\n",
      "正在测试样本: NCBI2\n",
      "\n",
      "\n",
      "正在测试样本: NCBI1\n",
      "✅ 样本 NCBI460 测试通过。\n",
      "\n",
      "正在测试样本: MISC32\n",
      "✅ 样本 NCBI463 测试通过。\n",
      "\n",
      "正在测试样本: MISC31\n",
      "✅ 样本 NCBI464 测试通过。\n",
      "\n",
      "正在测试样本: MISC30\n",
      "✅ 样本 NCBI467 测试通过。\n",
      "\n",
      "正在测试样本: MISC29\n",
      "✅ 样本 NCBI461 测试通过。\n",
      "\n",
      "正在测试样本: MISC28\n",
      "✅ 样本 NCBI3 测试通过。\n",
      "\n",
      "正在测试样本: MISC27\n",
      "✅ 样本 NCBI4 测试通过。\n",
      "\n",
      "正在测试样本: MISC26\n",
      "✅ 样本 NCBI1 测试通过。\n",
      "\n",
      "正在测试样本: MISC25\n",
      "✅ 样本 MISC31 测试通过。\n",
      "\n",
      "正在测试样本: MISC24\n",
      "✅ 样本 MISC32 测试通过。\n",
      "\n",
      "正在测试样本: MISC23\n",
      "✅ 样本 MISC30 测试通过。\n",
      "\n",
      "正在测试样本: MISC22\n",
      "✅ 样本 MISC29 测试通过。\n",
      "\n",
      "正在测试样本: MISC21\n",
      "✅ 样本 MISC28 测试通过。\n",
      "\n",
      "正在测试样本: MISC20\n",
      "✅ 样本 MISC27 测试通过。\n",
      "\n",
      "正在测试样本: MISC19\n",
      "✅ 样本 NCBI2 测试通过。\n",
      "\n",
      "正在测试样本: MISC18\n",
      "✅ 样本 MISC25 测试通过。\n",
      "\n",
      "正在测试样本: MISC17\n",
      "✅ 样本 MISC24 测试通过。\n",
      "\n",
      "正在测试样本: MISC16\n",
      "✅ 样本 MISC23 测试通过。\n",
      "\n",
      "正在测试样本: MISC15\n",
      "✅ 样本 MISC21 测试通过。\n",
      "\n",
      "正在测试样本: MISC14\n",
      "✅ 样本 MISC22 测试通过。\n",
      "\n",
      "正在测试样本: MISC13\n",
      "✅ 样本 MISC26 测试通过。\n",
      "\n",
      "正在测试样本: MISC12\n",
      "✅ 样本 MISC18 测试通过。\n",
      "\n",
      "正在测试样本: MISC11\n",
      "✅ 样本 MISC17 测试通过。\n",
      "\n",
      "正在测试样本: MISC10\n",
      "✅ 样本 MISC20 测试通过。\n",
      "\n",
      "正在测试样本: MISC9\n",
      "✅ 样本 MISC19 测试通过。\n",
      "\n",
      "正在测试样本: MISC8\n",
      "✅ 样本 MISC13 测试通过。\n",
      "\n",
      "正在测试样本: MISC7\n",
      "✅ 样本 MISC14 测试通过。✅ 样本 MISC11 测试通过。\n",
      "\n",
      "\n",
      "正在测试样本: MISC5\n",
      "正在测试样本: MISC6\n",
      "\n",
      "✅ 样本 MISC15 测试通过。\n",
      "\n",
      "正在测试样本: MISC4\n",
      "✅ 样本 MISC12 测试通过。\n",
      "\n",
      "正在测试样本: MISC3\n",
      "✅ 样本 MISC16 测试通过。\n",
      "\n",
      "正在测试样本: MISC2\n",
      "✅ 样本 MISC9 测试通过。\n",
      "\n",
      "正在测试样本: MISC1\n",
      "✅ 样本 MISC8 测试通过。\n",
      "✅ 样本 MISC7 测试通过。\n",
      "✅ 样本 MISC10 测试通过。\n",
      "✅ 样本 MISC5 测试通过。\n",
      "✅ 样本 MISC6 测试通过。\n",
      "✅ 样本 MISC2 测试通过。\n",
      "✅ 样本 MISC1 测试通过。\n",
      "✅ 样本 MISC4 测试通过。\n",
      "✅ 样本 MISC3 测试通过。\n",
      "线程执行时发生错误: A process in the process pool was terminated abruptly while the future was running or pending.\n",
      "\n",
      "--- 诊断结束 ---\n",
      "发现以下问题样本:\n",
      " - TENX15\n",
      " - MEND16\n",
      " - MEND15\n",
      " - MEND14\n",
      " - MEND13\n",
      " - MEND12\n",
      " - MEND11\n",
      " - MEND10\n",
      " - MEND9\n",
      " - MEND8\n",
      " - MEND7\n",
      " - MEND2\n",
      " - MEND1\n",
      " - NCBI657\n",
      " - NCBI814\n",
      "\n",
      "建议：您可以考虑在预处理步骤中将这些样本从分析中排除。\n"
     ]
    }
   ],
   "source": [
    "from concurrent.futures import ThreadPoolExecutor, ProcessPoolExecutor\n",
    "import threading\n",
    "\n",
    "# 假设 adata_merged 是您已经加载并预处理好的完整对象\n",
    "print(\"--- 开始诊断，逐个检查每个样本 ---\")\n",
    "\n",
    "# 获取所有唯一的样本ID\n",
    "all_batches = adata_merged.obs['sample_id'].unique()\n",
    "problematic_batches = []\n",
    "\n",
    "def test_single_batch(batch_id):\n",
    "    \"\"\"测试单个样本的函数\"\"\"\n",
    "    try:\n",
    "        print(f\"\\n正在测试样本: {batch_id}\")\n",
    "        # 提取单个样本的数据\n",
    "        adata_batch = adata_merged[adata_merged.obs['sample_id'] == batch_id].copy()\n",
    "        \n",
    "        # # 模拟在单个样本上运行HVG计算的核心步骤\n",
    "        # # 必须重新进行标准化和对数化，因为这些是在子集上计算的\n",
    "        # sc.pp.normalize_total(adata_batch, target_sum=1e4)\n",
    "        # sc.pp.log1p(adata_batch)\n",
    "        \n",
    "        # 在这个单个样本上运行HVG计算\n",
    "        sc.pp.highly_variable_genes(\n",
    "            adata_batch, \n",
    "            flavor='seurat_v3_paper', \n",
    "            n_top_genes=5000, \n",
    "            span=0.5\n",
    "        )\n",
    "        print(f\"✅ 样本 {batch_id} 测试通过。\")\n",
    "        return batch_id, True, None\n",
    "        \n",
    "    except ValueError as e:\n",
    "        # 如果捕获到我们一直在遇到的错误，就记录下来\n",
    "        print(f\"❌ 样本 {batch_id} 测试失败! 错误: {e}\")\n",
    "        return batch_id, False, str(e)\n",
    "\n",
    "# 使用线程池执行器进行并行处理\n",
    "with ProcessPoolExecutor(max_workers=10) as executor:\n",
    "    # 提交所有任务\n",
    "    futures = [executor.submit(test_single_batch, batch_id) for batch_id in all_batches]\n",
    "    \n",
    "    # 等待所有任务完成并收集结果\n",
    "    for future in tqdm(futures, desc=\"检查样本\"):\n",
    "        try:\n",
    "            batch_id, success, error = future.result()\n",
    "            if not success:\n",
    "                problematic_batches.append(batch_id)\n",
    "        except Exception as e:\n",
    "            print(f\"线程执行时发生错误: {e}\")\n",
    "\n",
    "print(\"\\n--- 诊断结束 ---\")\n",
    "if problematic_batches:\n",
    "    print(\"发现以下问题样本:\")\n",
    "    for b in problematic_batches:\n",
    "        print(f\" - {b}\")\n",
    "    print(\"\\n建议：您可以考虑在预处理步骤中将这些样本从分析中排除。\")\n",
    "else:\n",
    "    print(\"✅ 所有样本均单独测试通过，问题可能更复杂。\")"
   ]
  },
  {
   "cell_type": "markdown",
   "id": "4b7e39f4",
   "metadata": {},
   "source": [
    "# 移除问题样本，再执行一次"
   ]
  },
  {
   "cell_type": "code",
   "execution_count": 6,
   "id": "5b48b280",
   "metadata": {},
   "outputs": [
    {
     "name": "stdout",
     "output_type": "stream",
     "text": [
      "🌱 全局随机种子已设定为: 42\n",
      "✅ 成功从缓存加载预处理过的 AnnData 文件: /cwStorage/nodecw_group/jijh/hest_sentences_human_all/cache/adata_merged_preprocessed.h5ad\n"
     ]
    }
   ],
   "source": [
    "# --- 1. 设置路径、种子和参数 ---\n",
    "data_dir = \"/cwStorage/nodecw_group/jijh/hest_1k\"\n",
    "output_basedir = \"/cwStorage/nodecw_group/jijh/hest_sentences_human_all/\"\n",
    "processed_adata_cache_path = os.path.join(output_basedir, \"cache\", \"adata_merged_preprocessed.h5ad\")\n",
    "\n",
    "SEED = 42\n",
    "random.seed(SEED)\n",
    "np.random.seed(SEED)\n",
    "print(f\"🌱 全局随机种子已设定为: {SEED}\")\n",
    "\n",
    "# 【关键修改】 定义需要排除的问题样本列表\n",
    "SAMPLES_TO_EXCLUDE = {\n",
    "    'TENX15', 'MEND16', 'MEND15', 'MEND14', 'MEND13', 'MEND12',\n",
    "    'MEND11', 'MEND10', 'MEND9', 'MEND8', 'MEND7', 'MEND2',\n",
    "    'MEND1', 'NCBI657', 'NCBI814'\n",
    "}\n",
    "\n",
    "# --- 2. 加载或预处理数据 (现在会排除问题样本) ---\n",
    "adata_merged = load_and_preprocess_data(\n",
    "    data_dir, \n",
    "    processed_adata_cache_path,\n",
    "    samples_to_exclude=SAMPLES_TO_EXCLUDE\n",
    ")\n"
   ]
  },
  {
   "cell_type": "code",
   "execution_count": 9,
   "id": "a64e1b73",
   "metadata": {},
   "outputs": [
    {
     "name": "stdout",
     "output_type": "stream",
     "text": [
      "\n",
      "\n",
      "--- 第1步: 在中等规模数据上进行快速调试 (带批次校正) ---\n",
      "--------------------------------------------------\n",
      "启动HVG计算: 🏁 最终运行模式 🏁\n",
      "处理数据维度: (1144234, 49316)\n",
      "使用 flavor='seurat_v3_paper' 计算高变基因...\n",
      "✅ 成功! 找到 5000 个高变基因。\n",
      "✅ 全局HVG列表已保存至: /cwStorage/nodecw_group/jijh/hest_sentences_human_all/global_hvgs.txt\n",
      "🕒 HVG计算耗时: 2分 40.58秒\n"
     ]
    }
   ],
   "source": [
    "print(\"\\n\\n--- 第1步: 在中等规模数据上进行快速调试 (带批次校正) ---\")\n",
    "global_hvg_list_debug = calculate_global_hvgs(\n",
    "    adata_full=adata_merged,\n",
    "    n_top_genes=5000,\n",
    "    subsample_fraction=1,  # 使用50%的数据进行调试\n",
    "    flavor='seurat_v3_paper',\n",
    "    span=0.5,\n",
    "    output_dir=output_basedir,\n",
    "    random_seed=SEED,\n",
    "    batch_key=None  # <--- 现在我们重新启用它！\n",
    ")\n"
   ]
  },
  {
   "cell_type": "code",
   "execution_count": 12,
   "id": "c2ef9769",
   "metadata": {},
   "outputs": [
    {
     "name": "stdout",
     "output_type": "stream",
     "text": [
      "在全局HVG列表中找到 0 个小鼠AD相关基因：\n",
      "[]\n"
     ]
    }
   ],
   "source": [
    "# Check if APOE is in the debug HVG list\n",
    "'APOE' in global_hvg_list_debug\n",
    "\n",
    "# Human AD-related genes (converted from mouse gene names)\n",
    "ad_human_genes = [\n",
    "    \"APP\",      # Amyloid precursor protein\n",
    "    \"PSEN1\",    # Presenilin 1\n",
    "    \"PSEN2\",    # Presenilin 2\n",
    "    \"MAPT\",     # Microtubule-associated protein tau\n",
    "    \"APOE\",     # Apolipoprotein E\n",
    "    \"TREM2\",    # Triggering receptor expressed on myeloid cells 2\n",
    "    \"CLU\",      # Clusterin\n",
    "    \"PICALM\",   # Phosphatidylinositol binding clathrin assembly protein\n",
    "    \"BIN1\",     # Bridging integrator 1\n",
    "    \"CD33\",     # Siglec-3\n",
    "    \"ABCA7\",    # ATP-binding cassette sub-family A member 7\n",
    "    \"SORL1\",    # Sortilin-related receptor 1\n",
    "    \"HCAR2\",    # Hydroxycarboxylic acid receptor 2\n",
    "    \"VPS35\",    # Vacuolar protein sorting 35\n",
    "    \"CSF1R\",    # Colony stimulating factor 1 receptor\n",
    "    \"BACE1\",    # β-secretase 1, key Aβ generating enzyme\n",
    "    \"IDE\",      # Insulin degrading enzyme, can degrade Aβ\n",
    "    \"MME\",      # Neprilysin, also involved in Aβ clearance\n",
    "    \"CD2AP\",    # Regulates endocytosis and Aβ clearance\n",
    "    \"CR1\",      # Complement receptor 1, immune related\n",
    "    \"ADAM10\",   # α-secretase, key enzyme in non-amyloidogenic pathway\n",
    "    \"PLCG2\",    # Vacuolar endocytosis and signal transduction\n",
    "    \"SPI1\",     # Transcription factor, identified in immune regulation screening\n",
    "    \"MEF2C\",    # Neuronal development transcription factor, identified in functional screening\n",
    "    \"GAB2\",     # Signal transduction molecule, GWAS associated\n",
    "    \"ABCC11\",   # ATP binding cassette family member, found in screening\n",
    "    \"ANK3\",     # GWAS associated gene\n",
    "    \"MS4A6A\",   # MS4A family, regulates immunity and lipid metabolism\n",
    "    \"AGFG2\",    # Involved in cell signal transduction\n",
    "    \"CYC1\",     # Mitochondrial function related\n",
    "    \"HLA-DRA\",  # Antigen presentation molecule\n",
    "    \"MEG3\",     # Long non-coding RNA, expression differences\n",
    "    \"MT2A\",     # Metallothionein, anti-oxidative stress\n",
    "    \"NCALD\",    # Calcium regulatory protein family\n",
    "    \"NEU1\",     # Neuraminidase 1, cellular endocytosis\n",
    "    \"PSMC3\",    # Ubiquitin-proteasome system\n",
    "    \"SERPINB6\", # Serine protease inhibitor\n",
    "    \"SPARC\",    # Extracellular matrix protein, pathological remodeling\n",
    "]\n",
    "\n",
    "# Test what ad_mouse_genes are in global_hvg_list\n",
    "ad_mouse_genes_in_hvg = [gene for gene in ad_mouse_genes if gene in global_hvg_list_debug]\n",
    "print(f\"在全局HVG列表中找到 {len(ad_mouse_genes_in_hvg)} 个小鼠AD相关基因：\")\n",
    "print(ad_mouse_genes_in_hvg)"
   ]
  },
  {
   "cell_type": "code",
   "execution_count": 13,
   "id": "3b0d6d5d",
   "metadata": {},
   "outputs": [
    {
     "data": {
      "text/plain": [
       "Index(['A1BG', 'A2ML1', 'AADACL2', 'AADACL3', 'AB019441.29', 'ABCA1', 'ABCA12',\n",
       "       'ABCA4', 'ABCB4', 'ABCC11',\n",
       "       ...\n",
       "       '__ambiguous[NME1-NME2+NME2]', '__ambiguous[RNASEK+RNASEK-C17orf49]',\n",
       "       '__ambiguous[RP11-1035H13.3+RPS15A]', '__ambiguous[RPL12P16+NBEAL1]',\n",
       "       '__ambiguous[RPL17-C18orf32+RPL17]',\n",
       "       '__ambiguous[RPL36A+RPL36A-HNRNPH2]', '__ambiguous[RPS10+RPS10-NUDT3]',\n",
       "       '__ambiguous[ZNF90+CTC-260E6.2]', 'antisense_PROKR2',\n",
       "       'antisense_SCRIB'],\n",
       "      dtype='object', length=5000)"
      ]
     },
     "execution_count": 13,
     "metadata": {},
     "output_type": "execute_result"
    }
   ],
   "source": [
    "global_hvg_list_debug"
   ]
  },
  {
   "cell_type": "code",
   "execution_count": 14,
   "id": "7542e296",
   "metadata": {},
   "outputs": [
    {
     "data": {
      "text/plain": [
       "5000"
      ]
     },
     "execution_count": 14,
     "metadata": {},
     "output_type": "execute_result"
    }
   ],
   "source": [
    "len(global_hvg_list_debug)"
   ]
  },
  {
   "cell_type": "markdown",
   "id": "41a16735",
   "metadata": {},
   "source": [
    "# 原来基因名称没统一"
   ]
  },
  {
   "cell_type": "code",
   "execution_count": 17,
   "id": "6a82b245",
   "metadata": {},
   "outputs": [],
   "source": [
    "# --- 1. 安装和导入必要的库 ---\n",
    "import os\n",
    "import sys  # 导入 sys 模块以修改路径\n",
    "import time\n",
    "import random\n",
    "import scanpy as sc\n",
    "import pandas as pd\n",
    "import numpy as np\n",
    "from tqdm.auto import tqdm\n",
    "from scipy.sparse import issparse\n",
    "\n",
    "# 导入您自定义的库\n",
    "# 假设 HESTDataset 已在您的环境中正确定义\n",
    "from src.pipeline.hest_loading import HESTDataset\n",
    "\n",
    "# --- 2. 辅助函数 ---\n",
    "\n",
    "def format_time(seconds: float) -> str:\n",
    "    \"\"\"将秒数格式化为易读的“分-秒”字符串\"\"\"\n",
    "    mins, secs = divmod(seconds, 60)\n",
    "    return f\"{int(mins)}分 {secs:.2f}秒\"\n",
    "\n",
    "def filter_adata_by_canonical_genes(adata: sc.AnnData, canonical_genes: set) -> sc.AnnData:\n",
    "    \"\"\"\n",
    "    使用权威基因列表严格过滤AnnData对象。\n",
    "    \"\"\"\n",
    "    print(\"\\n--- 开始基于权威列表进行基因名清洗和过滤 ---\")\n",
    "    num_before = adata.n_vars\n",
    "\n",
    "    # 步骤 1: 对原始基因名进行基础修正（移除前缀和版本号）\n",
    "    adata.var_names = [\n",
    "        name.replace('GRCh38______', '').split('.')[0] \n",
    "        for name in adata.var_names\n",
    "    ]\n",
    "    \n",
    "    # 步骤 2: 创建布尔掩码，只保留存在于权威列表中的基因\n",
    "    keep_mask = adata.var_names.isin(list(canonical_genes))\n",
    "    \n",
    "    adata = adata[:, keep_mask].copy()\n",
    "    num_after_filter = adata.n_vars\n",
    "    print(f\"基于权威列表过滤后，基因数量从 {num_before} 减少到 {num_after_filter}。\")\n",
    "    \n",
    "    # 步骤 3: 对剩余的干净基因名进行唯一化处理\n",
    "    print(\"对剩余的基因名进行唯一化处理...\")\n",
    "    adata.var_names_make_unique()\n",
    "    \n",
    "    print(\"--- 基因名清洗完成 ---\\n\")\n",
    "    return adata\n",
    "\n",
    "\n",
    "def load_and_preprocess_data(\n",
    "    data_dir: str, \n",
    "    cache_path: str,\n",
    "    samples_to_exclude: set,\n",
    "    canonical_genes: set\n",
    ") -> sc.AnnData:\n",
    "    \"\"\"\n",
    "    执行数据加载、合并、基于权威列表的基因名清洗和预处理。\n",
    "    \"\"\"\n",
    "    if os.path.exists(cache_path):\n",
    "        print(f\"✅ 成功从缓存加载预处理过的 AnnData 文件: {cache_path}\")\n",
    "        return sc.read_h5ad(cache_path)\n",
    "\n",
    "    print(\"⚠️ 未能找到缓存文件，开始执行完整的预处理流程...\")\n",
    "    start_time = time.time()\n",
    "    \n",
    "    # ... (加载和排除样本的逻辑保持不变) ...\n",
    "    dataset = HESTDataset(data_dir=data_dir)\n",
    "    samples_to_process = dataset.get_samples(species=\"Homo sapiens\")\n",
    "    adatas = []\n",
    "    skipped_count = 0\n",
    "    for sample in tqdm(samples_to_process, desc=\"加载、过滤并合并AnnData\"):\n",
    "        if sample.sample_id in samples_to_exclude:\n",
    "            skipped_count += 1\n",
    "            continue\n",
    "        adata = load_sample_data(sample, 'sample_id')\n",
    "        if adata is not None:\n",
    "            if adata.var_names.duplicated().any():\n",
    "                adata = adata[:, ~adata.var_names.duplicated()].copy()\n",
    "            adatas.append(adata)\n",
    "    print(f\"\\n成功加载 {len(adatas)} 个样本，跳过了 {skipped_count} 个问题样本。\")\n",
    "\n",
    "    adata_merged = sc.concat(adatas, join='outer', uns_merge='unique')\n",
    "    print(f\"合并后，初始尺寸: {adata_merged.shape}\")\n",
    "\n",
    "    # 【关键步骤】使用权威列表进行清洗\n",
    "    adata_merged = filter_adata_by_canonical_genes(adata_merged, canonical_genes)\n",
    "    print(f\"基因名清洗后，尺寸: {adata_merged.shape}\")\n",
    "\n",
    "    # ... (后续的QC、过滤和保存逻辑保持不变) ...\n",
    "    print(\"开始进行质量控制和过滤...\")\n",
    "    adata_merged.var['mt'] = adata_merged.var_names.str.startswith(('MT-', 'mt-'))\n",
    "    sc.pp.calculate_qc_metrics(adata_merged, qc_vars=['mt'], inplace=True, percent_top=None, log1p=False)\n",
    "    sc.pp.filter_cells(adata_merged, min_genes=200)\n",
    "    adata_merged = adata_merged[adata_merged.obs.pct_counts_mt < 20, :].copy()\n",
    "    min_cells_threshold = int(adata_merged.n_obs * 0.001)\n",
    "    print(f\"增强过滤: 基因必须在至少 {min_cells_threshold} 个 spots 中表达。\")\n",
    "    sc.pp.filter_genes(adata_merged, min_cells=min_cells_threshold)\n",
    "    if 'in_tissue' in adata_merged.obs.columns:\n",
    "        adata_merged.obs['in_tissue'] = adata_merged.obs['in_tissue'].fillna(0).astype(bool)\n",
    "\n",
    "    print(f\"预处理完成。最终尺寸: {adata_merged.shape}\")\n",
    "    \n",
    "    print(f\"正在将预处理结果缓存到: {cache_path}\")\n",
    "    os.makedirs(os.path.dirname(cache_path), exist_ok=True)\n",
    "    adata_merged.write(cache_path)\n",
    "    \n",
    "    end_time = time.time()\n",
    "    print(f\"🕒 完整预处理耗时: {format_time(end_time - start_time)}\")\n",
    "    \n",
    "    return adata_merged\n",
    "\n",
    "def calculate_global_hvgs(\n",
    "    adata_full: sc.AnnData,\n",
    "    n_top_genes: int = 5000,\n",
    "    flavor: str = 'seurat_v3_paper',\n",
    "    span: float = 0.8,\n",
    "    output_dir: str = \"output/hvgs\",\n",
    "    batch_key: str = 'sample_id'\n",
    "):\n",
    "    \"\"\"在完整、干净的数据上计算HVG\"\"\"\n",
    "    start_time = time.time()\n",
    "    print(\"-\" * 50)\n",
    "    print(\"🏁 开始在完整、干净的数据上进行最终HVG计算 🏁\")\n",
    "    \n",
    "    adata_proc = adata_full.copy()\n",
    "    print(f\"处理数据维度: {adata_proc.shape}\")\n",
    "\n",
    "    print(f\"使用 flavor='{flavor}' 和 batch_key='{batch_key}' 计算高变基因...\")\n",
    "    try:\n",
    "        sc.pp.highly_variable_genes(\n",
    "            adata_proc, n_top_genes=n_top_genes, flavor=flavor,\n",
    "            span=span, batch_key=batch_key\n",
    "        )\n",
    "        hvg_list = adata_proc.var.index[adata_proc.var['highly_variable']]\n",
    "        print(f\"✅ 成功! 找到 {len(hvg_list)} 个高变基因。\")\n",
    "        \n",
    "        os.makedirs(output_dir, exist_ok=True)\n",
    "        hvg_file_path = os.path.join(output_dir, \"global_hvgs.txt\")\n",
    "        with open(hvg_file_path, 'w') as f:\n",
    "            for gene in hvg_list: f.write(f\"{gene}\\n\")\n",
    "        print(f\"✅ 全局HVG列表已保存至: {hvg_file_path}\")\n",
    "        \n",
    "        end_time = time.time()\n",
    "        print(f\"🕒 HVG计算耗时: {format_time(end_time - start_time)}\")\n",
    "        return hvg_list\n",
    "\n",
    "    except Exception as e:\n",
    "        print(f\"\\n❌ 错误: 在HVG计算期间发生错误: {e}\")\n",
    "        return None\n",
    "\n"
   ]
  },
  {
   "cell_type": "code",
   "execution_count": 18,
   "id": "f74f5491",
   "metadata": {},
   "outputs": [
    {
     "name": "stdout",
     "output_type": "stream",
     "text": [
      "🌱 全局随机种子已设定为: 42\n",
      "✅ 成功从本地 'human_gene_symbols.py' 文件加载 44199 个权威基因符号。\n",
      "⚠️ 未能找到缓存文件，开始执行完整的预处理流程...\n"
     ]
    },
    {
     "data": {
      "application/vnd.jupyter.widget-view+json": {
       "model_id": "b623d33dc6ea4c8c84ef5252fe85c6ef",
       "version_major": 2,
       "version_minor": 0
      },
      "text/plain": [
       "加载、过滤并合并AnnData:   0%|          | 0/649 [00:00<?, ?it/s]"
      ]
     },
     "metadata": {},
     "output_type": "display_data"
    },
    {
     "name": "stderr",
     "output_type": "stream",
     "text": [
      "/public/home/jijh/micromamba/envs/imgprocess/lib/python3.12/site-packages/anndata/_core/anndata.py:1758: UserWarning: Variable names are not unique. To make them unique, call `.var_names_make_unique`.\n",
      "  utils.warn_names_duplicates(\"var\")\n",
      "/public/home/jijh/micromamba/envs/imgprocess/lib/python3.12/site-packages/anndata/_core/anndata.py:1758: UserWarning: Variable names are not unique. To make them unique, call `.var_names_make_unique`.\n",
      "  utils.warn_names_duplicates(\"var\")\n",
      "/public/home/jijh/micromamba/envs/imgprocess/lib/python3.12/site-packages/anndata/_core/anndata.py:1758: UserWarning: Variable names are not unique. To make them unique, call `.var_names_make_unique`.\n",
      "  utils.warn_names_duplicates(\"var\")\n",
      "/public/home/jijh/micromamba/envs/imgprocess/lib/python3.12/site-packages/anndata/_core/anndata.py:1758: UserWarning: Variable names are not unique. To make them unique, call `.var_names_make_unique`.\n",
      "  utils.warn_names_duplicates(\"var\")\n",
      "/public/home/jijh/micromamba/envs/imgprocess/lib/python3.12/site-packages/anndata/_core/anndata.py:1758: UserWarning: Variable names are not unique. To make them unique, call `.var_names_make_unique`.\n",
      "  utils.warn_names_duplicates(\"var\")\n",
      "/public/home/jijh/micromamba/envs/imgprocess/lib/python3.12/site-packages/anndata/_core/anndata.py:1758: UserWarning: Variable names are not unique. To make them unique, call `.var_names_make_unique`.\n",
      "  utils.warn_names_duplicates(\"var\")\n",
      "/public/home/jijh/micromamba/envs/imgprocess/lib/python3.12/site-packages/anndata/_core/anndata.py:1758: UserWarning: Variable names are not unique. To make them unique, call `.var_names_make_unique`.\n",
      "  utils.warn_names_duplicates(\"var\")\n",
      "/public/home/jijh/micromamba/envs/imgprocess/lib/python3.12/site-packages/anndata/_core/anndata.py:1758: UserWarning: Variable names are not unique. To make them unique, call `.var_names_make_unique`.\n",
      "  utils.warn_names_duplicates(\"var\")\n",
      "/public/home/jijh/micromamba/envs/imgprocess/lib/python3.12/site-packages/anndata/_core/anndata.py:1758: UserWarning: Variable names are not unique. To make them unique, call `.var_names_make_unique`.\n",
      "  utils.warn_names_duplicates(\"var\")\n",
      "/public/home/jijh/micromamba/envs/imgprocess/lib/python3.12/site-packages/anndata/_core/anndata.py:1758: UserWarning: Variable names are not unique. To make them unique, call `.var_names_make_unique`.\n",
      "  utils.warn_names_duplicates(\"var\")\n",
      "/public/home/jijh/micromamba/envs/imgprocess/lib/python3.12/site-packages/anndata/_core/anndata.py:1758: UserWarning: Variable names are not unique. To make them unique, call `.var_names_make_unique`.\n",
      "  utils.warn_names_duplicates(\"var\")\n",
      "/public/home/jijh/micromamba/envs/imgprocess/lib/python3.12/site-packages/anndata/_core/anndata.py:1758: UserWarning: Variable names are not unique. To make them unique, call `.var_names_make_unique`.\n",
      "  utils.warn_names_duplicates(\"var\")\n"
     ]
    },
    {
     "name": "stdout",
     "output_type": "stream",
     "text": [
      "\n",
      "成功加载 634 个样本，跳过了 15 个问题样本。\n",
      "合并后，初始尺寸: (1351225, 220010)\n",
      "\n",
      "--- 开始基于权威列表进行基因名清洗和过滤 ---\n",
      "增强过滤: 基因必须在至少 997 个 spots 中表达。\n",
      "预处理完成。最终尺寸: (997054, 30148)\n",
      "正在将预处理结果缓存到: /cwStorage/nodecw_group/jijh/hest_sentences_human_all/cache/adata_preprocessed_canonical_v2.h5ad\n",
      "🕒 完整预处理耗时: 20分 30.94秒\n"
     ]
    }
   ],
   "source": [
    "# --- 主执行流程 ---\n",
    "\n",
    "# --- 1. 设置路径、种子和参数 ---\n",
    "data_dir = \"/cwStorage/nodecw_group/jijh/hest_1k\"\n",
    "output_basedir = \"/cwStorage/nodecw_group/jijh/hest_sentences_human_all/\"\n",
    "cache_dir = os.path.join(output_basedir, \"cache\")\n",
    "os.makedirs(cache_dir, exist_ok=True)\n",
    "\n",
    "adata_cache_path = os.path.join(cache_dir, \"adata_preprocessed_canonical_v2.h5ad\")\n",
    "\n",
    "SEED = 42\n",
    "random.seed(SEED)\n",
    "np.random.seed(SEED)\n",
    "print(f\"🌱 全局随机种子已设定为: {SEED}\")\n",
    "\n",
    "SAMPLES_TO_EXCLUDE = {\n",
    "    'TENX15', 'MEND16', 'MEND15', 'MEND14', 'MEND13', 'MEND12',\n",
    "    'MEND11', 'MEND10', 'MEND9', 'MEND8', 'MEND7', 'MEND2',\n",
    "    'MEND1', 'NCBI657', 'NCBI814'\n",
    "}\n",
    "\n",
    "# --- 2. 【关键修改】从本地 .py 文件导入权威基因列表 ---\n",
    "try:\n",
    "    # 将 cache 目录临时添加到 Python 的搜索路径中\n",
    "    sys.path.insert(0, cache_dir)\n",
    "    from human_gene_symbols import human_gene_symbols\n",
    "    # 将导入的列表转换为集合(set)以获得 O(1) 的超快查找速度\n",
    "    canonical_genes_set = set(human_gene_symbols)\n",
    "    print(f\"✅ 成功从本地 'human_gene_symbols.py' 文件加载 {len(canonical_genes_set)} 个权威基因符号。\")\n",
    "except ImportError:\n",
    "    print(f\"\\n❌ 错误: 未能在 '{cache_dir}' 目录下找到 'human_gene_symbols.py' 文件。\")\n",
    "    print(\"请确保您已运行之前的脚本来生成此文件。\")\n",
    "    raise\n",
    "except Exception as e:\n",
    "    print(f\"加载本地基因列表时出错: {e}\")\n",
    "    raise\n",
    "finally:\n",
    "    # 恢复原始的系统路径，避免潜在的副作用\n",
    "    sys.path.pop(0)\n",
    "\n",
    "\n",
    "# --- 3. 加载、清洗并预处理数据 ---\n",
    "adata_merged = load_and_preprocess_data(\n",
    "    data_dir, \n",
    "    adata_cache_path,\n",
    "    samples_to_exclude=SAMPLES_TO_EXCLUDE,\n",
    "    canonical_genes=canonical_genes_set\n",
    ")\n",
    "\n"
   ]
  },
  {
   "cell_type": "code",
   "execution_count": 19,
   "id": "e17be3c9",
   "metadata": {},
   "outputs": [
    {
     "name": "stdout",
     "output_type": "stream",
     "text": [
      "--------------------------------------------------\n",
      "🏁 开始在完整、干净的数据上进行最终HVG计算 🏁\n",
      "处理数据维度: (997054, 30148)\n",
      "使用 flavor='seurat_v3_paper' 和 batch_key='sample_id' 计算高变基因...\n",
      "✅ 成功! 找到 5000 个高变基因。\n",
      "✅ 全局HVG列表已保存至: /cwStorage/nodecw_group/jijh/hest_sentences_human_all/global_hvgs.txt\n",
      "🕒 HVG计算耗时: 2分 41.54秒\n",
      "\n",
      "\n",
      "🎉🎉🎉 全部流程成功完成！🎉🎉🎉\n",
      "最终获得的高变基因列表的前10个为:\n",
      "['A2M', 'A2ML1', 'A4GALT', 'AACS', 'AADAC', 'AADAT', 'AAGAB', 'AAMDC', 'AAMP', 'AAR2']\n"
     ]
    }
   ],
   "source": [
    "# --- 4. 在完整的干净数据上进行最终计算 ---\n",
    "global_hvg_list = calculate_global_hvgs(\n",
    "    adata_full=adata_merged,\n",
    "    n_top_genes=5000,\n",
    "    flavor='seurat_v3_paper',\n",
    "    span=0.5,\n",
    "    output_dir=output_basedir,\n",
    "    batch_key='sample_id'\n",
    ")\n",
    "\n",
    "# --- 5. 最终结果 ---\n",
    "if global_hvg_list is not None:\n",
    "    print(\"\\n\\n🎉🎉🎉 全部流程成功完成！🎉🎉🎉\")\n",
    "    print(\"最终获得的高变基因列表的前10个为:\")\n",
    "    print(global_hvg_list[:10].to_list())\n",
    "else:\n",
    "    print(\"\\n\\n--- 最终运行失败 ---\")\n",
    "    print(\"❌ 请根据上面的错误信息进行检查。\")"
   ]
  },
  {
   "cell_type": "code",
   "execution_count": 23,
   "id": "e7a83e86",
   "metadata": {},
   "outputs": [
    {
     "data": {
      "text/plain": [
       "True"
      ]
     },
     "execution_count": 23,
     "metadata": {},
     "output_type": "execute_result"
    }
   ],
   "source": [
    "# Check if APOE is in the debug HVG list\n",
    "'APOE' in global_hvg_list\n"
   ]
  },
  {
   "cell_type": "code",
   "execution_count": 26,
   "id": "44630114",
   "metadata": {},
   "outputs": [
    {
     "name": "stdout",
     "output_type": "stream",
     "text": [
      "在全局HVG列表中找到 10 个人AD相关基因：\n",
      "['APOE', 'CLU', 'BIN1', 'CSF1R', 'BACE1', 'CD2AP', 'CR1', 'ANK3', 'AGFG2', 'CYC1']\n"
     ]
    }
   ],
   "source": [
    "\n",
    "# Human AD-related genes (converted from mouse gene names)\n",
    "ad_human_genes = [\n",
    "    \"APP\",      # Amyloid precursor protein\n",
    "    \"PSEN1\",    # Presenilin 1\n",
    "    \"PSEN2\",    # Presenilin 2\n",
    "    \"MAPT\",     # Microtubule-associated protein tau\n",
    "    \"APOE\",     # Apolipoprotein E\n",
    "    \"TREM2\",    # Triggering receptor expressed on myeloid cells 2\n",
    "    \"CLU\",      # Clusterin\n",
    "    \"PICALM\",   # Phosphatidylinositol binding clathrin assembly protein\n",
    "    \"BIN1\",     # Bridging integrator 1\n",
    "    \"CD33\",     # Siglec-3\n",
    "    \"ABCA7\",    # ATP-binding cassette sub-family A member 7\n",
    "    \"SORL1\",    # Sortilin-related receptor 1\n",
    "    \"HCAR2\",    # Hydroxycarboxylic acid receptor 2\n",
    "    \"VPS35\",    # Vacuolar protein sorting 35\n",
    "    \"CSF1R\",    # Colony stimulating factor 1 receptor\n",
    "    \"BACE1\",    # β-secretase 1, key Aβ generating enzyme\n",
    "    \"IDE\",      # Insulin degrading enzyme, can degrade Aβ\n",
    "    \"MME\",      # Neprilysin, also involved in Aβ clearance\n",
    "    \"CD2AP\",    # Regulates endocytosis and Aβ clearance\n",
    "    \"CR1\",      # Complement receptor 1, immune related\n",
    "    \"ADAM10\",   # α-secretase, key enzyme in non-amyloidogenic pathway\n",
    "    \"PLCG2\",    # Vacuolar endocytosis and signal transduction\n",
    "    \"SPI1\",     # Transcription factor, identified in immune regulation screening\n",
    "    \"MEF2C\",    # Neuronal development transcription factor, identified in functional screening\n",
    "    \"GAB2\",     # Signal transduction molecule, GWAS associated\n",
    "    \"ABCC11\",   # ATP binding cassette family member, found in screening\n",
    "    \"ANK3\",     # GWAS associated gene\n",
    "    \"MS4A6A\",   # MS4A family, regulates immunity and lipid metabolism\n",
    "    \"AGFG2\",    # Involved in cell signal transduction\n",
    "    \"CYC1\",     # Mitochondrial function related\n",
    "    \"HLA-DRA\",  # Antigen presentation molecule\n",
    "    \"MEG3\",     # Long non-coding RNA, expression differences\n",
    "    \"MT2A\",     # Metallothionein, anti-oxidative stress\n",
    "    \"NCALD\",    # Calcium regulatory protein family\n",
    "    \"NEU1\",     # Neuraminidase 1, cellular endocytosis\n",
    "    \"PSMC3\",    # Ubiquitin-proteasome system\n",
    "    \"SERPINB6\", # Serine protease inhibitor\n",
    "    \"SPARC\",    # Extracellular matrix protein, pathological remodeling\n",
    "]\n",
    "\n",
    "# Test what ad_mouse_genes are in global_hvg_list\n",
    "ad_human_genes_in_hvg = [gene for gene in ad_human_genes if gene in global_hvg_list]\n",
    "print(f\"在全局HVG列表中找到 {len(ad_human_genes_in_hvg)} 个人AD相关基因：\")\n",
    "print(ad_human_genes_in_hvg)"
   ]
  },
  {
   "cell_type": "code",
   "execution_count": 29,
   "id": "c4996779",
   "metadata": {},
   "outputs": [],
   "source": [
    "global_human_hvg_list = global_hvg_list.union(ad_human_genes)"
   ]
  },
  {
   "cell_type": "code",
   "execution_count": 30,
   "id": "4e5b8048",
   "metadata": {},
   "outputs": [
    {
     "data": {
      "text/plain": [
       "5028"
      ]
     },
     "execution_count": 30,
     "metadata": {},
     "output_type": "execute_result"
    }
   ],
   "source": [
    "len(global_human_hvg_list)"
   ]
  },
  {
   "cell_type": "code",
   "execution_count": 35,
   "id": "e56bbcc3",
   "metadata": {},
   "outputs": [],
   "source": [
    "import os\n",
    "import pandas as pd\n",
    "import numpy as np\n",
    "from tqdm.auto import tqdm\n",
    "from scipy.sparse import issparse\n",
    "from concurrent.futures import ThreadPoolExecutor\n",
    "from types import SimpleNamespace # 用于创建轻量级的模拟对象\n",
    "\n",
    "\n",
    "# --- 辅助函数: 基因句子生成 (已更新，更健壮) ---\n",
    "def anndata_to_sentence_files_hvg(\n",
    "    sample,\n",
    "    hvg_list: pd.Index,\n",
    "    output_basedir: str,\n",
    "    n_top_genes_in_sentence: int = 50\n",
    "):\n",
    "    \"\"\"\n",
    "    为单个样本对象的所有spots生成独立的基因句子文件。\n",
    "    【已更新】: 增加了对缺失坐标(NaN)的健壮处理。\n",
    "    \"\"\"\n",
    "    sample_sentence_dir = os.path.join(output_basedir, f\"{sample.sample_id}_sentences_hvg\")\n",
    "    os.makedirs(sample_sentence_dir, exist_ok=True)\n",
    "    \n",
    "    if sample.adata is None:\n",
    "        return\n",
    "        \n",
    "    adata = sample.adata\n",
    "    adata_hvg = adata[:, adata.var_names.isin(hvg_list)].copy()\n",
    "    \n",
    "    if adata_hvg.n_vars == 0:\n",
    "        return\n",
    "\n",
    "    obs_df = adata_hvg.obs.copy()\n",
    "    gene_names_hvg = adata_hvg.var_names.to_numpy()\n",
    "    \n",
    "    # 检查并获取坐标\n",
    "    if 'pxl_col_in_fullres' not in obs_df.columns or 'pxl_row_in_fullres' not in obs_df.columns:\n",
    "        if 'spatial' in adata_hvg.obsm:\n",
    "            obs_df['pxl_col_in_fullres'] = adata_hvg.obsm['spatial'][:, 0]\n",
    "            obs_df['pxl_row_in_fullres'] = adata_hvg.obsm['spatial'][:, 1]\n",
    "        else:\n",
    "            obs_df['pxl_col_in_fullres'] = range(adata_hvg.n_obs)\n",
    "            obs_df['pxl_row_in_fullres'] = 0\n",
    "\n",
    "    # 遍历每个spot并生成文件\n",
    "    for i in range(adata_hvg.n_obs):\n",
    "        spot_info = obs_df.iloc[i]\n",
    "        \n",
    "        row_val = spot_info['pxl_row_in_fullres']\n",
    "        col_val = spot_info['pxl_col_in_fullres']\n",
    "\n",
    "        # --- 【【【关键修复点】】】---\n",
    "        # 检查坐标值是否为 NaN。如果是，则使用spot的索引作为文件名。\n",
    "        if pd.isna(row_val) or pd.isna(col_val):\n",
    "            # 使用 spot 在 AnnData 中的行索引作为唯一标识符\n",
    "            # 这确保了即使坐标缺失，文件名依然是唯一的\n",
    "            row_coord = i \n",
    "            col_coord = 0 # 可以设为0或其他固定值\n",
    "            filename_suffix = f\"{row_coord}_{col_coord}_no_coord\"\n",
    "        else:\n",
    "            # 如果坐标有效，则正常转换为整数\n",
    "            row_coord = int(round(row_val))\n",
    "            col_coord = int(round(col_val))\n",
    "            filename_suffix = f\"{row_coord}_{col_coord}\"\n",
    "\n",
    "        sentence_filename = os.path.join(sample_sentence_dir, f\"{sample.sample_id}_{filename_suffix}.txt\")\n",
    "        # --- 【修复结束】---\n",
    "\n",
    "        # 获取表达向量并生成句子\n",
    "        expression_vector = adata_hvg.X[i].toarray().flatten() if issparse(adata_hvg.X) else np.array(adata_hvg.X[i]).flatten()\n",
    "        sorted_indices_hvg = np.argsort(expression_vector)[-1::-1]\n",
    "        top_genes = gene_names_hvg[sorted_indices_hvg[:n_top_genes_in_sentence]]\n",
    "        \n",
    "        with open(sentence_filename, 'w') as f:\n",
    "            f.write(\" \".join(top_genes))"
   ]
  },
  {
   "cell_type": "code",
   "execution_count": 36,
   "id": "820c2612",
   "metadata": {},
   "outputs": [
    {
     "name": "stdout",
     "output_type": "stream",
     "text": [
      "--- 开始批量生成基因句子文件 ---\n",
      "将在 505 个有效样本上生成基因句子。\n"
     ]
    },
    {
     "data": {
      "application/vnd.jupyter.widget-view+json": {
       "model_id": "58392418e96949aeaaf4bfe22880bbb8",
       "version_major": 2,
       "version_minor": 0
      },
      "text/plain": [
       "处理所有样本:   0%|          | 0/505 [00:00<?, ?it/s]"
      ]
     },
     "metadata": {},
     "output_type": "display_data"
    },
    {
     "name": "stdout",
     "output_type": "stream",
     "text": [
      "\n",
      "🎉🎉🎉 全部样本处理完成！🕒 总耗时: 3分 21.30秒\n",
      "所有基因句子文件已保存到: /cwStorage/nodecw_group/jijh/hest_sentences_human_all/\n",
      "\n",
      "--- 开始进行结果验证 ---\n",
      "随机抽样验证成功！样本 'TENX30' 的一个句子文件内容如下：\n",
      "文件名: TENX30_2160_3605.txt\n",
      "句子内容: 'VEGFA-1 SPP1-1 CEBPD TIMP1-1 CTSB FOS B2M ITGB4-1 ANXA2 CEBPB HSPB1-1 DDIT4 NFKBIA-1 LIFR-1 NPM1-1 EMP3 CTNNA1 JUN-1 CCND2 HMGA1-1 CD276 NOTCH3-1 ITGB8-1 ITGA3-1 HSPA1A-1 CD74 SOX9-1 NUPR1-1 BCL6 CTNND1 ERRFI1 TP53-1 SPRY2-1 EGR3 ERBB2 FAT1 DNAJB1 COL11A1 PLCG2-1 WEE1-1 RAD51C-1 DAZAP1 RBX1-1 GADD45B GADD45A RHOB-1 CXCR4 BAMBI COL5A1 CBFB'\n",
      "句子中的基因数量: 50\n",
      "句子中的所有基因是否都在全局HVG列表中? ✅ 是\n"
     ]
    }
   ],
   "source": [
    "from tqdm.auto import tqdm\n",
    "from concurrent.futures import ProcessPoolExecutor\n",
    "\n",
    "print(\"--- 开始批量生成基因句子文件 ---\")\n",
    "start_time_sentences = time.time()\n",
    "\n",
    "# 从OmiCLIP论文中获取参数\n",
    "N_TOP_GENES_IN_SENTENCE = 50\n",
    "# 定义输出目录\n",
    "sentence_output_basedir = \"/cwStorage/nodecw_group/jijh/hest_sentences_human_all/\"\n",
    "\n",
    "# 获取所有需要处理的、干净的样本ID列表\n",
    "# adata_merged 是之前步骤生成的、已经过清洗和过滤的AnnData对象\n",
    "valid_sample_ids = adata_merged.obs['sample_id'].unique().tolist()\n",
    "print(f\"将在 {len(valid_sample_ids)} 个有效样本上生成基因句子。\")\n",
    "\n",
    "# 定义一个辅助函数，用于并行处理\n",
    "def process_single_sample_wrapper(sample_id):\n",
    "    try:\n",
    "        # 1. 从大的adata_merged对象中提取单个样本的AnnData\n",
    "        adata_sample = adata_merged[adata_merged.obs['sample_id'] == sample_id].copy()\n",
    "        \n",
    "        # 2. 创建一个模拟的'sample'对象，以匹配处理函数的输入要求\n",
    "        mock_sample = SimpleNamespace(sample_id=sample_id, adata=adata_sample)\n",
    "        \n",
    "        # 3. 调用核心处理函数\n",
    "        # global_hvg_list 是之前步骤计算出的高变基因列表\n",
    "        anndata_to_sentence_files_hvg(\n",
    "            sample=mock_sample,\n",
    "            hvg_list=global_hvg_list,\n",
    "            output_basedir=sentence_output_basedir,\n",
    "            n_top_genes_in_sentence=N_TOP_GENES_IN_SENTENCE\n",
    "        )\n",
    "    except Exception as e:\n",
    "        print(f\"处理样本 {sample_id} 时发生严重错误: {e}\")\n",
    "\n",
    "# 使用线程池进行高效的并行文件写入\n",
    "# max_workers可以根据您的CPU核心数进行调整，16是一个比较合理的起始值\n",
    "with ProcessPoolExecutor(max_workers=16) as executor:\n",
    "    # 使用tqdm来显示处理进度\n",
    "    list(tqdm(executor.map(process_single_sample_wrapper, valid_sample_ids), total=len(valid_sample_ids), desc=\"处理所有样本\"))\n",
    "\n",
    "end_time_sentences = time.time()\n",
    "print(f\"\\n🎉🎉🎉 全部样本处理完成！🕒 总耗时: {format_time(end_time_sentences - start_time_sentences)}\")\n",
    "print(f\"所有基因句子文件已保存到: {sentence_output_basedir}\")\n",
    "\n",
    "# --- 最终验证 ---\n",
    "print(\"\\n--- 开始进行结果验证 ---\")\n",
    "try:\n",
    "    random_sample_id = random.choice(valid_sample_ids)\n",
    "    sample_sentence_dir = os.path.join(sentence_output_basedir, f\"{random_sample_id}_sentences_hvg\")\n",
    "    \n",
    "    if os.path.exists(sample_sentence_dir) and os.listdir(sample_sentence_dir):\n",
    "        sentence_files = os.listdir(sample_sentence_dir)\n",
    "        random_sentence_file = random.choice(sentence_files)\n",
    "        \n",
    "        with open(os.path.join(sample_sentence_dir, random_sentence_file), 'r') as f:\n",
    "            content = f.read()\n",
    "            genes_in_sentence = content.split()\n",
    "            \n",
    "            print(f\"随机抽样验证成功！样本 '{random_sample_id}' 的一个句子文件内容如下：\")\n",
    "            print(f\"文件名: {random_sentence_file}\")\n",
    "            print(f\"句子内容: '{content}'\")\n",
    "            print(f\"句子中的基因数量: {len(genes_in_sentence)}\")\n",
    "            \n",
    "            are_all_hvgs = all(gene in global_hvg_list for gene in genes_in_sentence)\n",
    "            print(f\"句子中的所有基因是否都在全局HVG列表中? {'✅ 是' if are_all_hvgs else '❌ 否'}\")\n",
    "    else:\n",
    "        print(f\"验证失败：未能找到样本 '{random_sample_id}' 的输出目录或目录为空。\")\n",
    "except Exception as e:\n",
    "    print(f\"验证过程中发生错误: {e}\")"
   ]
  },
  {
   "cell_type": "code",
   "execution_count": null,
   "id": "35813580",
   "metadata": {},
   "outputs": [],
   "source": []
  }
 ],
 "metadata": {
  "kernelspec": {
   "display_name": "Python (BioImage)",
   "language": "python",
   "name": "bioimage_env"
  },
  "language_info": {
   "codemirror_mode": {
    "name": "ipython",
    "version": 3
   },
   "file_extension": ".py",
   "mimetype": "text/x-python",
   "name": "python",
   "nbconvert_exporter": "python",
   "pygments_lexer": "ipython3",
   "version": "3.12.11"
  }
 },
 "nbformat": 4,
 "nbformat_minor": 5
}
