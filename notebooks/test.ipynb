{
 "cells": [
  {
   "cell_type": "code",
   "execution_count": null,
   "id": "f18dcddc",
   "metadata": {},
   "outputs": [
    {
     "data": {
      "application/vnd.jupyter.widget-view+json": {
       "model_id": "cc1f71f9016040c489d287833ad91adf",
       "version_major": 2,
       "version_minor": 0
      },
      "text/plain": [
       "HBox(children=(Button(description='显示下一个数据点', layout=Layout(height='40px', margin='0 10px 0 0', width='180px')…"
      ]
     },
     "metadata": {},
     "output_type": "display_data"
    },
    {
     "data": {
      "application/vnd.jupyter.widget-view+json": {
       "model_id": "b7628f71935a41d285274b2e900fab9f",
       "version_major": 2,
       "version_minor": 0
      },
      "text/plain": [
       "Output()"
      ]
     },
     "metadata": {},
     "output_type": "display_data"
    },
    {
     "data": {
      "image/png": "[encoded data removed]",
      "text/plain": [
       "<Figure size 600x400 with 1 Axes>"
      ]
     },
     "metadata": {},
     "output_type": "display_data"
    }
   ],
   "source": [
    "# 如果尚未安装依赖，请取消以下注释并运行\n",
    "# !pip install numpy matplotlib ipywidgets\n",
    "\n",
    "import numpy as np\n",
    "import matplotlib.pyplot as plt\n",
    "from IPython.display import display, clear_output\n",
    "import ipywidgets as widgets\n",
    "\n",
    "# —————— 全局美化设置 ——————\n",
    "plt.rcParams['font.sans-serif'] = ['PingFang SC', 'Arial Unicode MS']\n",
    "plt.rcParams['axes.unicode_minus'] = False\n",
    "plt.style.use('ggplot')\n",
    "plt.rcParams['figure.facecolor'] = 'white'\n",
    "plt.rcParams['axes.edgecolor'] = '#555555'\n",
    "plt.rcParams['axes.labelsize'] = 12\n",
    "plt.rcParams['axes.titlesize'] = 14\n",
    "\n",
    "# —————— 数据与状态 ——————\n",
    "x_data = [0, 1, 2, 3]              # 初一上, 初一下, 初二上, 初二下\n",
    "y_data = [250, 255, 260, 265]\n",
    "labels = ['初一上', '初一下', '初二上', '初二下', '初三上']\n",
    "\n",
    "next_index = 0\n",
    "shown_x = []\n",
    "shown_y = []\n",
    "\n",
    "# —————— 创建画布并固定坐标轴 ——————\n",
    "fig, ax = plt.subplots(figsize=(6, 4))\n",
    "ax.set_title(\"语数英总分变化趋势\", pad=15)\n",
    "ax.set_xlabel(\"学期\")\n",
    "ax.set_ylabel(\"总分\")\n",
    "ax.set_xticks(range(len(labels)))\n",
    "ax.set_xticklabels(labels)\n",
    "ax.grid(True, alpha=0.3)\n",
    "\n",
    "# 固定坐标轴范围：x 从 -0.5 到 4.5，y 在数据范围稍作扩展\n",
    "ax.set_xlim(-0.5, len(labels)-0.5)\n",
    "y_min, y_max = min(y_data), max(y_data)\n",
    "ax.set_ylim(y_min - 10, y_max + 10)\n",
    "\n",
    "plt.tight_layout()\n",
    "\n",
    "# —————— 按钮回调 ——————\n",
    "def on_next_clicked(_):\n",
    "    global next_index\n",
    "    if next_index < len(x_data):\n",
    "        xi, yi = x_data[next_index], y_data[next_index]\n",
    "        shown_x.append(xi); shown_y.append(yi)\n",
    "        ax.scatter(xi, yi, s=80, color='#4C72B0', edgecolor='white', zorder=3)\n",
    "        ax.text(xi, yi + 1.5, str(yi), ha='center', va='bottom', fontsize=11)\n",
    "        next_index += 1\n",
    "\n",
    "    elif next_index == len(x_data):\n",
    "        # 用前 4 个点拟合直线，计算预测 y\n",
    "        coeffs = np.polyfit(shown_x, shown_y, deg=1)\n",
    "        y_pred = np.poly1d(coeffs)(len(labels)-1)\n",
    "        # 在预测位置画问号\n",
    "        ax.text(len(labels)-1, y_pred, \"?\", fontsize=24, color='#C44E52',\n",
    "                ha='center', va='center', weight='bold')\n",
    "        next_index += 1\n",
    "\n",
    "    with output:\n",
    "        clear_output(wait=True)\n",
    "        display(fig)\n",
    "\n",
    "def on_fit_clicked(_):\n",
    "    # 只有在问号也显示后才绘制拟合直线\n",
    "    if next_index >= len(x_data) + 1:\n",
    "        coeffs = np.polyfit(shown_x, shown_y, deg=1)\n",
    "        poly = np.poly1d(coeffs)\n",
    "        x_fit = np.array(shown_x + [len(labels)-1])\n",
    "        y_fit = poly(x_fit)\n",
    "\n",
    "        ax.plot(x_fit, y_fit, linestyle='--', linewidth=2, label='拟合直线', zorder=2)\n",
    "        ax.scatter(x_fit[-1], y_fit[-1], s=100, color='#DD8452', edgecolor='white', zorder=4)\n",
    "        ax.text(x_fit[-1], y_fit[-1] + 1.5, f\"{y_fit[-1]:.1f}\",\n",
    "                ha='center', va='bottom', fontsize=11, color='#DD8452')\n",
    "        ax.legend(frameon=False, fontsize=11, loc='upper left')\n",
    "\n",
    "        with output:\n",
    "            clear_output(wait=True)\n",
    "            display(fig)\n",
    "\n",
    "# —————— 创建按钮并设置样式 ——————\n",
    "btn_next = widgets.Button(\n",
    "    description=\"显示下一个数据点\",\n",
    "    style={'button_color': '#4C72B0', 'font_weight': 'bold'},\n",
    "    layout=widgets.Layout(width='180px', height='40px', margin='0 10px 0 0')\n",
    ")\n",
    "btn_fit = widgets.Button(\n",
    "    description=\"显示拟合直线\",\n",
    "    style={'button_color': '#55A868', 'font_weight': 'bold'},\n",
    "    layout=widgets.Layout(width='180px', height='40px')\n",
    ")\n",
    "btn_next.on_click(on_next_clicked)\n",
    "btn_fit.on_click(on_fit_clicked)\n",
    "\n",
    "# —————— 布局与展示 ——————\n",
    "output = widgets.Output()\n",
    "controls = widgets.HBox([btn_next, btn_fit], layout=widgets.Layout(margin='10px 0'))\n",
    "\n",
    "display(controls, output)\n",
    "with output:\n",
    "    display(fig)\n"
   ]
  },
  {
   "cell_type": "code",
   "execution_count": 15,
   "id": "eece2490",
   "metadata": {},
   "outputs": [
    {
     "data": {
      "application/vnd.jupyter.widget-view+json": {
       "model_id": "f91c9a9c01aa4815b7389b2e99817f21",
       "version_major": 2,
       "version_minor": 0
      },
      "text/plain": [
       "HBox(children=(Button(description='显示下一个学习点', layout=Layout(height='40px', margin='0 10px 0 0', width='180px')…"
      ]
     },
     "metadata": {},
     "output_type": "display_data"
    },
    {
     "data": {
      "application/vnd.jupyter.widget-view+json": {
       "model_id": "d368a0662e99461486d876a107341823",
       "version_major": 2,
       "version_minor": 0
      },
      "text/plain": [
       "Output()"
      ]
     },
     "metadata": {},
     "output_type": "display_data"
    },
    {
     "data": {
      "image/png": "[encoded data removed]",
      "text/plain": [
       "<Figure size 600x400 with 1 Axes>"
      ]
     },
     "metadata": {},
     "output_type": "display_data"
    }
   ],
   "source": [
    "# 如果尚未安装依赖，请取消以下注释并运行\n",
    "# !pip install numpy matplotlib ipywidgets\n",
    "\n",
    "import numpy as np\n",
    "import matplotlib.pyplot as plt\n",
    "from IPython.display import display, clear_output\n",
    "import ipywidgets as widgets\n",
    "\n",
    "# —————— 全局美化设置 ——————\n",
    "plt.rcParams['font.sans-serif'] = ['PingFang SC', 'Arial Unicode MS']\n",
    "plt.rcParams['axes.unicode_minus'] = False\n",
    "plt.style.use('ggplot')\n",
    "plt.rcParams['figure.facecolor'] = 'white'\n",
    "plt.rcParams['axes.edgecolor'] = '#555555'\n",
    "plt.rcParams['axes.labelsize'] = 12\n",
    "plt.rcParams['axes.titlesize'] = 14\n",
    "\n",
    "# —————— 数据与状态 ——————\n",
    "np.random.seed(0)\n",
    "x_data = np.arange(1, 11)  # 学习小时数：1 到 10 小时\n",
    "# 成绩 = 50 + 4 * hours + 噪声（标准差2分）\n",
    "y_data = 50 + 4 * x_data + np.random.normal(scale=2.0, size=10)\n",
    "labels = [f\"{h}小时\" for h in x_data] + [\"11小时\"]\n",
    "\n",
    "next_index = 0\n",
    "shown_x = []\n",
    "shown_y = []\n",
    "\n",
    "# —————— 创建画布并固定坐标轴 ——————\n",
    "fig, ax = plt.subplots(figsize=(6,4))\n",
    "ax.set_title(\"每天学习小时数 vs. 测试成绩\", pad=15)\n",
    "ax.set_xlabel(\"学习小时数\")\n",
    "ax.set_ylabel(\"测试成绩 (分)\")\n",
    "ax.set_xticks(range(0, 12))\n",
    "ax.set_xticklabels([f\"{i}h\" for i in range(0, 12)])\n",
    "ax.grid(True, alpha=0.3)\n",
    "\n",
    "# 固定坐标轴范围：x轴 0–12 小时，y 轴在分数范围稍作扩展\n",
    "ax.set_xlim(0, 12)\n",
    "y_min, y_max = y_data.min(), y_data.max()\n",
    "ax.set_ylim(y_min - 5, y_max + 5)\n",
    "plt.tight_layout()\n",
    "\n",
    "# —————— 按钮回调 ——————\n",
    "def on_next_clicked(_):\n",
    "    global next_index\n",
    "    if next_index < len(x_data):\n",
    "        xi, yi = x_data[next_index], y_data[next_index]\n",
    "        shown_x.append(xi); shown_y.append(yi)\n",
    "        ax.scatter(xi, yi, s=80, color='#4C72B0', edgecolor='white', zorder=3)\n",
    "        ax.text(xi, yi + 1, f\"{yi:.1f}\", ha='center', va='bottom', fontsize=10)\n",
    "        next_index += 1\n",
    "\n",
    "    elif next_index == len(x_data):\n",
    "        # 用前 10 个点线性拟合，计算预测第 11 小时的成绩\n",
    "        coeffs = np.polyfit(shown_x, shown_y, deg=1)\n",
    "        y_pred = np.poly1d(coeffs)(11)\n",
    "        ax.text(11, y_pred, \"?\", fontsize=24, color='#C44E52',\n",
    "                ha='center', va='center', weight='bold')\n",
    "        next_index += 1\n",
    "\n",
    "    with output:\n",
    "        clear_output(wait=True)\n",
    "        display(fig)\n",
    "\n",
    "def on_fit_clicked(_):\n",
    "    if next_index >= len(x_data) + 1:\n",
    "        coeffs = np.polyfit(shown_x, shown_y, deg=1)\n",
    "        poly = np.poly1d(coeffs)\n",
    "        x_fit = np.array(shown_x + [11])\n",
    "        y_fit = poly(x_fit)\n",
    "\n",
    "        ax.plot(x_fit, y_fit, linestyle='--', linewidth=2, label='拟合直线', zorder=2)\n",
    "        ax.scatter(x_fit[-1], y_fit[-1], s=100, color='#DD8452', edgecolor='white', zorder=4)\n",
    "        ax.text(x_fit[-1], y_fit[-1] + 1, f\"{y_fit[-1]:.1f}分\",\n",
    "                ha='center', va='bottom', fontsize=10, color='#DD8452')\n",
    "        ax.legend(frameon=False, fontsize=11, loc='upper left')\n",
    "\n",
    "        with output:\n",
    "            clear_output(wait=True)\n",
    "            display(fig)\n",
    "\n",
    "# —————— 创建按钮并设置样式 ——————\n",
    "btn_next = widgets.Button(\n",
    "    description=\"显示下一个学习点\",\n",
    "    style={'button_color': '#4C72B0', 'font_weight': 'bold'},\n",
    "    layout=widgets.Layout(width='180px', height='40px', margin='0 10px 0 0')\n",
    ")\n",
    "btn_fit = widgets.Button(\n",
    "    description=\"显示拟合直线\",\n",
    "    style={'button_color': '#55A868', 'font_weight': 'bold'},\n",
    "    layout=widgets.Layout(width='180px', height='40px')\n",
    ")\n",
    "btn_next.on_click(on_next_clicked)\n",
    "btn_fit.on_click(on_fit_clicked)\n",
    "\n",
    "# —————— 布局与展示 ——————\n",
    "output = widgets.Output()\n",
    "controls = widgets.HBox([btn_next, btn_fit], layout=widgets.Layout(margin='10px 0'))\n",
    "\n",
    "display(controls, output)\n",
    "with output:\n",
    "    display(fig)\n"
   ]
  },
  {
   "cell_type": "code",
   "execution_count": null,
   "id": "52137c29",
   "metadata": {},
   "outputs": [],
   "source": []
  }
 ],
 "metadata": {
  "kernelspec": {
   "display_name": "Python (stalign)",
   "language": "python",
   "name": "stalign"
  },
  "language_info": {
   "codemirror_mode": {
    "name": "ipython",
    "version": 3
   },
   "file_extension": ".py",
   "mimetype": "text/x-python",
   "name": "python",
   "nbconvert_exporter": "python",
   "pygments_lexer": "ipython3",
   "version": "3.12.7"
  }
 },
 "nbformat": 4,
 "nbformat_minor": 5
}
